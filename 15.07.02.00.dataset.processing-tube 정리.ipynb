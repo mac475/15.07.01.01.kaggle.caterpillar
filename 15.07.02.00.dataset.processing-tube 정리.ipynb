{
 "cells": [
  {
   "cell_type": "code",
   "execution_count": 1,
   "metadata": {
    "collapsed": false
   },
   "outputs": [
    {
     "data": {
      "text/html": [
       "<style>\n",
       "    @font-face {\n",
       "        font-family: \"Computer Modern\", \"malgun gothic\";\n",
       "        src: url('http://mirrors.ctan.org/fonts/cm-unicode/fonts/otf/cmunss.otf');\n",
       "    }\n",
       "//    div.cell{\n",
       "//        width: 100%;\n",
       "//    }\n",
       "    // 아래의 div.container는 내가 임의로 추가한 style임\n",
       "//    div.container{\n",
       "//        width: 105%;\n",
       "//    }\n",
       "    ul {\n",
       "        line-height: 100%;\n",
       "        font-size: 100%;\n",
       "    }\n",
       "    li {\n",
       "        margin-bottom: 0.5em;\n",
       "    }\n",
       "    h1 {\n",
       "        font-family: Helvetica, serif, \"malgun gothic\";\n",
       "    }\n",
       "    h4{\n",
       "        margin-top: 12px;\n",
       "//        margin-bottom: 3px;\n",
       "       }\n",
       "    div.text_cell_render{\n",
       "//        font-family: Computer Modern, \"Helvetica Neue\", Arial, Helvetica, Geneva, sans-serif;\n",
       "        font-family: malgun gothic;\n",
       "        line-height: 140%;\n",
       "//        font-size: 100%;\n",
       "//        width: 100%;\n",
       "//        margin-left:auto;\n",
       "//        margin-right:auto;\n",
       "    }\n",
       "    .CodeMirror{\n",
       "            font-family: \"Source Code Pro\", source-code-pro,Consolas, monospace;\n",
       "    }\n",
       "/*    .prompt{\n",
       "        display: None;\n",
       "    }*/\n",
       "    .text_cell_render h5 {\n",
       "        font-family: malgun gothic;\n",
       "        font-weight: 300;\n",
       "        font-size: 16pt;\n",
       "        color: #4057A1;\n",
       "        font-style: italic;\n",
       "        margin-bottom: 0.5em;\n",
       "        margin-top: 0.5em;\n",
       "        display: block;\n",
       "    }\n",
       "    .warning{\n",
       "        color: rgb( 240, 20, 20 )\n",
       "        }\n",
       "</style>\n",
       "<script>\n",
       "    MathJax.Hub.Config({\n",
       "                        TeX: {\n",
       "                           extensions: [\"AMSmath.js\"]\n",
       "                           },\n",
       "                tex2jax: {\n",
       "                    inlineMath: [ ['$','$'], [\"\\\\(\",\"\\\\)\"] ],\n",
       "                    displayMath: [ ['$$','$$'], [\"\\\\[\",\"\\\\]\"] ]\n",
       "                },\n",
       "                displayAlign: 'center', // Change this to 'center' to center equations.\n",
       "//                \"HTML-CSS\": {\n",
       "//                    styles: {'.MathJax_Display': {\"margin\": 4}}\n",
       "//                }\n",
       "        });\n",
       "</script>"
      ],
      "text/plain": [
       "<IPython.core.display.HTML object>"
      ]
     },
     "execution_count": 1,
     "metadata": {},
     "output_type": "execute_result"
    }
   ],
   "source": [
    "# mac475의 ipython 표준 style을 적용함\n",
    "from IPython.core.display import HTML\n",
    "styles = open(\"../styles/custom.css\", \"r\").read()\n",
    "HTML( styles )"
   ]
  },
  {
   "cell_type": "markdown",
   "metadata": {},
   "source": [
    "    1. tube의 정리\n",
    "    2. tube의 주요 feature 검사\n",
    "        2.1 tube 누락 feature 확인\n",
    "        2.2 material id 확인\n",
    "        2.3 numeric feature overview\n",
    "\n",
    "        2.4 bend_radius의 보완\n",
    "                2.4.1 bend radius를 위한 train/ test dataset의 구성\n",
    "                2.4.2 Label Encoding 작업\n",
    "                2.4.3 training data에 대한 7개 feature 대상 encoding 수행\n",
    "                2.4.4 train dataset의 encoded 상태 확인\n",
    "                2.4.5 Modeling 위한 X, y 생성\n",
    "                2.4.6 Modeling 수행\n",
    "                2.4.7 test data에 대한 7개 feature 대상 encoding 수행\n",
    "                2.4.8 bend_radius prediction 수행\n",
    "                2.4.9 Prediction 결과를 tube에 value assign 수행\n",
    "                2.4.10 prediction 반영결과를 output\n",
    "\n",
    "        2.5 end_x의 보완\n",
    "                2.5.1 end_x를 위한 train/ test dataset의 구성\n",
    "                2.5.2 Label Encoding 작업\n",
    "                2.5.3 training data에 대한 7개 feature 대상 encoding 수행\n",
    "                2.5.4 train dataset의 encoded 상태 확인\n",
    "                2.5.5 Modeling 위한 X, y 생성\n",
    "                2.5.6 Modeling 수행\n",
    "                2.5.7 test data에 대한 7개 feature 대상 encoding 수행\n",
    "                2.5.8 end_x prediction 수행\n",
    "                2.5.9 Prediction 결과를 tube에 value assign 수행\n",
    "                2.5.10 prediction 반영결과를 output\n",
    "\n",
    "        2.6 material_id의 보완\n",
    "                2.6.1 material_id를 위한 train/ test dataset의 구성\n",
    "                2.6.2 Label Encoding 작업\n",
    "                2.6.3 training data에 대한 7개 feature 대상 encoding 수행\n",
    "                2.6.4 train dataset의 encoded 상태 확인\n",
    "                2.6.5 Modeling 위한 X, y 생성\n",
    "                2.6.6 Modeling 수행\n",
    "                2.6.7 test data에 대한 7개 feature 대상 encoding 수행\n",
    "                2.6.8 material_id prediction 수행\n",
    "                2.6.9 Prediction 결과를 tube에 value assign 수행\n",
    "                2.6.10 prediction 반영결과를 output"
   ]
  },
  {
   "cell_type": "markdown",
   "metadata": {},
   "source": [
    "#1. tube의 정리\n",
    "- tube dataset의 정리작업 필요성\n",
    "\n",
    "    → train dataset만 활용시 modeling시 활용가능 feature 제약, tube_assembly_id를 join하여 tube dataset내의 tube 속성정보 modeling에 활용\n",
    "    \n",
    "    → material_id, diameter, wall, length, num_bends, bend_radius, end관련 6개 속성, num_boss, num_bracket, other\n",
    "- 단, tube dataset을 보완필요 있는지 사전확인후, 적절한 작업의 병행필요\n",
    "\n",
    "<img src=\"images/01.train-tube.png\" style=\"display:inline; width: 30%\" />"
   ]
  },
  {
   "cell_type": "code",
   "execution_count": 2,
   "metadata": {
    "collapsed": false
   },
   "outputs": [],
   "source": [
    "import pandas as pd\n",
    "import numpy as np\n",
    "\n",
    "# 당초 제공되었던 tube dataset중 length == 0에 대한 admin측의 보완에 의해 보정된 dataset임\n",
    "df = pd.read_csv( './dataset/01.original.dataset/tube.length.verified.csv' )\n",
    "# df = pd.read_csv( './dataset/01.original.dataset/tube.length.training.verified.csv' )"
   ]
  },
  {
   "cell_type": "markdown",
   "metadata": {},
   "source": [
    "#2. tube의 주요 feature 검사"
   ]
  },
  {
   "cell_type": "markdown",
   "metadata": {},
   "source": [
    "##2.1 tube 누락 feature 확인"
   ]
  },
  {
   "cell_type": "code",
   "execution_count": 3,
   "metadata": {
    "collapsed": false
   },
   "outputs": [
    {
     "data": {
      "text/plain": [
       "tube_assembly_id    21198\n",
       "material_id         20919\n",
       "diameter            21198\n",
       "wall                21198\n",
       "length              21198\n",
       "num_bends           21198\n",
       "bend_radius         21198\n",
       "end_a_1x            21198\n",
       "end_a_2x            21198\n",
       "end_x_1x            21198\n",
       "end_x_2x            21198\n",
       "end_a               21198\n",
       "end_x               21198\n",
       "num_boss            21198\n",
       "num_bracket         21198\n",
       "other               21198\n",
       "dtype: int64"
      ]
     },
     "execution_count": 3,
     "metadata": {},
     "output_type": "execute_result"
    }
   ],
   "source": [
    "df.count()    # tube의 전체적인 data 충실도를 확인"
   ]
  },
  {
   "cell_type": "markdown",
   "metadata": {},
   "source": [
    "<font color = 'red'>* 확인결과 : 모든 data는 충실하나, material_id에 279개 누락이 있다 → 보완필요함</font>"
   ]
  },
  {
   "cell_type": "markdown",
   "metadata": {},
   "source": [
    "."
   ]
  },
  {
   "cell_type": "markdown",
   "metadata": {},
   "source": [
    "##2.2 material id 확인"
   ]
  },
  {
   "cell_type": "code",
   "execution_count": 4,
   "metadata": {
    "collapsed": false
   },
   "outputs": [
    {
     "data": {
      "text/html": [
       "<div style=\"max-height:1000px;max-width:1500px;overflow:auto;\">\n",
       "<table border=\"1\" class=\"dataframe\">\n",
       "  <thead>\n",
       "    <tr style=\"text-align: right;\">\n",
       "      <th></th>\n",
       "      <th>cum_sum</th>\n",
       "      <th>pct</th>\n",
       "      <th>cum_pct</th>\n",
       "    </tr>\n",
       "  </thead>\n",
       "  <tbody>\n",
       "    <tr>\n",
       "      <th>SP-0029</th>\n",
       "      <td> 11488</td>\n",
       "      <td> 54.916583</td>\n",
       "      <td> 54.916583</td>\n",
       "    </tr>\n",
       "    <tr>\n",
       "      <th>SP-0035</th>\n",
       "      <td>  3676</td>\n",
       "      <td> 17.572542</td>\n",
       "      <td> 72.489125</td>\n",
       "    </tr>\n",
       "    <tr>\n",
       "      <th>SP-0028</th>\n",
       "      <td>  1644</td>\n",
       "      <td>  7.858884</td>\n",
       "      <td> 80.348009</td>\n",
       "    </tr>\n",
       "  </tbody>\n",
       "</table>\n",
       "</div>"
      ],
      "text/plain": [
       "         cum_sum        pct    cum_pct\n",
       "SP-0029    11488  54.916583  54.916583\n",
       "SP-0035     3676  17.572542  72.489125\n",
       "SP-0028     1644   7.858884  80.348009"
      ]
     },
     "execution_count": 4,
     "metadata": {},
     "output_type": "execute_result"
    }
   ],
   "source": [
    "# 보완이 필요한 material의 data 구성을 아래와 같이 살펴본다\n",
    "df_material = pd.DataFrame( data = df[ 'material_id' ].value_counts(), columns = [ 'cum_sum' ] )\n",
    "df_material[ 'pct' ] = df_material[ 'cum_sum' ] / df_material[ 'cum_sum' ].sum() * 100\n",
    "df_material[ 'cum_pct' ] = df_material[ 'cum_sum' ].cumsum() / df_material[ 'cum_sum' ].sum() * 100\n",
    "df_material.head( 3 )"
   ]
  },
  {
   "cell_type": "code",
   "execution_count": 5,
   "metadata": {
    "collapsed": false
   },
   "outputs": [],
   "source": [
    "del( df_material )"
   ]
  },
  {
   "cell_type": "markdown",
   "metadata": {},
   "source": [
    "<font color = 'red'>* 확인결과 : 50% 이상이 SP-0029이고, 상위 7개가 95% 이상을 점유하고 있다</font>"
   ]
  },
  {
   "cell_type": "markdown",
   "metadata": {},
   "source": [
    "."
   ]
  },
  {
   "cell_type": "markdown",
   "metadata": {},
   "source": [
    "##2.3 numeric feature overview\n",
    "###대상 : diameter, wall, length, num_bends, bend_radius, num_boss, num_bracket, other"
   ]
  },
  {
   "cell_type": "code",
   "execution_count": 6,
   "metadata": {
    "collapsed": false
   },
   "outputs": [
    {
     "data": {
      "text/html": [
       "<div style=\"max-height:1000px;max-width:1500px;overflow:auto;\">\n",
       "<table border=\"1\" class=\"dataframe\">\n",
       "  <thead>\n",
       "    <tr style=\"text-align: right;\">\n",
       "      <th></th>\n",
       "      <th>diameter</th>\n",
       "      <th>wall</th>\n",
       "      <th>length</th>\n",
       "      <th>num_bends</th>\n",
       "      <th>bend_radius</th>\n",
       "      <th>num_boss</th>\n",
       "      <th>num_bracket</th>\n",
       "      <th>other</th>\n",
       "    </tr>\n",
       "  </thead>\n",
       "  <tbody>\n",
       "    <tr>\n",
       "      <th>count</th>\n",
       "      <td> 21198.000000</td>\n",
       "      <td> 21198.000000</td>\n",
       "      <td> 21198.000000</td>\n",
       "      <td> 21198.000000</td>\n",
       "      <td> 21198.000000</td>\n",
       "      <td> 21198.000000</td>\n",
       "      <td> 21198.000000</td>\n",
       "      <td> 21198.000000</td>\n",
       "    </tr>\n",
       "    <tr>\n",
       "      <th>mean</th>\n",
       "      <td>    23.687764</td>\n",
       "      <td>     1.578402</td>\n",
       "      <td>   100.337469</td>\n",
       "      <td>     3.748137</td>\n",
       "      <td>    49.350767</td>\n",
       "      <td>     0.044485</td>\n",
       "      <td>     0.006746</td>\n",
       "      <td>     0.022644</td>\n",
       "    </tr>\n",
       "    <tr>\n",
       "      <th>std</th>\n",
       "      <td>    25.396277</td>\n",
       "      <td>     0.745749</td>\n",
       "      <td>    70.520780</td>\n",
       "      <td>     2.265405</td>\n",
       "      <td>   196.468480</td>\n",
       "      <td>     0.260737</td>\n",
       "      <td>     0.100015</td>\n",
       "      <td>     0.199676</td>\n",
       "    </tr>\n",
       "    <tr>\n",
       "      <th>min</th>\n",
       "      <td>     3.180000</td>\n",
       "      <td>     0.710000</td>\n",
       "      <td>     1.000000</td>\n",
       "      <td>     0.000000</td>\n",
       "      <td>     0.000000</td>\n",
       "      <td>     0.000000</td>\n",
       "      <td>     0.000000</td>\n",
       "      <td>     0.000000</td>\n",
       "    </tr>\n",
       "    <tr>\n",
       "      <th>25%</th>\n",
       "      <td>     9.520000</td>\n",
       "      <td>     0.890000</td>\n",
       "      <td>    48.000000</td>\n",
       "      <td>     2.000000</td>\n",
       "      <td>    19.050000</td>\n",
       "      <td>     0.000000</td>\n",
       "      <td>     0.000000</td>\n",
       "      <td>     0.000000</td>\n",
       "    </tr>\n",
       "    <tr>\n",
       "      <th>50%</th>\n",
       "      <td>    15.880000</td>\n",
       "      <td>     1.650000</td>\n",
       "      <td>    86.000000</td>\n",
       "      <td>     3.000000</td>\n",
       "      <td>    38.100000</td>\n",
       "      <td>     0.000000</td>\n",
       "      <td>     0.000000</td>\n",
       "      <td>     0.000000</td>\n",
       "    </tr>\n",
       "    <tr>\n",
       "      <th>75%</th>\n",
       "      <td>    25.400000</td>\n",
       "      <td>     1.650000</td>\n",
       "      <td>   135.000000</td>\n",
       "      <td>     5.000000</td>\n",
       "      <td>    50.800000</td>\n",
       "      <td>     0.000000</td>\n",
       "      <td>     0.000000</td>\n",
       "      <td>     0.000000</td>\n",
       "    </tr>\n",
       "    <tr>\n",
       "      <th>max</th>\n",
       "      <td>   203.200000</td>\n",
       "      <td>     7.900000</td>\n",
       "      <td>  1333.000000</td>\n",
       "      <td>    17.000000</td>\n",
       "      <td>  9999.000000</td>\n",
       "      <td>     5.000000</td>\n",
       "      <td>     5.000000</td>\n",
       "      <td>     8.000000</td>\n",
       "    </tr>\n",
       "  </tbody>\n",
       "</table>\n",
       "</div>"
      ],
      "text/plain": [
       "           diameter          wall        length     num_bends   bend_radius  \\\n",
       "count  21198.000000  21198.000000  21198.000000  21198.000000  21198.000000   \n",
       "mean      23.687764      1.578402    100.337469      3.748137     49.350767   \n",
       "std       25.396277      0.745749     70.520780      2.265405    196.468480   \n",
       "min        3.180000      0.710000      1.000000      0.000000      0.000000   \n",
       "25%        9.520000      0.890000     48.000000      2.000000     19.050000   \n",
       "50%       15.880000      1.650000     86.000000      3.000000     38.100000   \n",
       "75%       25.400000      1.650000    135.000000      5.000000     50.800000   \n",
       "max      203.200000      7.900000   1333.000000     17.000000   9999.000000   \n",
       "\n",
       "           num_boss   num_bracket         other  \n",
       "count  21198.000000  21198.000000  21198.000000  \n",
       "mean       0.044485      0.006746      0.022644  \n",
       "std        0.260737      0.100015      0.199676  \n",
       "min        0.000000      0.000000      0.000000  \n",
       "25%        0.000000      0.000000      0.000000  \n",
       "50%        0.000000      0.000000      0.000000  \n",
       "75%        0.000000      0.000000      0.000000  \n",
       "max        5.000000      5.000000      8.000000  "
      ]
     },
     "execution_count": 6,
     "metadata": {},
     "output_type": "execute_result"
    }
   ],
   "source": [
    "df.describe()"
   ]
  },
  {
   "cell_type": "markdown",
   "metadata": {},
   "source": [
    "* 확인결과\n",
    "    \n",
    "    diameter : 3.18 ~ 203.20\n",
    "    \n",
    "    wall : 0.71 ~ 7.90\n",
    "    \n",
    "    length : 1 ~ 1,333\n",
    "    \n",
    "    num_bends : 0 ~ 17 : 굽힘의 개수로 추정, 0개일 수 있다고 판단\n",
    "    \n",
    "    bend_radius : 0 ~ 9999 : 9999는 뭘까, 확인필요 → Radius 0 means no bend.  Radius 9999 means unknown\n",
    "    \n",
    "    num_boss : 0 ~ 5, ?의 개수\n",
    "    \n",
    "    num_bracket : 0 ~ 5, 브라켓의 개수\n",
    "    \n",
    "    other : 0 ~ 8, 기타의 개수\n",
    "    \n",
    "    Kaggle Forum 참고['https://www.kaggle.com/c/caterpillar-tube-pricing/forums/t/15048/zero-length-tubes/83438']"
   ]
  },
  {
   "cell_type": "markdown",
   "metadata": {},
   "source": [
    "."
   ]
  },
  {
   "cell_type": "markdown",
   "metadata": {},
   "source": [
    "##이상하다 판단된 9999 unknown case의 경우, 만약 제외한게 되면 test_set과 merge시 같이 누락되어 버리므로 버릴 수 없고, 어떻게든 살려서 활용해야 함"
   ]
  },
  {
   "cell_type": "markdown",
   "metadata": {},
   "source": [
    "##2.4 bend_radius의 보완\n",
    "###bend_radius == 9999인경우, unknown이므로 이를 확인해야 함\n",
    "####8개 data에 대해 발생했음 : 간단한 ML통해 이를 보완하기로 함"
   ]
  },
  {
   "cell_type": "code",
   "execution_count": 7,
   "metadata": {
    "collapsed": false
   },
   "outputs": [
    {
     "data": {
      "text/plain": [
       "8"
      ]
     },
     "execution_count": 7,
     "metadata": {},
     "output_type": "execute_result"
    }
   ],
   "source": [
    "len( df[ df[ 'bend_radius' ] > 9000 ] )    # bend_radius가 unknown인 개수"
   ]
  },
  {
   "cell_type": "code",
   "execution_count": 8,
   "metadata": {
    "collapsed": false
   },
   "outputs": [
    {
     "data": {
      "text/html": [
       "<div style=\"max-height:1000px;max-width:1500px;overflow:auto;\">\n",
       "<table border=\"1\" class=\"dataframe\">\n",
       "  <thead>\n",
       "    <tr style=\"text-align: right;\">\n",
       "      <th></th>\n",
       "      <th>tube_assembly_id</th>\n",
       "      <th>material_id</th>\n",
       "      <th>diameter</th>\n",
       "      <th>wall</th>\n",
       "      <th>length</th>\n",
       "      <th>num_bends</th>\n",
       "      <th>bend_radius</th>\n",
       "      <th>end_a_1x</th>\n",
       "      <th>end_a_2x</th>\n",
       "      <th>end_x_1x</th>\n",
       "      <th>end_x_2x</th>\n",
       "      <th>end_a</th>\n",
       "      <th>end_x</th>\n",
       "      <th>num_boss</th>\n",
       "      <th>num_bracket</th>\n",
       "      <th>other</th>\n",
       "    </tr>\n",
       "  </thead>\n",
       "  <tbody>\n",
       "    <tr>\n",
       "      <th>15132</th>\n",
       "      <td> TA-15133</td>\n",
       "      <td> SP-0029</td>\n",
       "      <td> 31.75</td>\n",
       "      <td> 1.65</td>\n",
       "      <td> 49</td>\n",
       "      <td> 2</td>\n",
       "      <td> 9999</td>\n",
       "      <td> N</td>\n",
       "      <td> N</td>\n",
       "      <td> N</td>\n",
       "      <td> N</td>\n",
       "      <td> EF-003</td>\n",
       "      <td> EF-003</td>\n",
       "      <td> 0</td>\n",
       "      <td> 0</td>\n",
       "      <td> 0</td>\n",
       "    </tr>\n",
       "    <tr>\n",
       "      <th>15174</th>\n",
       "      <td> TA-15175</td>\n",
       "      <td> SP-0029</td>\n",
       "      <td> 31.75</td>\n",
       "      <td> 1.65</td>\n",
       "      <td> 36</td>\n",
       "      <td> 1</td>\n",
       "      <td> 9999</td>\n",
       "      <td> N</td>\n",
       "      <td> N</td>\n",
       "      <td> N</td>\n",
       "      <td> N</td>\n",
       "      <td> EF-003</td>\n",
       "      <td> EF-003</td>\n",
       "      <td> 0</td>\n",
       "      <td> 0</td>\n",
       "      <td> 0</td>\n",
       "    </tr>\n",
       "    <tr>\n",
       "      <th>15175</th>\n",
       "      <td> TA-15176</td>\n",
       "      <td> SP-0029</td>\n",
       "      <td> 31.75</td>\n",
       "      <td> 1.65</td>\n",
       "      <td> 76</td>\n",
       "      <td> 1</td>\n",
       "      <td> 9999</td>\n",
       "      <td> N</td>\n",
       "      <td> N</td>\n",
       "      <td> N</td>\n",
       "      <td> N</td>\n",
       "      <td> EF-003</td>\n",
       "      <td> EF-003</td>\n",
       "      <td> 0</td>\n",
       "      <td> 0</td>\n",
       "      <td> 0</td>\n",
       "    </tr>\n",
       "    <tr>\n",
       "      <th>17688</th>\n",
       "      <td> TA-17689</td>\n",
       "      <td> SP-0046</td>\n",
       "      <td> 66.70</td>\n",
       "      <td> 7.90</td>\n",
       "      <td> 88</td>\n",
       "      <td> 2</td>\n",
       "      <td> 9999</td>\n",
       "      <td> N</td>\n",
       "      <td> Y</td>\n",
       "      <td> N</td>\n",
       "      <td> N</td>\n",
       "      <td>   NONE</td>\n",
       "      <td>   NONE</td>\n",
       "      <td> 0</td>\n",
       "      <td> 0</td>\n",
       "      <td> 0</td>\n",
       "    </tr>\n",
       "    <tr>\n",
       "      <th>17689</th>\n",
       "      <td> TA-17690</td>\n",
       "      <td> SP-0046</td>\n",
       "      <td> 66.70</td>\n",
       "      <td> 7.90</td>\n",
       "      <td> 71</td>\n",
       "      <td> 2</td>\n",
       "      <td> 9999</td>\n",
       "      <td> N</td>\n",
       "      <td> Y</td>\n",
       "      <td> N</td>\n",
       "      <td> N</td>\n",
       "      <td>   NONE</td>\n",
       "      <td>   NONE</td>\n",
       "      <td> 0</td>\n",
       "      <td> 0</td>\n",
       "      <td> 0</td>\n",
       "    </tr>\n",
       "    <tr>\n",
       "      <th>18002</th>\n",
       "      <td> TA-18003</td>\n",
       "      <td> SP-0046</td>\n",
       "      <td> 66.70</td>\n",
       "      <td> 7.90</td>\n",
       "      <td> 63</td>\n",
       "      <td> 2</td>\n",
       "      <td> 9999</td>\n",
       "      <td> N</td>\n",
       "      <td> Y</td>\n",
       "      <td> N</td>\n",
       "      <td> Y</td>\n",
       "      <td>   NONE</td>\n",
       "      <td>   NONE</td>\n",
       "      <td> 0</td>\n",
       "      <td> 0</td>\n",
       "      <td> 0</td>\n",
       "    </tr>\n",
       "    <tr>\n",
       "      <th>18003</th>\n",
       "      <td> TA-18004</td>\n",
       "      <td> SP-0046</td>\n",
       "      <td> 66.70</td>\n",
       "      <td> 7.90</td>\n",
       "      <td> 81</td>\n",
       "      <td> 2</td>\n",
       "      <td> 9999</td>\n",
       "      <td> N</td>\n",
       "      <td> Y</td>\n",
       "      <td> N</td>\n",
       "      <td> N</td>\n",
       "      <td>   NONE</td>\n",
       "      <td>   NONE</td>\n",
       "      <td> 0</td>\n",
       "      <td> 0</td>\n",
       "      <td> 0</td>\n",
       "    </tr>\n",
       "    <tr>\n",
       "      <th>19320</th>\n",
       "      <td> TA-19321</td>\n",
       "      <td> SP-0019</td>\n",
       "      <td>  6.35</td>\n",
       "      <td> 0.71</td>\n",
       "      <td> 32</td>\n",
       "      <td> 3</td>\n",
       "      <td> 9999</td>\n",
       "      <td> N</td>\n",
       "      <td> N</td>\n",
       "      <td> N</td>\n",
       "      <td> N</td>\n",
       "      <td> EF-008</td>\n",
       "      <td> EF-008</td>\n",
       "      <td> 0</td>\n",
       "      <td> 0</td>\n",
       "      <td> 0</td>\n",
       "    </tr>\n",
       "  </tbody>\n",
       "</table>\n",
       "</div>"
      ],
      "text/plain": [
       "      tube_assembly_id material_id  diameter  wall  length  num_bends  \\\n",
       "15132         TA-15133     SP-0029     31.75  1.65      49          2   \n",
       "15174         TA-15175     SP-0029     31.75  1.65      36          1   \n",
       "15175         TA-15176     SP-0029     31.75  1.65      76          1   \n",
       "17688         TA-17689     SP-0046     66.70  7.90      88          2   \n",
       "17689         TA-17690     SP-0046     66.70  7.90      71          2   \n",
       "18002         TA-18003     SP-0046     66.70  7.90      63          2   \n",
       "18003         TA-18004     SP-0046     66.70  7.90      81          2   \n",
       "19320         TA-19321     SP-0019      6.35  0.71      32          3   \n",
       "\n",
       "       bend_radius end_a_1x end_a_2x end_x_1x end_x_2x   end_a   end_x  \\\n",
       "15132         9999        N        N        N        N  EF-003  EF-003   \n",
       "15174         9999        N        N        N        N  EF-003  EF-003   \n",
       "15175         9999        N        N        N        N  EF-003  EF-003   \n",
       "17688         9999        N        Y        N        N    NONE    NONE   \n",
       "17689         9999        N        Y        N        N    NONE    NONE   \n",
       "18002         9999        N        Y        N        Y    NONE    NONE   \n",
       "18003         9999        N        Y        N        N    NONE    NONE   \n",
       "19320         9999        N        N        N        N  EF-008  EF-008   \n",
       "\n",
       "       num_boss  num_bracket  other  \n",
       "15132         0            0      0  \n",
       "15174         0            0      0  \n",
       "15175         0            0      0  \n",
       "17688         0            0      0  \n",
       "17689         0            0      0  \n",
       "18002         0            0      0  \n",
       "18003         0            0      0  \n",
       "19320         0            0      0  "
      ]
     },
     "execution_count": 8,
     "metadata": {},
     "output_type": "execute_result"
    }
   ],
   "source": [
    "df[ df[ 'bend_radius' ] > 9000 ]    # bend_radius를 prediction해야하는 test dataset이다"
   ]
  },
  {
   "cell_type": "markdown",
   "metadata": {},
   "source": [
    "* bend_radius == 9999로 unknown인 것들은 다행히 material_id가 존재한다"
   ]
  },
  {
   "cell_type": "markdown",
   "metadata": {},
   "source": [
    "###2.4.1 bend radius를 위한 train/ test dataset의 구성"
   ]
  },
  {
   "cell_type": "code",
   "execution_count": 9,
   "metadata": {
    "collapsed": false
   },
   "outputs": [],
   "source": [
    "# training dataset 구성시, material이  NA인 것은 제외하고 진행한다\n",
    "df_bend_radius_train = df[ ( df[ 'bend_radius' ] != 9999 ) & ( df[ 'material_id' ].notnull() ) ]    # 정상 dataset을 train\n",
    "df_bend_raius_test = df[ df[ 'bend_radius' ] == 9999 ]    # 9999 dataset을 test"
   ]
  },
  {
   "cell_type": "markdown",
   "metadata": {},
   "source": [
    "###2.4.2 Label Encoding 작업\n",
    "  * categorical data를 모두 포함해야 하므로, df를 기반으로 label encoder를 fitting한다\n",
    "  * label encoding의 대상은 materian_id, end_a_1x, end_a_2x, end_x_1x, end_x_2x, end_a, end_x 7개 feature이다\n",
    "  * 단, material_id의 경우, df의 상태로는 NA가 포함되어 있으므로, 이를 제거하고 encoding 수행"
   ]
  },
  {
   "cell_type": "code",
   "execution_count": 10,
   "metadata": {
    "collapsed": false
   },
   "outputs": [
    {
     "data": {
      "text/plain": [
       "LabelEncoder()"
      ]
     },
     "execution_count": 10,
     "metadata": {},
     "output_type": "execute_result"
    }
   ],
   "source": [
    "from sklearn import preprocessing\n",
    "\n",
    "# Label Encoding 필요한 feature들중, material_id, end_a, end_x는 불완전하므로, null, none 등 check 활용 수행\n",
    "le_material_id = preprocessing.LabelEncoder()\n",
    "le_material_id.fit( df[ 'material_id' ][ df[ 'material_id' ].notnull() ] )    # notnull()로 filtering 가능\n",
    "\n",
    "le_end_a_1x = preprocessing.LabelEncoder()\n",
    "le_end_a_1x.fit( df[ 'end_a_1x' ] )    # filtering 필요없음\n",
    "\n",
    "le_end_a_2x = preprocessing.LabelEncoder()\n",
    "le_end_a_2x.fit( df[ 'end_a_2x' ] )    # filtering 필요없음\n",
    "\n",
    "le_end_x_1x = preprocessing.LabelEncoder()\n",
    "le_end_x_1x.fit( df[ 'end_x_1x' ] )    # filtering 필요없음\n",
    "\n",
    "le_end_x_2x = preprocessing.LabelEncoder()\n",
    "le_end_x_2x.fit( df[ 'end_x_2x' ] )    # filtering 필요없음\n",
    "\n",
    "le_end_a = preprocessing.LabelEncoder()\n",
    "le_end_a.fit( df[ 'end_a' ]  )    # notnull() filtering 불가, 'NONE' filtering 필요\n",
    "\n",
    "le_end_x = preprocessing.LabelEncoder()\n",
    "le_end_x.fit( df[ 'end_x' ] )    # notnull() filtering 불가, 'NONE' filtering 필요"
   ]
  },
  {
   "cell_type": "markdown",
   "metadata": {},
   "source": [
    "###2.4.3 training data에 대한 7개 feature 대상 encoding 수행"
   ]
  },
  {
   "cell_type": "code",
   "execution_count": 11,
   "metadata": {
    "collapsed": false
   },
   "outputs": [
    {
     "name": "stderr",
     "output_type": "stream",
     "text": [
      "C:\\Anaconda3\\lib\\site-packages\\IPython\\kernel\\__main__.py:1: SettingWithCopyWarning: \n",
      "A value is trying to be set on a copy of a slice from a DataFrame.\n",
      "Try using .loc[row_indexer,col_indexer] = value instead\n",
      "\n",
      "See the the caveats in the documentation: http://pandas.pydata.org/pandas-docs/stable/indexing.html#indexing-view-versus-copy\n",
      "  if __name__ == '__main__':\n",
      "C:\\Anaconda3\\lib\\site-packages\\IPython\\kernel\\__main__.py:3: SettingWithCopyWarning: \n",
      "A value is trying to be set on a copy of a slice from a DataFrame.\n",
      "Try using .loc[row_indexer,col_indexer] = value instead\n",
      "\n",
      "See the the caveats in the documentation: http://pandas.pydata.org/pandas-docs/stable/indexing.html#indexing-view-versus-copy\n",
      "  app.launch_new_instance()\n",
      "C:\\Anaconda3\\lib\\site-packages\\IPython\\kernel\\__main__.py:4: SettingWithCopyWarning: \n",
      "A value is trying to be set on a copy of a slice from a DataFrame.\n",
      "Try using .loc[row_indexer,col_indexer] = value instead\n",
      "\n",
      "See the the caveats in the documentation: http://pandas.pydata.org/pandas-docs/stable/indexing.html#indexing-view-versus-copy\n",
      "C:\\Anaconda3\\lib\\site-packages\\IPython\\kernel\\__main__.py:6: SettingWithCopyWarning: \n",
      "A value is trying to be set on a copy of a slice from a DataFrame.\n",
      "Try using .loc[row_indexer,col_indexer] = value instead\n",
      "\n",
      "See the the caveats in the documentation: http://pandas.pydata.org/pandas-docs/stable/indexing.html#indexing-view-versus-copy\n",
      "C:\\Anaconda3\\lib\\site-packages\\IPython\\kernel\\__main__.py:7: SettingWithCopyWarning: \n",
      "A value is trying to be set on a copy of a slice from a DataFrame.\n",
      "Try using .loc[row_indexer,col_indexer] = value instead\n",
      "\n",
      "See the the caveats in the documentation: http://pandas.pydata.org/pandas-docs/stable/indexing.html#indexing-view-versus-copy\n",
      "C:\\Anaconda3\\lib\\site-packages\\IPython\\kernel\\__main__.py:9: SettingWithCopyWarning: \n",
      "A value is trying to be set on a copy of a slice from a DataFrame.\n",
      "Try using .loc[row_indexer,col_indexer] = value instead\n",
      "\n",
      "See the the caveats in the documentation: http://pandas.pydata.org/pandas-docs/stable/indexing.html#indexing-view-versus-copy\n",
      "C:\\Anaconda3\\lib\\site-packages\\IPython\\kernel\\__main__.py:10: SettingWithCopyWarning: \n",
      "A value is trying to be set on a copy of a slice from a DataFrame.\n",
      "Try using .loc[row_indexer,col_indexer] = value instead\n",
      "\n",
      "See the the caveats in the documentation: http://pandas.pydata.org/pandas-docs/stable/indexing.html#indexing-view-versus-copy\n"
     ]
    }
   ],
   "source": [
    "df_bend_radius_train[ 'material_id' ] = le_material_id.transform( df_bend_radius_train[ 'material_id' ] )\n",
    "\n",
    "df_bend_radius_train[ 'end_a_1x' ] = le_end_a_1x.transform( df_bend_radius_train[ 'end_a_1x' ] )\n",
    "df_bend_radius_train[ 'end_a_2x' ] = le_end_a_2x.transform( df_bend_radius_train[ 'end_a_2x' ] )\n",
    "\n",
    "df_bend_radius_train[ 'end_x_1x' ] = le_end_x_1x.transform( df_bend_radius_train[ 'end_x_1x' ] )\n",
    "df_bend_radius_train[ 'end_x_2x' ] = le_end_x_2x.transform( df_bend_radius_train[ 'end_x_2x' ] )\n",
    "\n",
    "df_bend_radius_train[ 'end_a' ] = le_end_a.transform( df_bend_radius_train[ 'end_a' ] )\n",
    "df_bend_radius_train[ 'end_x' ] = le_end_x.transform( df_bend_radius_train[ 'end_x' ] )"
   ]
  },
  {
   "cell_type": "markdown",
   "metadata": {},
   "source": [
    "###2.4.4 train dataset의 encoded 상태 확인"
   ]
  },
  {
   "cell_type": "code",
   "execution_count": 12,
   "metadata": {
    "collapsed": false,
    "scrolled": true
   },
   "outputs": [
    {
     "data": {
      "text/html": [
       "<div style=\"max-height:1000px;max-width:1500px;overflow:auto;\">\n",
       "<table border=\"1\" class=\"dataframe\">\n",
       "  <thead>\n",
       "    <tr style=\"text-align: right;\">\n",
       "      <th></th>\n",
       "      <th>tube_assembly_id</th>\n",
       "      <th>material_id</th>\n",
       "      <th>diameter</th>\n",
       "      <th>wall</th>\n",
       "      <th>length</th>\n",
       "      <th>num_bends</th>\n",
       "      <th>bend_radius</th>\n",
       "      <th>end_a_1x</th>\n",
       "      <th>end_a_2x</th>\n",
       "      <th>end_x_1x</th>\n",
       "      <th>end_x_2x</th>\n",
       "      <th>end_a</th>\n",
       "      <th>end_x</th>\n",
       "      <th>num_boss</th>\n",
       "      <th>num_bracket</th>\n",
       "      <th>other</th>\n",
       "    </tr>\n",
       "  </thead>\n",
       "  <tbody>\n",
       "    <tr>\n",
       "      <th>0</th>\n",
       "      <td> TA-00001</td>\n",
       "      <td> 9</td>\n",
       "      <td> 12.70</td>\n",
       "      <td> 1.65</td>\n",
       "      <td> 164</td>\n",
       "      <td> 5</td>\n",
       "      <td> 38.10</td>\n",
       "      <td> 0</td>\n",
       "      <td> 0</td>\n",
       "      <td> 0</td>\n",
       "      <td> 0</td>\n",
       "      <td> 2</td>\n",
       "      <td> 3</td>\n",
       "      <td> 0</td>\n",
       "      <td> 0</td>\n",
       "      <td> 0</td>\n",
       "    </tr>\n",
       "    <tr>\n",
       "      <th>1</th>\n",
       "      <td> TA-00002</td>\n",
       "      <td> 1</td>\n",
       "      <td>  6.35</td>\n",
       "      <td> 0.71</td>\n",
       "      <td> 137</td>\n",
       "      <td> 8</td>\n",
       "      <td> 19.05</td>\n",
       "      <td> 0</td>\n",
       "      <td> 0</td>\n",
       "      <td> 0</td>\n",
       "      <td> 0</td>\n",
       "      <td> 7</td>\n",
       "      <td> 8</td>\n",
       "      <td> 0</td>\n",
       "      <td> 0</td>\n",
       "      <td> 0</td>\n",
       "    </tr>\n",
       "    <tr>\n",
       "      <th>2</th>\n",
       "      <td> TA-00003</td>\n",
       "      <td> 1</td>\n",
       "      <td>  6.35</td>\n",
       "      <td> 0.71</td>\n",
       "      <td> 127</td>\n",
       "      <td> 7</td>\n",
       "      <td> 19.05</td>\n",
       "      <td> 0</td>\n",
       "      <td> 0</td>\n",
       "      <td> 0</td>\n",
       "      <td> 0</td>\n",
       "      <td> 7</td>\n",
       "      <td> 8</td>\n",
       "      <td> 0</td>\n",
       "      <td> 0</td>\n",
       "      <td> 0</td>\n",
       "    </tr>\n",
       "  </tbody>\n",
       "</table>\n",
       "</div>"
      ],
      "text/plain": [
       "  tube_assembly_id  material_id  diameter  wall  length  num_bends  \\\n",
       "0         TA-00001            9     12.70  1.65     164          5   \n",
       "1         TA-00002            1      6.35  0.71     137          8   \n",
       "2         TA-00003            1      6.35  0.71     127          7   \n",
       "\n",
       "   bend_radius  end_a_1x  end_a_2x  end_x_1x  end_x_2x  end_a  end_x  \\\n",
       "0        38.10         0         0         0         0      2      3   \n",
       "1        19.05         0         0         0         0      7      8   \n",
       "2        19.05         0         0         0         0      7      8   \n",
       "\n",
       "   num_boss  num_bracket  other  \n",
       "0         0            0      0  \n",
       "1         0            0      0  \n",
       "2         0            0      0  "
      ]
     },
     "execution_count": 12,
     "metadata": {},
     "output_type": "execute_result"
    }
   ],
   "source": [
    "df_bend_radius_train.head( 3 )\n",
    "# 이것 활용하여, bend_radius == 9999를 보정하기 위한, regression model을 만들어야 함"
   ]
  },
  {
   "cell_type": "markdown",
   "metadata": {},
   "source": [
    "###2.4.5 Modeling 위한 X, y 생성"
   ]
  },
  {
   "cell_type": "code",
   "execution_count": 13,
   "metadata": {
    "collapsed": true
   },
   "outputs": [],
   "source": [
    "removal_feature_list = [\n",
    "#                          'material_id',\n",
    "#                          'diameter',\n",
    "#                          'wall',\n",
    "#                          'length',\n",
    "#                          'num_bends',\n",
    "    \n",
    "                         'end_a_1x',\n",
    "                         'end_a_2x',\n",
    "                         'end_x_1x',\n",
    "                         'end_x_2x',\n",
    "                         'end_a',\n",
    "                         'end_x',\n",
    "    \n",
    "#                          'num_boss',\n",
    "#                          'num_bracket',\n",
    "#                          'other',\n",
    "                       ]"
   ]
  },
  {
   "cell_type": "code",
   "execution_count": 14,
   "metadata": {
    "collapsed": false
   },
   "outputs": [
    {
     "name": "stderr",
     "output_type": "stream",
     "text": [
      "C:\\Anaconda3\\lib\\site-packages\\IPython\\kernel\\__main__.py:1: SettingWithCopyWarning: \n",
      "A value is trying to be set on a copy of a slice from a DataFrame\n",
      "\n",
      "See the the caveats in the documentation: http://pandas.pydata.org/pandas-docs/stable/indexing.html#indexing-view-versus-copy\n",
      "  if __name__ == '__main__':\n"
     ]
    }
   ],
   "source": [
    "df_bend_radius_train.drop( removal_feature_list, axis = 1, inplace = True )    # features engineered"
   ]
  },
  {
   "cell_type": "code",
   "execution_count": 15,
   "metadata": {
    "collapsed": false
   },
   "outputs": [],
   "source": [
    "X = df_bend_radius_train.drop( [ 'tube_assembly_id', 'bend_radius' ], axis = 1 )    # X를 생성한다\n",
    "y = df_bend_radius_train[ 'bend_radius' ]    # y를 생성한다"
   ]
  },
  {
   "cell_type": "markdown",
   "metadata": {},
   "source": [
    "###2.4.6 Modeling 수행"
   ]
  },
  {
   "cell_type": "code",
   "execution_count": 16,
   "metadata": {
    "collapsed": true
   },
   "outputs": [],
   "source": [
    "cv_cnt = 10    # cv : cross validation 횟수\n",
    "n_jobs_cnt = 6"
   ]
  },
  {
   "cell_type": "code",
   "execution_count": 17,
   "metadata": {
    "collapsed": true
   },
   "outputs": [],
   "source": [
    "from sklearn.linear_model import LinearRegression\n",
    "from sklearn.linear_model import Lasso\n",
    "from sklearn.linear_model import ElasticNet\n",
    "\n",
    "from sklearn.ensemble import RandomForestRegressor\n",
    "\n",
    "from sklearn import grid_search"
   ]
  },
  {
   "cell_type": "code",
   "execution_count": 18,
   "metadata": {
    "collapsed": false
   },
   "outputs": [],
   "source": [
    "model_list = [\n",
    "#                LinearRegression(),\n",
    "#                Lasso(),\n",
    "#                ElasticNet(),\n",
    "               RandomForestRegressor( n_estimators = 1000 ),\n",
    "             ]"
   ]
  },
  {
   "cell_type": "code",
   "execution_count": 19,
   "metadata": {
    "collapsed": false
   },
   "outputs": [
    {
     "name": "stdout",
     "output_type": "stream",
     "text": [
      "model :  RandomForestRegressor\n",
      "best_score :  0.766391409142\n",
      "=================\n",
      "best model :  RandomForestRegressor(bootstrap=True, criterion='mse', max_depth=None,\n",
      "           max_features='auto', max_leaf_nodes=None, min_samples_leaf=1,\n",
      "           min_samples_split=2, min_weight_fraction_leaf=0.0,\n",
      "           n_estimators=1000, n_jobs=1, oob_score=False, random_state=None,\n",
      "           verbose=0, warm_start=False)\n",
      "=================\n",
      "Wall time: 1min 41s\n"
     ]
    }
   ],
   "source": [
    "%%time\n",
    "import time\n",
    "for model in model_list :\n",
    "    params = {\n",
    "#                'n_estimators' : (5,1000),    # RandomForesterClassifier\n",
    "             }    # grid search에서 활용할 params grid\n",
    "\n",
    "    gs = grid_search.GridSearchCV( model,\n",
    "                                   param_grid = params, n_jobs = n_jobs_cnt, cv = cv_cnt, )\n",
    "    gs.fit( X, y )\n",
    "    \n",
    "    \n",
    "    print( 'model : ', str( model ).split( '(' )[0] )\n",
    "    print( 'best_score : ', gs.best_score_ )\n",
    "    \n",
    "    print( '=================' )\n",
    "    print( 'best model : ', gs.best_estimator_ )\n",
    "    print( '=================' )"
   ]
  },
  {
   "cell_type": "markdown",
   "metadata": {},
   "source": [
    "###2.4.7 test data에 대한 7개 feature 대상 encoding 수행"
   ]
  },
  {
   "cell_type": "code",
   "execution_count": 20,
   "metadata": {
    "collapsed": false
   },
   "outputs": [
    {
     "name": "stderr",
     "output_type": "stream",
     "text": [
      "C:\\Anaconda3\\lib\\site-packages\\IPython\\kernel\\__main__.py:1: SettingWithCopyWarning: \n",
      "A value is trying to be set on a copy of a slice from a DataFrame.\n",
      "Try using .loc[row_indexer,col_indexer] = value instead\n",
      "\n",
      "See the the caveats in the documentation: http://pandas.pydata.org/pandas-docs/stable/indexing.html#indexing-view-versus-copy\n",
      "  if __name__ == '__main__':\n",
      "C:\\Anaconda3\\lib\\site-packages\\IPython\\kernel\\__main__.py:3: SettingWithCopyWarning: \n",
      "A value is trying to be set on a copy of a slice from a DataFrame.\n",
      "Try using .loc[row_indexer,col_indexer] = value instead\n",
      "\n",
      "See the the caveats in the documentation: http://pandas.pydata.org/pandas-docs/stable/indexing.html#indexing-view-versus-copy\n",
      "  app.launch_new_instance()\n",
      "C:\\Anaconda3\\lib\\site-packages\\IPython\\kernel\\__main__.py:4: SettingWithCopyWarning: \n",
      "A value is trying to be set on a copy of a slice from a DataFrame.\n",
      "Try using .loc[row_indexer,col_indexer] = value instead\n",
      "\n",
      "See the the caveats in the documentation: http://pandas.pydata.org/pandas-docs/stable/indexing.html#indexing-view-versus-copy\n",
      "C:\\Anaconda3\\lib\\site-packages\\IPython\\kernel\\__main__.py:6: SettingWithCopyWarning: \n",
      "A value is trying to be set on a copy of a slice from a DataFrame.\n",
      "Try using .loc[row_indexer,col_indexer] = value instead\n",
      "\n",
      "See the the caveats in the documentation: http://pandas.pydata.org/pandas-docs/stable/indexing.html#indexing-view-versus-copy\n",
      "C:\\Anaconda3\\lib\\site-packages\\IPython\\kernel\\__main__.py:7: SettingWithCopyWarning: \n",
      "A value is trying to be set on a copy of a slice from a DataFrame.\n",
      "Try using .loc[row_indexer,col_indexer] = value instead\n",
      "\n",
      "See the the caveats in the documentation: http://pandas.pydata.org/pandas-docs/stable/indexing.html#indexing-view-versus-copy\n",
      "C:\\Anaconda3\\lib\\site-packages\\IPython\\kernel\\__main__.py:9: SettingWithCopyWarning: \n",
      "A value is trying to be set on a copy of a slice from a DataFrame.\n",
      "Try using .loc[row_indexer,col_indexer] = value instead\n",
      "\n",
      "See the the caveats in the documentation: http://pandas.pydata.org/pandas-docs/stable/indexing.html#indexing-view-versus-copy\n",
      "C:\\Anaconda3\\lib\\site-packages\\IPython\\kernel\\__main__.py:10: SettingWithCopyWarning: \n",
      "A value is trying to be set on a copy of a slice from a DataFrame.\n",
      "Try using .loc[row_indexer,col_indexer] = value instead\n",
      "\n",
      "See the the caveats in the documentation: http://pandas.pydata.org/pandas-docs/stable/indexing.html#indexing-view-versus-copy\n"
     ]
    }
   ],
   "source": [
    "df_bend_raius_test[ 'material_id' ] = le_material_id.transform( df_bend_raius_test[ 'material_id' ] )\n",
    "\n",
    "df_bend_raius_test[ 'end_a_1x' ] = le_end_a_1x.transform( df_bend_raius_test[ 'end_a_1x' ] )\n",
    "df_bend_raius_test[ 'end_a_2x' ] = le_end_a_2x.transform( df_bend_raius_test[ 'end_a_2x' ] )\n",
    "\n",
    "df_bend_raius_test[ 'end_x_1x' ] = le_end_x_1x.transform( df_bend_raius_test[ 'end_x_1x' ] )\n",
    "df_bend_raius_test[ 'end_x_2x' ] = le_end_x_2x.transform( df_bend_raius_test[ 'end_x_2x' ] )\n",
    "\n",
    "df_bend_raius_test[ 'end_a' ] = le_end_a.transform( df_bend_raius_test[ 'end_a' ] )\n",
    "df_bend_raius_test[ 'end_x' ] = le_end_x.transform( df_bend_raius_test[ 'end_x' ] )"
   ]
  },
  {
   "cell_type": "code",
   "execution_count": 21,
   "metadata": {
    "collapsed": false
   },
   "outputs": [],
   "source": [
    "# sz_tube_assembly_id = df_bend_raius_test[ 'tube_assembly_id' ]    # id 백업"
   ]
  },
  {
   "cell_type": "code",
   "execution_count": 22,
   "metadata": {
    "collapsed": false
   },
   "outputs": [
    {
     "name": "stderr",
     "output_type": "stream",
     "text": [
      "C:\\Anaconda3\\lib\\site-packages\\IPython\\kernel\\__main__.py:1: SettingWithCopyWarning: \n",
      "A value is trying to be set on a copy of a slice from a DataFrame\n",
      "\n",
      "See the the caveats in the documentation: http://pandas.pydata.org/pandas-docs/stable/indexing.html#indexing-view-versus-copy\n",
      "  if __name__ == '__main__':\n",
      "C:\\Anaconda3\\lib\\site-packages\\IPython\\kernel\\__main__.py:2: SettingWithCopyWarning: \n",
      "A value is trying to be set on a copy of a slice from a DataFrame\n",
      "\n",
      "See the the caveats in the documentation: http://pandas.pydata.org/pandas-docs/stable/indexing.html#indexing-view-versus-copy\n",
      "  from IPython.kernel.zmq import kernelapp as app\n"
     ]
    }
   ],
   "source": [
    "df_bend_raius_test.drop( removal_feature_list, axis = 1, inplace = True )    # features engineered\n",
    "df_bend_raius_test.drop( [ 'tube_assembly_id', 'bend_radius' ], axis = 1, inplace = True )"
   ]
  },
  {
   "cell_type": "markdown",
   "metadata": {},
   "source": [
    "###2.4.8 bend_radius prediction 수행"
   ]
  },
  {
   "cell_type": "code",
   "execution_count": 23,
   "metadata": {
    "collapsed": false
   },
   "outputs": [],
   "source": [
    "y_pred = gs.best_estimator_.predict( df_bend_raius_test )    # prediction 수행"
   ]
  },
  {
   "cell_type": "code",
   "execution_count": 24,
   "metadata": {
    "collapsed": false
   },
   "outputs": [
    {
     "data": {
      "text/plain": [
       "array([  60.40735667,   65.0112    ,   69.88295833,  179.85465   ,\n",
       "        172.77525   ,  172.77525   ,  179.6409    ,   20.94137018])"
      ]
     },
     "execution_count": 24,
     "metadata": {},
     "output_type": "execute_result"
    }
   ],
   "source": [
    "y_pred"
   ]
  },
  {
   "cell_type": "markdown",
   "metadata": {},
   "source": [
    "###2.4.9 Prediction 결과를 tube에 value assign 수행"
   ]
  },
  {
   "cell_type": "code",
   "execution_count": 25,
   "metadata": {
    "collapsed": false
   },
   "outputs": [
    {
     "data": {
      "text/plain": [
       "[15132, 15174, 15175, 17688, 17689, 18002, 18003, 19320]"
      ]
     },
     "execution_count": 25,
     "metadata": {},
     "output_type": "execute_result"
    }
   ],
   "source": [
    "idx_list = df[ df[ 'bend_radius' ] > 9000 ].index.tolist()\n",
    "idx_list"
   ]
  },
  {
   "cell_type": "code",
   "execution_count": 26,
   "metadata": {
    "collapsed": false
   },
   "outputs": [],
   "source": [
    "# bend_radius prediction 결과를 df에 assign\n",
    "\n",
    "jdx = 0\n",
    "for idx in idx_list :\n",
    "    df.loc[ idx, 'bend_radius' ] = y_pred[jdx]\n",
    "    jdx += 1"
   ]
  },
  {
   "cell_type": "markdown",
   "metadata": {},
   "source": [
    "###2.4.10 prediction 반영결과를 output"
   ]
  },
  {
   "cell_type": "code",
   "execution_count": 27,
   "metadata": {
    "collapsed": false
   },
   "outputs": [],
   "source": [
    "df.to_csv( './dataset/02.ml.verified.dataset/tube.tube_radius.verified.csv', index = False )\n",
    "del( df )\n",
    "del( df_bend_radius_train )\n",
    "del( df_bend_raius_test )\n",
    "del( X )\n",
    "del( y )"
   ]
  },
  {
   "cell_type": "markdown",
   "metadata": {},
   "source": [
    "."
   ]
  },
  {
   "cell_type": "markdown",
   "metadata": {},
   "source": [
    "##2.5 categorical feature overview\n",
    "###대상 : end_a_1x, end_a_2x, end_x_1x, end_x_2x, end_a, end_x"
   ]
  },
  {
   "cell_type": "code",
   "execution_count": 28,
   "metadata": {
    "collapsed": true
   },
   "outputs": [],
   "source": [
    "df = pd.read_csv( './dataset/02.ml.verified.dataset/tube.tube_radius.verified.csv' )"
   ]
  },
  {
   "cell_type": "code",
   "execution_count": 29,
   "metadata": {
    "collapsed": false
   },
   "outputs": [
    {
     "data": {
      "text/plain": [
       "(21198, 21198, array(['N', 'Y'], dtype=object))"
      ]
     },
     "execution_count": 29,
     "metadata": {},
     "output_type": "execute_result"
    }
   ],
   "source": [
    "df[ 'tube_assembly_id' ].count(),  df[ 'end_a_1x' ].count(), df[ 'end_a_1x' ].unique()    # 누락없음, 문제없음"
   ]
  },
  {
   "cell_type": "code",
   "execution_count": 30,
   "metadata": {
    "collapsed": false
   },
   "outputs": [
    {
     "data": {
      "text/plain": [
       "(21198, 21198, array(['N', 'Y'], dtype=object))"
      ]
     },
     "execution_count": 30,
     "metadata": {},
     "output_type": "execute_result"
    }
   ],
   "source": [
    "df[ 'tube_assembly_id' ].count(),  df[ 'end_a_2x' ].count(), df[ 'end_a_2x' ].unique()    # 누락없음, 문제없음"
   ]
  },
  {
   "cell_type": "code",
   "execution_count": 31,
   "metadata": {
    "collapsed": false
   },
   "outputs": [
    {
     "data": {
      "text/plain": [
       "(21198, 21198, array(['N', 'Y'], dtype=object))"
      ]
     },
     "execution_count": 31,
     "metadata": {},
     "output_type": "execute_result"
    }
   ],
   "source": [
    "df[ 'tube_assembly_id' ].count(),  df[ 'end_x_1x' ].count(), df[ 'end_x_1x' ].unique()     # 누락없음, 문제없음"
   ]
  },
  {
   "cell_type": "code",
   "execution_count": 32,
   "metadata": {
    "collapsed": false
   },
   "outputs": [
    {
     "data": {
      "text/plain": [
       "(21198, 21198, array(['N', 'Y'], dtype=object))"
      ]
     },
     "execution_count": 32,
     "metadata": {},
     "output_type": "execute_result"
    }
   ],
   "source": [
    "df[ 'tube_assembly_id' ].count(),  df[ 'end_x_2x' ].count(), df[ 'end_x_2x' ].unique()     # 누락없음, 문제없음"
   ]
  },
  {
   "cell_type": "code",
   "execution_count": 33,
   "metadata": {
    "collapsed": false
   },
   "outputs": [
    {
     "data": {
      "text/plain": [
       "(21198,\n",
       " 21198,\n",
       " array(['EF-003', 'EF-008', 'EF-021', 'NONE', 'EF-018', 'EF-005', 'EF-009',\n",
       "        'EF-023', 'EF-017', 'EF-015', 'EF-012', 'EF-001', 'EF-010',\n",
       "        'EF-004', 'EF-002', 'EF-013', 'EF-019', 'EF-007', 'EF-020',\n",
       "        'EF-025', 'EF-016', 'EF-022', 'EF-011', 'EF-006', 'EF-014'], dtype=object))"
      ]
     },
     "execution_count": 33,
     "metadata": {},
     "output_type": "execute_result"
    }
   ],
   "source": [
    "df[ 'tube_assembly_id' ].count(),  df[ 'end_a' ].count(), df[ 'end_a' ].unique()    # 누락없음, NONE 있음"
   ]
  },
  {
   "cell_type": "code",
   "execution_count": 34,
   "metadata": {
    "collapsed": false
   },
   "outputs": [
    {
     "data": {
      "text/plain": [
       "(21198,\n",
       " 21198,\n",
       " array(['EF-003', 'EF-008', 'EF-021', 'NONE', 'EF-018', 'EF-009', 'EF-017',\n",
       "        'EF-019', 'EF-015', 'EF-012', 'EF-023', 'EF-002', 'EF-013', '9999',\n",
       "        'EF-007', 'EF-010', 'EF-006', 'EF-016', 'EF-022', 'EF-004',\n",
       "        'EF-001', 'EF-005', 'EF-011', 'EF-025', 'EF-014', 'EF-026', 'EF-024'], dtype=object))"
      ]
     },
     "execution_count": 34,
     "metadata": {},
     "output_type": "execute_result"
    }
   ],
   "source": [
    "df[ 'tube_assembly_id' ].count(),  df[ 'end_x' ].count(), df[ 'end_x' ].unique()    # 누락없음, NONE 있음"
   ]
  },
  {
   "cell_type": "markdown",
   "metadata": {},
   "source": [
    "* 확인결과\n",
    "    \n",
    "    end_a_1x : 누락없음, N/Y\n",
    "    \n",
    "    end_a_1x : 누락없음, N/Y\n",
    "    \n",
    "    end_x_1x : 누락없음, N/Y\n",
    "    \n",
    "    end_x_2x : 누락없음, N/Y\n",
    "    \n",
    "    end_a : 누락없음, 25개 Category\n",
    "    \n",
    "    end_x : 누락없음, 9999 Unknown 존재"
   ]
  },
  {
   "cell_type": "markdown",
   "metadata": {},
   "source": [
    "."
   ]
  },
  {
   "cell_type": "markdown",
   "metadata": {},
   "source": [
    "##2.5 end_x의 보완"
   ]
  },
  {
   "cell_type": "code",
   "execution_count": 35,
   "metadata": {
    "collapsed": false
   },
   "outputs": [
    {
     "data": {
      "text/html": [
       "<div style=\"max-height:1000px;max-width:1500px;overflow:auto;\">\n",
       "<table border=\"1\" class=\"dataframe\">\n",
       "  <thead>\n",
       "    <tr style=\"text-align: right;\">\n",
       "      <th></th>\n",
       "      <th>tube_assembly_id</th>\n",
       "      <th>material_id</th>\n",
       "      <th>diameter</th>\n",
       "      <th>wall</th>\n",
       "      <th>length</th>\n",
       "      <th>num_bends</th>\n",
       "      <th>bend_radius</th>\n",
       "      <th>end_a_1x</th>\n",
       "      <th>end_a_2x</th>\n",
       "      <th>end_x_1x</th>\n",
       "      <th>end_x_2x</th>\n",
       "      <th>end_a</th>\n",
       "      <th>end_x</th>\n",
       "      <th>num_boss</th>\n",
       "      <th>num_bracket</th>\n",
       "      <th>other</th>\n",
       "    </tr>\n",
       "  </thead>\n",
       "  <tbody>\n",
       "    <tr>\n",
       "      <th>958  </th>\n",
       "      <td> TA-00959</td>\n",
       "      <td> SP-0028</td>\n",
       "      <td>  25.40</td>\n",
       "      <td> 1.65</td>\n",
       "      <td>  35</td>\n",
       "      <td> 1</td>\n",
       "      <td>  50.8</td>\n",
       "      <td> N</td>\n",
       "      <td> N</td>\n",
       "      <td> N</td>\n",
       "      <td> N</td>\n",
       "      <td> EF-003</td>\n",
       "      <td> 9999</td>\n",
       "      <td> 0</td>\n",
       "      <td> 0</td>\n",
       "      <td> 0</td>\n",
       "    </tr>\n",
       "    <tr>\n",
       "      <th>8884 </th>\n",
       "      <td> TA-08885</td>\n",
       "      <td> SP-0029</td>\n",
       "      <td>  88.90</td>\n",
       "      <td> 1.65</td>\n",
       "      <td> 179</td>\n",
       "      <td> 1</td>\n",
       "      <td> 127.0</td>\n",
       "      <td> N</td>\n",
       "      <td> N</td>\n",
       "      <td> N</td>\n",
       "      <td> N</td>\n",
       "      <td> EF-017</td>\n",
       "      <td> 9999</td>\n",
       "      <td> 0</td>\n",
       "      <td> 0</td>\n",
       "      <td> 0</td>\n",
       "    </tr>\n",
       "    <tr>\n",
       "      <th>9736 </th>\n",
       "      <td> TA-09737</td>\n",
       "      <td> SP-0029</td>\n",
       "      <td>  88.90</td>\n",
       "      <td> 1.65</td>\n",
       "      <td>  68</td>\n",
       "      <td> 2</td>\n",
       "      <td> 101.6</td>\n",
       "      <td> N</td>\n",
       "      <td> Y</td>\n",
       "      <td> N</td>\n",
       "      <td> N</td>\n",
       "      <td> EF-009</td>\n",
       "      <td> 9999</td>\n",
       "      <td> 0</td>\n",
       "      <td> 0</td>\n",
       "      <td> 0</td>\n",
       "    </tr>\n",
       "    <tr>\n",
       "      <th>11386</th>\n",
       "      <td> TA-11387</td>\n",
       "      <td> SP-0029</td>\n",
       "      <td>  12.70</td>\n",
       "      <td> 1.65</td>\n",
       "      <td>  68</td>\n",
       "      <td> 6</td>\n",
       "      <td>  25.4</td>\n",
       "      <td> N</td>\n",
       "      <td> Y</td>\n",
       "      <td> N</td>\n",
       "      <td> N</td>\n",
       "      <td> EF-003</td>\n",
       "      <td> 9999</td>\n",
       "      <td> 0</td>\n",
       "      <td> 0</td>\n",
       "      <td> 0</td>\n",
       "    </tr>\n",
       "    <tr>\n",
       "      <th>11718</th>\n",
       "      <td> TA-11719</td>\n",
       "      <td> SP-0033</td>\n",
       "      <td> 127.00</td>\n",
       "      <td> 1.65</td>\n",
       "      <td>  34</td>\n",
       "      <td> 1</td>\n",
       "      <td> 127.0</td>\n",
       "      <td> Y</td>\n",
       "      <td> Y</td>\n",
       "      <td> Y</td>\n",
       "      <td> Y</td>\n",
       "      <td> EF-023</td>\n",
       "      <td> 9999</td>\n",
       "      <td> 0</td>\n",
       "      <td> 0</td>\n",
       "      <td> 0</td>\n",
       "    </tr>\n",
       "    <tr>\n",
       "      <th>11769</th>\n",
       "      <td> TA-11770</td>\n",
       "      <td> SP-0038</td>\n",
       "      <td>   6.35</td>\n",
       "      <td> 0.89</td>\n",
       "      <td>   5</td>\n",
       "      <td> 1</td>\n",
       "      <td>  12.7</td>\n",
       "      <td> N</td>\n",
       "      <td> Y</td>\n",
       "      <td> N</td>\n",
       "      <td> N</td>\n",
       "      <td> EF-008</td>\n",
       "      <td> 9999</td>\n",
       "      <td> 0</td>\n",
       "      <td> 0</td>\n",
       "      <td> 0</td>\n",
       "    </tr>\n",
       "  </tbody>\n",
       "</table>\n",
       "</div>"
      ],
      "text/plain": [
       "      tube_assembly_id material_id  diameter  wall  length  num_bends  \\\n",
       "958           TA-00959     SP-0028     25.40  1.65      35          1   \n",
       "8884          TA-08885     SP-0029     88.90  1.65     179          1   \n",
       "9736          TA-09737     SP-0029     88.90  1.65      68          2   \n",
       "11386         TA-11387     SP-0029     12.70  1.65      68          6   \n",
       "11718         TA-11719     SP-0033    127.00  1.65      34          1   \n",
       "11769         TA-11770     SP-0038      6.35  0.89       5          1   \n",
       "\n",
       "       bend_radius end_a_1x end_a_2x end_x_1x end_x_2x   end_a end_x  \\\n",
       "958           50.8        N        N        N        N  EF-003  9999   \n",
       "8884         127.0        N        N        N        N  EF-017  9999   \n",
       "9736         101.6        N        Y        N        N  EF-009  9999   \n",
       "11386         25.4        N        Y        N        N  EF-003  9999   \n",
       "11718        127.0        Y        Y        Y        Y  EF-023  9999   \n",
       "11769         12.7        N        Y        N        N  EF-008  9999   \n",
       "\n",
       "       num_boss  num_bracket  other  \n",
       "958           0            0      0  \n",
       "8884          0            0      0  \n",
       "9736          0            0      0  \n",
       "11386         0            0      0  \n",
       "11718         0            0      0  \n",
       "11769         0            0      0  "
      ]
     },
     "execution_count": 35,
     "metadata": {},
     "output_type": "execute_result"
    }
   ],
   "source": [
    "df[ df[ 'end_x' ] == '9999' ]"
   ]
  },
  {
   "cell_type": "code",
   "execution_count": 36,
   "metadata": {
    "collapsed": false
   },
   "outputs": [
    {
     "data": {
      "text/plain": [
       "6"
      ]
     },
     "execution_count": 36,
     "metadata": {},
     "output_type": "execute_result"
    }
   ],
   "source": [
    "len( df[ df[ 'end_x' ] == '9999' ] )"
   ]
  },
  {
   "cell_type": "markdown",
   "metadata": {},
   "source": [
    "* 6개의 unknown end_x가 존재함"
   ]
  },
  {
   "cell_type": "markdown",
   "metadata": {},
   "source": [
    "###2.5.1 end_x를 위한 train/ test dataset의 구성"
   ]
  },
  {
   "cell_type": "code",
   "execution_count": 37,
   "metadata": {
    "collapsed": true
   },
   "outputs": [],
   "source": [
    "# training dataset 구성시, material이  NA인 것은 제외하고 진행한다\n",
    "df_end_x_train = df[ ( df[ 'end_x' ] != '9999' ) & ( df[ 'material_id' ].notnull() ) ]    # 정상 dataset을 train\n",
    "df_end_x_test = df[ df[ 'end_x' ] == '9999' ]    # 9999 dataset을 test"
   ]
  },
  {
   "cell_type": "markdown",
   "metadata": {},
   "source": [
    "###2.5.2 Label Encoding 작업\n",
    "  * 아래의 작업은 2.4.2를 통해 필요한 feature들을 대상으로 이미 진행완료되었다고 보는 것이 합리적\n",
    "  * categorical data를 모두 포함해야 하므로, df를 기반으로 label encoder를 fitting한다\n",
    "  * label encoding의 대상은 materian_id, end_a_1x, end_a_2x, end_x_1x, end_x_2x, end_a, end_x 7개 feature이다\n",
    "  * 단, material_id의 경우, df의 상태로는 NA가 포함되어 있으므로, 이를 제거하고 encoding 수행"
   ]
  },
  {
   "cell_type": "markdown",
   "metadata": {},
   "source": [
    "###2.5.3 training data에 대한 7개 feature 대상 encoding 수행   "
   ]
  },
  {
   "cell_type": "code",
   "execution_count": 38,
   "metadata": {
    "collapsed": false
   },
   "outputs": [
    {
     "name": "stderr",
     "output_type": "stream",
     "text": [
      "C:\\Anaconda3\\lib\\site-packages\\IPython\\kernel\\__main__.py:1: SettingWithCopyWarning: \n",
      "A value is trying to be set on a copy of a slice from a DataFrame.\n",
      "Try using .loc[row_indexer,col_indexer] = value instead\n",
      "\n",
      "See the the caveats in the documentation: http://pandas.pydata.org/pandas-docs/stable/indexing.html#indexing-view-versus-copy\n",
      "  if __name__ == '__main__':\n",
      "C:\\Anaconda3\\lib\\site-packages\\IPython\\kernel\\__main__.py:3: SettingWithCopyWarning: \n",
      "A value is trying to be set on a copy of a slice from a DataFrame.\n",
      "Try using .loc[row_indexer,col_indexer] = value instead\n",
      "\n",
      "See the the caveats in the documentation: http://pandas.pydata.org/pandas-docs/stable/indexing.html#indexing-view-versus-copy\n",
      "  app.launch_new_instance()\n",
      "C:\\Anaconda3\\lib\\site-packages\\IPython\\kernel\\__main__.py:4: SettingWithCopyWarning: \n",
      "A value is trying to be set on a copy of a slice from a DataFrame.\n",
      "Try using .loc[row_indexer,col_indexer] = value instead\n",
      "\n",
      "See the the caveats in the documentation: http://pandas.pydata.org/pandas-docs/stable/indexing.html#indexing-view-versus-copy\n",
      "C:\\Anaconda3\\lib\\site-packages\\IPython\\kernel\\__main__.py:6: SettingWithCopyWarning: \n",
      "A value is trying to be set on a copy of a slice from a DataFrame.\n",
      "Try using .loc[row_indexer,col_indexer] = value instead\n",
      "\n",
      "See the the caveats in the documentation: http://pandas.pydata.org/pandas-docs/stable/indexing.html#indexing-view-versus-copy\n",
      "C:\\Anaconda3\\lib\\site-packages\\IPython\\kernel\\__main__.py:7: SettingWithCopyWarning: \n",
      "A value is trying to be set on a copy of a slice from a DataFrame.\n",
      "Try using .loc[row_indexer,col_indexer] = value instead\n",
      "\n",
      "See the the caveats in the documentation: http://pandas.pydata.org/pandas-docs/stable/indexing.html#indexing-view-versus-copy\n",
      "C:\\Anaconda3\\lib\\site-packages\\IPython\\kernel\\__main__.py:9: SettingWithCopyWarning: \n",
      "A value is trying to be set on a copy of a slice from a DataFrame.\n",
      "Try using .loc[row_indexer,col_indexer] = value instead\n",
      "\n",
      "See the the caveats in the documentation: http://pandas.pydata.org/pandas-docs/stable/indexing.html#indexing-view-versus-copy\n",
      "C:\\Anaconda3\\lib\\site-packages\\IPython\\kernel\\__main__.py:10: SettingWithCopyWarning: \n",
      "A value is trying to be set on a copy of a slice from a DataFrame.\n",
      "Try using .loc[row_indexer,col_indexer] = value instead\n",
      "\n",
      "See the the caveats in the documentation: http://pandas.pydata.org/pandas-docs/stable/indexing.html#indexing-view-versus-copy\n"
     ]
    }
   ],
   "source": [
    "df_end_x_train[ 'material_id' ] = le_material_id.transform( df_end_x_train[ 'material_id' ] )\n",
    "\n",
    "df_end_x_train[ 'end_a_1x' ] = le_end_a_1x.transform( df_end_x_train[ 'end_a_1x' ] )\n",
    "df_end_x_train[ 'end_a_2x' ] = le_end_a_2x.transform( df_end_x_train[ 'end_a_2x' ] )\n",
    "\n",
    "df_end_x_train[ 'end_x_1x' ] = le_end_x_1x.transform( df_end_x_train[ 'end_x_1x' ] )\n",
    "df_end_x_train[ 'end_x_2x' ] = le_end_x_2x.transform( df_end_x_train[ 'end_x_2x' ] )\n",
    "\n",
    "df_end_x_train[ 'end_a' ] = le_end_a.transform( df_end_x_train[ 'end_a' ] )\n",
    "df_end_x_train[ 'end_x' ] = le_end_x.transform( df_end_x_train[ 'end_x' ] )"
   ]
  },
  {
   "cell_type": "markdown",
   "metadata": {},
   "source": [
    "###2.5.4 train dataset의 encoded 상태 확인"
   ]
  },
  {
   "cell_type": "code",
   "execution_count": 39,
   "metadata": {
    "collapsed": false
   },
   "outputs": [
    {
     "data": {
      "text/html": [
       "<div style=\"max-height:1000px;max-width:1500px;overflow:auto;\">\n",
       "<table border=\"1\" class=\"dataframe\">\n",
       "  <thead>\n",
       "    <tr style=\"text-align: right;\">\n",
       "      <th></th>\n",
       "      <th>tube_assembly_id</th>\n",
       "      <th>material_id</th>\n",
       "      <th>diameter</th>\n",
       "      <th>wall</th>\n",
       "      <th>length</th>\n",
       "      <th>num_bends</th>\n",
       "      <th>bend_radius</th>\n",
       "      <th>end_a_1x</th>\n",
       "      <th>end_a_2x</th>\n",
       "      <th>end_x_1x</th>\n",
       "      <th>end_x_2x</th>\n",
       "      <th>end_a</th>\n",
       "      <th>end_x</th>\n",
       "      <th>num_boss</th>\n",
       "      <th>num_bracket</th>\n",
       "      <th>other</th>\n",
       "    </tr>\n",
       "  </thead>\n",
       "  <tbody>\n",
       "    <tr>\n",
       "      <th>0</th>\n",
       "      <td> TA-00001</td>\n",
       "      <td> 9</td>\n",
       "      <td> 12.70</td>\n",
       "      <td> 1.65</td>\n",
       "      <td> 164</td>\n",
       "      <td> 5</td>\n",
       "      <td> 38.10</td>\n",
       "      <td> 0</td>\n",
       "      <td> 0</td>\n",
       "      <td> 0</td>\n",
       "      <td> 0</td>\n",
       "      <td> 2</td>\n",
       "      <td> 3</td>\n",
       "      <td> 0</td>\n",
       "      <td> 0</td>\n",
       "      <td> 0</td>\n",
       "    </tr>\n",
       "    <tr>\n",
       "      <th>1</th>\n",
       "      <td> TA-00002</td>\n",
       "      <td> 1</td>\n",
       "      <td>  6.35</td>\n",
       "      <td> 0.71</td>\n",
       "      <td> 137</td>\n",
       "      <td> 8</td>\n",
       "      <td> 19.05</td>\n",
       "      <td> 0</td>\n",
       "      <td> 0</td>\n",
       "      <td> 0</td>\n",
       "      <td> 0</td>\n",
       "      <td> 7</td>\n",
       "      <td> 8</td>\n",
       "      <td> 0</td>\n",
       "      <td> 0</td>\n",
       "      <td> 0</td>\n",
       "    </tr>\n",
       "    <tr>\n",
       "      <th>2</th>\n",
       "      <td> TA-00003</td>\n",
       "      <td> 1</td>\n",
       "      <td>  6.35</td>\n",
       "      <td> 0.71</td>\n",
       "      <td> 127</td>\n",
       "      <td> 7</td>\n",
       "      <td> 19.05</td>\n",
       "      <td> 0</td>\n",
       "      <td> 0</td>\n",
       "      <td> 0</td>\n",
       "      <td> 0</td>\n",
       "      <td> 7</td>\n",
       "      <td> 8</td>\n",
       "      <td> 0</td>\n",
       "      <td> 0</td>\n",
       "      <td> 0</td>\n",
       "    </tr>\n",
       "  </tbody>\n",
       "</table>\n",
       "</div>"
      ],
      "text/plain": [
       "  tube_assembly_id  material_id  diameter  wall  length  num_bends  \\\n",
       "0         TA-00001            9     12.70  1.65     164          5   \n",
       "1         TA-00002            1      6.35  0.71     137          8   \n",
       "2         TA-00003            1      6.35  0.71     127          7   \n",
       "\n",
       "   bend_radius  end_a_1x  end_a_2x  end_x_1x  end_x_2x  end_a  end_x  \\\n",
       "0        38.10         0         0         0         0      2      3   \n",
       "1        19.05         0         0         0         0      7      8   \n",
       "2        19.05         0         0         0         0      7      8   \n",
       "\n",
       "   num_boss  num_bracket  other  \n",
       "0         0            0      0  \n",
       "1         0            0      0  \n",
       "2         0            0      0  "
      ]
     },
     "execution_count": 39,
     "metadata": {},
     "output_type": "execute_result"
    }
   ],
   "source": [
    "df_end_x_train.head( 3 )\n",
    "# 이것 활용하여, end_x == 9999를 보정하기 위한, regression model을 만들어야 함"
   ]
  },
  {
   "cell_type": "code",
   "execution_count": 40,
   "metadata": {
    "collapsed": false
   },
   "outputs": [
    {
     "data": {
      "text/plain": [
       "array([ 3,  8, 20, 26, 18,  9, 17, 19, 15, 12, 22,  2, 13,  7, 10,  6, 16,\n",
       "       21,  4,  1,  5, 11, 24, 14, 25, 23], dtype=int64)"
      ]
     },
     "execution_count": 40,
     "metadata": {},
     "output_type": "execute_result"
    }
   ],
   "source": [
    "df_end_x_train[ 'end_x' ].unique()"
   ]
  },
  {
   "cell_type": "markdown",
   "metadata": {},
   "source": [
    "###2.5.5 Modeling 위한 X, y 생성       "
   ]
  },
  {
   "cell_type": "code",
   "execution_count": 41,
   "metadata": {
    "collapsed": true
   },
   "outputs": [],
   "source": [
    "removal_feature_list = [\n",
    "#                          'material_id',\n",
    "#                          'diameter',\n",
    "#                          'wall',\n",
    "#                          'length',\n",
    "    \n",
    "#                          'num_bends',\n",
    "#                          'bend_radius',\n",
    "    \n",
    "#                          'end_a_1x',\n",
    "#                          'end_a_2x',\n",
    "#                          'end_x_1x',\n",
    "#                          'end_x_2x',\n",
    "#                          'end_a',\n",
    "    \n",
    "#                          'num_boss',\n",
    "#                          'num_bracket',\n",
    "#                          'other',\n",
    "                       ]"
   ]
  },
  {
   "cell_type": "code",
   "execution_count": 42,
   "metadata": {
    "collapsed": false
   },
   "outputs": [
    {
     "name": "stderr",
     "output_type": "stream",
     "text": [
      "C:\\Anaconda3\\lib\\site-packages\\IPython\\kernel\\__main__.py:1: SettingWithCopyWarning: \n",
      "A value is trying to be set on a copy of a slice from a DataFrame\n",
      "\n",
      "See the the caveats in the documentation: http://pandas.pydata.org/pandas-docs/stable/indexing.html#indexing-view-versus-copy\n",
      "  if __name__ == '__main__':\n"
     ]
    }
   ],
   "source": [
    "df_end_x_train.drop( removal_feature_list, axis = 1, inplace = True )    # features engineered   "
   ]
  },
  {
   "cell_type": "code",
   "execution_count": 43,
   "metadata": {
    "collapsed": true
   },
   "outputs": [],
   "source": [
    "X = df_end_x_train.drop( [ 'tube_assembly_id', 'end_x' ], axis = 1 )    # X를 생성한다\n",
    "y = df_end_x_train[ 'end_x' ]    # y를 생성한다   "
   ]
  },
  {
   "cell_type": "code",
   "execution_count": 44,
   "metadata": {
    "collapsed": false
   },
   "outputs": [
    {
     "data": {
      "text/html": [
       "<div style=\"max-height:1000px;max-width:1500px;overflow:auto;\">\n",
       "<table border=\"1\" class=\"dataframe\">\n",
       "  <thead>\n",
       "    <tr style=\"text-align: right;\">\n",
       "      <th></th>\n",
       "      <th>material_id</th>\n",
       "      <th>diameter</th>\n",
       "      <th>wall</th>\n",
       "      <th>length</th>\n",
       "      <th>num_bends</th>\n",
       "      <th>bend_radius</th>\n",
       "      <th>end_a_1x</th>\n",
       "      <th>end_a_2x</th>\n",
       "      <th>end_x_1x</th>\n",
       "      <th>end_x_2x</th>\n",
       "      <th>end_a</th>\n",
       "      <th>num_boss</th>\n",
       "      <th>num_bracket</th>\n",
       "      <th>other</th>\n",
       "    </tr>\n",
       "  </thead>\n",
       "  <tbody>\n",
       "    <tr>\n",
       "      <th>0</th>\n",
       "      <td> 9</td>\n",
       "      <td> 12.70</td>\n",
       "      <td> 1.65</td>\n",
       "      <td> 164</td>\n",
       "      <td> 5</td>\n",
       "      <td> 38.10</td>\n",
       "      <td> 0</td>\n",
       "      <td> 0</td>\n",
       "      <td> 0</td>\n",
       "      <td> 0</td>\n",
       "      <td> 2</td>\n",
       "      <td> 0</td>\n",
       "      <td> 0</td>\n",
       "      <td> 0</td>\n",
       "    </tr>\n",
       "    <tr>\n",
       "      <th>1</th>\n",
       "      <td> 1</td>\n",
       "      <td>  6.35</td>\n",
       "      <td> 0.71</td>\n",
       "      <td> 137</td>\n",
       "      <td> 8</td>\n",
       "      <td> 19.05</td>\n",
       "      <td> 0</td>\n",
       "      <td> 0</td>\n",
       "      <td> 0</td>\n",
       "      <td> 0</td>\n",
       "      <td> 7</td>\n",
       "      <td> 0</td>\n",
       "      <td> 0</td>\n",
       "      <td> 0</td>\n",
       "    </tr>\n",
       "    <tr>\n",
       "      <th>2</th>\n",
       "      <td> 1</td>\n",
       "      <td>  6.35</td>\n",
       "      <td> 0.71</td>\n",
       "      <td> 127</td>\n",
       "      <td> 7</td>\n",
       "      <td> 19.05</td>\n",
       "      <td> 0</td>\n",
       "      <td> 0</td>\n",
       "      <td> 0</td>\n",
       "      <td> 0</td>\n",
       "      <td> 7</td>\n",
       "      <td> 0</td>\n",
       "      <td> 0</td>\n",
       "      <td> 0</td>\n",
       "    </tr>\n",
       "  </tbody>\n",
       "</table>\n",
       "</div>"
      ],
      "text/plain": [
       "   material_id  diameter  wall  length  num_bends  bend_radius  end_a_1x  \\\n",
       "0            9     12.70  1.65     164          5        38.10         0   \n",
       "1            1      6.35  0.71     137          8        19.05         0   \n",
       "2            1      6.35  0.71     127          7        19.05         0   \n",
       "\n",
       "   end_a_2x  end_x_1x  end_x_2x  end_a  num_boss  num_bracket  other  \n",
       "0         0         0         0      2         0            0      0  \n",
       "1         0         0         0      7         0            0      0  \n",
       "2         0         0         0      7         0            0      0  "
      ]
     },
     "execution_count": 44,
     "metadata": {},
     "output_type": "execute_result"
    }
   ],
   "source": [
    "X.head( 3 )"
   ]
  },
  {
   "cell_type": "code",
   "execution_count": 45,
   "metadata": {
    "collapsed": false
   },
   "outputs": [
    {
     "data": {
      "text/plain": [
       "0     3\n",
       "1     8\n",
       "2     8\n",
       "3     8\n",
       "4     3\n",
       "5     3\n",
       "6     3\n",
       "7     8\n",
       "8     3\n",
       "9    20\n",
       "Name: end_x, dtype: int64"
      ]
     },
     "execution_count": 45,
     "metadata": {},
     "output_type": "execute_result"
    }
   ],
   "source": [
    "y.head( 10 )"
   ]
  },
  {
   "cell_type": "markdown",
   "metadata": {},
   "source": [
    "###2.5.6 Modeling 수행"
   ]
  },
  {
   "cell_type": "code",
   "execution_count": 46,
   "metadata": {
    "collapsed": true
   },
   "outputs": [],
   "source": [
    "from sklearn.tree import DecisionTreeClassifier\n",
    "from sklearn.ensemble import RandomForestClassifier\n",
    "\n",
    "from sklearn import grid_search"
   ]
  },
  {
   "cell_type": "code",
   "execution_count": 47,
   "metadata": {
    "collapsed": true
   },
   "outputs": [],
   "source": [
    "model_list = [\n",
    "#                DecisionTreeClassifier(),\n",
    "               RandomForestClassifier( n_estimators = 1000 ),\n",
    "             ]"
   ]
  },
  {
   "cell_type": "code",
   "execution_count": 48,
   "metadata": {
    "collapsed": false
   },
   "outputs": [
    {
     "name": "stdout",
     "output_type": "stream",
     "text": [
      "model :  RandomForestClassifier\n",
      "best_score :  0.859752307177\n",
      "=================\n",
      "best model :  RandomForestClassifier(bootstrap=True, class_weight=None, criterion='gini',\n",
      "            max_depth=None, max_features='auto', max_leaf_nodes=None,\n",
      "            min_samples_leaf=1, min_samples_split=2,\n",
      "            min_weight_fraction_leaf=0.0, n_estimators=1000, n_jobs=1,\n",
      "            oob_score=False, random_state=None, verbose=0,\n",
      "            warm_start=False)\n",
      "=================\n",
      "Wall time: 2min 38s\n"
     ]
    },
    {
     "name": "stderr",
     "output_type": "stream",
     "text": [
      "C:\\Anaconda3\\lib\\site-packages\\scikit_learn-0.16.1-py3.4-win-amd64.egg\\sklearn\\cross_validation.py:417: Warning: The least populated class in y has only 1 members, which is too few. The minimum number of labels for any class cannot be less than n_folds=10.\n",
      "  % (min_labels, self.n_folds)), Warning)\n"
     ]
    }
   ],
   "source": [
    "%%time\n",
    "import time\n",
    "for model in model_list :\n",
    "    params = {\n",
    "#                'n_estimators' : (5,200),    # RandomForesterClassifier\n",
    "             }    # grid search에서 활용할 params grid\n",
    "\n",
    "    gs = grid_search.GridSearchCV( model,\n",
    "                                   param_grid = params, n_jobs = n_jobs_cnt, cv = cv_cnt, )\n",
    "    gs.fit( X, y )\n",
    "    \n",
    "    \n",
    "    print( 'model : ', str( model ).split( '(' )[0] )\n",
    "    print( 'best_score : ', gs.best_score_ )\n",
    "    \n",
    "    print( '=================' )\n",
    "    print( 'best model : ', gs.best_estimator_ )\n",
    "    print( '=================' )"
   ]
  },
  {
   "cell_type": "markdown",
   "metadata": {},
   "source": [
    "###2.5.7 test data에 대한 7개 feature 대상 encoding 수행"
   ]
  },
  {
   "cell_type": "code",
   "execution_count": 49,
   "metadata": {
    "collapsed": false
   },
   "outputs": [
    {
     "name": "stderr",
     "output_type": "stream",
     "text": [
      "C:\\Anaconda3\\lib\\site-packages\\IPython\\kernel\\__main__.py:1: SettingWithCopyWarning: \n",
      "A value is trying to be set on a copy of a slice from a DataFrame.\n",
      "Try using .loc[row_indexer,col_indexer] = value instead\n",
      "\n",
      "See the the caveats in the documentation: http://pandas.pydata.org/pandas-docs/stable/indexing.html#indexing-view-versus-copy\n",
      "  if __name__ == '__main__':\n",
      "C:\\Anaconda3\\lib\\site-packages\\IPython\\kernel\\__main__.py:3: SettingWithCopyWarning: \n",
      "A value is trying to be set on a copy of a slice from a DataFrame.\n",
      "Try using .loc[row_indexer,col_indexer] = value instead\n",
      "\n",
      "See the the caveats in the documentation: http://pandas.pydata.org/pandas-docs/stable/indexing.html#indexing-view-versus-copy\n",
      "  app.launch_new_instance()\n",
      "C:\\Anaconda3\\lib\\site-packages\\IPython\\kernel\\__main__.py:4: SettingWithCopyWarning: \n",
      "A value is trying to be set on a copy of a slice from a DataFrame.\n",
      "Try using .loc[row_indexer,col_indexer] = value instead\n",
      "\n",
      "See the the caveats in the documentation: http://pandas.pydata.org/pandas-docs/stable/indexing.html#indexing-view-versus-copy\n",
      "C:\\Anaconda3\\lib\\site-packages\\IPython\\kernel\\__main__.py:6: SettingWithCopyWarning: \n",
      "A value is trying to be set on a copy of a slice from a DataFrame.\n",
      "Try using .loc[row_indexer,col_indexer] = value instead\n",
      "\n",
      "See the the caveats in the documentation: http://pandas.pydata.org/pandas-docs/stable/indexing.html#indexing-view-versus-copy\n",
      "C:\\Anaconda3\\lib\\site-packages\\IPython\\kernel\\__main__.py:7: SettingWithCopyWarning: \n",
      "A value is trying to be set on a copy of a slice from a DataFrame.\n",
      "Try using .loc[row_indexer,col_indexer] = value instead\n",
      "\n",
      "See the the caveats in the documentation: http://pandas.pydata.org/pandas-docs/stable/indexing.html#indexing-view-versus-copy\n",
      "C:\\Anaconda3\\lib\\site-packages\\IPython\\kernel\\__main__.py:9: SettingWithCopyWarning: \n",
      "A value is trying to be set on a copy of a slice from a DataFrame.\n",
      "Try using .loc[row_indexer,col_indexer] = value instead\n",
      "\n",
      "See the the caveats in the documentation: http://pandas.pydata.org/pandas-docs/stable/indexing.html#indexing-view-versus-copy\n",
      "C:\\Anaconda3\\lib\\site-packages\\IPython\\kernel\\__main__.py:10: SettingWithCopyWarning: \n",
      "A value is trying to be set on a copy of a slice from a DataFrame.\n",
      "Try using .loc[row_indexer,col_indexer] = value instead\n",
      "\n",
      "See the the caveats in the documentation: http://pandas.pydata.org/pandas-docs/stable/indexing.html#indexing-view-versus-copy\n"
     ]
    }
   ],
   "source": [
    "df_end_x_test[ 'material_id' ] = le_material_id.transform( df_end_x_test[ 'material_id' ] )\n",
    "\n",
    "df_end_x_test[ 'end_a_1x' ] = le_end_a_1x.transform( df_end_x_test[ 'end_a_1x' ] )\n",
    "df_end_x_test[ 'end_a_2x' ] = le_end_a_2x.transform( df_end_x_test[ 'end_a_2x' ] )\n",
    "\n",
    "df_end_x_test[ 'end_x_1x' ] = le_end_x_1x.transform( df_end_x_test[ 'end_x_1x' ] )\n",
    "df_end_x_test[ 'end_x_2x' ] = le_end_x_2x.transform( df_end_x_test[ 'end_x_2x' ] )\n",
    "\n",
    "df_end_x_test[ 'end_a' ] = le_end_a.transform( df_end_x_test[ 'end_a' ] )\n",
    "df_end_x_test[ 'end_x' ] = le_end_x.transform( df_end_x_test[ 'end_x' ] )"
   ]
  },
  {
   "cell_type": "code",
   "execution_count": 50,
   "metadata": {
    "collapsed": false
   },
   "outputs": [
    {
     "data": {
      "text/html": [
       "<div style=\"max-height:1000px;max-width:1500px;overflow:auto;\">\n",
       "<table border=\"1\" class=\"dataframe\">\n",
       "  <thead>\n",
       "    <tr style=\"text-align: right;\">\n",
       "      <th></th>\n",
       "      <th>tube_assembly_id</th>\n",
       "      <th>material_id</th>\n",
       "      <th>diameter</th>\n",
       "      <th>wall</th>\n",
       "      <th>length</th>\n",
       "      <th>num_bends</th>\n",
       "      <th>bend_radius</th>\n",
       "      <th>end_a_1x</th>\n",
       "      <th>end_a_2x</th>\n",
       "      <th>end_x_1x</th>\n",
       "      <th>end_x_2x</th>\n",
       "      <th>end_a</th>\n",
       "      <th>end_x</th>\n",
       "      <th>num_boss</th>\n",
       "      <th>num_bracket</th>\n",
       "      <th>other</th>\n",
       "    </tr>\n",
       "  </thead>\n",
       "  <tbody>\n",
       "    <tr>\n",
       "      <th>958 </th>\n",
       "      <td> TA-00959</td>\n",
       "      <td> 2</td>\n",
       "      <td> 25.4</td>\n",
       "      <td> 1.65</td>\n",
       "      <td>  35</td>\n",
       "      <td> 1</td>\n",
       "      <td>  50.8</td>\n",
       "      <td> 0</td>\n",
       "      <td> 0</td>\n",
       "      <td> 0</td>\n",
       "      <td> 0</td>\n",
       "      <td>  2</td>\n",
       "      <td> 0</td>\n",
       "      <td> 0</td>\n",
       "      <td> 0</td>\n",
       "      <td> 0</td>\n",
       "    </tr>\n",
       "    <tr>\n",
       "      <th>8884</th>\n",
       "      <td> TA-08885</td>\n",
       "      <td> 3</td>\n",
       "      <td> 88.9</td>\n",
       "      <td> 1.65</td>\n",
       "      <td> 179</td>\n",
       "      <td> 1</td>\n",
       "      <td> 127.0</td>\n",
       "      <td> 0</td>\n",
       "      <td> 0</td>\n",
       "      <td> 0</td>\n",
       "      <td> 0</td>\n",
       "      <td> 16</td>\n",
       "      <td> 0</td>\n",
       "      <td> 0</td>\n",
       "      <td> 0</td>\n",
       "      <td> 0</td>\n",
       "    </tr>\n",
       "    <tr>\n",
       "      <th>9736</th>\n",
       "      <td> TA-09737</td>\n",
       "      <td> 3</td>\n",
       "      <td> 88.9</td>\n",
       "      <td> 1.65</td>\n",
       "      <td>  68</td>\n",
       "      <td> 2</td>\n",
       "      <td> 101.6</td>\n",
       "      <td> 0</td>\n",
       "      <td> 1</td>\n",
       "      <td> 0</td>\n",
       "      <td> 0</td>\n",
       "      <td>  8</td>\n",
       "      <td> 0</td>\n",
       "      <td> 0</td>\n",
       "      <td> 0</td>\n",
       "      <td> 0</td>\n",
       "    </tr>\n",
       "  </tbody>\n",
       "</table>\n",
       "</div>"
      ],
      "text/plain": [
       "     tube_assembly_id  material_id  diameter  wall  length  num_bends  \\\n",
       "958          TA-00959            2      25.4  1.65      35          1   \n",
       "8884         TA-08885            3      88.9  1.65     179          1   \n",
       "9736         TA-09737            3      88.9  1.65      68          2   \n",
       "\n",
       "      bend_radius  end_a_1x  end_a_2x  end_x_1x  end_x_2x  end_a  end_x  \\\n",
       "958          50.8         0         0         0         0      2      0   \n",
       "8884        127.0         0         0         0         0     16      0   \n",
       "9736        101.6         0         1         0         0      8      0   \n",
       "\n",
       "      num_boss  num_bracket  other  \n",
       "958          0            0      0  \n",
       "8884         0            0      0  \n",
       "9736         0            0      0  "
      ]
     },
     "execution_count": 50,
     "metadata": {},
     "output_type": "execute_result"
    }
   ],
   "source": [
    "df_end_x_test.head( 3 )"
   ]
  },
  {
   "cell_type": "code",
   "execution_count": 51,
   "metadata": {
    "collapsed": false
   },
   "outputs": [
    {
     "name": "stderr",
     "output_type": "stream",
     "text": [
      "C:\\Anaconda3\\lib\\site-packages\\IPython\\kernel\\__main__.py:1: SettingWithCopyWarning: \n",
      "A value is trying to be set on a copy of a slice from a DataFrame\n",
      "\n",
      "See the the caveats in the documentation: http://pandas.pydata.org/pandas-docs/stable/indexing.html#indexing-view-versus-copy\n",
      "  if __name__ == '__main__':\n",
      "C:\\Anaconda3\\lib\\site-packages\\IPython\\kernel\\__main__.py:2: SettingWithCopyWarning: \n",
      "A value is trying to be set on a copy of a slice from a DataFrame\n",
      "\n",
      "See the the caveats in the documentation: http://pandas.pydata.org/pandas-docs/stable/indexing.html#indexing-view-versus-copy\n",
      "  from IPython.kernel.zmq import kernelapp as app\n"
     ]
    }
   ],
   "source": [
    "df_end_x_test.drop( removal_feature_list, axis = 1, inplace = True )    # features engineered\n",
    "df_end_x_test.drop( [ 'tube_assembly_id', 'end_x' ], axis = 1, inplace = True )"
   ]
  },
  {
   "cell_type": "code",
   "execution_count": null,
   "metadata": {
    "collapsed": true
   },
   "outputs": [],
   "source": []
  },
  {
   "cell_type": "markdown",
   "metadata": {},
   "source": [
    "###2.5.8 bend_radius prediction 수행"
   ]
  },
  {
   "cell_type": "code",
   "execution_count": 52,
   "metadata": {
    "collapsed": false
   },
   "outputs": [],
   "source": [
    "y_pred = gs.best_estimator_.predict( df_end_x_test )    # prediction 수행"
   ]
  },
  {
   "cell_type": "markdown",
   "metadata": {},
   "source": [
    "###2.5.9 Prediction 결과를 tube에 value assign 수행"
   ]
  },
  {
   "cell_type": "code",
   "execution_count": 53,
   "metadata": {
    "collapsed": false
   },
   "outputs": [],
   "source": [
    "idx_list = df[ df[ 'end_x' ] == '9999' ].index.tolist()"
   ]
  },
  {
   "cell_type": "code",
   "execution_count": 54,
   "metadata": {
    "collapsed": true
   },
   "outputs": [],
   "source": [
    "# end_x prediction 결과를 df에 assign\n",
    "\n",
    "jdx = 0\n",
    "for idx in idx_list :\n",
    "    df.loc[ idx, 'end_x' ] = le_end_x.inverse_transform( y_pred[jdx] )    # 원 data 형식에 맞게\n",
    "    jdx += 1"
   ]
  },
  {
   "cell_type": "markdown",
   "metadata": {},
   "source": [
    "###2.5.10 prediction 반영결과를 output    "
   ]
  },
  {
   "cell_type": "code",
   "execution_count": 55,
   "metadata": {
    "collapsed": false
   },
   "outputs": [],
   "source": [
    "df.to_csv( './dataset/02.ml.verified.dataset/tube.end_x.verified.csv', index = False )\n",
    "del( df )\n",
    "del( df_end_x_train )\n",
    "del( df_end_x_test )\n",
    "del( X )\n",
    "del( y )"
   ]
  },
  {
   "cell_type": "markdown",
   "metadata": {},
   "source": [
    "."
   ]
  },
  {
   "cell_type": "markdown",
   "metadata": {},
   "source": [
    "##2.6 material_id의 보완"
   ]
  },
  {
   "cell_type": "code",
   "execution_count": 56,
   "metadata": {
    "collapsed": false
   },
   "outputs": [],
   "source": [
    "df = pd.read_csv( './dataset/02.ml.verified.dataset/tube.end_x.verified.csv' )\n",
    "\n",
    "# meterial_id의 확장예측 코드\n",
    "df_bill = pd.read_csv( './dataset/02.ml.verified.dataset/bill_of_materials.verified.csv' )\n",
    "df_spec = pd.read_csv( './dataset/02.ml.verified.dataset/specs.verified.csv' )"
   ]
  },
  {
   "cell_type": "code",
   "execution_count": 57,
   "metadata": {
    "collapsed": false
   },
   "outputs": [
    {
     "data": {
      "text/plain": [
       "279"
      ]
     },
     "execution_count": 57,
     "metadata": {},
     "output_type": "execute_result"
    }
   ],
   "source": [
    "len( df[ df[ 'material_id' ].isnull() ] )"
   ]
  },
  {
   "cell_type": "code",
   "execution_count": 58,
   "metadata": {
    "collapsed": false
   },
   "outputs": [],
   "source": [
    "# meterial_id의 확장예측 코드\n",
    "df = df.merge( df_bill, on = 'tube_assembly_id', how = 'inner' )\n",
    "df = df.merge( df_spec, on = 'tube_assembly_id', how = 'inner' )"
   ]
  },
  {
   "cell_type": "code",
   "execution_count": 59,
   "metadata": {
    "collapsed": false
   },
   "outputs": [],
   "source": [
    "# meterial_id의 확장예측 코드\n",
    "for i in range( 1, 9 ) :\n",
    "    df.drop( [ 'component_id_' + str( i ), 'quantity_' + str( i ) ], axis = 1, inplace = True )    \n",
    "\n",
    "for i in range( 1, 11 ) :\n",
    "    df.drop( [ 'spec' + str( i ) ], axis = 1, inplace = True )    "
   ]
  },
  {
   "cell_type": "markdown",
   "metadata": {},
   "source": [
    "* 279개의 material_id가 누락됨"
   ]
  },
  {
   "cell_type": "markdown",
   "metadata": {},
   "source": [
    "###2.6.1 material_id를 위한 train/ test dataset의 구성"
   ]
  },
  {
   "cell_type": "code",
   "execution_count": 60,
   "metadata": {
    "collapsed": true
   },
   "outputs": [],
   "source": [
    "df_material_id_train = df[ df[ 'material_id' ].notnull() ]    # 정상 dataset을 train\n",
    "df_material_id_test = df[ df[ 'material_id' ].isnull() ]    # null dataset을 test"
   ]
  },
  {
   "cell_type": "markdown",
   "metadata": {},
   "source": [
    "###2.6.2 Label Encoding 작업\n",
    "* 아래의 작업은 2.4.2를 통해 필요한 feature들을 대상으로 이미 진행완료되었다고 보는 것이 합리적\n",
    "* categorical data를 모두 포함해야 하므로, df를 기반으로 label encoder를 fitting한다\n",
    "* label encoding의 대상은 materian_id, end_a_1x, end_a_2x, end_x_1x, end_x_2x, end_a, end_x 7개 feature이다\n",
    "* 단, material_id의 경우, df의 상태로는 NA가 포함되어 있으므로, 이를 제거하고 encoding 수행"
   ]
  },
  {
   "cell_type": "markdown",
   "metadata": {},
   "source": [
    "###2.6.3 training data에 대한 7개 feature 대상 encoding 수행"
   ]
  },
  {
   "cell_type": "code",
   "execution_count": 61,
   "metadata": {
    "collapsed": false
   },
   "outputs": [
    {
     "name": "stderr",
     "output_type": "stream",
     "text": [
      "C:\\Anaconda3\\lib\\site-packages\\IPython\\kernel\\__main__.py:1: SettingWithCopyWarning: \n",
      "A value is trying to be set on a copy of a slice from a DataFrame.\n",
      "Try using .loc[row_indexer,col_indexer] = value instead\n",
      "\n",
      "See the the caveats in the documentation: http://pandas.pydata.org/pandas-docs/stable/indexing.html#indexing-view-versus-copy\n",
      "  if __name__ == '__main__':\n",
      "C:\\Anaconda3\\lib\\site-packages\\IPython\\kernel\\__main__.py:3: SettingWithCopyWarning: \n",
      "A value is trying to be set on a copy of a slice from a DataFrame.\n",
      "Try using .loc[row_indexer,col_indexer] = value instead\n",
      "\n",
      "See the the caveats in the documentation: http://pandas.pydata.org/pandas-docs/stable/indexing.html#indexing-view-versus-copy\n",
      "  app.launch_new_instance()\n",
      "C:\\Anaconda3\\lib\\site-packages\\IPython\\kernel\\__main__.py:4: SettingWithCopyWarning: \n",
      "A value is trying to be set on a copy of a slice from a DataFrame.\n",
      "Try using .loc[row_indexer,col_indexer] = value instead\n",
      "\n",
      "See the the caveats in the documentation: http://pandas.pydata.org/pandas-docs/stable/indexing.html#indexing-view-versus-copy\n",
      "C:\\Anaconda3\\lib\\site-packages\\IPython\\kernel\\__main__.py:6: SettingWithCopyWarning: \n",
      "A value is trying to be set on a copy of a slice from a DataFrame.\n",
      "Try using .loc[row_indexer,col_indexer] = value instead\n",
      "\n",
      "See the the caveats in the documentation: http://pandas.pydata.org/pandas-docs/stable/indexing.html#indexing-view-versus-copy\n",
      "C:\\Anaconda3\\lib\\site-packages\\IPython\\kernel\\__main__.py:7: SettingWithCopyWarning: \n",
      "A value is trying to be set on a copy of a slice from a DataFrame.\n",
      "Try using .loc[row_indexer,col_indexer] = value instead\n",
      "\n",
      "See the the caveats in the documentation: http://pandas.pydata.org/pandas-docs/stable/indexing.html#indexing-view-versus-copy\n",
      "C:\\Anaconda3\\lib\\site-packages\\IPython\\kernel\\__main__.py:9: SettingWithCopyWarning: \n",
      "A value is trying to be set on a copy of a slice from a DataFrame.\n",
      "Try using .loc[row_indexer,col_indexer] = value instead\n",
      "\n",
      "See the the caveats in the documentation: http://pandas.pydata.org/pandas-docs/stable/indexing.html#indexing-view-versus-copy\n",
      "C:\\Anaconda3\\lib\\site-packages\\IPython\\kernel\\__main__.py:10: SettingWithCopyWarning: \n",
      "A value is trying to be set on a copy of a slice from a DataFrame.\n",
      "Try using .loc[row_indexer,col_indexer] = value instead\n",
      "\n",
      "See the the caveats in the documentation: http://pandas.pydata.org/pandas-docs/stable/indexing.html#indexing-view-versus-copy\n"
     ]
    }
   ],
   "source": [
    "df_material_id_train[ 'material_id' ] = le_material_id.transform( df_material_id_train[ 'material_id' ] )\n",
    "\n",
    "df_material_id_train[ 'end_a_1x' ] = le_end_a_1x.transform( df_material_id_train[ 'end_a_1x' ] )\n",
    "df_material_id_train[ 'end_a_2x' ] = le_end_a_2x.transform( df_material_id_train[ 'end_a_2x' ] )\n",
    "\n",
    "df_material_id_train[ 'end_x_1x' ] = le_end_x_1x.transform( df_material_id_train[ 'end_x_1x' ] )\n",
    "df_material_id_train[ 'end_x_2x' ] = le_end_x_2x.transform( df_material_id_train[ 'end_x_2x' ] )\n",
    "\n",
    "df_material_id_train[ 'end_a' ] = le_end_a.transform( df_material_id_train[ 'end_a' ] )\n",
    "df_material_id_train[ 'end_x' ] = le_end_x.transform( df_material_id_train[ 'end_x' ] )"
   ]
  },
  {
   "cell_type": "code",
   "execution_count": 62,
   "metadata": {
    "collapsed": true
   },
   "outputs": [],
   "source": [
    "# meterial_id의 확장예측 코드\n",
    "dic = { 'Y' : 1, 'N' : 0 }\n",
    "df.replace( dic, inplace = True )"
   ]
  },
  {
   "cell_type": "markdown",
   "metadata": {
    "collapsed": true
   },
   "source": [
    "###2.6.4 train dataset의 encoded 상태 확인"
   ]
  },
  {
   "cell_type": "code",
   "execution_count": 63,
   "metadata": {
    "collapsed": false
   },
   "outputs": [
    {
     "data": {
      "text/html": [
       "<div style=\"max-height:1000px;max-width:1500px;overflow:auto;\">\n",
       "<table border=\"1\" class=\"dataframe\">\n",
       "  <thead>\n",
       "    <tr style=\"text-align: right;\">\n",
       "      <th></th>\n",
       "      <th>tube_assembly_id</th>\n",
       "      <th>material_id</th>\n",
       "      <th>diameter</th>\n",
       "      <th>wall</th>\n",
       "      <th>length</th>\n",
       "      <th>num_bends</th>\n",
       "      <th>bend_radius</th>\n",
       "      <th>end_a_1x</th>\n",
       "      <th>end_a_2x</th>\n",
       "      <th>end_x_1x</th>\n",
       "      <th>...</th>\n",
       "      <th>SP-0087</th>\n",
       "      <th>SP-0088</th>\n",
       "      <th>SP-0089</th>\n",
       "      <th>SP-0090</th>\n",
       "      <th>SP-0091</th>\n",
       "      <th>SP-0092</th>\n",
       "      <th>SP-0093</th>\n",
       "      <th>SP-0094</th>\n",
       "      <th>SP-0095</th>\n",
       "      <th>SP-0096</th>\n",
       "    </tr>\n",
       "  </thead>\n",
       "  <tbody>\n",
       "    <tr>\n",
       "      <th>0</th>\n",
       "      <td> TA-00001</td>\n",
       "      <td> 9</td>\n",
       "      <td> 12.70</td>\n",
       "      <td> 1.65</td>\n",
       "      <td> 164</td>\n",
       "      <td> 5</td>\n",
       "      <td> 38.10</td>\n",
       "      <td> 0</td>\n",
       "      <td> 0</td>\n",
       "      <td> 0</td>\n",
       "      <td>...</td>\n",
       "      <td> 0</td>\n",
       "      <td> 0</td>\n",
       "      <td> 0</td>\n",
       "      <td> 0</td>\n",
       "      <td> 0</td>\n",
       "      <td> 0</td>\n",
       "      <td> 0</td>\n",
       "      <td> 0</td>\n",
       "      <td> 0</td>\n",
       "      <td> 0</td>\n",
       "    </tr>\n",
       "    <tr>\n",
       "      <th>1</th>\n",
       "      <td> TA-00002</td>\n",
       "      <td> 1</td>\n",
       "      <td>  6.35</td>\n",
       "      <td> 0.71</td>\n",
       "      <td> 137</td>\n",
       "      <td> 8</td>\n",
       "      <td> 19.05</td>\n",
       "      <td> 0</td>\n",
       "      <td> 0</td>\n",
       "      <td> 0</td>\n",
       "      <td>...</td>\n",
       "      <td> 0</td>\n",
       "      <td> 0</td>\n",
       "      <td> 0</td>\n",
       "      <td> 0</td>\n",
       "      <td> 0</td>\n",
       "      <td> 0</td>\n",
       "      <td> 0</td>\n",
       "      <td> 0</td>\n",
       "      <td> 0</td>\n",
       "      <td> 0</td>\n",
       "    </tr>\n",
       "    <tr>\n",
       "      <th>2</th>\n",
       "      <td> TA-00003</td>\n",
       "      <td> 1</td>\n",
       "      <td>  6.35</td>\n",
       "      <td> 0.71</td>\n",
       "      <td> 127</td>\n",
       "      <td> 7</td>\n",
       "      <td> 19.05</td>\n",
       "      <td> 0</td>\n",
       "      <td> 0</td>\n",
       "      <td> 0</td>\n",
       "      <td>...</td>\n",
       "      <td> 0</td>\n",
       "      <td> 0</td>\n",
       "      <td> 0</td>\n",
       "      <td> 0</td>\n",
       "      <td> 0</td>\n",
       "      <td> 0</td>\n",
       "      <td> 0</td>\n",
       "      <td> 0</td>\n",
       "      <td> 0</td>\n",
       "      <td> 0</td>\n",
       "    </tr>\n",
       "  </tbody>\n",
       "</table>\n",
       "<p>3 rows × 147 columns</p>\n",
       "</div>"
      ],
      "text/plain": [
       "  tube_assembly_id  material_id  diameter  wall  length  num_bends  \\\n",
       "0         TA-00001            9     12.70  1.65     164          5   \n",
       "1         TA-00002            1      6.35  0.71     137          8   \n",
       "2         TA-00003            1      6.35  0.71     127          7   \n",
       "\n",
       "   bend_radius  end_a_1x  end_a_2x  end_x_1x   ...     SP-0087  SP-0088  \\\n",
       "0        38.10         0         0         0   ...           0        0   \n",
       "1        19.05         0         0         0   ...           0        0   \n",
       "2        19.05         0         0         0   ...           0        0   \n",
       "\n",
       "   SP-0089  SP-0090  SP-0091  SP-0092  SP-0093  SP-0094  SP-0095  SP-0096  \n",
       "0        0        0        0        0        0        0        0        0  \n",
       "1        0        0        0        0        0        0        0        0  \n",
       "2        0        0        0        0        0        0        0        0  \n",
       "\n",
       "[3 rows x 147 columns]"
      ]
     },
     "execution_count": 63,
     "metadata": {},
     "output_type": "execute_result"
    }
   ],
   "source": [
    "df_material_id_train.head( 3 )\n",
    "# 이것 활용하여, end_x == 9999를 보정하기 위한, regression model을 만들어야 함"
   ]
  },
  {
   "cell_type": "code",
   "execution_count": 64,
   "metadata": {
    "collapsed": false
   },
   "outputs": [
    {
     "data": {
      "text/plain": [
       "array([ 9,  1,  3, 13, 17,  2, 14, 11,  0,  7, 12, 16,  4,  5, 18, 15,  8,\n",
       "        6, 10], dtype=int64)"
      ]
     },
     "execution_count": 64,
     "metadata": {},
     "output_type": "execute_result"
    }
   ],
   "source": [
    "df_material_id_train[ 'material_id' ].unique()"
   ]
  },
  {
   "cell_type": "markdown",
   "metadata": {},
   "source": [
    "###2.6.5 Modeling 위한 X, y 생성"
   ]
  },
  {
   "cell_type": "code",
   "execution_count": 65,
   "metadata": {
    "collapsed": true
   },
   "outputs": [],
   "source": [
    "removal_feature_list = [\n",
    "#                          'diameter',\n",
    "#                          'wall',\n",
    "#                          'length',\n",
    "    \n",
    "#                          'num_bends',\n",
    "#                          'bend_radius',\n",
    "    \n",
    "#                          'end_a_1x',\n",
    "#                          'end_a_2x',\n",
    "#                          'end_x_1x',\n",
    "#                          'end_x_2x',\n",
    "#                          'end_a',\n",
    "#                          'end_x',\n",
    "    \n",
    "#                          'num_boss',\n",
    "#                          'num_bracket',\n",
    "#                          'other',\n",
    "                       ]"
   ]
  },
  {
   "cell_type": "code",
   "execution_count": 66,
   "metadata": {
    "collapsed": false
   },
   "outputs": [
    {
     "name": "stderr",
     "output_type": "stream",
     "text": [
      "C:\\Anaconda3\\lib\\site-packages\\IPython\\kernel\\__main__.py:1: SettingWithCopyWarning: \n",
      "A value is trying to be set on a copy of a slice from a DataFrame\n",
      "\n",
      "See the the caveats in the documentation: http://pandas.pydata.org/pandas-docs/stable/indexing.html#indexing-view-versus-copy\n",
      "  if __name__ == '__main__':\n"
     ]
    }
   ],
   "source": [
    "df_material_id_train.drop( removal_feature_list, axis = 1, inplace = True )    # features engineered   "
   ]
  },
  {
   "cell_type": "code",
   "execution_count": 67,
   "metadata": {
    "collapsed": false
   },
   "outputs": [],
   "source": [
    "X = df_material_id_train.drop( [ 'tube_assembly_id', 'material_id' ], axis = 1 )    # X를 생성한다\n",
    "y = df_material_id_train[ 'material_id' ]    # y를 생성한다   "
   ]
  },
  {
   "cell_type": "code",
   "execution_count": 68,
   "metadata": {
    "collapsed": false
   },
   "outputs": [
    {
     "data": {
      "text/html": [
       "<div style=\"max-height:1000px;max-width:1500px;overflow:auto;\">\n",
       "<table border=\"1\" class=\"dataframe\">\n",
       "  <thead>\n",
       "    <tr style=\"text-align: right;\">\n",
       "      <th></th>\n",
       "      <th>diameter</th>\n",
       "      <th>wall</th>\n",
       "      <th>length</th>\n",
       "      <th>num_bends</th>\n",
       "      <th>bend_radius</th>\n",
       "      <th>end_a_1x</th>\n",
       "      <th>end_a_2x</th>\n",
       "      <th>end_x_1x</th>\n",
       "      <th>end_x_2x</th>\n",
       "      <th>end_a</th>\n",
       "      <th>...</th>\n",
       "      <th>SP-0087</th>\n",
       "      <th>SP-0088</th>\n",
       "      <th>SP-0089</th>\n",
       "      <th>SP-0090</th>\n",
       "      <th>SP-0091</th>\n",
       "      <th>SP-0092</th>\n",
       "      <th>SP-0093</th>\n",
       "      <th>SP-0094</th>\n",
       "      <th>SP-0095</th>\n",
       "      <th>SP-0096</th>\n",
       "    </tr>\n",
       "  </thead>\n",
       "  <tbody>\n",
       "    <tr>\n",
       "      <th>0</th>\n",
       "      <td> 12.70</td>\n",
       "      <td> 1.65</td>\n",
       "      <td> 164</td>\n",
       "      <td> 5</td>\n",
       "      <td> 38.10</td>\n",
       "      <td> 0</td>\n",
       "      <td> 0</td>\n",
       "      <td> 0</td>\n",
       "      <td> 0</td>\n",
       "      <td> 2</td>\n",
       "      <td>...</td>\n",
       "      <td> 0</td>\n",
       "      <td> 0</td>\n",
       "      <td> 0</td>\n",
       "      <td> 0</td>\n",
       "      <td> 0</td>\n",
       "      <td> 0</td>\n",
       "      <td> 0</td>\n",
       "      <td> 0</td>\n",
       "      <td> 0</td>\n",
       "      <td> 0</td>\n",
       "    </tr>\n",
       "    <tr>\n",
       "      <th>1</th>\n",
       "      <td>  6.35</td>\n",
       "      <td> 0.71</td>\n",
       "      <td> 137</td>\n",
       "      <td> 8</td>\n",
       "      <td> 19.05</td>\n",
       "      <td> 0</td>\n",
       "      <td> 0</td>\n",
       "      <td> 0</td>\n",
       "      <td> 0</td>\n",
       "      <td> 7</td>\n",
       "      <td>...</td>\n",
       "      <td> 0</td>\n",
       "      <td> 0</td>\n",
       "      <td> 0</td>\n",
       "      <td> 0</td>\n",
       "      <td> 0</td>\n",
       "      <td> 0</td>\n",
       "      <td> 0</td>\n",
       "      <td> 0</td>\n",
       "      <td> 0</td>\n",
       "      <td> 0</td>\n",
       "    </tr>\n",
       "    <tr>\n",
       "      <th>2</th>\n",
       "      <td>  6.35</td>\n",
       "      <td> 0.71</td>\n",
       "      <td> 127</td>\n",
       "      <td> 7</td>\n",
       "      <td> 19.05</td>\n",
       "      <td> 0</td>\n",
       "      <td> 0</td>\n",
       "      <td> 0</td>\n",
       "      <td> 0</td>\n",
       "      <td> 7</td>\n",
       "      <td>...</td>\n",
       "      <td> 0</td>\n",
       "      <td> 0</td>\n",
       "      <td> 0</td>\n",
       "      <td> 0</td>\n",
       "      <td> 0</td>\n",
       "      <td> 0</td>\n",
       "      <td> 0</td>\n",
       "      <td> 0</td>\n",
       "      <td> 0</td>\n",
       "      <td> 0</td>\n",
       "    </tr>\n",
       "  </tbody>\n",
       "</table>\n",
       "<p>3 rows × 145 columns</p>\n",
       "</div>"
      ],
      "text/plain": [
       "   diameter  wall  length  num_bends  bend_radius  end_a_1x  end_a_2x  \\\n",
       "0     12.70  1.65     164          5        38.10         0         0   \n",
       "1      6.35  0.71     137          8        19.05         0         0   \n",
       "2      6.35  0.71     127          7        19.05         0         0   \n",
       "\n",
       "   end_x_1x  end_x_2x  end_a   ...     SP-0087  SP-0088  SP-0089  SP-0090  \\\n",
       "0         0         0      2   ...           0        0        0        0   \n",
       "1         0         0      7   ...           0        0        0        0   \n",
       "2         0         0      7   ...           0        0        0        0   \n",
       "\n",
       "   SP-0091  SP-0092  SP-0093  SP-0094  SP-0095  SP-0096  \n",
       "0        0        0        0        0        0        0  \n",
       "1        0        0        0        0        0        0  \n",
       "2        0        0        0        0        0        0  \n",
       "\n",
       "[3 rows x 145 columns]"
      ]
     },
     "execution_count": 68,
     "metadata": {},
     "output_type": "execute_result"
    }
   ],
   "source": [
    "X.head( 3 )"
   ]
  },
  {
   "cell_type": "code",
   "execution_count": 69,
   "metadata": {
    "collapsed": false
   },
   "outputs": [
    {
     "data": {
      "text/plain": [
       "0     9\n",
       "1     1\n",
       "2     1\n",
       "3     1\n",
       "4     3\n",
       "5     3\n",
       "6     9\n",
       "7    13\n",
       "8     3\n",
       "9    17\n",
       "Name: material_id, dtype: int64"
      ]
     },
     "execution_count": 69,
     "metadata": {},
     "output_type": "execute_result"
    }
   ],
   "source": [
    "y.head( 10 )"
   ]
  },
  {
   "cell_type": "markdown",
   "metadata": {},
   "source": [
    "###2.6.6 Modeling 수행"
   ]
  },
  {
   "cell_type": "code",
   "execution_count": 70,
   "metadata": {
    "collapsed": true
   },
   "outputs": [],
   "source": [
    "from sklearn.tree import DecisionTreeClassifier\n",
    "from sklearn.ensemble import RandomForestClassifier\n",
    "\n",
    "from sklearn import grid_search"
   ]
  },
  {
   "cell_type": "code",
   "execution_count": 71,
   "metadata": {
    "collapsed": false
   },
   "outputs": [],
   "source": [
    "model_list = [\n",
    "#                DecisionTreeClassifier(),\n",
    "               RandomForestClassifier( n_estimators = 1000 ),\n",
    "             ]"
   ]
  },
  {
   "cell_type": "code",
   "execution_count": 72,
   "metadata": {
    "collapsed": false
   },
   "outputs": [
    {
     "name": "stdout",
     "output_type": "stream",
     "text": [
      "model :  RandomForestClassifier\n",
      "best_score :  0.828337874659\n",
      "=================\n",
      "best model :  RandomForestClassifier(bootstrap=True, class_weight=None, criterion='gini',\n",
      "            max_depth=None, max_features='auto', max_leaf_nodes=None,\n",
      "            min_samples_leaf=1, min_samples_split=2,\n",
      "            min_weight_fraction_leaf=0.0, n_estimators=1000, n_jobs=1,\n",
      "            oob_score=False, random_state=None, verbose=0,\n",
      "            warm_start=False)\n",
      "=================\n",
      "Wall time: 3min 21s\n"
     ]
    },
    {
     "name": "stderr",
     "output_type": "stream",
     "text": [
      "C:\\Anaconda3\\lib\\site-packages\\scikit_learn-0.16.1-py3.4-win-amd64.egg\\sklearn\\cross_validation.py:417: Warning: The least populated class in y has only 1 members, which is too few. The minimum number of labels for any class cannot be less than n_folds=10.\n",
      "  % (min_labels, self.n_folds)), Warning)\n"
     ]
    }
   ],
   "source": [
    "%%time\n",
    "import time\n",
    "for model in model_list :\n",
    "    params = {\n",
    "#                'n_estimators' : (5,200),    # RandomForesterClassifier\n",
    "             }    # grid search에서 활용할 params grid\n",
    "\n",
    "    gs = grid_search.GridSearchCV( model,\n",
    "                                   param_grid = params, n_jobs = n_jobs_cnt, cv = cv_cnt, )\n",
    "    gs.fit( X, y )\n",
    "    \n",
    "    \n",
    "    print( 'model : ', str( model ).split( '(' )[0] )\n",
    "    print( 'best_score : ', gs.best_score_ )\n",
    "    \n",
    "    print( '=================' )\n",
    "    print( 'best model : ', gs.best_estimator_ )\n",
    "    print( '=================' )"
   ]
  },
  {
   "cell_type": "markdown",
   "metadata": {
    "collapsed": true
   },
   "source": [
    "###2.6.7 test data에 대한 7개 feature 대상 encoding 수행"
   ]
  },
  {
   "cell_type": "code",
   "execution_count": 73,
   "metadata": {
    "collapsed": false
   },
   "outputs": [
    {
     "name": "stderr",
     "output_type": "stream",
     "text": [
      "C:\\Anaconda3\\lib\\site-packages\\IPython\\kernel\\__main__.py:1: SettingWithCopyWarning: \n",
      "A value is trying to be set on a copy of a slice from a DataFrame.\n",
      "Try using .loc[row_indexer,col_indexer] = value instead\n",
      "\n",
      "See the the caveats in the documentation: http://pandas.pydata.org/pandas-docs/stable/indexing.html#indexing-view-versus-copy\n",
      "  if __name__ == '__main__':\n",
      "C:\\Anaconda3\\lib\\site-packages\\IPython\\kernel\\__main__.py:2: SettingWithCopyWarning: \n",
      "A value is trying to be set on a copy of a slice from a DataFrame.\n",
      "Try using .loc[row_indexer,col_indexer] = value instead\n",
      "\n",
      "See the the caveats in the documentation: http://pandas.pydata.org/pandas-docs/stable/indexing.html#indexing-view-versus-copy\n",
      "  from IPython.kernel.zmq import kernelapp as app\n",
      "C:\\Anaconda3\\lib\\site-packages\\IPython\\kernel\\__main__.py:4: SettingWithCopyWarning: \n",
      "A value is trying to be set on a copy of a slice from a DataFrame.\n",
      "Try using .loc[row_indexer,col_indexer] = value instead\n",
      "\n",
      "See the the caveats in the documentation: http://pandas.pydata.org/pandas-docs/stable/indexing.html#indexing-view-versus-copy\n",
      "C:\\Anaconda3\\lib\\site-packages\\IPython\\kernel\\__main__.py:5: SettingWithCopyWarning: \n",
      "A value is trying to be set on a copy of a slice from a DataFrame.\n",
      "Try using .loc[row_indexer,col_indexer] = value instead\n",
      "\n",
      "See the the caveats in the documentation: http://pandas.pydata.org/pandas-docs/stable/indexing.html#indexing-view-versus-copy\n",
      "C:\\Anaconda3\\lib\\site-packages\\IPython\\kernel\\__main__.py:7: SettingWithCopyWarning: \n",
      "A value is trying to be set on a copy of a slice from a DataFrame.\n",
      "Try using .loc[row_indexer,col_indexer] = value instead\n",
      "\n",
      "See the the caveats in the documentation: http://pandas.pydata.org/pandas-docs/stable/indexing.html#indexing-view-versus-copy\n",
      "C:\\Anaconda3\\lib\\site-packages\\IPython\\kernel\\__main__.py:8: SettingWithCopyWarning: \n",
      "A value is trying to be set on a copy of a slice from a DataFrame.\n",
      "Try using .loc[row_indexer,col_indexer] = value instead\n",
      "\n",
      "See the the caveats in the documentation: http://pandas.pydata.org/pandas-docs/stable/indexing.html#indexing-view-versus-copy\n"
     ]
    }
   ],
   "source": [
    "df_material_id_test[ 'end_a_1x' ] = le_end_a_1x.transform( df_material_id_test[ 'end_a_1x' ] )\n",
    "df_material_id_test[ 'end_a_2x' ] = le_end_a_2x.transform( df_material_id_test[ 'end_a_2x' ] )\n",
    "\n",
    "df_material_id_test[ 'end_x_1x' ] = le_end_x_1x.transform( df_material_id_test[ 'end_x_1x' ] )\n",
    "df_material_id_test[ 'end_x_2x' ] = le_end_x_2x.transform( df_material_id_test[ 'end_x_2x' ] )\n",
    "\n",
    "df_material_id_test[ 'end_a' ] = le_end_a.transform( df_material_id_test[ 'end_a' ] )\n",
    "df_material_id_test[ 'end_x' ] = le_end_x.transform( df_material_id_test[ 'end_x' ] )"
   ]
  },
  {
   "cell_type": "code",
   "execution_count": 74,
   "metadata": {
    "collapsed": false
   },
   "outputs": [
    {
     "data": {
      "text/html": [
       "<div style=\"max-height:1000px;max-width:1500px;overflow:auto;\">\n",
       "<table border=\"1\" class=\"dataframe\">\n",
       "  <thead>\n",
       "    <tr style=\"text-align: right;\">\n",
       "      <th></th>\n",
       "      <th>tube_assembly_id</th>\n",
       "      <th>material_id</th>\n",
       "      <th>diameter</th>\n",
       "      <th>wall</th>\n",
       "      <th>length</th>\n",
       "      <th>num_bends</th>\n",
       "      <th>bend_radius</th>\n",
       "      <th>end_a_1x</th>\n",
       "      <th>end_a_2x</th>\n",
       "      <th>end_x_1x</th>\n",
       "      <th>...</th>\n",
       "      <th>SP-0087</th>\n",
       "      <th>SP-0088</th>\n",
       "      <th>SP-0089</th>\n",
       "      <th>SP-0090</th>\n",
       "      <th>SP-0091</th>\n",
       "      <th>SP-0092</th>\n",
       "      <th>SP-0093</th>\n",
       "      <th>SP-0094</th>\n",
       "      <th>SP-0095</th>\n",
       "      <th>SP-0096</th>\n",
       "    </tr>\n",
       "  </thead>\n",
       "  <tbody>\n",
       "    <tr>\n",
       "      <th>1701</th>\n",
       "      <td> TA-01702</td>\n",
       "      <td> NaN</td>\n",
       "      <td> 17.48</td>\n",
       "      <td> 2.41</td>\n",
       "      <td> 115</td>\n",
       "      <td> 3</td>\n",
       "      <td> 63.5</td>\n",
       "      <td> 0</td>\n",
       "      <td> 0</td>\n",
       "      <td> 0</td>\n",
       "      <td>...</td>\n",
       "      <td> 0</td>\n",
       "      <td> 0</td>\n",
       "      <td> 0</td>\n",
       "      <td> 0</td>\n",
       "      <td> 0</td>\n",
       "      <td> 0</td>\n",
       "      <td> 0</td>\n",
       "      <td> 0</td>\n",
       "      <td> 0</td>\n",
       "      <td> 0</td>\n",
       "    </tr>\n",
       "    <tr>\n",
       "      <th>2003</th>\n",
       "      <td> TA-02004</td>\n",
       "      <td> NaN</td>\n",
       "      <td> 17.30</td>\n",
       "      <td> 2.30</td>\n",
       "      <td>  30</td>\n",
       "      <td> 0</td>\n",
       "      <td>  0.0</td>\n",
       "      <td> 1</td>\n",
       "      <td> 1</td>\n",
       "      <td> 1</td>\n",
       "      <td>...</td>\n",
       "      <td> 0</td>\n",
       "      <td> 0</td>\n",
       "      <td> 0</td>\n",
       "      <td> 0</td>\n",
       "      <td> 0</td>\n",
       "      <td> 0</td>\n",
       "      <td> 0</td>\n",
       "      <td> 0</td>\n",
       "      <td> 0</td>\n",
       "      <td> 0</td>\n",
       "    </tr>\n",
       "    <tr>\n",
       "      <th>3359</th>\n",
       "      <td> TA-03360</td>\n",
       "      <td> NaN</td>\n",
       "      <td> 19.05</td>\n",
       "      <td> 2.11</td>\n",
       "      <td> 151</td>\n",
       "      <td> 4</td>\n",
       "      <td> 50.8</td>\n",
       "      <td> 0</td>\n",
       "      <td> 0</td>\n",
       "      <td> 0</td>\n",
       "      <td>...</td>\n",
       "      <td> 0</td>\n",
       "      <td> 0</td>\n",
       "      <td> 0</td>\n",
       "      <td> 0</td>\n",
       "      <td> 0</td>\n",
       "      <td> 0</td>\n",
       "      <td> 0</td>\n",
       "      <td> 0</td>\n",
       "      <td> 0</td>\n",
       "      <td> 0</td>\n",
       "    </tr>\n",
       "  </tbody>\n",
       "</table>\n",
       "<p>3 rows × 147 columns</p>\n",
       "</div>"
      ],
      "text/plain": [
       "     tube_assembly_id material_id  diameter  wall  length  num_bends  \\\n",
       "1701         TA-01702         NaN     17.48  2.41     115          3   \n",
       "2003         TA-02004         NaN     17.30  2.30      30          0   \n",
       "3359         TA-03360         NaN     19.05  2.11     151          4   \n",
       "\n",
       "      bend_radius  end_a_1x  end_a_2x  end_x_1x   ...     SP-0087  SP-0088  \\\n",
       "1701         63.5         0         0         0   ...           0        0   \n",
       "2003          0.0         1         1         1   ...           0        0   \n",
       "3359         50.8         0         0         0   ...           0        0   \n",
       "\n",
       "      SP-0089  SP-0090  SP-0091  SP-0092  SP-0093  SP-0094  SP-0095  SP-0096  \n",
       "1701        0        0        0        0        0        0        0        0  \n",
       "2003        0        0        0        0        0        0        0        0  \n",
       "3359        0        0        0        0        0        0        0        0  \n",
       "\n",
       "[3 rows x 147 columns]"
      ]
     },
     "execution_count": 74,
     "metadata": {},
     "output_type": "execute_result"
    }
   ],
   "source": [
    "df_material_id_test.head( 3 )"
   ]
  },
  {
   "cell_type": "code",
   "execution_count": 75,
   "metadata": {
    "collapsed": false
   },
   "outputs": [
    {
     "name": "stderr",
     "output_type": "stream",
     "text": [
      "C:\\Anaconda3\\lib\\site-packages\\IPython\\kernel\\__main__.py:1: SettingWithCopyWarning: \n",
      "A value is trying to be set on a copy of a slice from a DataFrame\n",
      "\n",
      "See the the caveats in the documentation: http://pandas.pydata.org/pandas-docs/stable/indexing.html#indexing-view-versus-copy\n",
      "  if __name__ == '__main__':\n",
      "C:\\Anaconda3\\lib\\site-packages\\IPython\\kernel\\__main__.py:2: SettingWithCopyWarning: \n",
      "A value is trying to be set on a copy of a slice from a DataFrame\n",
      "\n",
      "See the the caveats in the documentation: http://pandas.pydata.org/pandas-docs/stable/indexing.html#indexing-view-versus-copy\n",
      "  from IPython.kernel.zmq import kernelapp as app\n"
     ]
    }
   ],
   "source": [
    "df_material_id_test.drop( removal_feature_list, axis = 1, inplace = True )    # features engineered\n",
    "df_material_id_test.drop( [ 'tube_assembly_id', 'material_id' ], axis = 1, inplace = True )"
   ]
  },
  {
   "cell_type": "markdown",
   "metadata": {
    "collapsed": true
   },
   "source": [
    "###2.6.8 material_id prediction 수행"
   ]
  },
  {
   "cell_type": "code",
   "execution_count": 76,
   "metadata": {
    "collapsed": false
   },
   "outputs": [],
   "source": [
    "y_pred = gs.best_estimator_.predict( df_material_id_test )    # prediction 수행"
   ]
  },
  {
   "cell_type": "markdown",
   "metadata": {},
   "source": [
    "###2.6.9 Prediction 결과를 tube에 value assign 수행"
   ]
  },
  {
   "cell_type": "code",
   "execution_count": 77,
   "metadata": {
    "collapsed": true
   },
   "outputs": [],
   "source": [
    "idx_list = df[ df[ 'material_id' ].isnull() ].index.tolist()"
   ]
  },
  {
   "cell_type": "code",
   "execution_count": 78,
   "metadata": {
    "collapsed": true
   },
   "outputs": [],
   "source": [
    "# material_id prediction 결과를 df에 assign\n",
    "\n",
    "jdx = 0\n",
    "for idx in idx_list :\n",
    "    df.loc[ idx, 'material_id' ] = le_material_id.inverse_transform( y_pred[jdx] )    # 원 data 형식에 맞게\n",
    "    jdx += 1"
   ]
  },
  {
   "cell_type": "code",
   "execution_count": 81,
   "metadata": {
    "collapsed": false
   },
   "outputs": [
    {
     "data": {
      "text/plain": [
       "array(['tube_assembly_id', 'material_id', 'diameter', 'wall', 'length',\n",
       "       'num_bends', 'bend_radius', 'end_a_1x', 'end_a_2x', 'end_x_1x',\n",
       "       'end_x_2x', 'end_a', 'end_x', 'num_boss', 'num_bracket', 'other',\n",
       "       'weight_sum', 'length_1', 'length_2', 'length_3', 'length_4',\n",
       "       'length_5', 'length_6', 'length_7', 'length_8', 'length_sum',\n",
       "       'uniqueness_count', 'orientation_count', 'adaptor_sum', 'boss_sum',\n",
       "       'elbow_sum', 'float_sum', 'hfl_sum', 'nut_sum', 'other_sum',\n",
       "       'sleeve_sum', 'straight_sum', 'tee_sum', 'threaded_sum',\n",
       "       'adaptor_weight_sum', 'boss_weight_sum', 'elbow_weight_sum',\n",
       "       'float_weight_sum', 'hfl_weight_sum', 'nut_weight_sum',\n",
       "       'other_weight_sum', 'sleeve_weight_sum', 'straight_weight_sum',\n",
       "       'tee_weight_sum', 'threaded_weight_sum', 'spec_type_count',\n",
       "       'SP-0001', 'SP-0002', 'SP-0003', 'SP-0004', 'SP-0005', 'SP-0006',\n",
       "       'SP-0007', 'SP-0008', 'SP-0009', 'SP-0010', 'SP-0011', 'SP-0012',\n",
       "       'SP-0013', 'SP-0014', 'SP-0015', 'SP-0016', 'SP-0017', 'SP-0018',\n",
       "       'SP-0019', 'SP-0020', 'SP-0021', 'SP-0022', 'SP-0023', 'SP-0024',\n",
       "       'SP-0025', 'SP-0026', 'SP-0027', 'SP-0028', 'SP-0029', 'SP-0030',\n",
       "       'SP-0031', 'SP-0032', 'SP-0033', 'SP-0034', 'SP-0035', 'SP-0036',\n",
       "       'SP-0037', 'SP-0038', 'SP-0039', 'SP-0040', 'SP-0041', 'SP-0042',\n",
       "       'SP-0043', 'SP-0044', 'SP-0045', 'SP-0046', 'SP-0047', 'SP-0048',\n",
       "       'SP-0049', 'SP-0050', 'SP-0051', 'SP-0052', 'SP-0053', 'SP-0054',\n",
       "       'SP-0055', 'SP-0056', 'SP-0057', 'SP-0058', 'SP-0059', 'SP-0060',\n",
       "       'SP-0061', 'SP-0062', 'SP-0063', 'SP-0064', 'SP-0065', 'SP-0066',\n",
       "       'SP-0067', 'SP-0068', 'SP-0069', 'SP-0070', 'SP-0071', 'SP-0072',\n",
       "       'SP-0073', 'SP-0074', 'SP-0075', 'SP-0076', 'SP-0077', 'SP-0078',\n",
       "       'SP-0079', 'SP-0080', 'SP-0081', 'SP-0082', 'SP-0083', 'SP-0084',\n",
       "       'SP-0085', 'SP-0086', 'SP-0087', 'SP-0088', 'SP-0089', 'SP-0090',\n",
       "       'SP-0091', 'SP-0092', 'SP-0093', 'SP-0094', 'SP-0095', 'SP-0096'], dtype=object)"
      ]
     },
     "execution_count": 81,
     "metadata": {},
     "output_type": "execute_result"
    }
   ],
   "source": [
    "df.columns.values"
   ]
  },
  {
   "cell_type": "code",
   "execution_count": 83,
   "metadata": {
    "collapsed": false
   },
   "outputs": [
    {
     "ename": "ValueError",
     "evalue": "labels ['weight_sum' 'length_1' 'length_2' 'length_3' 'length_4' 'length_5'\n 'length_6' 'length_7' 'length_8' 'length_sum' 'uniqueness_count'\n 'orientation_count' 'adaptor_sum' 'boss_sum' 'elbow_sum' 'float_sum'\n 'hfl_sum' 'nut_sum' 'other_sum' 'sleeve_sum' 'straight_sum' 'tee_sum'\n 'threaded_sum' 'adaptor_weight_sum' 'boss_weight_sum' 'elbow_weight_sum'\n 'float_weight_sum' 'hfl_weight_sum' 'nut_weight_sum' 'other_weight_sum'\n 'sleeve_weight_sum' 'straight_weight_sum' 'tee_weight_sum'\n 'threaded_weight_sum' 'spec_type_count' 'SP-0001' 'SP-0002' 'SP-0003'\n 'SP-0004' 'SP-0005' 'SP-0006' 'SP-0007' 'SP-0008' 'SP-0009' 'SP-0010'\n 'SP-0011' 'SP-0012' 'SP-0013' 'SP-0014' 'SP-0015' 'SP-0016' 'SP-0017'\n 'SP-0018' 'SP-0019' 'SP-0020' 'SP-0021' 'SP-0022' 'SP-0023' 'SP-0024'\n 'SP-0025' 'SP-0026' 'SP-0027' 'SP-0028' 'SP-0029' 'SP-0030' 'SP-0031'\n 'SP-0032' 'SP-0033' 'SP-0034' 'SP-0035' 'SP-0036' 'SP-0037' 'SP-0038'\n 'SP-0039' 'SP-0040' 'SP-0041' 'SP-0042' 'SP-0043' 'SP-0044' 'SP-0045'\n 'SP-0046' 'SP-0047' 'SP-0048' 'SP-0049' 'SP-0050' 'SP-0051' 'SP-0052'\n 'SP-0053' 'SP-0054' 'SP-0055' 'SP-0056' 'SP-0057' 'SP-0058' 'SP-0059'\n 'SP-0060' 'SP-0061' 'SP-0062' 'SP-0063' 'SP-0064' 'SP-0065' 'SP-0066'\n 'SP-0067' 'SP-0068' 'SP-0069' 'SP-0070' 'SP-0071' 'SP-0072' 'SP-0073'\n 'SP-0074' 'SP-0075' 'SP-0076' 'SP-0077' 'SP-0078' 'SP-0079' 'SP-0080'\n 'SP-0081' 'SP-0082' 'SP-0083' 'SP-0084' 'SP-0085' 'SP-0086' 'SP-0087'\n 'SP-0088' 'SP-0089' 'SP-0090' 'SP-0091' 'SP-0092' 'SP-0093' 'SP-0094'\n 'SP-0095' 'SP-0096'] not contained in axis",
     "output_type": "error",
     "traceback": [
      "\u001b[1;31m---------------------------------------------------------------------------\u001b[0m",
      "\u001b[1;31mValueError\u001b[0m                                Traceback (most recent call last)",
      "\u001b[1;32m<ipython-input-83-11e2711d6a17>\u001b[0m in \u001b[0;36m<module>\u001b[1;34m()\u001b[0m\n\u001b[0;32m     25\u001b[0m              \u001b[1;34m'SP-0083'\u001b[0m\u001b[1;33m,\u001b[0m \u001b[1;34m'SP-0084'\u001b[0m\u001b[1;33m,\u001b[0m \u001b[1;34m'SP-0085'\u001b[0m\u001b[1;33m,\u001b[0m \u001b[1;34m'SP-0086'\u001b[0m\u001b[1;33m,\u001b[0m \u001b[1;34m'SP-0087'\u001b[0m\u001b[1;33m,\u001b[0m \u001b[1;34m'SP-0088'\u001b[0m\u001b[1;33m,\u001b[0m\u001b[1;33m\u001b[0m\u001b[0m\n\u001b[0;32m     26\u001b[0m              \u001b[1;34m'SP-0089'\u001b[0m\u001b[1;33m,\u001b[0m \u001b[1;34m'SP-0090'\u001b[0m\u001b[1;33m,\u001b[0m \u001b[1;34m'SP-0091'\u001b[0m\u001b[1;33m,\u001b[0m \u001b[1;34m'SP-0092'\u001b[0m\u001b[1;33m,\u001b[0m \u001b[1;34m'SP-0093'\u001b[0m\u001b[1;33m,\u001b[0m \u001b[1;34m'SP-0094'\u001b[0m\u001b[1;33m,\u001b[0m\u001b[1;33m\u001b[0m\u001b[0m\n\u001b[1;32m---> 27\u001b[1;33m              'SP-0095', 'SP-0096' ], axis = 1, inplace = True )\n\u001b[0m",
      "\u001b[1;32mC:\\Anaconda3\\lib\\site-packages\\pandas\\core\\generic.py\u001b[0m in \u001b[0;36mdrop\u001b[1;34m(self, labels, axis, level, inplace, **kwargs)\u001b[0m\n\u001b[0;32m   1559\u001b[0m                 \u001b[0mnew_axis\u001b[0m \u001b[1;33m=\u001b[0m \u001b[0maxis\u001b[0m\u001b[1;33m.\u001b[0m\u001b[0mdrop\u001b[0m\u001b[1;33m(\u001b[0m\u001b[0mlabels\u001b[0m\u001b[1;33m,\u001b[0m \u001b[0mlevel\u001b[0m\u001b[1;33m=\u001b[0m\u001b[0mlevel\u001b[0m\u001b[1;33m)\u001b[0m\u001b[1;33m\u001b[0m\u001b[0m\n\u001b[0;32m   1560\u001b[0m             \u001b[1;32melse\u001b[0m\u001b[1;33m:\u001b[0m\u001b[1;33m\u001b[0m\u001b[0m\n\u001b[1;32m-> 1561\u001b[1;33m                 \u001b[0mnew_axis\u001b[0m \u001b[1;33m=\u001b[0m \u001b[0maxis\u001b[0m\u001b[1;33m.\u001b[0m\u001b[0mdrop\u001b[0m\u001b[1;33m(\u001b[0m\u001b[0mlabels\u001b[0m\u001b[1;33m)\u001b[0m\u001b[1;33m\u001b[0m\u001b[0m\n\u001b[0m\u001b[0;32m   1562\u001b[0m             \u001b[0mdropped\u001b[0m \u001b[1;33m=\u001b[0m \u001b[0mself\u001b[0m\u001b[1;33m.\u001b[0m\u001b[0mreindex\u001b[0m\u001b[1;33m(\u001b[0m\u001b[1;33m**\u001b[0m\u001b[1;33m{\u001b[0m\u001b[0maxis_name\u001b[0m\u001b[1;33m:\u001b[0m \u001b[0mnew_axis\u001b[0m\u001b[1;33m}\u001b[0m\u001b[1;33m)\u001b[0m\u001b[1;33m\u001b[0m\u001b[0m\n\u001b[0;32m   1563\u001b[0m             \u001b[1;32mtry\u001b[0m\u001b[1;33m:\u001b[0m\u001b[1;33m\u001b[0m\u001b[0m\n",
      "\u001b[1;32mC:\\Anaconda3\\lib\\site-packages\\pandas\\core\\index.py\u001b[0m in \u001b[0;36mdrop\u001b[1;34m(self, labels)\u001b[0m\n\u001b[0;32m   2222\u001b[0m         \u001b[0mmask\u001b[0m \u001b[1;33m=\u001b[0m \u001b[0mindexer\u001b[0m \u001b[1;33m==\u001b[0m \u001b[1;33m-\u001b[0m\u001b[1;36m1\u001b[0m\u001b[1;33m\u001b[0m\u001b[0m\n\u001b[0;32m   2223\u001b[0m         \u001b[1;32mif\u001b[0m \u001b[0mmask\u001b[0m\u001b[1;33m.\u001b[0m\u001b[0many\u001b[0m\u001b[1;33m(\u001b[0m\u001b[1;33m)\u001b[0m\u001b[1;33m:\u001b[0m\u001b[1;33m\u001b[0m\u001b[0m\n\u001b[1;32m-> 2224\u001b[1;33m             \u001b[1;32mraise\u001b[0m \u001b[0mValueError\u001b[0m\u001b[1;33m(\u001b[0m\u001b[1;34m'labels %s not contained in axis'\u001b[0m \u001b[1;33m%\u001b[0m \u001b[0mlabels\u001b[0m\u001b[1;33m[\u001b[0m\u001b[0mmask\u001b[0m\u001b[1;33m]\u001b[0m\u001b[1;33m)\u001b[0m\u001b[1;33m\u001b[0m\u001b[0m\n\u001b[0m\u001b[0;32m   2225\u001b[0m         \u001b[1;32mreturn\u001b[0m \u001b[0mself\u001b[0m\u001b[1;33m.\u001b[0m\u001b[0mdelete\u001b[0m\u001b[1;33m(\u001b[0m\u001b[0mindexer\u001b[0m\u001b[1;33m)\u001b[0m\u001b[1;33m\u001b[0m\u001b[0m\n\u001b[0;32m   2226\u001b[0m \u001b[1;33m\u001b[0m\u001b[0m\n",
      "\u001b[1;31mValueError\u001b[0m: labels ['weight_sum' 'length_1' 'length_2' 'length_3' 'length_4' 'length_5'\n 'length_6' 'length_7' 'length_8' 'length_sum' 'uniqueness_count'\n 'orientation_count' 'adaptor_sum' 'boss_sum' 'elbow_sum' 'float_sum'\n 'hfl_sum' 'nut_sum' 'other_sum' 'sleeve_sum' 'straight_sum' 'tee_sum'\n 'threaded_sum' 'adaptor_weight_sum' 'boss_weight_sum' 'elbow_weight_sum'\n 'float_weight_sum' 'hfl_weight_sum' 'nut_weight_sum' 'other_weight_sum'\n 'sleeve_weight_sum' 'straight_weight_sum' 'tee_weight_sum'\n 'threaded_weight_sum' 'spec_type_count' 'SP-0001' 'SP-0002' 'SP-0003'\n 'SP-0004' 'SP-0005' 'SP-0006' 'SP-0007' 'SP-0008' 'SP-0009' 'SP-0010'\n 'SP-0011' 'SP-0012' 'SP-0013' 'SP-0014' 'SP-0015' 'SP-0016' 'SP-0017'\n 'SP-0018' 'SP-0019' 'SP-0020' 'SP-0021' 'SP-0022' 'SP-0023' 'SP-0024'\n 'SP-0025' 'SP-0026' 'SP-0027' 'SP-0028' 'SP-0029' 'SP-0030' 'SP-0031'\n 'SP-0032' 'SP-0033' 'SP-0034' 'SP-0035' 'SP-0036' 'SP-0037' 'SP-0038'\n 'SP-0039' 'SP-0040' 'SP-0041' 'SP-0042' 'SP-0043' 'SP-0044' 'SP-0045'\n 'SP-0046' 'SP-0047' 'SP-0048' 'SP-0049' 'SP-0050' 'SP-0051' 'SP-0052'\n 'SP-0053' 'SP-0054' 'SP-0055' 'SP-0056' 'SP-0057' 'SP-0058' 'SP-0059'\n 'SP-0060' 'SP-0061' 'SP-0062' 'SP-0063' 'SP-0064' 'SP-0065' 'SP-0066'\n 'SP-0067' 'SP-0068' 'SP-0069' 'SP-0070' 'SP-0071' 'SP-0072' 'SP-0073'\n 'SP-0074' 'SP-0075' 'SP-0076' 'SP-0077' 'SP-0078' 'SP-0079' 'SP-0080'\n 'SP-0081' 'SP-0082' 'SP-0083' 'SP-0084' 'SP-0085' 'SP-0086' 'SP-0087'\n 'SP-0088' 'SP-0089' 'SP-0090' 'SP-0091' 'SP-0092' 'SP-0093' 'SP-0094'\n 'SP-0095' 'SP-0096'] not contained in axis"
     ]
    }
   ],
   "source": [
    "# meterial_id의 확장예측 코드\n",
    "df.drop( [   'weight_sum', 'length_1', 'length_2', 'length_3', 'length_4',\n",
    "       'length_5', 'length_6', 'length_7', 'length_8', 'length_sum',\n",
    "             'uniqueness_count', 'orientation_count',\n",
    "             'adaptor_sum', 'boss_sum', 'elbow_sum', 'float_sum', 'hfl_sum',\n",
    "             'nut_sum', 'other_sum', 'sleeve_sum', 'straight_sum', 'tee_sum',\n",
    "             'threaded_sum', 'adaptor_weight_sum', 'boss_weight_sum',\n",
    "             'elbow_weight_sum', 'float_weight_sum', 'hfl_weight_sum',\n",
    "             'nut_weight_sum', 'other_weight_sum', 'sleeve_weight_sum',\n",
    "             'straight_weight_sum', 'tee_weight_sum', 'threaded_weight_sum',\n",
    "             'spec_type_count', 'SP-0001', 'SP-0002', 'SP-0003', 'SP-0004',\n",
    "             'SP-0005', 'SP-0006', 'SP-0007', 'SP-0008', 'SP-0009', 'SP-0010',\n",
    "             'SP-0011', 'SP-0012', 'SP-0013', 'SP-0014', 'SP-0015', 'SP-0016',\n",
    "             'SP-0017', 'SP-0018', 'SP-0019', 'SP-0020', 'SP-0021', 'SP-0022',\n",
    "             'SP-0023', 'SP-0024', 'SP-0025', 'SP-0026', 'SP-0027', 'SP-0028',\n",
    "             'SP-0029', 'SP-0030', 'SP-0031', 'SP-0032', 'SP-0033', 'SP-0034',\n",
    "             'SP-0035', 'SP-0036', 'SP-0037', 'SP-0038', 'SP-0039', 'SP-0040',\n",
    "             'SP-0041', 'SP-0042', 'SP-0043', 'SP-0044', 'SP-0045', 'SP-0046',\n",
    "             'SP-0047', 'SP-0048', 'SP-0049', 'SP-0050', 'SP-0051', 'SP-0052',\n",
    "             'SP-0053', 'SP-0054', 'SP-0055', 'SP-0056', 'SP-0057', 'SP-0058',\n",
    "             'SP-0059', 'SP-0060', 'SP-0061', 'SP-0062', 'SP-0063', 'SP-0064',\n",
    "             'SP-0065', 'SP-0066', 'SP-0067', 'SP-0068', 'SP-0069', 'SP-0070',\n",
    "             'SP-0071', 'SP-0072', 'SP-0073', 'SP-0074', 'SP-0075', 'SP-0076',\n",
    "             'SP-0077', 'SP-0078', 'SP-0079', 'SP-0080', 'SP-0081', 'SP-0082',\n",
    "             'SP-0083', 'SP-0084', 'SP-0085', 'SP-0086', 'SP-0087', 'SP-0088',\n",
    "             'SP-0089', 'SP-0090', 'SP-0091', 'SP-0092', 'SP-0093', 'SP-0094',\n",
    "             'SP-0095', 'SP-0096' ], axis = 1, inplace = True )"
   ]
  },
  {
   "cell_type": "code",
   "execution_count": 84,
   "metadata": {
    "collapsed": false
   },
   "outputs": [
    {
     "data": {
      "text/plain": [
       "array(['tube_assembly_id', 'material_id', 'diameter', 'wall', 'length',\n",
       "       'num_bends', 'bend_radius', 'end_a_1x', 'end_a_2x', 'end_x_1x',\n",
       "       'end_x_2x', 'end_a', 'end_x', 'num_boss', 'num_bracket', 'other'], dtype=object)"
      ]
     },
     "execution_count": 84,
     "metadata": {},
     "output_type": "execute_result"
    }
   ],
   "source": [
    "df.columns.values"
   ]
  },
  {
   "cell_type": "markdown",
   "metadata": {},
   "source": [
    "###2.6.10 prediction 반영결과를 output"
   ]
  },
  {
   "cell_type": "code",
   "execution_count": 85,
   "metadata": {
    "collapsed": false
   },
   "outputs": [],
   "source": [
    "df.to_csv( './dataset/02.ml.verified.dataset/tube.material_id.verified.csv', index = False )\n",
    "del( df )\n",
    "del( df_material_id_train )\n",
    "del( df_material_id_test )\n",
    "del( X )\n",
    "del( y )"
   ]
  },
  {
   "cell_type": "markdown",
   "metadata": {},
   "source": [
    "."
   ]
  },
  {
   "cell_type": "markdown",
   "metadata": {},
   "source": [
    "##2.7 tube feature 확인"
   ]
  },
  {
   "cell_type": "code",
   "execution_count": 86,
   "metadata": {
    "collapsed": true
   },
   "outputs": [],
   "source": [
    "df = pd.read_csv( './dataset/02.ml.verified.dataset/tube.material_id.verified.csv' )"
   ]
  },
  {
   "cell_type": "code",
   "execution_count": 87,
   "metadata": {
    "collapsed": false
   },
   "outputs": [],
   "source": [
    "# bend nub으로 인한 tube의 복잡도 추정 feature의 추가\n",
    "df[ 'bend_num_by_radius' ] = df[ 'num_bends' ] * df[ 'bend_radius' ]"
   ]
  },
  {
   "cell_type": "code",
   "execution_count": 88,
   "metadata": {
    "collapsed": true
   },
   "outputs": [],
   "source": [
    "df.to_csv( './dataset/02.ml.verified.dataset/tube.material_id.verified.csv', index = False )"
   ]
  },
  {
   "cell_type": "code",
   "execution_count": 89,
   "metadata": {
    "collapsed": false
   },
   "outputs": [
    {
     "data": {
      "text/plain": [
       "tube_assembly_id      21198\n",
       "material_id           21198\n",
       "diameter              21198\n",
       "wall                  21198\n",
       "length                21198\n",
       "num_bends             21198\n",
       "bend_radius           21198\n",
       "end_a_1x              21198\n",
       "end_a_2x              21198\n",
       "end_x_1x              21198\n",
       "end_x_2x              21198\n",
       "end_a                 21198\n",
       "end_x                 21198\n",
       "num_boss              21198\n",
       "num_bracket           21198\n",
       "other                 21198\n",
       "bend_num_by_radius    21198\n",
       "dtype: int64"
      ]
     },
     "execution_count": 89,
     "metadata": {},
     "output_type": "execute_result"
    }
   ],
   "source": [
    "df.count()"
   ]
  },
  {
   "cell_type": "code",
   "execution_count": 90,
   "metadata": {
    "collapsed": false
   },
   "outputs": [
    {
     "data": {
      "text/html": [
       "<div style=\"max-height:1000px;max-width:1500px;overflow:auto;\">\n",
       "<table border=\"1\" class=\"dataframe\">\n",
       "  <thead>\n",
       "    <tr style=\"text-align: right;\">\n",
       "      <th></th>\n",
       "      <th>diameter</th>\n",
       "      <th>wall</th>\n",
       "      <th>length</th>\n",
       "      <th>num_bends</th>\n",
       "      <th>bend_radius</th>\n",
       "      <th>end_a_1x</th>\n",
       "      <th>end_a_2x</th>\n",
       "      <th>end_x_1x</th>\n",
       "      <th>end_x_2x</th>\n",
       "      <th>num_boss</th>\n",
       "      <th>num_bracket</th>\n",
       "      <th>other</th>\n",
       "      <th>bend_num_by_radius</th>\n",
       "    </tr>\n",
       "  </thead>\n",
       "  <tbody>\n",
       "    <tr>\n",
       "      <th>count</th>\n",
       "      <td> 21198.000000</td>\n",
       "      <td> 21198.000000</td>\n",
       "      <td> 21198.000000</td>\n",
       "      <td> 21198.000000</td>\n",
       "      <td> 21198.000000</td>\n",
       "      <td> 21198.000000</td>\n",
       "      <td> 21198.000000</td>\n",
       "      <td> 21198.000000</td>\n",
       "      <td> 21198.000000</td>\n",
       "      <td> 21198.000000</td>\n",
       "      <td> 21198.000000</td>\n",
       "      <td> 21198.000000</td>\n",
       "      <td> 21198.000000</td>\n",
       "    </tr>\n",
       "    <tr>\n",
       "      <th>mean</th>\n",
       "      <td>    23.687764</td>\n",
       "      <td>     1.578402</td>\n",
       "      <td>   100.337469</td>\n",
       "      <td>     3.748137</td>\n",
       "      <td>    45.620664</td>\n",
       "      <td>     0.050948</td>\n",
       "      <td>     0.150156</td>\n",
       "      <td>     0.038730</td>\n",
       "      <td>     0.127606</td>\n",
       "      <td>     0.044485</td>\n",
       "      <td>     0.006746</td>\n",
       "      <td>     0.022644</td>\n",
       "      <td>   156.837303</td>\n",
       "    </tr>\n",
       "    <tr>\n",
       "      <th>std</th>\n",
       "      <td>    25.396277</td>\n",
       "      <td>     0.745749</td>\n",
       "      <td>    70.520780</td>\n",
       "      <td>     2.265405</td>\n",
       "      <td>    35.028261</td>\n",
       "      <td>     0.219897</td>\n",
       "      <td>     0.357232</td>\n",
       "      <td>     0.192955</td>\n",
       "      <td>     0.333659</td>\n",
       "      <td>     0.260737</td>\n",
       "      <td>     0.100015</td>\n",
       "      <td>     0.199676</td>\n",
       "      <td>   120.463532</td>\n",
       "    </tr>\n",
       "    <tr>\n",
       "      <th>min</th>\n",
       "      <td>     3.180000</td>\n",
       "      <td>     0.710000</td>\n",
       "      <td>     1.000000</td>\n",
       "      <td>     0.000000</td>\n",
       "      <td>     0.000000</td>\n",
       "      <td>     0.000000</td>\n",
       "      <td>     0.000000</td>\n",
       "      <td>     0.000000</td>\n",
       "      <td>     0.000000</td>\n",
       "      <td>     0.000000</td>\n",
       "      <td>     0.000000</td>\n",
       "      <td>     0.000000</td>\n",
       "      <td>     0.000000</td>\n",
       "    </tr>\n",
       "    <tr>\n",
       "      <th>25%</th>\n",
       "      <td>     9.520000</td>\n",
       "      <td>     0.890000</td>\n",
       "      <td>    48.000000</td>\n",
       "      <td>     2.000000</td>\n",
       "      <td>    19.050000</td>\n",
       "      <td>     0.000000</td>\n",
       "      <td>     0.000000</td>\n",
       "      <td>     0.000000</td>\n",
       "      <td>     0.000000</td>\n",
       "      <td>     0.000000</td>\n",
       "      <td>     0.000000</td>\n",
       "      <td>     0.000000</td>\n",
       "      <td>    76.200000</td>\n",
       "    </tr>\n",
       "    <tr>\n",
       "      <th>50%</th>\n",
       "      <td>    15.880000</td>\n",
       "      <td>     1.650000</td>\n",
       "      <td>    86.000000</td>\n",
       "      <td>     3.000000</td>\n",
       "      <td>    38.100000</td>\n",
       "      <td>     0.000000</td>\n",
       "      <td>     0.000000</td>\n",
       "      <td>     0.000000</td>\n",
       "      <td>     0.000000</td>\n",
       "      <td>     0.000000</td>\n",
       "      <td>     0.000000</td>\n",
       "      <td>     0.000000</td>\n",
       "      <td>   127.000000</td>\n",
       "    </tr>\n",
       "    <tr>\n",
       "      <th>75%</th>\n",
       "      <td>    25.400000</td>\n",
       "      <td>     1.650000</td>\n",
       "      <td>   135.000000</td>\n",
       "      <td>     5.000000</td>\n",
       "      <td>    50.800000</td>\n",
       "      <td>     0.000000</td>\n",
       "      <td>     0.000000</td>\n",
       "      <td>     0.000000</td>\n",
       "      <td>     0.000000</td>\n",
       "      <td>     0.000000</td>\n",
       "      <td>     0.000000</td>\n",
       "      <td>     0.000000</td>\n",
       "      <td>   203.200000</td>\n",
       "    </tr>\n",
       "    <tr>\n",
       "      <th>max</th>\n",
       "      <td>   203.200000</td>\n",
       "      <td>     7.900000</td>\n",
       "      <td>  1333.000000</td>\n",
       "      <td>    17.000000</td>\n",
       "      <td>   565.000000</td>\n",
       "      <td>     1.000000</td>\n",
       "      <td>     1.000000</td>\n",
       "      <td>     1.000000</td>\n",
       "      <td>     1.000000</td>\n",
       "      <td>     5.000000</td>\n",
       "      <td>     5.000000</td>\n",
       "      <td>     8.000000</td>\n",
       "      <td>  2706.000000</td>\n",
       "    </tr>\n",
       "  </tbody>\n",
       "</table>\n",
       "</div>"
      ],
      "text/plain": [
       "           diameter          wall        length     num_bends   bend_radius  \\\n",
       "count  21198.000000  21198.000000  21198.000000  21198.000000  21198.000000   \n",
       "mean      23.687764      1.578402    100.337469      3.748137     45.620664   \n",
       "std       25.396277      0.745749     70.520780      2.265405     35.028261   \n",
       "min        3.180000      0.710000      1.000000      0.000000      0.000000   \n",
       "25%        9.520000      0.890000     48.000000      2.000000     19.050000   \n",
       "50%       15.880000      1.650000     86.000000      3.000000     38.100000   \n",
       "75%       25.400000      1.650000    135.000000      5.000000     50.800000   \n",
       "max      203.200000      7.900000   1333.000000     17.000000    565.000000   \n",
       "\n",
       "           end_a_1x      end_a_2x      end_x_1x      end_x_2x      num_boss  \\\n",
       "count  21198.000000  21198.000000  21198.000000  21198.000000  21198.000000   \n",
       "mean       0.050948      0.150156      0.038730      0.127606      0.044485   \n",
       "std        0.219897      0.357232      0.192955      0.333659      0.260737   \n",
       "min        0.000000      0.000000      0.000000      0.000000      0.000000   \n",
       "25%        0.000000      0.000000      0.000000      0.000000      0.000000   \n",
       "50%        0.000000      0.000000      0.000000      0.000000      0.000000   \n",
       "75%        0.000000      0.000000      0.000000      0.000000      0.000000   \n",
       "max        1.000000      1.000000      1.000000      1.000000      5.000000   \n",
       "\n",
       "        num_bracket         other  bend_num_by_radius  \n",
       "count  21198.000000  21198.000000        21198.000000  \n",
       "mean       0.006746      0.022644          156.837303  \n",
       "std        0.100015      0.199676          120.463532  \n",
       "min        0.000000      0.000000            0.000000  \n",
       "25%        0.000000      0.000000           76.200000  \n",
       "50%        0.000000      0.000000          127.000000  \n",
       "75%        0.000000      0.000000          203.200000  \n",
       "max        5.000000      8.000000         2706.000000  "
      ]
     },
     "execution_count": 90,
     "metadata": {},
     "output_type": "execute_result"
    }
   ],
   "source": [
    "df.describe()"
   ]
  },
  {
   "cell_type": "code",
   "execution_count": 91,
   "metadata": {
    "collapsed": false
   },
   "outputs": [
    {
     "data": {
      "text/html": [
       "<div style=\"max-height:1000px;max-width:1500px;overflow:auto;\">\n",
       "<table border=\"1\" class=\"dataframe\">\n",
       "  <thead>\n",
       "    <tr style=\"text-align: right;\">\n",
       "      <th></th>\n",
       "      <th>tube_assembly_id</th>\n",
       "      <th>material_id</th>\n",
       "      <th>diameter</th>\n",
       "      <th>wall</th>\n",
       "      <th>length</th>\n",
       "      <th>num_bends</th>\n",
       "      <th>bend_radius</th>\n",
       "      <th>end_a_1x</th>\n",
       "      <th>end_a_2x</th>\n",
       "      <th>end_x_1x</th>\n",
       "      <th>end_x_2x</th>\n",
       "      <th>end_a</th>\n",
       "      <th>end_x</th>\n",
       "      <th>num_boss</th>\n",
       "      <th>num_bracket</th>\n",
       "      <th>other</th>\n",
       "      <th>bend_num_by_radius</th>\n",
       "    </tr>\n",
       "  </thead>\n",
       "  <tbody>\n",
       "  </tbody>\n",
       "</table>\n",
       "</div>"
      ],
      "text/plain": [
       "Empty DataFrame\n",
       "Columns: [tube_assembly_id, material_id, diameter, wall, length, num_bends, bend_radius, end_a_1x, end_a_2x, end_x_1x, end_x_2x, end_a, end_x, num_boss, num_bracket, other, bend_num_by_radius]\n",
       "Index: []"
      ]
     },
     "execution_count": 91,
     "metadata": {},
     "output_type": "execute_result"
    }
   ],
   "source": [
    "df[ df[ 'bend_radius' ] > 9000 ]    # bend_radius를 prediction해야하는 test dataset이다"
   ]
  },
  {
   "cell_type": "code",
   "execution_count": 92,
   "metadata": {
    "collapsed": false
   },
   "outputs": [
    {
     "data": {
      "text/html": [
       "<div style=\"max-height:1000px;max-width:1500px;overflow:auto;\">\n",
       "<table border=\"1\" class=\"dataframe\">\n",
       "  <thead>\n",
       "    <tr style=\"text-align: right;\">\n",
       "      <th></th>\n",
       "      <th>tube_assembly_id</th>\n",
       "      <th>material_id</th>\n",
       "      <th>diameter</th>\n",
       "      <th>wall</th>\n",
       "      <th>length</th>\n",
       "      <th>num_bends</th>\n",
       "      <th>bend_radius</th>\n",
       "      <th>end_a_1x</th>\n",
       "      <th>end_a_2x</th>\n",
       "      <th>end_x_1x</th>\n",
       "      <th>end_x_2x</th>\n",
       "      <th>end_a</th>\n",
       "      <th>end_x</th>\n",
       "      <th>num_boss</th>\n",
       "      <th>num_bracket</th>\n",
       "      <th>other</th>\n",
       "      <th>bend_num_by_radius</th>\n",
       "    </tr>\n",
       "  </thead>\n",
       "  <tbody>\n",
       "  </tbody>\n",
       "</table>\n",
       "</div>"
      ],
      "text/plain": [
       "Empty DataFrame\n",
       "Columns: [tube_assembly_id, material_id, diameter, wall, length, num_bends, bend_radius, end_a_1x, end_a_2x, end_x_1x, end_x_2x, end_a, end_x, num_boss, num_bracket, other, bend_num_by_radius]\n",
       "Index: []"
      ]
     },
     "execution_count": 92,
     "metadata": {},
     "output_type": "execute_result"
    }
   ],
   "source": [
    "df[ df[ 'end_x' ] == '9999' ]    # bend_radius를 prediction해야하는 test dataset이다"
   ]
  },
  {
   "cell_type": "code",
   "execution_count": 93,
   "metadata": {
    "collapsed": false
   },
   "outputs": [
    {
     "data": {
      "text/html": [
       "<div style=\"max-height:1000px;max-width:1500px;overflow:auto;\">\n",
       "<table border=\"1\" class=\"dataframe\">\n",
       "  <thead>\n",
       "    <tr style=\"text-align: right;\">\n",
       "      <th></th>\n",
       "      <th>tube_assembly_id</th>\n",
       "      <th>material_id</th>\n",
       "      <th>diameter</th>\n",
       "      <th>wall</th>\n",
       "      <th>length</th>\n",
       "      <th>num_bends</th>\n",
       "      <th>bend_radius</th>\n",
       "      <th>end_a_1x</th>\n",
       "      <th>end_a_2x</th>\n",
       "      <th>end_x_1x</th>\n",
       "      <th>end_x_2x</th>\n",
       "      <th>end_a</th>\n",
       "      <th>end_x</th>\n",
       "      <th>num_boss</th>\n",
       "      <th>num_bracket</th>\n",
       "      <th>other</th>\n",
       "      <th>bend_num_by_radius</th>\n",
       "    </tr>\n",
       "  </thead>\n",
       "  <tbody>\n",
       "  </tbody>\n",
       "</table>\n",
       "</div>"
      ],
      "text/plain": [
       "Empty DataFrame\n",
       "Columns: [tube_assembly_id, material_id, diameter, wall, length, num_bends, bend_radius, end_a_1x, end_a_2x, end_x_1x, end_x_2x, end_a, end_x, num_boss, num_bracket, other, bend_num_by_radius]\n",
       "Index: []"
      ]
     },
     "execution_count": 93,
     "metadata": {},
     "output_type": "execute_result"
    }
   ],
   "source": [
    "df[ df[ 'material_id' ].isnull() ]"
   ]
  },
  {
   "cell_type": "markdown",
   "metadata": {},
   "source": [
    "##완료"
   ]
  },
  {
   "cell_type": "code",
   "execution_count": 94,
   "metadata": {
    "collapsed": false
   },
   "outputs": [],
   "source": [
    "del( df )\n",
    "# del( df_bill )\n",
    "# del( df_spec )"
   ]
  }
 ],
 "metadata": {
  "kernelspec": {
   "display_name": "Python 3",
   "language": "python",
   "name": "python3"
  },
  "language_info": {
   "codemirror_mode": {
    "name": "ipython",
    "version": 3
   },
   "file_extension": ".py",
   "mimetype": "text/x-python",
   "name": "python",
   "nbconvert_exporter": "python",
   "pygments_lexer": "ipython3",
   "version": "3.4.3"
  }
 },
 "nbformat": 4,
 "nbformat_minor": 0
}
