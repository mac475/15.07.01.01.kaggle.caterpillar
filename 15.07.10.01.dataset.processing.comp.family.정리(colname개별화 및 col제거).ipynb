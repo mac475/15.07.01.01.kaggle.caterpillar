{
 "cells": [
  {
   "cell_type": "code",
   "execution_count": 1,
   "metadata": {
    "collapsed": false
   },
   "outputs": [
    {
     "data": {
      "text/html": [
       "<style>\n",
       "    @font-face {\n",
       "        font-family: \"Computer Modern\", \"malgun gothic\";\n",
       "        src: url('http://mirrors.ctan.org/fonts/cm-unicode/fonts/otf/cmunss.otf');\n",
       "    }\n",
       "//    div.cell{\n",
       "//        width: 100%;\n",
       "//    }\n",
       "    // 아래의 div.container는 내가 임의로 추가한 style임\n",
       "//    div.container{\n",
       "//        width: 105%;\n",
       "//    }\n",
       "    ul {\n",
       "        line-height: 100%;\n",
       "        font-size: 100%;\n",
       "    }\n",
       "    li {\n",
       "        margin-bottom: 0.5em;\n",
       "    }\n",
       "    h1 {\n",
       "        font-family: Helvetica, serif, \"malgun gothic\";\n",
       "    }\n",
       "    h4{\n",
       "        margin-top: 12px;\n",
       "//        margin-bottom: 3px;\n",
       "       }\n",
       "    div.text_cell_render{\n",
       "//        font-family: Computer Modern, \"Helvetica Neue\", Arial, Helvetica, Geneva, sans-serif;\n",
       "        font-family: malgun gothic;\n",
       "        line-height: 140%;\n",
       "//        font-size: 100%;\n",
       "//        width: 100%;\n",
       "//        margin-left:auto;\n",
       "//        margin-right:auto;\n",
       "    }\n",
       "    .CodeMirror{\n",
       "            font-family: \"Source Code Pro\", source-code-pro,Consolas, monospace;\n",
       "    }\n",
       "/*    .prompt{\n",
       "        display: None;\n",
       "    }*/\n",
       "    .text_cell_render h5 {\n",
       "        font-family: malgun gothic;\n",
       "        font-weight: 300;\n",
       "        font-size: 16pt;\n",
       "        color: #4057A1;\n",
       "        font-style: italic;\n",
       "        margin-bottom: 0.5em;\n",
       "        margin-top: 0.5em;\n",
       "        display: block;\n",
       "    }\n",
       "    .warning{\n",
       "        color: rgb( 240, 20, 20 )\n",
       "        }\n",
       "</style>\n",
       "<script>\n",
       "    MathJax.Hub.Config({\n",
       "                        TeX: {\n",
       "                           extensions: [\"AMSmath.js\"]\n",
       "                           },\n",
       "                tex2jax: {\n",
       "                    inlineMath: [ ['$','$'], [\"\\\\(\",\"\\\\)\"] ],\n",
       "                    displayMath: [ ['$$','$$'], [\"\\\\[\",\"\\\\]\"] ]\n",
       "                },\n",
       "                displayAlign: 'center', // Change this to 'center' to center equations.\n",
       "//                \"HTML-CSS\": {\n",
       "//                    styles: {'.MathJax_Display': {\"margin\": 4}}\n",
       "//                }\n",
       "        });\n",
       "</script>"
      ],
      "text/plain": [
       "<IPython.core.display.HTML object>"
      ]
     },
     "execution_count": 1,
     "metadata": {},
     "output_type": "execute_result"
    }
   ],
   "source": [
    "# mac475의 ipython 표준 style을 적용함\n",
    "from IPython.core.display import HTML\n",
    "styles = open(\"../styles/custom.css\", \"r\").read()\n",
    "HTML( styles )"
   ]
  },
  {
   "cell_type": "markdown",
   "metadata": {},
   "source": [
    "#1. component 계열의 dataset 전체통합\n",
    "\n",
    "- component dataset의 merge 필요성\n",
    "\n",
    "    → tube → bill에서 발견되는 component 정보는 type별로 adaptor~threaded까지 다양한 종류별로 특성화된 feature를 보유\n",
    "    → 확보하여 분석목적\n",
    "    \n",
    "- 단, 각 component dataset을 보완필요 있는지 사전확인후, 적절한 작업의 병행필요\n",
    "\n",
    "-<font color='red'><b>본 dataset merge는 meta dataset들간의 통합임</b></font>\n",
    "\t\n",
    "<img src=\"images/04.comp.family.png\" style=\"display:inline; width: 100%\" />"
   ]
  },
  {
   "cell_type": "markdown",
   "metadata": {},
   "source": [
    "#2. 각 comp_ dataset내 feature name의 변경"
   ]
  },
  {
   "cell_type": "markdown",
   "metadata": {},
   "source": [
    "* 궁극적으로 components와 comp_ 로 시작하는 component family dataset들을 하나로 통합하기 위한 목적\n",
    "* pandas dataset merge시 동일한 column name에 대해서는 임의로 부여되기 때문에 이를 방지하기 위해 prefix 식별자를 추가함"
   ]
  },
  {
   "cell_type": "code",
   "execution_count": 2,
   "metadata": {
    "collapsed": false
   },
   "outputs": [],
   "source": [
    "import pandas as pd\n",
    "import numpy as np\n",
    "import os\n",
    "\n",
    "base_location = './dataset/01.original.dataset/'\n",
    "\n",
    "for root, dirs, files in os.walk( base_location ) :    # 특정 directory 하위를 순환\n",
    "    for file in files :\n",
    "        if file.startswith( 'comp_' ) :    # comp_ 계열 file만 대상으로 수행\n",
    "            prefix = file[5:-4] + '_'    # prefix 생성\n",
    "            df = pd.read_csv( base_location + file )\n",
    "            col_list = df.columns.values.tolist()    # dataframe의 column name list 생성\n",
    "            for col in col_list[1:] :\n",
    "                df.rename( columns = { col : prefix + col }, inplace = True )    # column name 변경  \n",
    "            df.to_csv( './dataset/comp.colname.changed/' + file, index = False )    # output\n",
    "            df = None"
   ]
  },
  {
   "cell_type": "markdown",
   "metadata": {},
   "source": [
    "#3. 각 dataset의 개별적 검토/ merge통한 feature 확장 및 누락값 처리"
   ]
  },
  {
   "cell_type": "markdown",
   "metadata": {},
   "source": [
    "#3.1 comp_adaptor"
   ]
  },
  {
   "cell_type": "code",
   "execution_count": 3,
   "metadata": {
    "collapsed": false
   },
   "outputs": [
    {
     "name": "stdout",
     "output_type": "stream",
     "text": [
      "component_id\n",
      "adaptor_component_type_id\n",
      "adaptor_adaptor_angle\n",
      "adaptor_overall_length\n",
      "adaptor_end_form_id_1\n",
      "adaptor_connection_type_id_1\n",
      "adaptor_length_1\n",
      "adaptor_thread_size_1\n",
      "adaptor_thread_pitch_1\n",
      "adaptor_nominal_size_1\n",
      "adaptor_end_form_id_2\n",
      "adaptor_connection_type_id_2\n",
      "adaptor_length_2\n",
      "adaptor_thread_size_2\n",
      "adaptor_thread_pitch_2\n",
      "adaptor_nominal_size_2\n",
      "adaptor_hex_size\n",
      "adaptor_unique_feature\n",
      "adaptor_orientation\n",
      "adaptor_weight\n"
     ]
    }
   ],
   "source": [
    "df = pd.read_csv( './dataset/comp.colname.changed/comp_adaptor.csv' )\n",
    "for col in df.columns.values.tolist() :    # 각 column의 검토\n",
    "    print( col )"
   ]
  },
  {
   "cell_type": "code",
   "execution_count": 4,
   "metadata": {
    "collapsed": false
   },
   "outputs": [
    {
     "data": {
      "text/plain": [
       "component_id                    25\n",
       "adaptor_component_type_id       25\n",
       "adaptor_adaptor_angle            1\n",
       "adaptor_overall_length          25\n",
       "adaptor_end_form_id_1           25\n",
       "adaptor_connection_type_id_1    24\n",
       "adaptor_length_1                 1\n",
       "adaptor_thread_size_1           17\n",
       "adaptor_thread_pitch_1          17\n",
       "adaptor_nominal_size_1           8\n",
       "adaptor_end_form_id_2           25\n",
       "adaptor_connection_type_id_2    24\n",
       "adaptor_length_2                 1\n",
       "adaptor_thread_size_2           23\n",
       "adaptor_thread_pitch_2          23\n",
       "adaptor_nominal_size_2           2\n",
       "adaptor_hex_size                17\n",
       "adaptor_unique_feature          25\n",
       "adaptor_orientation             25\n",
       "adaptor_weight                  23\n",
       "dtype: int64"
      ]
     },
     "execution_count": 4,
     "metadata": {},
     "output_type": "execute_result"
    }
   ],
   "source": [
    "df.count()"
   ]
  },
  {
   "cell_type": "markdown",
   "metadata": {},
   "source": [
    "* 누락값 많은 feature 제외"
   ]
  },
  {
   "cell_type": "code",
   "execution_count": 5,
   "metadata": {
    "collapsed": false
   },
   "outputs": [],
   "source": [
    "df.drop( [ 'adaptor_component_type_id',\n",
    "#            'adaptor_adaptor_angle' ,    # 개수가 적음 : 1개\n",
    "#            'adaptor_length_1',    # 개수가 적음 : 1개\n",
    "#            'adaptor_nominal_size_1',    # 개수가 적음 : 8개\n",
    "#            'adaptor_length_2',    # 개수가 적음 : 1개\n",
    "#            'adaptor_nominal_size_2'    # 개수가 적음 : 2개\n",
    "         ], axis = 1, inplace = True )"
   ]
  },
  {
   "cell_type": "code",
   "execution_count": 6,
   "metadata": {
    "collapsed": false
   },
   "outputs": [
    {
     "data": {
      "text/plain": [
       "component_id                    25\n",
       "adaptor_adaptor_angle            1\n",
       "adaptor_overall_length          25\n",
       "adaptor_end_form_id_1           25\n",
       "adaptor_connection_type_id_1    24\n",
       "adaptor_length_1                 1\n",
       "adaptor_thread_size_1           17\n",
       "adaptor_thread_pitch_1          17\n",
       "adaptor_nominal_size_1           8\n",
       "adaptor_end_form_id_2           25\n",
       "adaptor_connection_type_id_2    24\n",
       "adaptor_length_2                 1\n",
       "adaptor_thread_size_2           23\n",
       "adaptor_thread_pitch_2          23\n",
       "adaptor_nominal_size_2           2\n",
       "adaptor_hex_size                17\n",
       "adaptor_unique_feature          25\n",
       "adaptor_orientation             25\n",
       "adaptor_weight                  23\n",
       "dtype: int64"
      ]
     },
     "execution_count": 6,
     "metadata": {},
     "output_type": "execute_result"
    }
   ],
   "source": [
    "df.count()"
   ]
  },
  {
   "cell_type": "markdown",
   "metadata": {},
   "source": [
    "* numeric은 median, categorical은 판단하여 fill"
   ]
  },
  {
   "cell_type": "code",
   "execution_count": 7,
   "metadata": {
    "collapsed": false
   },
   "outputs": [],
   "source": [
    "################################\n",
    "# na_num_val = '0'\n",
    "na_num_val = 'median'\n",
    "# na_num_val = '-1'\n",
    "\n",
    "na_cat_val = 'NONE'\n",
    "# na_cat_val = 'top'\n",
    "################################\n",
    "\n",
    "def replace_na_value( sz, is_num ) :\n",
    "    global na_num_val\n",
    "    global na_cat_val\n",
    "    \n",
    "    if is_num == True :\n",
    "        if na_num_val == '0' :\n",
    "            val = 0\n",
    "        elif na_num_val == 'median' :\n",
    "            val = sz.median()\n",
    "        elif na_num_val == '-1' :\n",
    "            val = -1\n",
    "    else :\n",
    "        if na_cat_val == 'NONE' :\n",
    "            val = 'NONE'\n",
    "        elif na_cat_val == 'top' :\n",
    "            val = sz.value_counts()\n",
    "    \n",
    "    return val\n",
    "\n",
    "def replace_9999_value( p_df, colname ) :\n",
    "    sz = p_df[ colname ][ ( p_df[ colname ].notnull() ) & ( p_df[ colname ] != 9999 ) ]\n",
    "    val = sz.median()\n",
    "    return val"
   ]
  },
  {
   "cell_type": "code",
   "execution_count": 8,
   "metadata": {
    "collapsed": false
   },
   "outputs": [],
   "source": [
    "df[ 'adaptor_adaptor_angle' ].fillna( replace_na_value( df[ 'adaptor_adaptor_angle' ], True ), inplace = True )\n",
    "# df[ 'adaptor_overall_length' ].fillna( replace_na_value( df[ 'adaptor_overall_length' ], True ), inplace = True )\n",
    "df[ 'adaptor_connection_type_id_1' ].fillna( replace_na_value( df[ 'adaptor_connection_type_id_1' ], False ), inplace = True )\n",
    "df[ 'adaptor_length_1' ].fillna( replace_na_value( df[ 'adaptor_length_1' ], True ), inplace = True )\n",
    "df[ 'adaptor_thread_size_1' ].fillna( replace_na_value( df[ 'adaptor_thread_size_1' ], True ), inplace = True )\n",
    "df[ 'adaptor_thread_pitch_1' ].fillna( replace_na_value( df[ 'adaptor_thread_pitch_1' ], True ), inplace = True )\n",
    "df[ 'adaptor_nominal_size_1' ].fillna( replace_na_value( df[ 'adaptor_nominal_size_1' ], True ), inplace = True )\n",
    "df[ 'adaptor_connection_type_id_2' ].fillna( replace_na_value( df[ 'adaptor_connection_type_id_2' ], False ), inplace = True )\n",
    "df[ 'adaptor_length_2' ].fillna( replace_na_value( df[ 'adaptor_nominal_size_1' ], True ), inplace = True )\n",
    "df[ 'adaptor_thread_size_2' ].fillna( replace_na_value( df[ 'adaptor_thread_size_2' ], True ), inplace = True )\n",
    "df[ 'adaptor_thread_size_2' ].replace( to_replace = 9999,\n",
    "                                       value = replace_9999_value( df, 'adaptor_thread_size_2' ),\n",
    "                                       inplace = True )\n",
    "df[ 'adaptor_thread_pitch_2' ].fillna( replace_na_value( df[ 'adaptor_thread_pitch_2' ], True ), inplace = True )\n",
    "df[ 'adaptor_thread_pitch_2' ].replace( to_replace = 9999,\n",
    "                                        value = replace_9999_value( df, 'adaptor_thread_pitch_2' ),\n",
    "                                        inplace = True )\n",
    "df[ 'adaptor_nominal_size_2' ].fillna( replace_na_value( df[ 'adaptor_nominal_size_2' ], True ), inplace = True )\n",
    "df[ 'adaptor_hex_size' ].fillna( replace_na_value( df[ 'adaptor_hex_size' ], True ), inplace = True )\n",
    "dic = { 'Yes' : 'Y', 'No' : 'N' }\n",
    "df[ 'adaptor_unique_feature' ].replace( dic, inplace = True )\n",
    "df[ 'adaptor_orientation' ].replace( dic, inplace = True )\n",
    "df[ 'adaptor_weight' ].fillna( replace_na_value( df[ 'adaptor_weight' ], True ), inplace = True )"
   ]
  },
  {
   "cell_type": "code",
   "execution_count": 9,
   "metadata": {
    "collapsed": false
   },
   "outputs": [
    {
     "data": {
      "text/plain": [
       "component_id                    25\n",
       "adaptor_adaptor_angle           25\n",
       "adaptor_overall_length          25\n",
       "adaptor_end_form_id_1           25\n",
       "adaptor_connection_type_id_1    25\n",
       "adaptor_length_1                25\n",
       "adaptor_thread_size_1           25\n",
       "adaptor_thread_pitch_1          25\n",
       "adaptor_nominal_size_1          25\n",
       "adaptor_end_form_id_2           25\n",
       "adaptor_connection_type_id_2    25\n",
       "adaptor_length_2                25\n",
       "adaptor_thread_size_2           25\n",
       "adaptor_thread_pitch_2          25\n",
       "adaptor_nominal_size_2          25\n",
       "adaptor_hex_size                25\n",
       "adaptor_unique_feature          25\n",
       "adaptor_orientation             25\n",
       "adaptor_weight                  25\n",
       "dtype: int64"
      ]
     },
     "execution_count": 9,
     "metadata": {},
     "output_type": "execute_result"
    }
   ],
   "source": [
    "df.count()"
   ]
  },
  {
   "cell_type": "code",
   "execution_count": 10,
   "metadata": {
    "collapsed": false
   },
   "outputs": [
    {
     "name": "stdout",
     "output_type": "stream",
     "text": [
      "<class 'pandas.core.frame.DataFrame'>\n",
      "Int64Index: 25 entries, 0 to 24\n",
      "Data columns (total 19 columns):\n",
      "component_id                    25 non-null object\n",
      "adaptor_adaptor_angle           25 non-null float64\n",
      "adaptor_overall_length          25 non-null float64\n",
      "adaptor_end_form_id_1           25 non-null object\n",
      "adaptor_connection_type_id_1    25 non-null object\n",
      "adaptor_length_1                25 non-null float64\n",
      "adaptor_thread_size_1           25 non-null float64\n",
      "adaptor_thread_pitch_1          25 non-null float64\n",
      "adaptor_nominal_size_1          25 non-null float64\n",
      "adaptor_end_form_id_2           25 non-null object\n",
      "adaptor_connection_type_id_2    25 non-null object\n",
      "adaptor_length_2                25 non-null float64\n",
      "adaptor_thread_size_2           25 non-null float64\n",
      "adaptor_thread_pitch_2          25 non-null float64\n",
      "adaptor_nominal_size_2          25 non-null float64\n",
      "adaptor_hex_size                25 non-null float64\n",
      "adaptor_unique_feature          25 non-null object\n",
      "adaptor_orientation             25 non-null object\n",
      "adaptor_weight                  25 non-null float64\n",
      "dtypes: float64(12), object(7)\n",
      "memory usage: 3.9+ KB\n"
     ]
    }
   ],
   "source": [
    "df.info()"
   ]
  },
  {
   "cell_type": "code",
   "execution_count": 11,
   "metadata": {
    "collapsed": false
   },
   "outputs": [
    {
     "name": "stdout",
     "output_type": "stream",
     "text": [
      "<class 'pandas.core.frame.DataFrame'>\n",
      "Int64Index: 25 entries, 0 to 24\n",
      "Data columns (total 19 columns):\n",
      "component_id                    25 non-null object\n",
      "adaptor_adaptor_angle           25 non-null float64\n",
      "adaptor_overall_length          25 non-null float64\n",
      "adaptor_end_form_id_1           25 non-null object\n",
      "adaptor_connection_type_id_1    25 non-null object\n",
      "adaptor_length_1                25 non-null float64\n",
      "adaptor_thread_size_1           25 non-null float64\n",
      "adaptor_thread_pitch_1          25 non-null float64\n",
      "adaptor_nominal_size_1          25 non-null float64\n",
      "adaptor_end_form_id_2           25 non-null object\n",
      "adaptor_connection_type_id_2    25 non-null object\n",
      "adaptor_length_2                25 non-null float64\n",
      "adaptor_thread_size_2           25 non-null float64\n",
      "adaptor_thread_pitch_2          25 non-null float64\n",
      "adaptor_nominal_size_2          25 non-null float64\n",
      "adaptor_hex_size                25 non-null float64\n",
      "adaptor_unique_feature          25 non-null object\n",
      "adaptor_orientation             25 non-null object\n",
      "adaptor_weight                  25 non-null float64\n",
      "dtypes: float64(12), object(7)\n",
      "memory usage: 3.9+ KB\n"
     ]
    }
   ],
   "source": [
    "df.info()"
   ]
  },
  {
   "cell_type": "code",
   "execution_count": 12,
   "metadata": {
    "collapsed": false
   },
   "outputs": [
    {
     "data": {
      "text/plain": [
       "component_id                    25\n",
       "adaptor_adaptor_angle           25\n",
       "adaptor_overall_length          25\n",
       "adaptor_end_form_id_1           25\n",
       "adaptor_connection_type_id_1    25\n",
       "adaptor_length_1                25\n",
       "adaptor_thread_size_1           25\n",
       "adaptor_thread_pitch_1          25\n",
       "adaptor_nominal_size_1          25\n",
       "adaptor_end_form_id_2           25\n",
       "adaptor_connection_type_id_2    25\n",
       "adaptor_length_2                25\n",
       "adaptor_thread_size_2           25\n",
       "adaptor_thread_pitch_2          25\n",
       "adaptor_nominal_size_2          25\n",
       "adaptor_hex_size                25\n",
       "adaptor_unique_feature          25\n",
       "adaptor_orientation             25\n",
       "adaptor_weight                  25\n",
       "dtype: int64"
      ]
     },
     "execution_count": 12,
     "metadata": {},
     "output_type": "execute_result"
    }
   ],
   "source": [
    "df.count()"
   ]
  },
  {
   "cell_type": "code",
   "execution_count": 13,
   "metadata": {
    "collapsed": false
   },
   "outputs": [],
   "source": [
    "df.to_csv( './dataset/comp.verified/comp_adaptor.verified.csv', index = False )"
   ]
  },
  {
   "cell_type": "markdown",
   "metadata": {
    "collapsed": true
   },
   "source": [
    "."
   ]
  },
  {
   "cell_type": "markdown",
   "metadata": {
    "collapsed": true
   },
   "source": [
    "##3.2 comp_boss"
   ]
  },
  {
   "cell_type": "code",
   "execution_count": 14,
   "metadata": {
    "collapsed": false
   },
   "outputs": [
    {
     "name": "stdout",
     "output_type": "stream",
     "text": [
      "component_id\n",
      "boss_component_type_id\n",
      "boss_type\n",
      "boss_connection_type_id\n",
      "boss_outside_shape\n",
      "boss_base_type\n",
      "boss_height_over_tube\n",
      "boss_bolt_pattern_long\n",
      "boss_bolt_pattern_wide\n",
      "boss_groove\n",
      "boss_base_diameter\n",
      "boss_shoulder_diameter\n",
      "boss_unique_feature\n",
      "boss_orientation\n",
      "boss_weight\n"
     ]
    }
   ],
   "source": [
    "df = pd.read_csv( './dataset/comp.colname.changed/comp_boss.csv' )\n",
    "for col in df.columns.values.tolist() :    # 각 column의 검토\n",
    "    print( col )    "
   ]
  },
  {
   "cell_type": "code",
   "execution_count": 15,
   "metadata": {
    "collapsed": false
   },
   "outputs": [
    {
     "data": {
      "text/plain": [
       "component_id               147\n",
       "boss_component_type_id     147\n",
       "boss_type                  124\n",
       "boss_connection_type_id    147\n",
       "boss_outside_shape         124\n",
       "boss_base_type             124\n",
       "boss_height_over_tube      147\n",
       "boss_bolt_pattern_long      23\n",
       "boss_bolt_pattern_wide      17\n",
       "boss_groove                147\n",
       "boss_base_diameter          57\n",
       "boss_shoulder_diameter      30\n",
       "boss_unique_feature        147\n",
       "boss_orientation           147\n",
       "boss_weight                145\n",
       "dtype: int64"
      ]
     },
     "execution_count": 15,
     "metadata": {},
     "output_type": "execute_result"
    }
   ],
   "source": [
    "df.count()"
   ]
  },
  {
   "cell_type": "code",
   "execution_count": 16,
   "metadata": {
    "collapsed": false
   },
   "outputs": [],
   "source": [
    "df.drop( [ 'boss_component_type_id',\n",
    "#            'boss_bolt_pattern_long',    # 개수가 적음 : 23개\n",
    "#            'boss_bolt_pattern_wide',    # 개수가 적음 : 17개\n",
    "#            'boss_base_diameter',        # 개수가 적음 : 57개\n",
    "#            'boss_shoulder_diameter',    # 개수가 적음 : 30개\n",
    "#            'boss_orientation',    # Yes만 있음\n",
    "         ],\n",
    "           axis = 1, inplace = True )"
   ]
  },
  {
   "cell_type": "code",
   "execution_count": 17,
   "metadata": {
    "collapsed": false
   },
   "outputs": [],
   "source": [
    "df[ 'boss_type' ].fillna( replace_na_value( df[ 'boss_type' ], False ), inplace = True )\n",
    "df[ 'boss_outside_shape' ].fillna( replace_na_value( df[ 'boss_outside_shape' ], False ), inplace = True )\n",
    "df[ 'boss_base_type' ].fillna( replace_na_value( df[ 'boss_base_type' ], False ), inplace = True )\n",
    "df[ 'boss_height_over_tube' ].replace( to_replace = 9999,\n",
    "                                       value = replace_9999_value( df, 'boss_height_over_tube' ),\n",
    "                                       inplace = True\n",
    "                                     )\n",
    "df[ 'boss_bolt_pattern_long' ].fillna( replace_na_value( df[ 'boss_bolt_pattern_long' ], True ), inplace = True )\n",
    "df[ 'boss_bolt_pattern_wide' ].fillna( replace_na_value( df[ 'boss_bolt_pattern_wide' ], True ), inplace = True )\n",
    "df[ 'boss_groove' ].replace( dic, inplace = True )\n",
    "df[ 'boss_base_diameter' ].fillna( replace_na_value( df[ 'boss_base_diameter' ], True ), inplace = True )\n",
    "df[ 'boss_shoulder_diameter' ].fillna( replace_na_value( df[ 'boss_shoulder_diameter' ], True ), inplace = True )\n",
    "df[ 'boss_unique_feature' ].replace( dic, inplace = True )\n",
    "df[ 'boss_orientation' ].replace( dic, inplace = True )\n",
    "df[ 'boss_weight' ].fillna( replace_na_value( df[ 'boss_weight' ], True ), inplace = True )"
   ]
  },
  {
   "cell_type": "code",
   "execution_count": 18,
   "metadata": {
    "collapsed": true
   },
   "outputs": [],
   "source": [
    "# boss의 부피를 추정\n",
    "# df[ 'boss_volume' ] = df[ 'boss_bolt_pattern_long' ] * df[ 'boss_bolt_pattern_wide' ] * df[ 'boss_height_over_tube' ]"
   ]
  },
  {
   "cell_type": "code",
   "execution_count": 19,
   "metadata": {
    "collapsed": false
   },
   "outputs": [
    {
     "name": "stdout",
     "output_type": "stream",
     "text": [
      "<class 'pandas.core.frame.DataFrame'>\n",
      "Int64Index: 147 entries, 0 to 146\n",
      "Data columns (total 14 columns):\n",
      "component_id               147 non-null object\n",
      "boss_type                  147 non-null object\n",
      "boss_connection_type_id    147 non-null object\n",
      "boss_outside_shape         147 non-null object\n",
      "boss_base_type             147 non-null object\n",
      "boss_height_over_tube      147 non-null float64\n",
      "boss_bolt_pattern_long     147 non-null float64\n",
      "boss_bolt_pattern_wide     147 non-null float64\n",
      "boss_groove                147 non-null object\n",
      "boss_base_diameter         147 non-null float64\n",
      "boss_shoulder_diameter     147 non-null float64\n",
      "boss_unique_feature        147 non-null object\n",
      "boss_orientation           147 non-null object\n",
      "boss_weight                147 non-null float64\n",
      "dtypes: float64(6), object(8)\n",
      "memory usage: 17.2+ KB\n"
     ]
    }
   ],
   "source": [
    "df.info()"
   ]
  },
  {
   "cell_type": "code",
   "execution_count": 20,
   "metadata": {
    "collapsed": false
   },
   "outputs": [
    {
     "data": {
      "text/plain": [
       "component_id               147\n",
       "boss_type                  147\n",
       "boss_connection_type_id    147\n",
       "boss_outside_shape         147\n",
       "boss_base_type             147\n",
       "boss_height_over_tube      147\n",
       "boss_bolt_pattern_long     147\n",
       "boss_bolt_pattern_wide     147\n",
       "boss_groove                147\n",
       "boss_base_diameter         147\n",
       "boss_shoulder_diameter     147\n",
       "boss_unique_feature        147\n",
       "boss_orientation           147\n",
       "boss_weight                147\n",
       "dtype: int64"
      ]
     },
     "execution_count": 20,
     "metadata": {},
     "output_type": "execute_result"
    }
   ],
   "source": [
    "df.count()"
   ]
  },
  {
   "cell_type": "code",
   "execution_count": 21,
   "metadata": {
    "collapsed": true
   },
   "outputs": [],
   "source": [
    "df.to_csv( './dataset/comp.verified/comp_boss.verified.csv', index = False )"
   ]
  },
  {
   "cell_type": "markdown",
   "metadata": {},
   "source": [
    "."
   ]
  },
  {
   "cell_type": "markdown",
   "metadata": {},
   "source": [
    "##3.3 comp_elbow"
   ]
  },
  {
   "cell_type": "code",
   "execution_count": 22,
   "metadata": {
    "collapsed": false
   },
   "outputs": [
    {
     "name": "stdout",
     "output_type": "stream",
     "text": [
      "component_id\n",
      "elbow_component_type_id\n",
      "elbow_bolt_pattern_long\n",
      "elbow_bolt_pattern_wide\n",
      "elbow_extension_length\n",
      "elbow_overall_length\n",
      "elbow_thickness\n",
      "elbow_drop_length\n",
      "elbow_elbow_angle\n",
      "elbow_mj_class_code\n",
      "elbow_mj_plug_class_code\n",
      "elbow_plug_diameter\n",
      "elbow_groove\n",
      "elbow_unique_feature\n",
      "elbow_orientation\n",
      "elbow_weight\n"
     ]
    }
   ],
   "source": [
    "df = pd.read_csv( './dataset/comp.colname.changed/comp_elbow.csv' )\n",
    "for col in df.columns.values.tolist() :    # 각 column의 검토\n",
    "    print( col )    "
   ]
  },
  {
   "cell_type": "code",
   "execution_count": 23,
   "metadata": {
    "collapsed": false
   },
   "outputs": [
    {
     "data": {
      "text/plain": [
       "component_id                178\n",
       "elbow_component_type_id     178\n",
       "elbow_bolt_pattern_long     171\n",
       "elbow_bolt_pattern_wide     138\n",
       "elbow_extension_length      170\n",
       "elbow_overall_length        175\n",
       "elbow_thickness             171\n",
       "elbow_drop_length           171\n",
       "elbow_elbow_angle           130\n",
       "elbow_mj_class_code          41\n",
       "elbow_mj_plug_class_code     40\n",
       "elbow_plug_diameter           7\n",
       "elbow_groove                178\n",
       "elbow_unique_feature        178\n",
       "elbow_orientation           178\n",
       "elbow_weight                176\n",
       "dtype: int64"
      ]
     },
     "execution_count": 23,
     "metadata": {},
     "output_type": "execute_result"
    }
   ],
   "source": [
    "df.count()"
   ]
  },
  {
   "cell_type": "code",
   "execution_count": 24,
   "metadata": {
    "collapsed": false
   },
   "outputs": [
    {
     "data": {
      "text/html": [
       "<div style=\"max-height:1000px;max-width:1500px;overflow:auto;\">\n",
       "<table border=\"1\" class=\"dataframe\">\n",
       "  <thead>\n",
       "    <tr style=\"text-align: right;\">\n",
       "      <th></th>\n",
       "      <th>elbow_bolt_pattern_long</th>\n",
       "      <th>elbow_bolt_pattern_wide</th>\n",
       "      <th>elbow_extension_length</th>\n",
       "      <th>elbow_overall_length</th>\n",
       "      <th>elbow_thickness</th>\n",
       "      <th>elbow_drop_length</th>\n",
       "      <th>elbow_elbow_angle</th>\n",
       "      <th>elbow_plug_diameter</th>\n",
       "      <th>elbow_weight</th>\n",
       "    </tr>\n",
       "  </thead>\n",
       "  <tbody>\n",
       "    <tr>\n",
       "      <th>count</th>\n",
       "      <td> 171.000000</td>\n",
       "      <td> 138.000000</td>\n",
       "      <td> 170.000000</td>\n",
       "      <td> 175.000000</td>\n",
       "      <td> 171.000000</td>\n",
       "      <td>  171.000000</td>\n",
       "      <td> 130.000000</td>\n",
       "      <td>  7.000000</td>\n",
       "      <td> 176.000000</td>\n",
       "    </tr>\n",
       "    <tr>\n",
       "      <th>mean</th>\n",
       "      <td>  63.624854</td>\n",
       "      <td>  33.242826</td>\n",
       "      <td>  48.724647</td>\n",
       "      <td>  83.251657</td>\n",
       "      <td>  46.552398</td>\n",
       "      <td>   89.470526</td>\n",
       "      <td>  91.618077</td>\n",
       "      <td> 50.142857</td>\n",
       "      <td>   1.759369</td>\n",
       "    </tr>\n",
       "    <tr>\n",
       "      <th>std</th>\n",
       "      <td>  17.217936</td>\n",
       "      <td>  12.497652</td>\n",
       "      <td>  15.134788</td>\n",
       "      <td>  28.720575</td>\n",
       "      <td>  23.972189</td>\n",
       "      <td>  762.389391</td>\n",
       "      <td>   8.433971</td>\n",
       "      <td> 19.445896</td>\n",
       "      <td>   1.916640</td>\n",
       "    </tr>\n",
       "    <tr>\n",
       "      <th>min</th>\n",
       "      <td>  36.070000</td>\n",
       "      <td>  17.480000</td>\n",
       "      <td>  16.500000</td>\n",
       "      <td>  28.000000</td>\n",
       "      <td>   7.000000</td>\n",
       "      <td>    7.900000</td>\n",
       "      <td>  90.000000</td>\n",
       "      <td> 25.000000</td>\n",
       "      <td>   0.064000</td>\n",
       "    </tr>\n",
       "    <tr>\n",
       "      <th>25%</th>\n",
       "      <td>  52.370000</td>\n",
       "      <td>  26.190000</td>\n",
       "      <td>  39.000000</td>\n",
       "      <td>  64.300000</td>\n",
       "      <td>  30.000000</td>\n",
       "      <td>   22.325000</td>\n",
       "      <td>  90.000000</td>\n",
       "      <td> 35.000000</td>\n",
       "      <td>   0.663000</td>\n",
       "    </tr>\n",
       "    <tr>\n",
       "      <th>50%</th>\n",
       "      <td>  58.700000</td>\n",
       "      <td>  30.180000</td>\n",
       "      <td>  49.160000</td>\n",
       "      <td>  78.100000</td>\n",
       "      <td>  46.000000</td>\n",
       "      <td>   26.920000</td>\n",
       "      <td>  90.000000</td>\n",
       "      <td> 50.000000</td>\n",
       "      <td>   1.196500</td>\n",
       "    </tr>\n",
       "    <tr>\n",
       "      <th>75%</th>\n",
       "      <td>  69.900000</td>\n",
       "      <td>  35.700000</td>\n",
       "      <td>  54.875000</td>\n",
       "      <td> 100.000000</td>\n",
       "      <td>  58.750000</td>\n",
       "      <td>   35.100000</td>\n",
       "      <td>  90.000000</td>\n",
       "      <td> 65.000000</td>\n",
       "      <td>   1.884250</td>\n",
       "    </tr>\n",
       "    <tr>\n",
       "      <th>max</th>\n",
       "      <td> 152.400000</td>\n",
       "      <td>  92.080000</td>\n",
       "      <td> 125.000000</td>\n",
       "      <td> 190.550000</td>\n",
       "      <td> 127.700000</td>\n",
       "      <td> 9999.000000</td>\n",
       "      <td> 169.250000</td>\n",
       "      <td> 76.000000</td>\n",
       "      <td>  10.190000</td>\n",
       "    </tr>\n",
       "  </tbody>\n",
       "</table>\n",
       "</div>"
      ],
      "text/plain": [
       "       elbow_bolt_pattern_long  elbow_bolt_pattern_wide  \\\n",
       "count               171.000000               138.000000   \n",
       "mean                 63.624854                33.242826   \n",
       "std                  17.217936                12.497652   \n",
       "min                  36.070000                17.480000   \n",
       "25%                  52.370000                26.190000   \n",
       "50%                  58.700000                30.180000   \n",
       "75%                  69.900000                35.700000   \n",
       "max                 152.400000                92.080000   \n",
       "\n",
       "       elbow_extension_length  elbow_overall_length  elbow_thickness  \\\n",
       "count              170.000000            175.000000       171.000000   \n",
       "mean                48.724647             83.251657        46.552398   \n",
       "std                 15.134788             28.720575        23.972189   \n",
       "min                 16.500000             28.000000         7.000000   \n",
       "25%                 39.000000             64.300000        30.000000   \n",
       "50%                 49.160000             78.100000        46.000000   \n",
       "75%                 54.875000            100.000000        58.750000   \n",
       "max                125.000000            190.550000       127.700000   \n",
       "\n",
       "       elbow_drop_length  elbow_elbow_angle  elbow_plug_diameter  elbow_weight  \n",
       "count         171.000000         130.000000             7.000000    176.000000  \n",
       "mean           89.470526          91.618077            50.142857      1.759369  \n",
       "std           762.389391           8.433971            19.445896      1.916640  \n",
       "min             7.900000          90.000000            25.000000      0.064000  \n",
       "25%            22.325000          90.000000            35.000000      0.663000  \n",
       "50%            26.920000          90.000000            50.000000      1.196500  \n",
       "75%            35.100000          90.000000            65.000000      1.884250  \n",
       "max          9999.000000         169.250000            76.000000     10.190000  "
      ]
     },
     "execution_count": 24,
     "metadata": {},
     "output_type": "execute_result"
    }
   ],
   "source": [
    "df.describe()"
   ]
  },
  {
   "cell_type": "code",
   "execution_count": 25,
   "metadata": {
    "collapsed": true
   },
   "outputs": [],
   "source": [
    "df[ 'elbow_bolt_pattern_long' ].fillna( replace_na_value( df[ 'elbow_bolt_pattern_long' ], True ), inplace = True )\n",
    "df[ 'elbow_bolt_pattern_wide' ].fillna( replace_na_value( df[ 'elbow_bolt_pattern_wide' ], True ), inplace = True )\n",
    "df[ 'elbow_extension_length' ].fillna( replace_na_value( df[ 'elbow_extension_length' ], True ), inplace = True )\n",
    "df[ 'elbow_overall_length' ].fillna( replace_na_value( df[ 'elbow_overall_length' ], True ), inplace = True )\n",
    "df[ 'elbow_thickness' ].fillna( replace_na_value( df[ 'elbow_thickness' ], True ), inplace = True )\n",
    "df[ 'elbow_drop_length' ].fillna( replace_na_value( df[ 'elbow_drop_length' ], True ), inplace = True )\n",
    "df[ 'elbow_drop_length' ].replace( to_replace = 9999,\n",
    "                                   value = replace_9999_value( df, 'elbow_drop_length' ),\n",
    "                                   inplace = True )\n",
    "df[ 'elbow_elbow_angle' ].fillna( replace_na_value( df[ 'elbow_elbow_angle' ], True ), inplace = True )\n",
    "df[ 'elbow_mj_class_code' ].fillna( replace_na_value( df[ 'elbow_mj_class_code' ], False ), inplace = True )\n",
    "df[ 'elbow_mj_plug_class_code' ].fillna( replace_na_value( df[ 'elbow_mj_plug_class_code' ], False ), inplace = True )\n",
    "df[ 'elbow_plug_diameter' ].fillna( replace_na_value( df[ 'elbow_plug_diameter' ], True ), inplace = True )\n",
    "df[ 'elbow_groove' ].replace( dic, inplace = True )\n",
    "df[ 'elbow_unique_feature' ].replace( dic, inplace = True )\n",
    "df[ 'elbow_orientation' ].replace( dic, inplace = True )\n",
    "df[ 'elbow_weight' ].fillna( replace_na_value( df[ 'elbow_weight' ], True ), inplace = True )"
   ]
  },
  {
   "cell_type": "code",
   "execution_count": 26,
   "metadata": {
    "collapsed": true
   },
   "outputs": [],
   "source": [
    "# elbow의 부피를 추정\n",
    "# df[ 'elbow_volume' ] = df[ 'elbow_bolt_pattern_long' ] * df[ 'elbow_bolt_pattern_wide' ] * df[ 'elbow_thickness' ]"
   ]
  },
  {
   "cell_type": "code",
   "execution_count": 27,
   "metadata": {
    "collapsed": true
   },
   "outputs": [],
   "source": [
    "df.drop( [ 'elbow_component_type_id',\n",
    "#            'elbow_mj_class_code',    # 개수가 적음 : 41개\n",
    "#            'elbow_mj_plug_class_code',    # 개수가 적음 : 40개\n",
    "#            'elbow_plug_diameter',    # 개수가 적음 : 7개\n",
    "         ],\n",
    "           axis = 1, inplace = True )"
   ]
  },
  {
   "cell_type": "code",
   "execution_count": 28,
   "metadata": {
    "collapsed": false
   },
   "outputs": [
    {
     "data": {
      "text/plain": [
       "component_id                178\n",
       "elbow_bolt_pattern_long     178\n",
       "elbow_bolt_pattern_wide     178\n",
       "elbow_extension_length      178\n",
       "elbow_overall_length        178\n",
       "elbow_thickness             178\n",
       "elbow_drop_length           178\n",
       "elbow_elbow_angle           178\n",
       "elbow_mj_class_code         178\n",
       "elbow_mj_plug_class_code    178\n",
       "elbow_plug_diameter         178\n",
       "elbow_groove                178\n",
       "elbow_unique_feature        178\n",
       "elbow_orientation           178\n",
       "elbow_weight                178\n",
       "dtype: int64"
      ]
     },
     "execution_count": 28,
     "metadata": {},
     "output_type": "execute_result"
    }
   ],
   "source": [
    "df.count()"
   ]
  },
  {
   "cell_type": "code",
   "execution_count": 29,
   "metadata": {
    "collapsed": false
   },
   "outputs": [
    {
     "data": {
      "text/html": [
       "<div style=\"max-height:1000px;max-width:1500px;overflow:auto;\">\n",
       "<table border=\"1\" class=\"dataframe\">\n",
       "  <thead>\n",
       "    <tr style=\"text-align: right;\">\n",
       "      <th></th>\n",
       "      <th>elbow_bolt_pattern_long</th>\n",
       "      <th>elbow_bolt_pattern_wide</th>\n",
       "      <th>elbow_extension_length</th>\n",
       "      <th>elbow_overall_length</th>\n",
       "      <th>elbow_thickness</th>\n",
       "      <th>elbow_drop_length</th>\n",
       "      <th>elbow_elbow_angle</th>\n",
       "      <th>elbow_plug_diameter</th>\n",
       "      <th>elbow_weight</th>\n",
       "    </tr>\n",
       "  </thead>\n",
       "  <tbody>\n",
       "    <tr>\n",
       "      <th>count</th>\n",
       "      <td> 178.000000</td>\n",
       "      <td> 178.000000</td>\n",
       "      <td> 178.000000</td>\n",
       "      <td> 178.000000</td>\n",
       "      <td> 178.000000</td>\n",
       "      <td> 178.000000</td>\n",
       "      <td> 178.000000</td>\n",
       "      <td> 178.000000</td>\n",
       "      <td> 178.000000</td>\n",
       "    </tr>\n",
       "    <tr>\n",
       "      <th>mean</th>\n",
       "      <td>  63.431180</td>\n",
       "      <td>  32.554551</td>\n",
       "      <td>  48.744213</td>\n",
       "      <td>  83.164831</td>\n",
       "      <td>  46.530674</td>\n",
       "      <td>  30.987753</td>\n",
       "      <td>  91.181742</td>\n",
       "      <td>  50.005618</td>\n",
       "      <td>   1.753045</td>\n",
       "    </tr>\n",
       "    <tr>\n",
       "      <th>std</th>\n",
       "      <td>  16.901317</td>\n",
       "      <td>  11.069662</td>\n",
       "      <td>  14.789081</td>\n",
       "      <td>  28.483904</td>\n",
       "      <td>  23.493628</td>\n",
       "      <td>  13.882777</td>\n",
       "      <td>   7.236050</td>\n",
       "      <td>   3.580388</td>\n",
       "      <td>   1.906709</td>\n",
       "    </tr>\n",
       "    <tr>\n",
       "      <th>min</th>\n",
       "      <td>  36.070000</td>\n",
       "      <td>  17.480000</td>\n",
       "      <td>  16.500000</td>\n",
       "      <td>  28.000000</td>\n",
       "      <td>   7.000000</td>\n",
       "      <td>   7.900000</td>\n",
       "      <td>  90.000000</td>\n",
       "      <td>  25.000000</td>\n",
       "      <td>   0.064000</td>\n",
       "    </tr>\n",
       "    <tr>\n",
       "      <th>25%</th>\n",
       "      <td>  52.370000</td>\n",
       "      <td>  26.200000</td>\n",
       "      <td>  39.000000</td>\n",
       "      <td>  64.387500</td>\n",
       "      <td>  31.812500</td>\n",
       "      <td>  22.387500</td>\n",
       "      <td>  90.000000</td>\n",
       "      <td>  50.000000</td>\n",
       "      <td>   0.669500</td>\n",
       "    </tr>\n",
       "    <tr>\n",
       "      <th>50%</th>\n",
       "      <td>  58.700000</td>\n",
       "      <td>  30.180000</td>\n",
       "      <td>  49.160000</td>\n",
       "      <td>  78.100000</td>\n",
       "      <td>  46.000000</td>\n",
       "      <td>  26.920000</td>\n",
       "      <td>  90.000000</td>\n",
       "      <td>  50.000000</td>\n",
       "      <td>   1.196500</td>\n",
       "    </tr>\n",
       "    <tr>\n",
       "      <th>75%</th>\n",
       "      <td>  69.900000</td>\n",
       "      <td>  31.800000</td>\n",
       "      <td>  54.007500</td>\n",
       "      <td> 100.000000</td>\n",
       "      <td>  57.500000</td>\n",
       "      <td>  35.000000</td>\n",
       "      <td>  90.000000</td>\n",
       "      <td>  50.000000</td>\n",
       "      <td>   1.876000</td>\n",
       "    </tr>\n",
       "    <tr>\n",
       "      <th>max</th>\n",
       "      <td> 152.400000</td>\n",
       "      <td>  92.080000</td>\n",
       "      <td> 125.000000</td>\n",
       "      <td> 190.550000</td>\n",
       "      <td> 127.700000</td>\n",
       "      <td> 100.000000</td>\n",
       "      <td> 169.250000</td>\n",
       "      <td>  76.000000</td>\n",
       "      <td>  10.190000</td>\n",
       "    </tr>\n",
       "  </tbody>\n",
       "</table>\n",
       "</div>"
      ],
      "text/plain": [
       "       elbow_bolt_pattern_long  elbow_bolt_pattern_wide  \\\n",
       "count               178.000000               178.000000   \n",
       "mean                 63.431180                32.554551   \n",
       "std                  16.901317                11.069662   \n",
       "min                  36.070000                17.480000   \n",
       "25%                  52.370000                26.200000   \n",
       "50%                  58.700000                30.180000   \n",
       "75%                  69.900000                31.800000   \n",
       "max                 152.400000                92.080000   \n",
       "\n",
       "       elbow_extension_length  elbow_overall_length  elbow_thickness  \\\n",
       "count              178.000000            178.000000       178.000000   \n",
       "mean                48.744213             83.164831        46.530674   \n",
       "std                 14.789081             28.483904        23.493628   \n",
       "min                 16.500000             28.000000         7.000000   \n",
       "25%                 39.000000             64.387500        31.812500   \n",
       "50%                 49.160000             78.100000        46.000000   \n",
       "75%                 54.007500            100.000000        57.500000   \n",
       "max                125.000000            190.550000       127.700000   \n",
       "\n",
       "       elbow_drop_length  elbow_elbow_angle  elbow_plug_diameter  elbow_weight  \n",
       "count         178.000000         178.000000           178.000000    178.000000  \n",
       "mean           30.987753          91.181742            50.005618      1.753045  \n",
       "std            13.882777           7.236050             3.580388      1.906709  \n",
       "min             7.900000          90.000000            25.000000      0.064000  \n",
       "25%            22.387500          90.000000            50.000000      0.669500  \n",
       "50%            26.920000          90.000000            50.000000      1.196500  \n",
       "75%            35.000000          90.000000            50.000000      1.876000  \n",
       "max           100.000000         169.250000            76.000000     10.190000  "
      ]
     },
     "execution_count": 29,
     "metadata": {},
     "output_type": "execute_result"
    }
   ],
   "source": [
    "df.describe()"
   ]
  },
  {
   "cell_type": "code",
   "execution_count": 30,
   "metadata": {
    "collapsed": true
   },
   "outputs": [],
   "source": [
    "df.to_csv( './dataset/comp.verified/comp_elbow.verified.csv', index = False )"
   ]
  },
  {
   "cell_type": "markdown",
   "metadata": {},
   "source": [
    "."
   ]
  },
  {
   "cell_type": "markdown",
   "metadata": {},
   "source": [
    "##3.4 comp_float"
   ]
  },
  {
   "cell_type": "code",
   "execution_count": 31,
   "metadata": {
    "collapsed": false
   },
   "outputs": [
    {
     "name": "stdout",
     "output_type": "stream",
     "text": [
      "component_id\n",
      "float_component_type_id\n",
      "float_bolt_pattern_long\n",
      "float_bolt_pattern_wide\n",
      "float_thickness\n",
      "float_orientation\n",
      "float_weight\n"
     ]
    }
   ],
   "source": [
    "df = pd.read_csv( './dataset/comp.colname.changed/comp_float.csv' )\n",
    "for col in df.columns.values.tolist() :    # 각 column의 검토\n",
    "    print( col )    "
   ]
  },
  {
   "cell_type": "code",
   "execution_count": 32,
   "metadata": {
    "collapsed": false
   },
   "outputs": [
    {
     "data": {
      "text/plain": [
       "component_id               16\n",
       "float_component_type_id    16\n",
       "float_bolt_pattern_long    16\n",
       "float_bolt_pattern_wide    16\n",
       "float_thickness            16\n",
       "float_orientation          16\n",
       "float_weight               16\n",
       "dtype: int64"
      ]
     },
     "execution_count": 32,
     "metadata": {},
     "output_type": "execute_result"
    }
   ],
   "source": [
    "df.count()"
   ]
  },
  {
   "cell_type": "code",
   "execution_count": 33,
   "metadata": {
    "collapsed": false
   },
   "outputs": [
    {
     "data": {
      "text/html": [
       "<div style=\"max-height:1000px;max-width:1500px;overflow:auto;\">\n",
       "<table border=\"1\" class=\"dataframe\">\n",
       "  <thead>\n",
       "    <tr style=\"text-align: right;\">\n",
       "      <th></th>\n",
       "      <th>float_bolt_pattern_long</th>\n",
       "      <th>float_bolt_pattern_wide</th>\n",
       "      <th>float_thickness</th>\n",
       "      <th>float_weight</th>\n",
       "    </tr>\n",
       "  </thead>\n",
       "  <tbody>\n",
       "    <tr>\n",
       "      <th>count</th>\n",
       "      <td>  16.000000</td>\n",
       "      <td> 16.000000</td>\n",
       "      <td> 16.000000</td>\n",
       "      <td> 16.000000</td>\n",
       "    </tr>\n",
       "    <tr>\n",
       "      <th>mean</th>\n",
       "      <td>  80.310000</td>\n",
       "      <td> 43.288125</td>\n",
       "      <td> 23.878125</td>\n",
       "      <td>  1.147938</td>\n",
       "    </tr>\n",
       "    <tr>\n",
       "      <th>std</th>\n",
       "      <td>  32.713751</td>\n",
       "      <td> 23.786334</td>\n",
       "      <td>  6.574115</td>\n",
       "      <td>  1.095662</td>\n",
       "    </tr>\n",
       "    <tr>\n",
       "      <th>min</th>\n",
       "      <td>  47.620000</td>\n",
       "      <td> 17.000000</td>\n",
       "      <td> 14.200000</td>\n",
       "      <td>  0.230000</td>\n",
       "    </tr>\n",
       "    <tr>\n",
       "      <th>25%</th>\n",
       "      <td>  57.140000</td>\n",
       "      <td> 26.197500</td>\n",
       "      <td> 19.500000</td>\n",
       "      <td>  0.432500</td>\n",
       "    </tr>\n",
       "    <tr>\n",
       "      <th>50%</th>\n",
       "      <td>  64.325000</td>\n",
       "      <td> 30.190000</td>\n",
       "      <td> 23.500000</td>\n",
       "      <td>  0.557500</td>\n",
       "    </tr>\n",
       "    <tr>\n",
       "      <th>75%</th>\n",
       "      <td> 108.785000</td>\n",
       "      <td> 63.910000</td>\n",
       "      <td> 28.000000</td>\n",
       "      <td>  1.905750</td>\n",
       "    </tr>\n",
       "    <tr>\n",
       "      <th>max</th>\n",
       "      <td> 148.000000</td>\n",
       "      <td> 96.000000</td>\n",
       "      <td> 36.500000</td>\n",
       "      <td>  4.060000</td>\n",
       "    </tr>\n",
       "  </tbody>\n",
       "</table>\n",
       "</div>"
      ],
      "text/plain": [
       "       float_bolt_pattern_long  float_bolt_pattern_wide  float_thickness  \\\n",
       "count                16.000000                16.000000        16.000000   \n",
       "mean                 80.310000                43.288125        23.878125   \n",
       "std                  32.713751                23.786334         6.574115   \n",
       "min                  47.620000                17.000000        14.200000   \n",
       "25%                  57.140000                26.197500        19.500000   \n",
       "50%                  64.325000                30.190000        23.500000   \n",
       "75%                 108.785000                63.910000        28.000000   \n",
       "max                 148.000000                96.000000        36.500000   \n",
       "\n",
       "       float_weight  \n",
       "count     16.000000  \n",
       "mean       1.147938  \n",
       "std        1.095662  \n",
       "min        0.230000  \n",
       "25%        0.432500  \n",
       "50%        0.557500  \n",
       "75%        1.905750  \n",
       "max        4.060000  "
      ]
     },
     "execution_count": 33,
     "metadata": {},
     "output_type": "execute_result"
    }
   ],
   "source": [
    "df.describe()"
   ]
  },
  {
   "cell_type": "code",
   "execution_count": 34,
   "metadata": {
    "collapsed": true
   },
   "outputs": [],
   "source": [
    "df.drop( [ 'float_component_type_id' ], axis = 1, inplace = True )"
   ]
  },
  {
   "cell_type": "code",
   "execution_count": 35,
   "metadata": {
    "collapsed": true
   },
   "outputs": [],
   "source": [
    "df[ 'float_orientation' ].replace( dic, inplace = True )"
   ]
  },
  {
   "cell_type": "code",
   "execution_count": 36,
   "metadata": {
    "collapsed": true
   },
   "outputs": [],
   "source": [
    "# float의 부피를 추정한다\n",
    "# df[ 'float_volume' ] = df[ 'float_bolt_pattern_long' ] * df[ 'float_bolt_pattern_wide' ] * df[ 'float_thickness' ]"
   ]
  },
  {
   "cell_type": "code",
   "execution_count": 37,
   "metadata": {
    "collapsed": true
   },
   "outputs": [],
   "source": [
    "df.to_csv( './dataset/comp.verified/comp_float.verified.csv', index = False )"
   ]
  },
  {
   "cell_type": "markdown",
   "metadata": {},
   "source": [
    "."
   ]
  },
  {
   "cell_type": "markdown",
   "metadata": {},
   "source": [
    "##3.5 comp_htl"
   ]
  },
  {
   "cell_type": "code",
   "execution_count": 38,
   "metadata": {
    "collapsed": false
   },
   "outputs": [
    {
     "name": "stdout",
     "output_type": "stream",
     "text": [
      "component_id\n",
      "hfl_component_type_id\n",
      "hfl_hose_diameter\n",
      "hfl_corresponding_shell\n",
      "hfl_coupling_class\n",
      "hfl_material\n",
      "hfl_plating\n",
      "hfl_orientation\n",
      "hfl_weight\n"
     ]
    }
   ],
   "source": [
    "df = pd.read_csv( './dataset/comp.colname.changed/comp_hfl.csv' )\n",
    "for col in df.columns.values.tolist() :    # 각 column의 검토\n",
    "    print( col )    "
   ]
  },
  {
   "cell_type": "code",
   "execution_count": 39,
   "metadata": {
    "collapsed": false
   },
   "outputs": [
    {
     "data": {
      "text/plain": [
       "component_id               6\n",
       "hfl_component_type_id      6\n",
       "hfl_hose_diameter          6\n",
       "hfl_corresponding_shell    6\n",
       "hfl_coupling_class         6\n",
       "hfl_material               6\n",
       "hfl_plating                6\n",
       "hfl_orientation            6\n",
       "hfl_weight                 6\n",
       "dtype: int64"
      ]
     },
     "execution_count": 39,
     "metadata": {},
     "output_type": "execute_result"
    }
   ],
   "source": [
    "df.count()"
   ]
  },
  {
   "cell_type": "code",
   "execution_count": 40,
   "metadata": {
    "collapsed": false
   },
   "outputs": [
    {
     "data": {
      "text/html": [
       "<div style=\"max-height:1000px;max-width:1500px;overflow:auto;\">\n",
       "<table border=\"1\" class=\"dataframe\">\n",
       "  <thead>\n",
       "    <tr style=\"text-align: right;\">\n",
       "      <th></th>\n",
       "      <th>hfl_hose_diameter</th>\n",
       "      <th>hfl_weight</th>\n",
       "    </tr>\n",
       "  </thead>\n",
       "  <tbody>\n",
       "    <tr>\n",
       "      <th>count</th>\n",
       "      <td>  6.000000</td>\n",
       "      <td> 6.000000</td>\n",
       "    </tr>\n",
       "    <tr>\n",
       "      <th>mean</th>\n",
       "      <td> 11.933333</td>\n",
       "      <td> 0.055667</td>\n",
       "    </tr>\n",
       "    <tr>\n",
       "      <th>std</th>\n",
       "      <td>  8.549542</td>\n",
       "      <td> 0.073421</td>\n",
       "    </tr>\n",
       "    <tr>\n",
       "      <th>min</th>\n",
       "      <td>  4.800000</td>\n",
       "      <td> 0.001000</td>\n",
       "    </tr>\n",
       "    <tr>\n",
       "      <th>25%</th>\n",
       "      <td>  4.800000</td>\n",
       "      <td> 0.010000</td>\n",
       "    </tr>\n",
       "    <tr>\n",
       "      <th>50%</th>\n",
       "      <td> 10.350000</td>\n",
       "      <td> 0.031000</td>\n",
       "    </tr>\n",
       "    <tr>\n",
       "      <th>75%</th>\n",
       "      <td> 15.900000</td>\n",
       "      <td> 0.061750</td>\n",
       "    </tr>\n",
       "    <tr>\n",
       "      <th>max</th>\n",
       "      <td> 25.400000</td>\n",
       "      <td> 0.196000</td>\n",
       "    </tr>\n",
       "  </tbody>\n",
       "</table>\n",
       "</div>"
      ],
      "text/plain": [
       "       hfl_hose_diameter  hfl_weight\n",
       "count           6.000000    6.000000\n",
       "mean           11.933333    0.055667\n",
       "std             8.549542    0.073421\n",
       "min             4.800000    0.001000\n",
       "25%             4.800000    0.010000\n",
       "50%            10.350000    0.031000\n",
       "75%            15.900000    0.061750\n",
       "max            25.400000    0.196000"
      ]
     },
     "execution_count": 40,
     "metadata": {},
     "output_type": "execute_result"
    }
   ],
   "source": [
    "df.describe()"
   ]
  },
  {
   "cell_type": "code",
   "execution_count": 41,
   "metadata": {
    "collapsed": true
   },
   "outputs": [],
   "source": [
    "df[ 'hfl_plating' ].replace( dic, inplace = True )\n",
    "df[ 'hfl_orientation' ].replace( dic, inplace = True )"
   ]
  },
  {
   "cell_type": "code",
   "execution_count": 42,
   "metadata": {
    "collapsed": true
   },
   "outputs": [],
   "source": [
    "def calculate_hfl_area( p_df ) :\n",
    "    import math\n",
    "    return np.pi * math.pow( p_df[ 'hfl_hose_diameter' ]/2, 2 )"
   ]
  },
  {
   "cell_type": "code",
   "execution_count": 43,
   "metadata": {
    "collapsed": false
   },
   "outputs": [],
   "source": [
    "# df[ 'hfl_area' ] = df.apply( calculate_hfl_area, axis = 1 )"
   ]
  },
  {
   "cell_type": "code",
   "execution_count": 44,
   "metadata": {
    "collapsed": true
   },
   "outputs": [],
   "source": [
    "df.drop( [ 'hfl_component_type_id',\n",
    "         ],\n",
    "           axis = 1, inplace = True )"
   ]
  },
  {
   "cell_type": "code",
   "execution_count": 45,
   "metadata": {
    "collapsed": true
   },
   "outputs": [],
   "source": [
    "df.to_csv( './dataset/comp.verified/comp_hfl.verified.csv', index = False )"
   ]
  },
  {
   "cell_type": "markdown",
   "metadata": {},
   "source": [
    "."
   ]
  },
  {
   "cell_type": "markdown",
   "metadata": {},
   "source": [
    "##3.6 comp_nut"
   ]
  },
  {
   "cell_type": "code",
   "execution_count": 46,
   "metadata": {
    "collapsed": false
   },
   "outputs": [
    {
     "name": "stdout",
     "output_type": "stream",
     "text": [
      "component_id\n",
      "nut_component_type_id\n",
      "nut_hex_nut_size\n",
      "nut_seat_angle\n",
      "nut_length\n",
      "nut_thread_size\n",
      "nut_thread_pitch\n",
      "nut_diameter\n",
      "nut_blind_hole\n",
      "nut_orientation\n",
      "nut_weight\n"
     ]
    }
   ],
   "source": [
    "df = pd.read_csv( './dataset/comp.colname.changed/comp_nut.csv' )\n",
    "for col in df.columns.values.tolist() :    # 각 column의 검토\n",
    "    print( col )    "
   ]
  },
  {
   "cell_type": "code",
   "execution_count": 47,
   "metadata": {
    "collapsed": false
   },
   "outputs": [
    {
     "data": {
      "text/plain": [
       "component_id             65\n",
       "nut_component_type_id    65\n",
       "nut_hex_nut_size         42\n",
       "nut_seat_angle           15\n",
       "nut_length               65\n",
       "nut_thread_size          65\n",
       "nut_thread_pitch         65\n",
       "nut_diameter             23\n",
       "nut_blind_hole           23\n",
       "nut_orientation          65\n",
       "nut_weight               64\n",
       "dtype: int64"
      ]
     },
     "execution_count": 47,
     "metadata": {},
     "output_type": "execute_result"
    }
   ],
   "source": [
    "df.count()"
   ]
  },
  {
   "cell_type": "code",
   "execution_count": 48,
   "metadata": {
    "collapsed": false
   },
   "outputs": [
    {
     "data": {
      "text/html": [
       "<div style=\"max-height:1000px;max-width:1500px;overflow:auto;\">\n",
       "<table border=\"1\" class=\"dataframe\">\n",
       "  <thead>\n",
       "    <tr style=\"text-align: right;\">\n",
       "      <th></th>\n",
       "      <th>nut_hex_nut_size</th>\n",
       "      <th>nut_seat_angle</th>\n",
       "      <th>nut_length</th>\n",
       "      <th>nut_thread_pitch</th>\n",
       "      <th>nut_diameter</th>\n",
       "      <th>nut_weight</th>\n",
       "    </tr>\n",
       "  </thead>\n",
       "  <tbody>\n",
       "    <tr>\n",
       "      <th>count</th>\n",
       "      <td> 42.000000</td>\n",
       "      <td> 15.000000</td>\n",
       "      <td> 65.000000</td>\n",
       "      <td> 65.000000</td>\n",
       "      <td> 23.000000</td>\n",
       "      <td> 64.000000</td>\n",
       "    </tr>\n",
       "    <tr>\n",
       "      <th>mean</th>\n",
       "      <td> 29.810476</td>\n",
       "      <td> 38.600000</td>\n",
       "      <td> 26.451185</td>\n",
       "      <td> 11.576923</td>\n",
       "      <td> 19.800000</td>\n",
       "      <td>  0.077094</td>\n",
       "    </tr>\n",
       "    <tr>\n",
       "      <th>std</th>\n",
       "      <td> 11.528083</td>\n",
       "      <td>  3.312315</td>\n",
       "      <td> 12.410310</td>\n",
       "      <td>  6.230426</td>\n",
       "      <td>  6.680692</td>\n",
       "      <td>  0.068569</td>\n",
       "    </tr>\n",
       "    <tr>\n",
       "      <th>min</th>\n",
       "      <td> 14.290000</td>\n",
       "      <td> 37.000000</td>\n",
       "      <td>  1.000000</td>\n",
       "      <td>  1.000000</td>\n",
       "      <td>  0.625000</td>\n",
       "      <td>  0.009000</td>\n",
       "    </tr>\n",
       "    <tr>\n",
       "      <th>25%</th>\n",
       "      <td> 22.055000</td>\n",
       "      <td> 37.000000</td>\n",
       "      <td> 20.000000</td>\n",
       "      <td> 12.000000</td>\n",
       "      <td> 17.500000</td>\n",
       "      <td>  0.027000</td>\n",
       "    </tr>\n",
       "    <tr>\n",
       "      <th>50%</th>\n",
       "      <td> 25.400000</td>\n",
       "      <td> 37.000000</td>\n",
       "      <td> 24.900000</td>\n",
       "      <td> 13.000000</td>\n",
       "      <td> 20.000000</td>\n",
       "      <td>  0.048000</td>\n",
       "    </tr>\n",
       "    <tr>\n",
       "      <th>75%</th>\n",
       "      <td> 35.730000</td>\n",
       "      <td> 37.000000</td>\n",
       "      <td> 27.800000</td>\n",
       "      <td> 16.000000</td>\n",
       "      <td> 25.000000</td>\n",
       "      <td>  0.109250</td>\n",
       "    </tr>\n",
       "    <tr>\n",
       "      <th>max</th>\n",
       "      <td> 57.150000</td>\n",
       "      <td> 45.000000</td>\n",
       "      <td> 90.000000</td>\n",
       "      <td> 20.000000</td>\n",
       "      <td> 30.000000</td>\n",
       "      <td>  0.343000</td>\n",
       "    </tr>\n",
       "  </tbody>\n",
       "</table>\n",
       "</div>"
      ],
      "text/plain": [
       "       nut_hex_nut_size  nut_seat_angle  nut_length  nut_thread_pitch  \\\n",
       "count         42.000000       15.000000   65.000000         65.000000   \n",
       "mean          29.810476       38.600000   26.451185         11.576923   \n",
       "std           11.528083        3.312315   12.410310          6.230426   \n",
       "min           14.290000       37.000000    1.000000          1.000000   \n",
       "25%           22.055000       37.000000   20.000000         12.000000   \n",
       "50%           25.400000       37.000000   24.900000         13.000000   \n",
       "75%           35.730000       37.000000   27.800000         16.000000   \n",
       "max           57.150000       45.000000   90.000000         20.000000   \n",
       "\n",
       "       nut_diameter  nut_weight  \n",
       "count     23.000000   64.000000  \n",
       "mean      19.800000    0.077094  \n",
       "std        6.680692    0.068569  \n",
       "min        0.625000    0.009000  \n",
       "25%       17.500000    0.027000  \n",
       "50%       20.000000    0.048000  \n",
       "75%       25.000000    0.109250  \n",
       "max       30.000000    0.343000  "
      ]
     },
     "execution_count": 48,
     "metadata": {},
     "output_type": "execute_result"
    }
   ],
   "source": [
    "df.describe()"
   ]
  },
  {
   "cell_type": "code",
   "execution_count": 49,
   "metadata": {
    "collapsed": false
   },
   "outputs": [],
   "source": [
    "df[ 'nut_hex_nut_size' ].fillna( replace_na_value( df[ 'nut_hex_nut_size' ], True ), inplace = True )\n",
    "df[ 'nut_seat_angle' ].fillna( replace_na_value( df[ 'nut_seat_angle' ], True ), inplace = True )\n",
    "df[ 'nut_diameter' ].fillna( replace_na_value( df[ 'nut_diameter' ], True ), inplace = True )\n",
    "df[ 'nut_blind_hole' ].fillna( replace_na_value( df[ 'nut_blind_hole' ], False ), inplace = True )\n",
    "df[ 'nut_blind_hole' ].replace( dic, inplace = True )\n",
    "df[ 'nut_orientation' ].replace( dic, inplace = True )\n",
    "df[ 'nut_weight' ].fillna( replace_na_value( df[ 'nut_weight' ], True ), inplace = True )"
   ]
  },
  {
   "cell_type": "code",
   "execution_count": 50,
   "metadata": {
    "collapsed": true
   },
   "outputs": [],
   "source": [
    "def calculate_nut_volume( p_df ) :\n",
    "    import math\n",
    "    return np.pi * math.pow( p_df[ 'nut_diameter' ]/2, 2 ) * p_df[ 'nut_length' ]"
   ]
  },
  {
   "cell_type": "code",
   "execution_count": 51,
   "metadata": {
    "collapsed": true
   },
   "outputs": [],
   "source": [
    "# df[ 'nut_volume' ] = df.apply( calculate_nut_volume, axis = 1 )"
   ]
  },
  {
   "cell_type": "code",
   "execution_count": 52,
   "metadata": {
    "collapsed": true
   },
   "outputs": [],
   "source": [
    "df.drop( [ 'nut_component_type_id',\n",
    "#            'nut_seat_angle',    # 개수가 적음 : 15개\n",
    "#            'nut_diameter',    # 개수가 적음 : 23개\n",
    "#            'nut_blind_hole',    # 개수가 적음 : 23개          \n",
    "         ],\n",
    "           axis = 1, inplace = True )"
   ]
  },
  {
   "cell_type": "code",
   "execution_count": 53,
   "metadata": {
    "collapsed": false
   },
   "outputs": [
    {
     "data": {
      "text/plain": [
       "component_id        65\n",
       "nut_hex_nut_size    65\n",
       "nut_seat_angle      65\n",
       "nut_length          65\n",
       "nut_thread_size     65\n",
       "nut_thread_pitch    65\n",
       "nut_diameter        65\n",
       "nut_blind_hole      65\n",
       "nut_orientation     65\n",
       "nut_weight          65\n",
       "dtype: int64"
      ]
     },
     "execution_count": 53,
     "metadata": {},
     "output_type": "execute_result"
    }
   ],
   "source": [
    "df.count()"
   ]
  },
  {
   "cell_type": "code",
   "execution_count": 54,
   "metadata": {
    "collapsed": false
   },
   "outputs": [
    {
     "data": {
      "text/html": [
       "<div style=\"max-height:1000px;max-width:1500px;overflow:auto;\">\n",
       "<table border=\"1\" class=\"dataframe\">\n",
       "  <thead>\n",
       "    <tr style=\"text-align: right;\">\n",
       "      <th></th>\n",
       "      <th>nut_hex_nut_size</th>\n",
       "      <th>nut_seat_angle</th>\n",
       "      <th>nut_length</th>\n",
       "      <th>nut_thread_pitch</th>\n",
       "      <th>nut_diameter</th>\n",
       "      <th>nut_weight</th>\n",
       "    </tr>\n",
       "  </thead>\n",
       "  <tbody>\n",
       "    <tr>\n",
       "      <th>count</th>\n",
       "      <td> 65.000000</td>\n",
       "      <td> 65.000000</td>\n",
       "      <td> 65.000000</td>\n",
       "      <td> 65.000000</td>\n",
       "      <td> 65.000000</td>\n",
       "      <td> 65.000000</td>\n",
       "    </tr>\n",
       "    <tr>\n",
       "      <th>mean</th>\n",
       "      <td> 28.249846</td>\n",
       "      <td> 37.369231</td>\n",
       "      <td> 26.451185</td>\n",
       "      <td> 11.576923</td>\n",
       "      <td> 19.929231</td>\n",
       "      <td>  0.076646</td>\n",
       "    </tr>\n",
       "    <tr>\n",
       "      <th>std</th>\n",
       "      <td>  9.468579</td>\n",
       "      <td>  1.691608</td>\n",
       "      <td> 12.410310</td>\n",
       "      <td>  6.230426</td>\n",
       "      <td>  3.918088</td>\n",
       "      <td>  0.068127</td>\n",
       "    </tr>\n",
       "    <tr>\n",
       "      <th>min</th>\n",
       "      <td> 14.290000</td>\n",
       "      <td> 37.000000</td>\n",
       "      <td>  1.000000</td>\n",
       "      <td>  1.000000</td>\n",
       "      <td>  0.625000</td>\n",
       "      <td>  0.009000</td>\n",
       "    </tr>\n",
       "    <tr>\n",
       "      <th>25%</th>\n",
       "      <td> 23.810000</td>\n",
       "      <td> 37.000000</td>\n",
       "      <td> 20.000000</td>\n",
       "      <td> 12.000000</td>\n",
       "      <td> 20.000000</td>\n",
       "      <td>  0.027000</td>\n",
       "    </tr>\n",
       "    <tr>\n",
       "      <th>50%</th>\n",
       "      <td> 25.400000</td>\n",
       "      <td> 37.000000</td>\n",
       "      <td> 24.900000</td>\n",
       "      <td> 13.000000</td>\n",
       "      <td> 20.000000</td>\n",
       "      <td>  0.048000</td>\n",
       "    </tr>\n",
       "    <tr>\n",
       "      <th>75%</th>\n",
       "      <td> 30.000000</td>\n",
       "      <td> 37.000000</td>\n",
       "      <td> 27.800000</td>\n",
       "      <td> 16.000000</td>\n",
       "      <td> 20.000000</td>\n",
       "      <td>  0.109000</td>\n",
       "    </tr>\n",
       "    <tr>\n",
       "      <th>max</th>\n",
       "      <td> 57.150000</td>\n",
       "      <td> 45.000000</td>\n",
       "      <td> 90.000000</td>\n",
       "      <td> 20.000000</td>\n",
       "      <td> 30.000000</td>\n",
       "      <td>  0.343000</td>\n",
       "    </tr>\n",
       "  </tbody>\n",
       "</table>\n",
       "</div>"
      ],
      "text/plain": [
       "       nut_hex_nut_size  nut_seat_angle  nut_length  nut_thread_pitch  \\\n",
       "count         65.000000       65.000000   65.000000         65.000000   \n",
       "mean          28.249846       37.369231   26.451185         11.576923   \n",
       "std            9.468579        1.691608   12.410310          6.230426   \n",
       "min           14.290000       37.000000    1.000000          1.000000   \n",
       "25%           23.810000       37.000000   20.000000         12.000000   \n",
       "50%           25.400000       37.000000   24.900000         13.000000   \n",
       "75%           30.000000       37.000000   27.800000         16.000000   \n",
       "max           57.150000       45.000000   90.000000         20.000000   \n",
       "\n",
       "       nut_diameter  nut_weight  \n",
       "count     65.000000   65.000000  \n",
       "mean      19.929231    0.076646  \n",
       "std        3.918088    0.068127  \n",
       "min        0.625000    0.009000  \n",
       "25%       20.000000    0.027000  \n",
       "50%       20.000000    0.048000  \n",
       "75%       20.000000    0.109000  \n",
       "max       30.000000    0.343000  "
      ]
     },
     "execution_count": 54,
     "metadata": {},
     "output_type": "execute_result"
    }
   ],
   "source": [
    "df.describe()"
   ]
  },
  {
   "cell_type": "code",
   "execution_count": 55,
   "metadata": {
    "collapsed": true
   },
   "outputs": [],
   "source": [
    "df.to_csv( './dataset/comp.verified/comp_nut.verified.csv', index = False )"
   ]
  },
  {
   "cell_type": "markdown",
   "metadata": {},
   "source": [
    "."
   ]
  },
  {
   "cell_type": "markdown",
   "metadata": {},
   "source": [
    "##3.7 comp_other"
   ]
  },
  {
   "cell_type": "code",
   "execution_count": 56,
   "metadata": {
    "collapsed": false
   },
   "outputs": [
    {
     "name": "stdout",
     "output_type": "stream",
     "text": [
      "component_id\n",
      "other_weight\n"
     ]
    }
   ],
   "source": [
    "df = pd.read_csv( './dataset/comp.colname.changed/comp_other.2.csv', encoding = 'utf-8' )\n",
    "for col in df.columns.values.tolist() :    # 각 column의 검토\n",
    "    print( col )    "
   ]
  },
  {
   "cell_type": "code",
   "execution_count": 57,
   "metadata": {
    "collapsed": false
   },
   "outputs": [
    {
     "data": {
      "text/plain": [
       "component_id    1001\n",
       "other_weight     945\n",
       "dtype: int64"
      ]
     },
     "execution_count": 57,
     "metadata": {},
     "output_type": "execute_result"
    }
   ],
   "source": [
    "df.count()"
   ]
  },
  {
   "cell_type": "code",
   "execution_count": 58,
   "metadata": {
    "collapsed": true
   },
   "outputs": [],
   "source": [
    "df[ 'other_weight' ].fillna( replace_na_value( df[ 'other_weight' ], True ), inplace = True )"
   ]
  },
  {
   "cell_type": "code",
   "execution_count": 59,
   "metadata": {
    "collapsed": false
   },
   "outputs": [
    {
     "data": {
      "text/plain": [
       "component_id    1001\n",
       "other_weight    1001\n",
       "dtype: int64"
      ]
     },
     "execution_count": 59,
     "metadata": {},
     "output_type": "execute_result"
    }
   ],
   "source": [
    "df.count()"
   ]
  },
  {
   "cell_type": "code",
   "execution_count": 60,
   "metadata": {
    "collapsed": false
   },
   "outputs": [],
   "source": [
    "df.to_csv( './dataset/comp.verified/comp_other.verified.csv', index = False )"
   ]
  },
  {
   "cell_type": "markdown",
   "metadata": {},
   "source": [
    "."
   ]
  },
  {
   "cell_type": "markdown",
   "metadata": {},
   "source": [
    "##3.8 comp_sleeve"
   ]
  },
  {
   "cell_type": "code",
   "execution_count": 61,
   "metadata": {
    "collapsed": false
   },
   "outputs": [
    {
     "name": "stdout",
     "output_type": "stream",
     "text": [
      "component_id\n",
      "sleeve_component_type_id\n",
      "sleeve_connection_type_id\n",
      "sleeve_length\n",
      "sleeve_intended_nut_thread\n",
      "sleeve_intended_nut_pitch\n",
      "sleeve_unique_feature\n",
      "sleeve_plating\n",
      "sleeve_orientation\n",
      "sleeve_weight\n"
     ]
    }
   ],
   "source": [
    "df = pd.read_csv( './dataset/comp.colname.changed/comp_sleeve.csv', encoding = 'utf-8' )\n",
    "for col in df.columns.values.tolist() :    # 각 column의 검토\n",
    "    print( col )    "
   ]
  },
  {
   "cell_type": "code",
   "execution_count": 62,
   "metadata": {
    "collapsed": false
   },
   "outputs": [
    {
     "data": {
      "text/plain": [
       "component_id                  50\n",
       "sleeve_component_type_id      50\n",
       "sleeve_connection_type_id     50\n",
       "sleeve_length                 50\n",
       "sleeve_intended_nut_thread    50\n",
       "sleeve_intended_nut_pitch     50\n",
       "sleeve_unique_feature         50\n",
       "sleeve_plating                50\n",
       "sleeve_orientation            50\n",
       "sleeve_weight                 50\n",
       "dtype: int64"
      ]
     },
     "execution_count": 62,
     "metadata": {},
     "output_type": "execute_result"
    }
   ],
   "source": [
    "df.count()"
   ]
  },
  {
   "cell_type": "code",
   "execution_count": 63,
   "metadata": {
    "collapsed": false
   },
   "outputs": [
    {
     "name": "stdout",
     "output_type": "stream",
     "text": [
      "<class 'pandas.core.frame.DataFrame'>\n",
      "Int64Index: 50 entries, 0 to 49\n",
      "Data columns (total 10 columns):\n",
      "component_id                  50 non-null object\n",
      "sleeve_component_type_id      50 non-null object\n",
      "sleeve_connection_type_id     50 non-null object\n",
      "sleeve_length                 50 non-null float64\n",
      "sleeve_intended_nut_thread    50 non-null float64\n",
      "sleeve_intended_nut_pitch     50 non-null int64\n",
      "sleeve_unique_feature         50 non-null object\n",
      "sleeve_plating                50 non-null object\n",
      "sleeve_orientation            50 non-null object\n",
      "sleeve_weight                 50 non-null float64\n",
      "dtypes: float64(3), int64(1), object(6)\n",
      "memory usage: 4.3+ KB\n"
     ]
    }
   ],
   "source": [
    "df.info()"
   ]
  },
  {
   "cell_type": "code",
   "execution_count": 64,
   "metadata": {
    "collapsed": false
   },
   "outputs": [
    {
     "data": {
      "text/html": [
       "<div style=\"max-height:1000px;max-width:1500px;overflow:auto;\">\n",
       "<table border=\"1\" class=\"dataframe\">\n",
       "  <thead>\n",
       "    <tr style=\"text-align: right;\">\n",
       "      <th></th>\n",
       "      <th>sleeve_length</th>\n",
       "      <th>sleeve_intended_nut_thread</th>\n",
       "      <th>sleeve_intended_nut_pitch</th>\n",
       "      <th>sleeve_weight</th>\n",
       "    </tr>\n",
       "  </thead>\n",
       "  <tbody>\n",
       "    <tr>\n",
       "      <th>count</th>\n",
       "      <td>   50.000000</td>\n",
       "      <td> 50.000000</td>\n",
       "      <td> 50.000000</td>\n",
       "      <td> 50.000000</td>\n",
       "    </tr>\n",
       "    <tr>\n",
       "      <th>mean</th>\n",
       "      <td> 1611.813600</td>\n",
       "      <td>  1.057160</td>\n",
       "      <td> 14.360000</td>\n",
       "      <td>  0.022680</td>\n",
       "    </tr>\n",
       "    <tr>\n",
       "      <th>std</th>\n",
       "      <td> 3697.633161</td>\n",
       "      <td>  0.422217</td>\n",
       "      <td>  2.545584</td>\n",
       "      <td>  0.019932</td>\n",
       "    </tr>\n",
       "    <tr>\n",
       "      <th>min</th>\n",
       "      <td>    8.500000</td>\n",
       "      <td>  0.437000</td>\n",
       "      <td> 12.000000</td>\n",
       "      <td>  0.001000</td>\n",
       "    </tr>\n",
       "    <tr>\n",
       "      <th>25%</th>\n",
       "      <td>   12.000000</td>\n",
       "      <td>  0.702750</td>\n",
       "      <td> 12.000000</td>\n",
       "      <td>  0.006750</td>\n",
       "    </tr>\n",
       "    <tr>\n",
       "      <th>50%</th>\n",
       "      <td>   14.500000</td>\n",
       "      <td>  1.000000</td>\n",
       "      <td> 14.000000</td>\n",
       "      <td>  0.017500</td>\n",
       "    </tr>\n",
       "    <tr>\n",
       "      <th>75%</th>\n",
       "      <td>   18.800000</td>\n",
       "      <td>  1.405750</td>\n",
       "      <td> 16.000000</td>\n",
       "      <td>  0.029750</td>\n",
       "    </tr>\n",
       "    <tr>\n",
       "      <th>max</th>\n",
       "      <td> 9999.000000</td>\n",
       "      <td>  2.000000</td>\n",
       "      <td> 20.000000</td>\n",
       "      <td>  0.090000</td>\n",
       "    </tr>\n",
       "  </tbody>\n",
       "</table>\n",
       "</div>"
      ],
      "text/plain": [
       "       sleeve_length  sleeve_intended_nut_thread  sleeve_intended_nut_pitch  \\\n",
       "count      50.000000                   50.000000                  50.000000   \n",
       "mean     1611.813600                    1.057160                  14.360000   \n",
       "std      3697.633161                    0.422217                   2.545584   \n",
       "min         8.500000                    0.437000                  12.000000   \n",
       "25%        12.000000                    0.702750                  12.000000   \n",
       "50%        14.500000                    1.000000                  14.000000   \n",
       "75%        18.800000                    1.405750                  16.000000   \n",
       "max      9999.000000                    2.000000                  20.000000   \n",
       "\n",
       "       sleeve_weight  \n",
       "count      50.000000  \n",
       "mean        0.022680  \n",
       "std         0.019932  \n",
       "min         0.001000  \n",
       "25%         0.006750  \n",
       "50%         0.017500  \n",
       "75%         0.029750  \n",
       "max         0.090000  "
      ]
     },
     "execution_count": 64,
     "metadata": {},
     "output_type": "execute_result"
    }
   ],
   "source": [
    "df.describe()"
   ]
  },
  {
   "cell_type": "code",
   "execution_count": 65,
   "metadata": {
    "collapsed": false
   },
   "outputs": [],
   "source": [
    "df[ 'sleeve_length' ].replace( to_replace = 9999,\n",
    "                               value = replace_9999_value( df, 'sleeve_length' ),\n",
    "                               inplace = True )\n",
    "df[ 'sleeve_unique_feature' ].replace( dic, inplace = True )\n",
    "df[ 'sleeve_plating' ].replace( dic, inplace = True )\n",
    "df[ 'sleeve_orientation' ].replace( dic, inplace = True )"
   ]
  },
  {
   "cell_type": "code",
   "execution_count": 66,
   "metadata": {
    "collapsed": true
   },
   "outputs": [],
   "source": [
    "df.drop( [ 'sleeve_component_type_id',\n",
    "#            'sleeve_orientation',    # No만 있음\n",
    "         ],\n",
    "           axis = 1, inplace = True )"
   ]
  },
  {
   "cell_type": "code",
   "execution_count": 67,
   "metadata": {
    "collapsed": false
   },
   "outputs": [
    {
     "data": {
      "text/plain": [
       "component_id                  50\n",
       "sleeve_connection_type_id     50\n",
       "sleeve_length                 50\n",
       "sleeve_intended_nut_thread    50\n",
       "sleeve_intended_nut_pitch     50\n",
       "sleeve_unique_feature         50\n",
       "sleeve_plating                50\n",
       "sleeve_orientation            50\n",
       "sleeve_weight                 50\n",
       "dtype: int64"
      ]
     },
     "execution_count": 67,
     "metadata": {},
     "output_type": "execute_result"
    }
   ],
   "source": [
    "df.count()"
   ]
  },
  {
   "cell_type": "code",
   "execution_count": 68,
   "metadata": {
    "collapsed": false
   },
   "outputs": [
    {
     "data": {
      "text/html": [
       "<div style=\"max-height:1000px;max-width:1500px;overflow:auto;\">\n",
       "<table border=\"1\" class=\"dataframe\">\n",
       "  <thead>\n",
       "    <tr style=\"text-align: right;\">\n",
       "      <th></th>\n",
       "      <th>sleeve_length</th>\n",
       "      <th>sleeve_intended_nut_thread</th>\n",
       "      <th>sleeve_intended_nut_pitch</th>\n",
       "      <th>sleeve_weight</th>\n",
       "    </tr>\n",
       "  </thead>\n",
       "  <tbody>\n",
       "    <tr>\n",
       "      <th>count</th>\n",
       "      <td> 50.00000</td>\n",
       "      <td> 50.000000</td>\n",
       "      <td> 50.000000</td>\n",
       "      <td> 50.000000</td>\n",
       "    </tr>\n",
       "    <tr>\n",
       "      <th>mean</th>\n",
       "      <td> 14.22960</td>\n",
       "      <td>  1.057160</td>\n",
       "      <td> 14.360000</td>\n",
       "      <td>  0.022680</td>\n",
       "    </tr>\n",
       "    <tr>\n",
       "      <th>std</th>\n",
       "      <td>  3.70116</td>\n",
       "      <td>  0.422217</td>\n",
       "      <td>  2.545584</td>\n",
       "      <td>  0.019932</td>\n",
       "    </tr>\n",
       "    <tr>\n",
       "      <th>min</th>\n",
       "      <td>  8.50000</td>\n",
       "      <td>  0.437000</td>\n",
       "      <td> 12.000000</td>\n",
       "      <td>  0.001000</td>\n",
       "    </tr>\n",
       "    <tr>\n",
       "      <th>25%</th>\n",
       "      <td> 12.00000</td>\n",
       "      <td>  0.702750</td>\n",
       "      <td> 12.000000</td>\n",
       "      <td>  0.006750</td>\n",
       "    </tr>\n",
       "    <tr>\n",
       "      <th>50%</th>\n",
       "      <td> 14.10000</td>\n",
       "      <td>  1.000000</td>\n",
       "      <td> 14.000000</td>\n",
       "      <td>  0.017500</td>\n",
       "    </tr>\n",
       "    <tr>\n",
       "      <th>75%</th>\n",
       "      <td> 15.50000</td>\n",
       "      <td>  1.405750</td>\n",
       "      <td> 16.000000</td>\n",
       "      <td>  0.029750</td>\n",
       "    </tr>\n",
       "    <tr>\n",
       "      <th>max</th>\n",
       "      <td> 28.40000</td>\n",
       "      <td>  2.000000</td>\n",
       "      <td> 20.000000</td>\n",
       "      <td>  0.090000</td>\n",
       "    </tr>\n",
       "  </tbody>\n",
       "</table>\n",
       "</div>"
      ],
      "text/plain": [
       "       sleeve_length  sleeve_intended_nut_thread  sleeve_intended_nut_pitch  \\\n",
       "count       50.00000                   50.000000                  50.000000   \n",
       "mean        14.22960                    1.057160                  14.360000   \n",
       "std          3.70116                    0.422217                   2.545584   \n",
       "min          8.50000                    0.437000                  12.000000   \n",
       "25%         12.00000                    0.702750                  12.000000   \n",
       "50%         14.10000                    1.000000                  14.000000   \n",
       "75%         15.50000                    1.405750                  16.000000   \n",
       "max         28.40000                    2.000000                  20.000000   \n",
       "\n",
       "       sleeve_weight  \n",
       "count      50.000000  \n",
       "mean        0.022680  \n",
       "std         0.019932  \n",
       "min         0.001000  \n",
       "25%         0.006750  \n",
       "50%         0.017500  \n",
       "75%         0.029750  \n",
       "max         0.090000  "
      ]
     },
     "execution_count": 68,
     "metadata": {},
     "output_type": "execute_result"
    }
   ],
   "source": [
    "df.describe()"
   ]
  },
  {
   "cell_type": "code",
   "execution_count": 69,
   "metadata": {
    "collapsed": true
   },
   "outputs": [],
   "source": [
    "df.to_csv( './dataset/comp.verified/comp_sleeve.verified.csv', index = False )"
   ]
  },
  {
   "cell_type": "markdown",
   "metadata": {},
   "source": [
    "."
   ]
  },
  {
   "cell_type": "markdown",
   "metadata": {},
   "source": [
    "##3.9 comp_straight"
   ]
  },
  {
   "cell_type": "code",
   "execution_count": 70,
   "metadata": {
    "collapsed": false
   },
   "outputs": [
    {
     "name": "stdout",
     "output_type": "stream",
     "text": [
      "component_id\n",
      "straight_component_type_id\n",
      "straight_bolt_pattern_long\n",
      "straight_bolt_pattern_wide\n",
      "straight_head_diameter\n",
      "straight_overall_length\n",
      "straight_thickness\n",
      "straight_mj_class_code\n",
      "straight_groove\n",
      "straight_unique_feature\n",
      "straight_orientation\n",
      "straight_weight\n"
     ]
    }
   ],
   "source": [
    "df = pd.read_csv( './dataset/comp.colname.changed/comp_straight.csv' )\n",
    "for col in df.columns.values.tolist() :    # 각 column의 검토\n",
    "    print( col )    "
   ]
  },
  {
   "cell_type": "code",
   "execution_count": 71,
   "metadata": {
    "collapsed": false
   },
   "outputs": [
    {
     "data": {
      "text/plain": [
       "component_id                  361\n",
       "straight_component_type_id    361\n",
       "straight_bolt_pattern_long    291\n",
       "straight_bolt_pattern_wide    204\n",
       "straight_head_diameter         70\n",
       "straight_overall_length        41\n",
       "straight_thickness            361\n",
       "straight_mj_class_code        120\n",
       "straight_groove               361\n",
       "straight_unique_feature       361\n",
       "straight_orientation          361\n",
       "straight_weight               354\n",
       "dtype: int64"
      ]
     },
     "execution_count": 71,
     "metadata": {},
     "output_type": "execute_result"
    }
   ],
   "source": [
    "df.count()"
   ]
  },
  {
   "cell_type": "code",
   "execution_count": 72,
   "metadata": {
    "collapsed": false
   },
   "outputs": [
    {
     "data": {
      "text/html": [
       "<div style=\"max-height:1000px;max-width:1500px;overflow:auto;\">\n",
       "<table border=\"1\" class=\"dataframe\">\n",
       "  <thead>\n",
       "    <tr style=\"text-align: right;\">\n",
       "      <th></th>\n",
       "      <th>straight_bolt_pattern_long</th>\n",
       "      <th>straight_bolt_pattern_wide</th>\n",
       "      <th>straight_head_diameter</th>\n",
       "      <th>straight_overall_length</th>\n",
       "      <th>straight_thickness</th>\n",
       "      <th>straight_weight</th>\n",
       "    </tr>\n",
       "  </thead>\n",
       "  <tbody>\n",
       "    <tr>\n",
       "      <th>count</th>\n",
       "      <td> 291.000000</td>\n",
       "      <td> 204.000000</td>\n",
       "      <td>  70.000000</td>\n",
       "      <td> 41.000000</td>\n",
       "      <td> 361.000000</td>\n",
       "      <td> 354.000000</td>\n",
       "    </tr>\n",
       "    <tr>\n",
       "      <th>mean</th>\n",
       "      <td>  71.775670</td>\n",
       "      <td>  40.841225</td>\n",
       "      <td>  58.414000</td>\n",
       "      <td> 27.906098</td>\n",
       "      <td>  21.185734</td>\n",
       "      <td>   0.813517</td>\n",
       "    </tr>\n",
       "    <tr>\n",
       "      <th>std</th>\n",
       "      <td>  23.737576</td>\n",
       "      <td>  18.915779</td>\n",
       "      <td>  17.766911</td>\n",
       "      <td>  9.428145</td>\n",
       "      <td>  11.751907</td>\n",
       "      <td>   0.883847</td>\n",
       "    </tr>\n",
       "    <tr>\n",
       "      <th>min</th>\n",
       "      <td>  38.100000</td>\n",
       "      <td>  22.200000</td>\n",
       "      <td>  38.000000</td>\n",
       "      <td> 12.700000</td>\n",
       "      <td>   3.760000</td>\n",
       "      <td>   0.001000</td>\n",
       "    </tr>\n",
       "    <tr>\n",
       "      <th>25%</th>\n",
       "      <td>  52.400000</td>\n",
       "      <td>  26.200000</td>\n",
       "      <td>  45.245000</td>\n",
       "      <td> 19.500000</td>\n",
       "      <td>  10.000000</td>\n",
       "      <td>   0.200000</td>\n",
       "    </tr>\n",
       "    <tr>\n",
       "      <th>50%</th>\n",
       "      <td>  66.680000</td>\n",
       "      <td>  31.800000</td>\n",
       "      <td>  50.800000</td>\n",
       "      <td> 28.000000</td>\n",
       "      <td>  18.000000</td>\n",
       "      <td>   0.561000</td>\n",
       "    </tr>\n",
       "    <tr>\n",
       "      <th>75%</th>\n",
       "      <td>  79.400000</td>\n",
       "      <td>  50.800000</td>\n",
       "      <td>  65.325000</td>\n",
       "      <td> 30.000000</td>\n",
       "      <td>  28.000000</td>\n",
       "      <td>   1.200750</td>\n",
       "    </tr>\n",
       "    <tr>\n",
       "      <th>max</th>\n",
       "      <td> 158.800000</td>\n",
       "      <td> 120.000000</td>\n",
       "      <td> 127.000000</td>\n",
       "      <td> 52.000000</td>\n",
       "      <td>  65.000000</td>\n",
       "      <td>   9.693000</td>\n",
       "    </tr>\n",
       "  </tbody>\n",
       "</table>\n",
       "</div>"
      ],
      "text/plain": [
       "       straight_bolt_pattern_long  straight_bolt_pattern_wide  \\\n",
       "count                  291.000000                  204.000000   \n",
       "mean                    71.775670                   40.841225   \n",
       "std                     23.737576                   18.915779   \n",
       "min                     38.100000                   22.200000   \n",
       "25%                     52.400000                   26.200000   \n",
       "50%                     66.680000                   31.800000   \n",
       "75%                     79.400000                   50.800000   \n",
       "max                    158.800000                  120.000000   \n",
       "\n",
       "       straight_head_diameter  straight_overall_length  straight_thickness  \\\n",
       "count               70.000000                41.000000          361.000000   \n",
       "mean                58.414000                27.906098           21.185734   \n",
       "std                 17.766911                 9.428145           11.751907   \n",
       "min                 38.000000                12.700000            3.760000   \n",
       "25%                 45.245000                19.500000           10.000000   \n",
       "50%                 50.800000                28.000000           18.000000   \n",
       "75%                 65.325000                30.000000           28.000000   \n",
       "max                127.000000                52.000000           65.000000   \n",
       "\n",
       "       straight_weight  \n",
       "count       354.000000  \n",
       "mean          0.813517  \n",
       "std           0.883847  \n",
       "min           0.001000  \n",
       "25%           0.200000  \n",
       "50%           0.561000  \n",
       "75%           1.200750  \n",
       "max           9.693000  "
      ]
     },
     "execution_count": 72,
     "metadata": {},
     "output_type": "execute_result"
    }
   ],
   "source": [
    "df.describe()"
   ]
  },
  {
   "cell_type": "code",
   "execution_count": 73,
   "metadata": {
    "collapsed": true
   },
   "outputs": [],
   "source": [
    "df[ 'straight_bolt_pattern_long' ].fillna( replace_na_value( df[ 'straight_bolt_pattern_long' ], True ), inplace = True )\n",
    "df[ 'straight_bolt_pattern_wide' ].fillna( replace_na_value( df[ 'straight_bolt_pattern_wide' ], True ), inplace = True )\n",
    "df[ 'straight_head_diameter' ].fillna( replace_na_value( df[ 'straight_head_diameter' ], True ), inplace = True )\n",
    "df[ 'straight_overall_length' ].fillna( replace_na_value( df[ 'straight_overall_length' ], True ), inplace = True )\n",
    "df[ 'straight_mj_class_code' ].fillna( replace_na_value( df[ 'straight_mj_class_code' ], False ), inplace = True )\n",
    "df[ 'straight_groove' ].replace( dic, inplace = True )\n",
    "df[ 'straight_unique_feature' ].replace( dic, inplace = True )\n",
    "df[ 'straight_orientation' ].replace( dic, inplace = True )\n",
    "df[ 'straight_weight' ].fillna( replace_na_value( df[ 'straight_weight' ], True ), inplace = True )"
   ]
  },
  {
   "cell_type": "code",
   "execution_count": 74,
   "metadata": {
    "collapsed": true
   },
   "outputs": [],
   "source": [
    "# straight의 부피를 추정한다\n",
    "# df[ 'straight_volume' ] = df[ 'straight_bolt_pattern_long' ] * df[ 'straight_bolt_pattern_wide' ] * df[ 'straight_thickness' ]"
   ]
  },
  {
   "cell_type": "code",
   "execution_count": 75,
   "metadata": {
    "collapsed": true
   },
   "outputs": [],
   "source": [
    "df.drop( [ 'straight_component_type_id',\n",
    "#            'straight_head_diameter',    # 개수가 적음 : 70개\n",
    "#            'straight_overall_length',    # 개수가 적음 : 41개\n",
    "#            'straight_mj_class_code',    # 개수가 적음 : 120개\n",
    "         ],\n",
    "           axis = 1, inplace = True )"
   ]
  },
  {
   "cell_type": "code",
   "execution_count": 76,
   "metadata": {
    "collapsed": false
   },
   "outputs": [
    {
     "data": {
      "text/plain": [
       "component_id                  361\n",
       "straight_bolt_pattern_long    361\n",
       "straight_bolt_pattern_wide    361\n",
       "straight_head_diameter        361\n",
       "straight_overall_length       361\n",
       "straight_thickness            361\n",
       "straight_mj_class_code        361\n",
       "straight_groove               361\n",
       "straight_unique_feature       361\n",
       "straight_orientation          361\n",
       "straight_weight               361\n",
       "dtype: int64"
      ]
     },
     "execution_count": 76,
     "metadata": {},
     "output_type": "execute_result"
    }
   ],
   "source": [
    "df.count()"
   ]
  },
  {
   "cell_type": "code",
   "execution_count": 77,
   "metadata": {
    "collapsed": false
   },
   "outputs": [
    {
     "data": {
      "text/html": [
       "<div style=\"max-height:1000px;max-width:1500px;overflow:auto;\">\n",
       "<table border=\"1\" class=\"dataframe\">\n",
       "  <thead>\n",
       "    <tr style=\"text-align: right;\">\n",
       "      <th></th>\n",
       "      <th>straight_bolt_pattern_long</th>\n",
       "      <th>straight_bolt_pattern_wide</th>\n",
       "      <th>straight_head_diameter</th>\n",
       "      <th>straight_overall_length</th>\n",
       "      <th>straight_thickness</th>\n",
       "      <th>straight_weight</th>\n",
       "    </tr>\n",
       "  </thead>\n",
       "  <tbody>\n",
       "    <tr>\n",
       "      <th>count</th>\n",
       "      <td> 361.000000</td>\n",
       "      <td> 361.000000</td>\n",
       "      <td> 361.000000</td>\n",
       "      <td> 361.000000</td>\n",
       "      <td> 361.000000</td>\n",
       "      <td> 361.000000</td>\n",
       "    </tr>\n",
       "    <tr>\n",
       "      <th>mean</th>\n",
       "      <td>  70.787590</td>\n",
       "      <td>  36.909169</td>\n",
       "      <td>  52.276399</td>\n",
       "      <td>  27.989335</td>\n",
       "      <td>  21.185734</td>\n",
       "      <td>   0.808620</td>\n",
       "    </tr>\n",
       "    <tr>\n",
       "      <th>std</th>\n",
       "      <td>  21.400428</td>\n",
       "      <td>  14.896596</td>\n",
       "      <td>   8.341991</td>\n",
       "      <td>   3.142857</td>\n",
       "      <td>  11.751907</td>\n",
       "      <td>   0.875906</td>\n",
       "    </tr>\n",
       "    <tr>\n",
       "      <th>min</th>\n",
       "      <td>  38.100000</td>\n",
       "      <td>  22.200000</td>\n",
       "      <td>  38.000000</td>\n",
       "      <td>  12.700000</td>\n",
       "      <td>   3.760000</td>\n",
       "      <td>   0.001000</td>\n",
       "    </tr>\n",
       "    <tr>\n",
       "      <th>25%</th>\n",
       "      <td>  57.150000</td>\n",
       "      <td>  31.750000</td>\n",
       "      <td>  50.800000</td>\n",
       "      <td>  28.000000</td>\n",
       "      <td>  10.000000</td>\n",
       "      <td>   0.200000</td>\n",
       "    </tr>\n",
       "    <tr>\n",
       "      <th>50%</th>\n",
       "      <td>  66.680000</td>\n",
       "      <td>  31.800000</td>\n",
       "      <td>  50.800000</td>\n",
       "      <td>  28.000000</td>\n",
       "      <td>  18.000000</td>\n",
       "      <td>   0.561000</td>\n",
       "    </tr>\n",
       "    <tr>\n",
       "      <th>75%</th>\n",
       "      <td>  77.800000</td>\n",
       "      <td>  35.710000</td>\n",
       "      <td>  50.800000</td>\n",
       "      <td>  28.000000</td>\n",
       "      <td>  28.000000</td>\n",
       "      <td>   1.200000</td>\n",
       "    </tr>\n",
       "    <tr>\n",
       "      <th>max</th>\n",
       "      <td> 158.800000</td>\n",
       "      <td> 120.000000</td>\n",
       "      <td> 127.000000</td>\n",
       "      <td>  52.000000</td>\n",
       "      <td>  65.000000</td>\n",
       "      <td>   9.693000</td>\n",
       "    </tr>\n",
       "  </tbody>\n",
       "</table>\n",
       "</div>"
      ],
      "text/plain": [
       "       straight_bolt_pattern_long  straight_bolt_pattern_wide  \\\n",
       "count                  361.000000                  361.000000   \n",
       "mean                    70.787590                   36.909169   \n",
       "std                     21.400428                   14.896596   \n",
       "min                     38.100000                   22.200000   \n",
       "25%                     57.150000                   31.750000   \n",
       "50%                     66.680000                   31.800000   \n",
       "75%                     77.800000                   35.710000   \n",
       "max                    158.800000                  120.000000   \n",
       "\n",
       "       straight_head_diameter  straight_overall_length  straight_thickness  \\\n",
       "count              361.000000               361.000000          361.000000   \n",
       "mean                52.276399                27.989335           21.185734   \n",
       "std                  8.341991                 3.142857           11.751907   \n",
       "min                 38.000000                12.700000            3.760000   \n",
       "25%                 50.800000                28.000000           10.000000   \n",
       "50%                 50.800000                28.000000           18.000000   \n",
       "75%                 50.800000                28.000000           28.000000   \n",
       "max                127.000000                52.000000           65.000000   \n",
       "\n",
       "       straight_weight  \n",
       "count       361.000000  \n",
       "mean          0.808620  \n",
       "std           0.875906  \n",
       "min           0.001000  \n",
       "25%           0.200000  \n",
       "50%           0.561000  \n",
       "75%           1.200000  \n",
       "max           9.693000  "
      ]
     },
     "execution_count": 77,
     "metadata": {},
     "output_type": "execute_result"
    }
   ],
   "source": [
    "df.describe()"
   ]
  },
  {
   "cell_type": "code",
   "execution_count": 78,
   "metadata": {
    "collapsed": true
   },
   "outputs": [],
   "source": [
    "df.to_csv( './dataset/comp.verified/comp_straight.verified.csv', index = False )"
   ]
  },
  {
   "cell_type": "markdown",
   "metadata": {},
   "source": [
    "."
   ]
  },
  {
   "cell_type": "markdown",
   "metadata": {},
   "source": [
    "##3.10 comp_tee"
   ]
  },
  {
   "cell_type": "code",
   "execution_count": 79,
   "metadata": {
    "collapsed": false
   },
   "outputs": [
    {
     "name": "stdout",
     "output_type": "stream",
     "text": [
      "component_id\n",
      "tee_component_type_id\n",
      "tee_bolt_pattern_long\n",
      "tee_bolt_pattern_wide\n",
      "tee_extension_length\n",
      "tee_overall_length\n",
      "tee_thickness\n",
      "tee_drop_length\n",
      "tee_mj_class_code\n",
      "tee_mj_plug_class_code\n",
      "tee_groove\n",
      "tee_unique_feature\n",
      "tee_orientation\n",
      "tee_weight\n"
     ]
    }
   ],
   "source": [
    "df = pd.read_csv( './dataset/comp.colname.changed/comp_tee.csv' )\n",
    "for col in df.columns.values.tolist() :    # 각 column의 검토\n",
    "    print( col )    "
   ]
  },
  {
   "cell_type": "code",
   "execution_count": 80,
   "metadata": {
    "collapsed": false
   },
   "outputs": [
    {
     "data": {
      "text/plain": [
       "component_id              4\n",
       "tee_component_type_id     4\n",
       "tee_bolt_pattern_long     4\n",
       "tee_bolt_pattern_wide     4\n",
       "tee_extension_length      4\n",
       "tee_overall_length        4\n",
       "tee_thickness             4\n",
       "tee_drop_length           4\n",
       "tee_mj_class_code         4\n",
       "tee_mj_plug_class_code    4\n",
       "tee_groove                4\n",
       "tee_unique_feature        4\n",
       "tee_orientation           4\n",
       "tee_weight                4\n",
       "dtype: int64"
      ]
     },
     "execution_count": 80,
     "metadata": {},
     "output_type": "execute_result"
    }
   ],
   "source": [
    "df.count()"
   ]
  },
  {
   "cell_type": "code",
   "execution_count": 81,
   "metadata": {
    "collapsed": false
   },
   "outputs": [
    {
     "data": {
      "text/html": [
       "<div style=\"max-height:1000px;max-width:1500px;overflow:auto;\">\n",
       "<table border=\"1\" class=\"dataframe\">\n",
       "  <thead>\n",
       "    <tr style=\"text-align: right;\">\n",
       "      <th></th>\n",
       "      <th>tee_bolt_pattern_long</th>\n",
       "      <th>tee_bolt_pattern_wide</th>\n",
       "      <th>tee_extension_length</th>\n",
       "      <th>tee_overall_length</th>\n",
       "      <th>tee_thickness</th>\n",
       "      <th>tee_drop_length</th>\n",
       "      <th>tee_weight</th>\n",
       "    </tr>\n",
       "  </thead>\n",
       "  <tbody>\n",
       "    <tr>\n",
       "      <th>count</th>\n",
       "      <td>  4.000000</td>\n",
       "      <td>  4.000000</td>\n",
       "      <td>  4.000000</td>\n",
       "      <td>   4.000000</td>\n",
       "      <td>  4.0</td>\n",
       "      <td>  4.00</td>\n",
       "      <td> 4.000000</td>\n",
       "    </tr>\n",
       "    <tr>\n",
       "      <th>mean</th>\n",
       "      <td> 57.130000</td>\n",
       "      <td> 29.195000</td>\n",
       "      <td> 53.697500</td>\n",
       "      <td>  96.625000</td>\n",
       "      <td> 55.5</td>\n",
       "      <td> 27.75</td>\n",
       "      <td> 1.699500</td>\n",
       "    </tr>\n",
       "    <tr>\n",
       "      <th>std</th>\n",
       "      <td>  3.153347</td>\n",
       "      <td>  1.996689</td>\n",
       "      <td>  6.798335</td>\n",
       "      <td>  13.888694</td>\n",
       "      <td>  3.0</td>\n",
       "      <td>  1.50</td>\n",
       "      <td> 0.464674</td>\n",
       "    </tr>\n",
       "    <tr>\n",
       "      <th>min</th>\n",
       "      <td> 52.400000</td>\n",
       "      <td> 26.200000</td>\n",
       "      <td> 43.500000</td>\n",
       "      <td>  78.500000</td>\n",
       "      <td> 51.0</td>\n",
       "      <td> 25.50</td>\n",
       "      <td> 1.135000</td>\n",
       "    </tr>\n",
       "    <tr>\n",
       "      <th>25%</th>\n",
       "      <td> 57.125000</td>\n",
       "      <td> 29.185000</td>\n",
       "      <td> 53.692500</td>\n",
       "      <td>  89.375000</td>\n",
       "      <td> 55.5</td>\n",
       "      <td> 27.75</td>\n",
       "      <td> 1.428250</td>\n",
       "    </tr>\n",
       "    <tr>\n",
       "      <th>50%</th>\n",
       "      <td> 58.700000</td>\n",
       "      <td> 30.190000</td>\n",
       "      <td> 57.095000</td>\n",
       "      <td> 100.000000</td>\n",
       "      <td> 57.0</td>\n",
       "      <td> 28.50</td>\n",
       "      <td> 1.739500</td>\n",
       "    </tr>\n",
       "    <tr>\n",
       "      <th>75%</th>\n",
       "      <td> 58.705000</td>\n",
       "      <td> 30.200000</td>\n",
       "      <td> 57.100000</td>\n",
       "      <td> 107.250000</td>\n",
       "      <td> 57.0</td>\n",
       "      <td> 28.50</td>\n",
       "      <td> 2.010750</td>\n",
       "    </tr>\n",
       "    <tr>\n",
       "      <th>max</th>\n",
       "      <td> 58.720000</td>\n",
       "      <td> 30.200000</td>\n",
       "      <td> 57.100000</td>\n",
       "      <td> 108.000000</td>\n",
       "      <td> 57.0</td>\n",
       "      <td> 28.50</td>\n",
       "      <td> 2.184000</td>\n",
       "    </tr>\n",
       "  </tbody>\n",
       "</table>\n",
       "</div>"
      ],
      "text/plain": [
       "       tee_bolt_pattern_long  tee_bolt_pattern_wide  tee_extension_length  \\\n",
       "count               4.000000               4.000000              4.000000   \n",
       "mean               57.130000              29.195000             53.697500   \n",
       "std                 3.153347               1.996689              6.798335   \n",
       "min                52.400000              26.200000             43.500000   \n",
       "25%                57.125000              29.185000             53.692500   \n",
       "50%                58.700000              30.190000             57.095000   \n",
       "75%                58.705000              30.200000             57.100000   \n",
       "max                58.720000              30.200000             57.100000   \n",
       "\n",
       "       tee_overall_length  tee_thickness  tee_drop_length  tee_weight  \n",
       "count            4.000000            4.0             4.00    4.000000  \n",
       "mean            96.625000           55.5            27.75    1.699500  \n",
       "std             13.888694            3.0             1.50    0.464674  \n",
       "min             78.500000           51.0            25.50    1.135000  \n",
       "25%             89.375000           55.5            27.75    1.428250  \n",
       "50%            100.000000           57.0            28.50    1.739500  \n",
       "75%            107.250000           57.0            28.50    2.010750  \n",
       "max            108.000000           57.0            28.50    2.184000  "
      ]
     },
     "execution_count": 81,
     "metadata": {},
     "output_type": "execute_result"
    }
   ],
   "source": [
    "df.describe()"
   ]
  },
  {
   "cell_type": "code",
   "execution_count": 82,
   "metadata": {
    "collapsed": true
   },
   "outputs": [],
   "source": [
    "df.drop( [ 'tee_component_type_id',\n",
    "#            'tee_mj_class_code',    # 동일 data만 존재\n",
    "#            'tee_groove',    # 동일 data만 존재\n",
    "#            'tee_orientation',    # 동일 data만 존재\n",
    "         ],\n",
    "           axis = 1, inplace = True )"
   ]
  },
  {
   "cell_type": "code",
   "execution_count": 83,
   "metadata": {
    "collapsed": false
   },
   "outputs": [],
   "source": [
    "# df[ 'tee_mj_class_code' ] = 1\n",
    "tmp_dic = { 'Threaded' : 'Y', 'MJ-005' : 'N' }\n",
    "df[ 'tee_mj_plug_class_code' ].replace( tmp_dic, inplace = True )\n",
    "df[ 'tee_groove' ].replace( dic, inplace = True )\n",
    "df[ 'tee_unique_feature' ].replace( dic, inplace = True )\n",
    "df[ 'tee_orientation' ].replace( dic, inplace = True )"
   ]
  },
  {
   "cell_type": "code",
   "execution_count": 84,
   "metadata": {
    "collapsed": true
   },
   "outputs": [],
   "source": [
    "# tee의 부피를 추정\n",
    "# df[ 'tee_volume' ] = df[ 'tee_bolt_pattern_long' ] * df[ 'tee_bolt_pattern_wide' ] * df[ 'tee_thickness' ]"
   ]
  },
  {
   "cell_type": "code",
   "execution_count": 85,
   "metadata": {
    "collapsed": false
   },
   "outputs": [
    {
     "data": {
      "text/plain": [
       "component_id              4\n",
       "tee_bolt_pattern_long     4\n",
       "tee_bolt_pattern_wide     4\n",
       "tee_extension_length      4\n",
       "tee_overall_length        4\n",
       "tee_thickness             4\n",
       "tee_drop_length           4\n",
       "tee_mj_class_code         4\n",
       "tee_mj_plug_class_code    4\n",
       "tee_groove                4\n",
       "tee_unique_feature        4\n",
       "tee_orientation           4\n",
       "tee_weight                4\n",
       "dtype: int64"
      ]
     },
     "execution_count": 85,
     "metadata": {},
     "output_type": "execute_result"
    }
   ],
   "source": [
    "df.count()"
   ]
  },
  {
   "cell_type": "code",
   "execution_count": 86,
   "metadata": {
    "collapsed": false
   },
   "outputs": [
    {
     "data": {
      "text/html": [
       "<div style=\"max-height:1000px;max-width:1500px;overflow:auto;\">\n",
       "<table border=\"1\" class=\"dataframe\">\n",
       "  <thead>\n",
       "    <tr style=\"text-align: right;\">\n",
       "      <th></th>\n",
       "      <th>tee_bolt_pattern_long</th>\n",
       "      <th>tee_bolt_pattern_wide</th>\n",
       "      <th>tee_extension_length</th>\n",
       "      <th>tee_overall_length</th>\n",
       "      <th>tee_thickness</th>\n",
       "      <th>tee_drop_length</th>\n",
       "      <th>tee_weight</th>\n",
       "    </tr>\n",
       "  </thead>\n",
       "  <tbody>\n",
       "    <tr>\n",
       "      <th>count</th>\n",
       "      <td>  4.000000</td>\n",
       "      <td>  4.000000</td>\n",
       "      <td>  4.000000</td>\n",
       "      <td>   4.000000</td>\n",
       "      <td>  4.0</td>\n",
       "      <td>  4.00</td>\n",
       "      <td> 4.000000</td>\n",
       "    </tr>\n",
       "    <tr>\n",
       "      <th>mean</th>\n",
       "      <td> 57.130000</td>\n",
       "      <td> 29.195000</td>\n",
       "      <td> 53.697500</td>\n",
       "      <td>  96.625000</td>\n",
       "      <td> 55.5</td>\n",
       "      <td> 27.75</td>\n",
       "      <td> 1.699500</td>\n",
       "    </tr>\n",
       "    <tr>\n",
       "      <th>std</th>\n",
       "      <td>  3.153347</td>\n",
       "      <td>  1.996689</td>\n",
       "      <td>  6.798335</td>\n",
       "      <td>  13.888694</td>\n",
       "      <td>  3.0</td>\n",
       "      <td>  1.50</td>\n",
       "      <td> 0.464674</td>\n",
       "    </tr>\n",
       "    <tr>\n",
       "      <th>min</th>\n",
       "      <td> 52.400000</td>\n",
       "      <td> 26.200000</td>\n",
       "      <td> 43.500000</td>\n",
       "      <td>  78.500000</td>\n",
       "      <td> 51.0</td>\n",
       "      <td> 25.50</td>\n",
       "      <td> 1.135000</td>\n",
       "    </tr>\n",
       "    <tr>\n",
       "      <th>25%</th>\n",
       "      <td> 57.125000</td>\n",
       "      <td> 29.185000</td>\n",
       "      <td> 53.692500</td>\n",
       "      <td>  89.375000</td>\n",
       "      <td> 55.5</td>\n",
       "      <td> 27.75</td>\n",
       "      <td> 1.428250</td>\n",
       "    </tr>\n",
       "    <tr>\n",
       "      <th>50%</th>\n",
       "      <td> 58.700000</td>\n",
       "      <td> 30.190000</td>\n",
       "      <td> 57.095000</td>\n",
       "      <td> 100.000000</td>\n",
       "      <td> 57.0</td>\n",
       "      <td> 28.50</td>\n",
       "      <td> 1.739500</td>\n",
       "    </tr>\n",
       "    <tr>\n",
       "      <th>75%</th>\n",
       "      <td> 58.705000</td>\n",
       "      <td> 30.200000</td>\n",
       "      <td> 57.100000</td>\n",
       "      <td> 107.250000</td>\n",
       "      <td> 57.0</td>\n",
       "      <td> 28.50</td>\n",
       "      <td> 2.010750</td>\n",
       "    </tr>\n",
       "    <tr>\n",
       "      <th>max</th>\n",
       "      <td> 58.720000</td>\n",
       "      <td> 30.200000</td>\n",
       "      <td> 57.100000</td>\n",
       "      <td> 108.000000</td>\n",
       "      <td> 57.0</td>\n",
       "      <td> 28.50</td>\n",
       "      <td> 2.184000</td>\n",
       "    </tr>\n",
       "  </tbody>\n",
       "</table>\n",
       "</div>"
      ],
      "text/plain": [
       "       tee_bolt_pattern_long  tee_bolt_pattern_wide  tee_extension_length  \\\n",
       "count               4.000000               4.000000              4.000000   \n",
       "mean               57.130000              29.195000             53.697500   \n",
       "std                 3.153347               1.996689              6.798335   \n",
       "min                52.400000              26.200000             43.500000   \n",
       "25%                57.125000              29.185000             53.692500   \n",
       "50%                58.700000              30.190000             57.095000   \n",
       "75%                58.705000              30.200000             57.100000   \n",
       "max                58.720000              30.200000             57.100000   \n",
       "\n",
       "       tee_overall_length  tee_thickness  tee_drop_length  tee_weight  \n",
       "count            4.000000            4.0             4.00    4.000000  \n",
       "mean            96.625000           55.5            27.75    1.699500  \n",
       "std             13.888694            3.0             1.50    0.464674  \n",
       "min             78.500000           51.0            25.50    1.135000  \n",
       "25%             89.375000           55.5            27.75    1.428250  \n",
       "50%            100.000000           57.0            28.50    1.739500  \n",
       "75%            107.250000           57.0            28.50    2.010750  \n",
       "max            108.000000           57.0            28.50    2.184000  "
      ]
     },
     "execution_count": 86,
     "metadata": {},
     "output_type": "execute_result"
    }
   ],
   "source": [
    "df.describe()"
   ]
  },
  {
   "cell_type": "code",
   "execution_count": 87,
   "metadata": {
    "collapsed": true
   },
   "outputs": [],
   "source": [
    "df.to_csv( './dataset/comp.verified/comp_tee.verified.csv', index = False )"
   ]
  },
  {
   "cell_type": "markdown",
   "metadata": {},
   "source": [
    "."
   ]
  },
  {
   "cell_type": "markdown",
   "metadata": {},
   "source": [
    "##3.11 comp_threaded"
   ]
  },
  {
   "cell_type": "code",
   "execution_count": 88,
   "metadata": {
    "collapsed": false
   },
   "outputs": [
    {
     "name": "stdout",
     "output_type": "stream",
     "text": [
      "component_id\n",
      "threaded_component_type_id\n",
      "threaded_adaptor_angle\n",
      "threaded_overall_length\n",
      "threaded_hex_size\n",
      "threaded_end_form_id_1\n",
      "threaded_connection_type_id_1\n",
      "threaded_length_1\n",
      "threaded_thread_size_1\n",
      "threaded_thread_pitch_1\n",
      "threaded_nominal_size_1\n",
      "threaded_end_form_id_2\n",
      "threaded_connection_type_id_2\n",
      "threaded_length_2\n",
      "threaded_thread_size_2\n",
      "threaded_thread_pitch_2\n",
      "threaded_nominal_size_2\n",
      "threaded_end_form_id_3\n",
      "threaded_connection_type_id_3\n",
      "threaded_length_3\n",
      "threaded_thread_size_3\n",
      "threaded_thread_pitch_3\n",
      "threaded_nominal_size_3\n",
      "threaded_end_form_id_4\n",
      "threaded_connection_type_id_4\n",
      "threaded_length_4\n",
      "threaded_thread_size_4\n",
      "threaded_thread_pitch_4\n",
      "threaded_nominal_size_4\n",
      "threaded_unique_feature\n",
      "threaded_orientation\n",
      "threaded_weight\n"
     ]
    }
   ],
   "source": [
    "df = pd.read_csv( './dataset/comp.colname.changed/comp_threaded.csv' )\n",
    "for col in df.columns.values.tolist() :    # 각 column의 검토\n",
    "    print( col )    "
   ]
  },
  {
   "cell_type": "code",
   "execution_count": 89,
   "metadata": {
    "collapsed": false
   },
   "outputs": [
    {
     "data": {
      "text/plain": [
       "component_id                     194\n",
       "threaded_component_type_id       194\n",
       "threaded_adaptor_angle            54\n",
       "threaded_overall_length          121\n",
       "threaded_hex_size                112\n",
       "threaded_end_form_id_1           194\n",
       "threaded_connection_type_id_1    135\n",
       "threaded_length_1                 73\n",
       "threaded_thread_size_1           135\n",
       "threaded_thread_pitch_1          135\n",
       "threaded_nominal_size_1           60\n",
       "threaded_end_form_id_2           194\n",
       "threaded_connection_type_id_2     63\n",
       "threaded_length_2                 73\n",
       "threaded_thread_size_2            63\n",
       "threaded_thread_pitch_2           63\n",
       "threaded_nominal_size_2          131\n",
       "threaded_end_form_id_3            19\n",
       "threaded_connection_type_id_3     10\n",
       "threaded_length_3                 19\n",
       "threaded_thread_size_3            10\n",
       "threaded_thread_pitch_3           10\n",
       "threaded_nominal_size_3            9\n",
       "threaded_end_form_id_4             1\n",
       "threaded_connection_type_id_4      1\n",
       "threaded_length_4                  1\n",
       "threaded_thread_size_4             1\n",
       "threaded_thread_pitch_4            1\n",
       "threaded_nominal_size_4            0\n",
       "threaded_unique_feature          194\n",
       "threaded_orientation             194\n",
       "threaded_weight                  193\n",
       "dtype: int64"
      ]
     },
     "execution_count": 89,
     "metadata": {},
     "output_type": "execute_result"
    }
   ],
   "source": [
    "df.count()"
   ]
  },
  {
   "cell_type": "code",
   "execution_count": 90,
   "metadata": {
    "collapsed": false,
    "scrolled": true
   },
   "outputs": [
    {
     "data": {
      "text/html": [
       "<div style=\"max-height:1000px;max-width:1500px;overflow:auto;\">\n",
       "<table border=\"1\" class=\"dataframe\">\n",
       "  <thead>\n",
       "    <tr style=\"text-align: right;\">\n",
       "      <th></th>\n",
       "      <th>threaded_adaptor_angle</th>\n",
       "      <th>threaded_overall_length</th>\n",
       "      <th>threaded_hex_size</th>\n",
       "      <th>threaded_length_1</th>\n",
       "      <th>threaded_thread_size_1</th>\n",
       "      <th>threaded_thread_pitch_1</th>\n",
       "      <th>threaded_length_2</th>\n",
       "      <th>threaded_thread_size_2</th>\n",
       "      <th>threaded_thread_pitch_2</th>\n",
       "      <th>threaded_nominal_size_2</th>\n",
       "      <th>threaded_length_3</th>\n",
       "      <th>threaded_thread_size_3</th>\n",
       "      <th>threaded_thread_pitch_3</th>\n",
       "      <th>threaded_nominal_size_3</th>\n",
       "      <th>threaded_length_4</th>\n",
       "      <th>threaded_thread_size_4</th>\n",
       "      <th>threaded_thread_pitch_4</th>\n",
       "      <th>threaded_nominal_size_4</th>\n",
       "      <th>threaded_weight</th>\n",
       "    </tr>\n",
       "  </thead>\n",
       "  <tbody>\n",
       "    <tr>\n",
       "      <th>count</th>\n",
       "      <td> 54.000000</td>\n",
       "      <td> 121.000000</td>\n",
       "      <td> 112.000000</td>\n",
       "      <td> 73.000000</td>\n",
       "      <td> 135.000000</td>\n",
       "      <td> 135.000000</td>\n",
       "      <td> 73.000000</td>\n",
       "      <td> 63.000000</td>\n",
       "      <td> 63.000000</td>\n",
       "      <td>  131.000000</td>\n",
       "      <td> 19.000000</td>\n",
       "      <td> 10.000000</td>\n",
       "      <td> 10.000000</td>\n",
       "      <td>    9.000000</td>\n",
       "      <td>  1.0</td>\n",
       "      <td> 1.000</td>\n",
       "      <td>  1</td>\n",
       "      <td>  0</td>\n",
       "      <td> 193.000000</td>\n",
       "    </tr>\n",
       "    <tr>\n",
       "      <th>mean</th>\n",
       "      <td> 89.166667</td>\n",
       "      <td>  40.093636</td>\n",
       "      <td>  31.629018</td>\n",
       "      <td> 39.567534</td>\n",
       "      <td>   1.053807</td>\n",
       "      <td>  13.937037</td>\n",
       "      <td> 34.079178</td>\n",
       "      <td>  1.122619</td>\n",
       "      <td> 13.460317</td>\n",
       "      <td>   96.769618</td>\n",
       "      <td> 35.513158</td>\n",
       "      <td>  1.262100</td>\n",
       "      <td> 12.800000</td>\n",
       "      <td> 1128.806667</td>\n",
       "      <td> 41.7</td>\n",
       "      <td> 1.187</td>\n",
       "      <td> 12</td>\n",
       "      <td>NaN</td>\n",
       "      <td>   0.256560</td>\n",
       "    </tr>\n",
       "    <tr>\n",
       "      <th>std</th>\n",
       "      <td>  6.123724</td>\n",
       "      <td>  14.340504</td>\n",
       "      <td>  11.183560</td>\n",
       "      <td> 13.412294</td>\n",
       "      <td>   0.349045</td>\n",
       "      <td>   2.174676</td>\n",
       "      <td> 11.225542</td>\n",
       "      <td>  0.307175</td>\n",
       "      <td>  1.907755</td>\n",
       "      <td>  871.863691</td>\n",
       "      <td> 13.130247</td>\n",
       "      <td>  0.269601</td>\n",
       "      <td>  1.398412</td>\n",
       "      <td> 3326.333176</td>\n",
       "      <td>  NaN</td>\n",
       "      <td>   NaN</td>\n",
       "      <td>NaN</td>\n",
       "      <td>NaN</td>\n",
       "      <td>   0.230857</td>\n",
       "    </tr>\n",
       "    <tr>\n",
       "      <th>min</th>\n",
       "      <td> 45.000000</td>\n",
       "      <td>  18.540000</td>\n",
       "      <td>  12.700000</td>\n",
       "      <td> 15.880000</td>\n",
       "      <td>   0.437000</td>\n",
       "      <td>   8.000000</td>\n",
       "      <td>  0.000000</td>\n",
       "      <td>  0.437000</td>\n",
       "      <td> 12.000000</td>\n",
       "      <td>    6.350000</td>\n",
       "      <td> 14.500000</td>\n",
       "      <td>  0.812000</td>\n",
       "      <td> 12.000000</td>\n",
       "      <td>    9.520000</td>\n",
       "      <td> 41.7</td>\n",
       "      <td> 1.187</td>\n",
       "      <td> 12</td>\n",
       "      <td>NaN</td>\n",
       "      <td>   0.005000</td>\n",
       "    </tr>\n",
       "    <tr>\n",
       "      <th>25%</th>\n",
       "      <td> 90.000000</td>\n",
       "      <td>  28.400000</td>\n",
       "      <td>  22.220000</td>\n",
       "      <td> 30.550000</td>\n",
       "      <td>   0.812000</td>\n",
       "      <td>  12.000000</td>\n",
       "      <td> 28.000000</td>\n",
       "      <td>  0.812000</td>\n",
       "      <td> 12.000000</td>\n",
       "      <td>   15.880000</td>\n",
       "      <td> 25.905000</td>\n",
       "      <td>  1.046750</td>\n",
       "      <td> 12.000000</td>\n",
       "      <td>   15.880000</td>\n",
       "      <td> 41.7</td>\n",
       "      <td> 1.187</td>\n",
       "      <td> 12</td>\n",
       "      <td>NaN</td>\n",
       "      <td>   0.096000</td>\n",
       "    </tr>\n",
       "    <tr>\n",
       "      <th>50%</th>\n",
       "      <td> 90.000000</td>\n",
       "      <td>  38.500000</td>\n",
       "      <td>  31.750000</td>\n",
       "      <td> 37.300000</td>\n",
       "      <td>   1.000000</td>\n",
       "      <td>  14.000000</td>\n",
       "      <td> 35.500000</td>\n",
       "      <td>  1.187000</td>\n",
       "      <td> 12.000000</td>\n",
       "      <td>   19.050000</td>\n",
       "      <td> 37.000000</td>\n",
       "      <td>  1.312000</td>\n",
       "      <td> 12.000000</td>\n",
       "      <td>   15.880000</td>\n",
       "      <td> 41.7</td>\n",
       "      <td> 1.187</td>\n",
       "      <td> 12</td>\n",
       "      <td>NaN</td>\n",
       "      <td>   0.175000</td>\n",
       "    </tr>\n",
       "    <tr>\n",
       "      <th>75%</th>\n",
       "      <td> 90.000000</td>\n",
       "      <td>  48.400000</td>\n",
       "      <td>  38.100000</td>\n",
       "      <td> 43.000000</td>\n",
       "      <td>   1.187000</td>\n",
       "      <td>  16.000000</td>\n",
       "      <td> 41.400000</td>\n",
       "      <td>  1.437000</td>\n",
       "      <td> 16.000000</td>\n",
       "      <td>   25.400000</td>\n",
       "      <td> 41.700000</td>\n",
       "      <td>  1.437000</td>\n",
       "      <td> 13.500000</td>\n",
       "      <td>   30.000000</td>\n",
       "      <td> 41.7</td>\n",
       "      <td> 1.187</td>\n",
       "      <td> 12</td>\n",
       "      <td>NaN</td>\n",
       "      <td>   0.351000</td>\n",
       "    </tr>\n",
       "    <tr>\n",
       "      <th>max</th>\n",
       "      <td> 90.000000</td>\n",
       "      <td>  80.000000</td>\n",
       "      <td>  76.200000</td>\n",
       "      <td> 71.100000</td>\n",
       "      <td>   2.500000</td>\n",
       "      <td>  20.000000</td>\n",
       "      <td> 61.200000</td>\n",
       "      <td>  2.000000</td>\n",
       "      <td> 20.000000</td>\n",
       "      <td> 9999.000000</td>\n",
       "      <td> 71.200000</td>\n",
       "      <td>  1.687000</td>\n",
       "      <td> 16.000000</td>\n",
       "      <td> 9999.000000</td>\n",
       "      <td> 41.7</td>\n",
       "      <td> 1.187</td>\n",
       "      <td> 12</td>\n",
       "      <td>NaN</td>\n",
       "      <td>   1.170000</td>\n",
       "    </tr>\n",
       "  </tbody>\n",
       "</table>\n",
       "</div>"
      ],
      "text/plain": [
       "       threaded_adaptor_angle  threaded_overall_length  threaded_hex_size  \\\n",
       "count               54.000000               121.000000         112.000000   \n",
       "mean                89.166667                40.093636          31.629018   \n",
       "std                  6.123724                14.340504          11.183560   \n",
       "min                 45.000000                18.540000          12.700000   \n",
       "25%                 90.000000                28.400000          22.220000   \n",
       "50%                 90.000000                38.500000          31.750000   \n",
       "75%                 90.000000                48.400000          38.100000   \n",
       "max                 90.000000                80.000000          76.200000   \n",
       "\n",
       "       threaded_length_1  threaded_thread_size_1  threaded_thread_pitch_1  \\\n",
       "count          73.000000              135.000000               135.000000   \n",
       "mean           39.567534                1.053807                13.937037   \n",
       "std            13.412294                0.349045                 2.174676   \n",
       "min            15.880000                0.437000                 8.000000   \n",
       "25%            30.550000                0.812000                12.000000   \n",
       "50%            37.300000                1.000000                14.000000   \n",
       "75%            43.000000                1.187000                16.000000   \n",
       "max            71.100000                2.500000                20.000000   \n",
       "\n",
       "       threaded_length_2  threaded_thread_size_2  threaded_thread_pitch_2  \\\n",
       "count          73.000000               63.000000                63.000000   \n",
       "mean           34.079178                1.122619                13.460317   \n",
       "std            11.225542                0.307175                 1.907755   \n",
       "min             0.000000                0.437000                12.000000   \n",
       "25%            28.000000                0.812000                12.000000   \n",
       "50%            35.500000                1.187000                12.000000   \n",
       "75%            41.400000                1.437000                16.000000   \n",
       "max            61.200000                2.000000                20.000000   \n",
       "\n",
       "       threaded_nominal_size_2  threaded_length_3  threaded_thread_size_3  \\\n",
       "count               131.000000          19.000000               10.000000   \n",
       "mean                 96.769618          35.513158                1.262100   \n",
       "std                 871.863691          13.130247                0.269601   \n",
       "min                   6.350000          14.500000                0.812000   \n",
       "25%                  15.880000          25.905000                1.046750   \n",
       "50%                  19.050000          37.000000                1.312000   \n",
       "75%                  25.400000          41.700000                1.437000   \n",
       "max                9999.000000          71.200000                1.687000   \n",
       "\n",
       "       threaded_thread_pitch_3  threaded_nominal_size_3  threaded_length_4  \\\n",
       "count                10.000000                 9.000000                1.0   \n",
       "mean                 12.800000              1128.806667               41.7   \n",
       "std                   1.398412              3326.333176                NaN   \n",
       "min                  12.000000                 9.520000               41.7   \n",
       "25%                  12.000000                15.880000               41.7   \n",
       "50%                  12.000000                15.880000               41.7   \n",
       "75%                  13.500000                30.000000               41.7   \n",
       "max                  16.000000              9999.000000               41.7   \n",
       "\n",
       "       threaded_thread_size_4  threaded_thread_pitch_4  \\\n",
       "count                   1.000                        1   \n",
       "mean                    1.187                       12   \n",
       "std                       NaN                      NaN   \n",
       "min                     1.187                       12   \n",
       "25%                     1.187                       12   \n",
       "50%                     1.187                       12   \n",
       "75%                     1.187                       12   \n",
       "max                     1.187                       12   \n",
       "\n",
       "       threaded_nominal_size_4  threaded_weight  \n",
       "count                        0       193.000000  \n",
       "mean                       NaN         0.256560  \n",
       "std                        NaN         0.230857  \n",
       "min                        NaN         0.005000  \n",
       "25%                        NaN         0.096000  \n",
       "50%                        NaN         0.175000  \n",
       "75%                        NaN         0.351000  \n",
       "max                        NaN         1.170000  "
      ]
     },
     "execution_count": 90,
     "metadata": {},
     "output_type": "execute_result"
    }
   ],
   "source": [
    "df.describe()"
   ]
  },
  {
   "cell_type": "code",
   "execution_count": 91,
   "metadata": {
    "collapsed": true
   },
   "outputs": [],
   "source": [
    "df.drop( [ 'threaded_component_type_id',\n",
    "#            'threaded_adaptor_angle',    # 개수가 적음 : 54개\n",
    "#            'threaded_length_1',    # 개수가 적음 : 73개\n",
    "#            'threaded_nominal_size_1',    # 개수가 적음 : 60개\n",
    "#            'threaded_length_2',    # 개수가 적음 : 73개\n",
    "#            'threaded_thread_size_2',    # 63개\n",
    "#            'threaded_thread_pitch_2',    # 63개\n",
    "#            'threaded_end_form_id_3',    # 19개\n",
    "#            'threaded_length_3',    # 19개\n",
    "#            'threaded_thread_size_3',    # 10개\n",
    "#            'threaded_thread_pitch_3',    # 10개\n",
    "#            'threaded_nominal_size_3',     # 9개\n",
    "#            'threaded_end_form_id_4',     # 1개\n",
    "#            'threaded_connection_type_id_4',    # 1개\n",
    "#            'threaded_length_4',    # 1개\n",
    "#            'threaded_thread_size_4',    # 1개\n",
    "#            'threaded_thread_pitch_4',    # 1개\n",
    "#            'threaded_nominal_size_4',   # 0개\n",
    "#            'threaded_connection_type_id_3',    #4개\n",
    "         ],\n",
    "           axis = 1, inplace = True )"
   ]
  },
  {
   "cell_type": "code",
   "execution_count": 92,
   "metadata": {
    "collapsed": false
   },
   "outputs": [],
   "source": [
    "# df[ 'threaded_connection_type_id_1' ].value_counts().index[0]"
   ]
  },
  {
   "cell_type": "code",
   "execution_count": 93,
   "metadata": {
    "collapsed": false
   },
   "outputs": [],
   "source": [
    "df[ 'threaded_adaptor_angle' ].fillna( replace_na_value( df[ 'threaded_adaptor_angle' ], True ), inplace = True )\n",
    "df[ 'threaded_overall_length' ].fillna( replace_na_value( df[ 'threaded_overall_length' ], True ), inplace = True )\n",
    "df[ 'threaded_hex_size' ].fillna( replace_na_value( df[ 'threaded_hex_size' ], True ), inplace = True )\n",
    "df[ 'threaded_connection_type_id_1' ].fillna( replace_na_value( df[ 'threaded_connection_type_id_1' ], False ), inplace = True )\n",
    "df[ 'threaded_length_1' ].fillna( replace_na_value( df[ 'threaded_length_1' ], True ), inplace = True )\n",
    "df[ 'threaded_thread_size_1' ].fillna( replace_na_value( df[ 'threaded_thread_size_1' ], True ), inplace = True )\n",
    "df[ 'threaded_thread_pitch_1' ].fillna( replace_na_value( df[ 'threaded_thread_pitch_1' ], True ), inplace = True )\n",
    "df[ 'threaded_nominal_size_1' ].replace( to_replace = 'See Drawing',\n",
    "                                         value = np.nan,\n",
    "                                         inplace = True )\n",
    "df[ 'threaded_nominal_size_1' ].fillna( replace_na_value( df[ 'threaded_nominal_size_1' ], True ), inplace = True )\n",
    "df[ 'threaded_connection_type_id_2' ].fillna( replace_na_value( df[ 'threaded_connection_type_id_2' ], False ), inplace = True )\n",
    "df[ 'threaded_length_2' ].fillna( replace_na_value( df[ 'threaded_length_2' ], True ), inplace = True )\n",
    "df[ 'threaded_thread_size_2' ].fillna( replace_na_value( df[ 'threaded_thread_size_2' ], True ), inplace = True )\n",
    "df[ 'threaded_thread_pitch_2' ].fillna( replace_na_value( df[ 'threaded_thread_pitch_2' ], True ), inplace = True )\n",
    "df[ 'threaded_nominal_size_2' ].fillna( replace_na_value( df[ 'threaded_nominal_size_2' ], True ), inplace = True )\n",
    "df[ 'threaded_nominal_size_2' ].replace( to_replace = 9999,\n",
    "                                         value = replace_9999_value( df, 'threaded_nominal_size_2' ),\n",
    "                                         inplace = True )\n",
    "df[ 'threaded_end_form_id_3' ].fillna( replace_na_value( df[ 'threaded_end_form_id_3' ], False ), inplace = True )\n",
    "df[ 'threaded_connection_type_id_3' ].fillna( replace_na_value( df[ 'threaded_connection_type_id_3' ], False ), inplace = True )\n",
    "df[ 'threaded_length_3' ].fillna( replace_na_value( df[ 'threaded_length_3' ], True ), inplace = True )\n",
    "df[ 'threaded_thread_size_3' ].fillna( replace_na_value( df[ 'threaded_thread_size_3' ], True ), inplace = True )\n",
    "df[ 'threaded_thread_pitch_3' ].fillna( replace_na_value( df[ 'threaded_thread_pitch_3' ], True ), inplace = True )\n",
    "df[ 'threaded_nominal_size_3' ].fillna( replace_na_value( df[ 'threaded_nominal_size_3' ], True ), inplace = True )\n",
    "df[ 'threaded_end_form_id_4' ].fillna( replace_na_value( df[ 'threaded_end_form_id_4' ], False ), inplace = True )\n",
    "df[ 'threaded_connection_type_id_4' ].fillna( replace_na_value( df[ 'threaded_connection_type_id_4' ], False ), inplace = True )\n",
    "df[ 'threaded_length_4' ].fillna( replace_na_value( df[ 'threaded_length_4' ], True ), inplace = True )\n",
    "df[ 'threaded_thread_size_4' ].fillna( replace_na_value( df[ 'threaded_thread_size_4' ], True ), inplace = True )\n",
    "df[ 'threaded_thread_pitch_4' ].fillna( replace_na_value( df[ 'threaded_thread_pitch_4' ], True ), inplace = True )\n",
    "df[ 'threaded_nominal_size_4' ].fillna( replace_na_value( df[ 'threaded_nominal_size_4' ], True ), inplace = True )\n",
    "df[ 'threaded_unique_feature' ].replace( dic, inplace = True )\n",
    "df[ 'threaded_orientation' ].replace( dic, inplace = True )\n",
    "df[ 'threaded_weight' ].fillna( replace_na_value( df[ 'threaded_weight' ], True ), inplace = True )"
   ]
  },
  {
   "cell_type": "code",
   "execution_count": 94,
   "metadata": {
    "collapsed": false
   },
   "outputs": [
    {
     "data": {
      "text/plain": [
       "component_id                     194\n",
       "threaded_adaptor_angle           194\n",
       "threaded_overall_length          194\n",
       "threaded_hex_size                194\n",
       "threaded_end_form_id_1           194\n",
       "threaded_connection_type_id_1    194\n",
       "threaded_length_1                194\n",
       "threaded_thread_size_1           194\n",
       "threaded_thread_pitch_1          194\n",
       "threaded_nominal_size_1          194\n",
       "threaded_end_form_id_2           194\n",
       "threaded_connection_type_id_2    194\n",
       "threaded_length_2                194\n",
       "threaded_thread_size_2           194\n",
       "threaded_thread_pitch_2          194\n",
       "threaded_nominal_size_2          194\n",
       "threaded_end_form_id_3           194\n",
       "threaded_connection_type_id_3    194\n",
       "threaded_length_3                194\n",
       "threaded_thread_size_3           194\n",
       "threaded_thread_pitch_3          194\n",
       "threaded_nominal_size_3          194\n",
       "threaded_end_form_id_4           194\n",
       "threaded_connection_type_id_4    194\n",
       "threaded_length_4                194\n",
       "threaded_thread_size_4           194\n",
       "threaded_thread_pitch_4          194\n",
       "threaded_nominal_size_4            0\n",
       "threaded_unique_feature          194\n",
       "threaded_orientation             194\n",
       "threaded_weight                  194\n",
       "dtype: int64"
      ]
     },
     "execution_count": 94,
     "metadata": {},
     "output_type": "execute_result"
    }
   ],
   "source": [
    "df.count()"
   ]
  },
  {
   "cell_type": "code",
   "execution_count": 95,
   "metadata": {
    "collapsed": false
   },
   "outputs": [
    {
     "data": {
      "text/html": [
       "<div style=\"max-height:1000px;max-width:1500px;overflow:auto;\">\n",
       "<table border=\"1\" class=\"dataframe\">\n",
       "  <thead>\n",
       "    <tr style=\"text-align: right;\">\n",
       "      <th></th>\n",
       "      <th>threaded_adaptor_angle</th>\n",
       "      <th>threaded_overall_length</th>\n",
       "      <th>threaded_hex_size</th>\n",
       "      <th>threaded_length_1</th>\n",
       "      <th>threaded_thread_size_1</th>\n",
       "      <th>threaded_thread_pitch_1</th>\n",
       "      <th>threaded_length_2</th>\n",
       "      <th>threaded_thread_size_2</th>\n",
       "      <th>threaded_thread_pitch_2</th>\n",
       "      <th>threaded_nominal_size_2</th>\n",
       "      <th>threaded_length_3</th>\n",
       "      <th>threaded_thread_size_3</th>\n",
       "      <th>threaded_thread_pitch_3</th>\n",
       "      <th>threaded_nominal_size_3</th>\n",
       "      <th>threaded_length_4</th>\n",
       "      <th>threaded_thread_size_4</th>\n",
       "      <th>threaded_thread_pitch_4</th>\n",
       "      <th>threaded_nominal_size_4</th>\n",
       "      <th>threaded_weight</th>\n",
       "    </tr>\n",
       "  </thead>\n",
       "  <tbody>\n",
       "    <tr>\n",
       "      <th>count</th>\n",
       "      <td> 194.000000</td>\n",
       "      <td> 194.000000</td>\n",
       "      <td> 194.000000</td>\n",
       "      <td> 194.000000</td>\n",
       "      <td> 194.000000</td>\n",
       "      <td> 194.000000</td>\n",
       "      <td> 194.000000</td>\n",
       "      <td> 194.000000</td>\n",
       "      <td> 194.000000</td>\n",
       "      <td> 194.000000</td>\n",
       "      <td> 194.000000</td>\n",
       "      <td> 194.000000</td>\n",
       "      <td> 194.000000</td>\n",
       "      <td>  194.000000</td>\n",
       "      <td> 194.000000</td>\n",
       "      <td> 1.940000e+02</td>\n",
       "      <td> 194</td>\n",
       "      <td>  0</td>\n",
       "      <td> 194.000000</td>\n",
       "    </tr>\n",
       "    <tr>\n",
       "      <th>mean</th>\n",
       "      <td>  89.768041</td>\n",
       "      <td>  39.493969</td>\n",
       "      <td>  31.680155</td>\n",
       "      <td>  38.153247</td>\n",
       "      <td>   1.037443</td>\n",
       "      <td>  13.956186</td>\n",
       "      <td>  34.965361</td>\n",
       "      <td>   1.166093</td>\n",
       "      <td>  12.474227</td>\n",
       "      <td>  20.087732</td>\n",
       "      <td>  36.854381</td>\n",
       "      <td>   1.309428</td>\n",
       "      <td>  12.041237</td>\n",
       "      <td>   67.510619</td>\n",
       "      <td>  41.700000</td>\n",
       "      <td> 1.187000e+00</td>\n",
       "      <td>  12</td>\n",
       "      <td>NaN</td>\n",
       "      <td>   0.256139</td>\n",
       "    </tr>\n",
       "    <tr>\n",
       "      <th>std</th>\n",
       "      <td>   3.230812</td>\n",
       "      <td>  11.334217</td>\n",
       "      <td>   8.481521</td>\n",
       "      <td>   8.265717</td>\n",
       "      <td>   0.291897</td>\n",
       "      <td>   1.812275</td>\n",
       "      <td>   6.891023</td>\n",
       "      <td>   0.176706</td>\n",
       "      <td>   1.280324</td>\n",
       "      <td>   7.443050</td>\n",
       "      <td>   4.034277</td>\n",
       "      <td>   0.059261</td>\n",
       "      <td>   0.350204</td>\n",
       "      <td>  716.736419</td>\n",
       "      <td>   0.000001</td>\n",
       "      <td> 3.432349e-08</td>\n",
       "      <td>   0</td>\n",
       "      <td>NaN</td>\n",
       "      <td>   0.230332</td>\n",
       "    </tr>\n",
       "    <tr>\n",
       "      <th>min</th>\n",
       "      <td>  45.000000</td>\n",
       "      <td>  18.540000</td>\n",
       "      <td>  12.700000</td>\n",
       "      <td>  15.880000</td>\n",
       "      <td>   0.437000</td>\n",
       "      <td>   8.000000</td>\n",
       "      <td>   0.000000</td>\n",
       "      <td>   0.437000</td>\n",
       "      <td>  12.000000</td>\n",
       "      <td>   6.350000</td>\n",
       "      <td>  14.500000</td>\n",
       "      <td>   0.812000</td>\n",
       "      <td>  12.000000</td>\n",
       "      <td>    9.520000</td>\n",
       "      <td>  41.700000</td>\n",
       "      <td> 1.187000e+00</td>\n",
       "      <td>  12</td>\n",
       "      <td>NaN</td>\n",
       "      <td>   0.005000</td>\n",
       "    </tr>\n",
       "    <tr>\n",
       "      <th>25%</th>\n",
       "      <td>  90.000000</td>\n",
       "      <td>  34.262500</td>\n",
       "      <td>  27.050000</td>\n",
       "      <td>  37.300000</td>\n",
       "      <td>   0.812000</td>\n",
       "      <td>  12.000000</td>\n",
       "      <td>  35.500000</td>\n",
       "      <td>   1.187000</td>\n",
       "      <td>  12.000000</td>\n",
       "      <td>  15.880000</td>\n",
       "      <td>  37.000000</td>\n",
       "      <td>   1.312000</td>\n",
       "      <td>  12.000000</td>\n",
       "      <td>   15.880000</td>\n",
       "      <td>  41.700000</td>\n",
       "      <td> 1.187000e+00</td>\n",
       "      <td>  12</td>\n",
       "      <td>NaN</td>\n",
       "      <td>   0.096250</td>\n",
       "    </tr>\n",
       "    <tr>\n",
       "      <th>50%</th>\n",
       "      <td>  90.000000</td>\n",
       "      <td>  38.500000</td>\n",
       "      <td>  31.750000</td>\n",
       "      <td>  37.300000</td>\n",
       "      <td>   1.000000</td>\n",
       "      <td>  14.000000</td>\n",
       "      <td>  35.500000</td>\n",
       "      <td>   1.187000</td>\n",
       "      <td>  12.000000</td>\n",
       "      <td>  19.050000</td>\n",
       "      <td>  37.000000</td>\n",
       "      <td>   1.312000</td>\n",
       "      <td>  12.000000</td>\n",
       "      <td>   15.880000</td>\n",
       "      <td>  41.700000</td>\n",
       "      <td> 1.187000e+00</td>\n",
       "      <td>  12</td>\n",
       "      <td>NaN</td>\n",
       "      <td>   0.175000</td>\n",
       "    </tr>\n",
       "    <tr>\n",
       "      <th>75%</th>\n",
       "      <td>  90.000000</td>\n",
       "      <td>  40.950000</td>\n",
       "      <td>  31.750000</td>\n",
       "      <td>  37.300000</td>\n",
       "      <td>   1.187000</td>\n",
       "      <td>  16.000000</td>\n",
       "      <td>  35.500000</td>\n",
       "      <td>   1.187000</td>\n",
       "      <td>  12.000000</td>\n",
       "      <td>  22.220000</td>\n",
       "      <td>  37.000000</td>\n",
       "      <td>   1.312000</td>\n",
       "      <td>  12.000000</td>\n",
       "      <td>   15.880000</td>\n",
       "      <td>  41.700000</td>\n",
       "      <td> 1.187000e+00</td>\n",
       "      <td>  12</td>\n",
       "      <td>NaN</td>\n",
       "      <td>   0.350750</td>\n",
       "    </tr>\n",
       "    <tr>\n",
       "      <th>max</th>\n",
       "      <td>  90.000000</td>\n",
       "      <td>  80.000000</td>\n",
       "      <td>  76.200000</td>\n",
       "      <td>  71.100000</td>\n",
       "      <td>   2.500000</td>\n",
       "      <td>  20.000000</td>\n",
       "      <td>  61.200000</td>\n",
       "      <td>   2.000000</td>\n",
       "      <td>  20.000000</td>\n",
       "      <td>  63.500000</td>\n",
       "      <td>  71.200000</td>\n",
       "      <td>   1.687000</td>\n",
       "      <td>  16.000000</td>\n",
       "      <td> 9999.000000</td>\n",
       "      <td>  41.700000</td>\n",
       "      <td> 1.187000e+00</td>\n",
       "      <td>  12</td>\n",
       "      <td>NaN</td>\n",
       "      <td>   1.170000</td>\n",
       "    </tr>\n",
       "  </tbody>\n",
       "</table>\n",
       "</div>"
      ],
      "text/plain": [
       "       threaded_adaptor_angle  threaded_overall_length  threaded_hex_size  \\\n",
       "count              194.000000               194.000000         194.000000   \n",
       "mean                89.768041                39.493969          31.680155   \n",
       "std                  3.230812                11.334217           8.481521   \n",
       "min                 45.000000                18.540000          12.700000   \n",
       "25%                 90.000000                34.262500          27.050000   \n",
       "50%                 90.000000                38.500000          31.750000   \n",
       "75%                 90.000000                40.950000          31.750000   \n",
       "max                 90.000000                80.000000          76.200000   \n",
       "\n",
       "       threaded_length_1  threaded_thread_size_1  threaded_thread_pitch_1  \\\n",
       "count         194.000000              194.000000               194.000000   \n",
       "mean           38.153247                1.037443                13.956186   \n",
       "std             8.265717                0.291897                 1.812275   \n",
       "min            15.880000                0.437000                 8.000000   \n",
       "25%            37.300000                0.812000                12.000000   \n",
       "50%            37.300000                1.000000                14.000000   \n",
       "75%            37.300000                1.187000                16.000000   \n",
       "max            71.100000                2.500000                20.000000   \n",
       "\n",
       "       threaded_length_2  threaded_thread_size_2  threaded_thread_pitch_2  \\\n",
       "count         194.000000              194.000000               194.000000   \n",
       "mean           34.965361                1.166093                12.474227   \n",
       "std             6.891023                0.176706                 1.280324   \n",
       "min             0.000000                0.437000                12.000000   \n",
       "25%            35.500000                1.187000                12.000000   \n",
       "50%            35.500000                1.187000                12.000000   \n",
       "75%            35.500000                1.187000                12.000000   \n",
       "max            61.200000                2.000000                20.000000   \n",
       "\n",
       "       threaded_nominal_size_2  threaded_length_3  threaded_thread_size_3  \\\n",
       "count               194.000000         194.000000              194.000000   \n",
       "mean                 20.087732          36.854381                1.309428   \n",
       "std                   7.443050           4.034277                0.059261   \n",
       "min                   6.350000          14.500000                0.812000   \n",
       "25%                  15.880000          37.000000                1.312000   \n",
       "50%                  19.050000          37.000000                1.312000   \n",
       "75%                  22.220000          37.000000                1.312000   \n",
       "max                  63.500000          71.200000                1.687000   \n",
       "\n",
       "       threaded_thread_pitch_3  threaded_nominal_size_3  threaded_length_4  \\\n",
       "count               194.000000               194.000000         194.000000   \n",
       "mean                 12.041237                67.510619          41.700000   \n",
       "std                   0.350204               716.736419           0.000001   \n",
       "min                  12.000000                 9.520000          41.700000   \n",
       "25%                  12.000000                15.880000          41.700000   \n",
       "50%                  12.000000                15.880000          41.700000   \n",
       "75%                  12.000000                15.880000          41.700000   \n",
       "max                  16.000000              9999.000000          41.700000   \n",
       "\n",
       "       threaded_thread_size_4  threaded_thread_pitch_4  \\\n",
       "count            1.940000e+02                      194   \n",
       "mean             1.187000e+00                       12   \n",
       "std              3.432349e-08                        0   \n",
       "min              1.187000e+00                       12   \n",
       "25%              1.187000e+00                       12   \n",
       "50%              1.187000e+00                       12   \n",
       "75%              1.187000e+00                       12   \n",
       "max              1.187000e+00                       12   \n",
       "\n",
       "       threaded_nominal_size_4  threaded_weight  \n",
       "count                        0       194.000000  \n",
       "mean                       NaN         0.256139  \n",
       "std                        NaN         0.230332  \n",
       "min                        NaN         0.005000  \n",
       "25%                        NaN         0.096250  \n",
       "50%                        NaN         0.175000  \n",
       "75%                        NaN         0.350750  \n",
       "max                        NaN         1.170000  "
      ]
     },
     "execution_count": 95,
     "metadata": {},
     "output_type": "execute_result"
    }
   ],
   "source": [
    "df.describe()"
   ]
  },
  {
   "cell_type": "code",
   "execution_count": 96,
   "metadata": {
    "collapsed": true
   },
   "outputs": [],
   "source": [
    "df.to_csv( './dataset/comp.verified/comp_threaded.verified.csv', index = False )"
   ]
  },
  {
   "cell_type": "code",
   "execution_count": 97,
   "metadata": {
    "collapsed": true
   },
   "outputs": [],
   "source": [
    "del( df )"
   ]
  }
 ],
 "metadata": {
  "kernelspec": {
   "display_name": "Python 3",
   "language": "python",
   "name": "python3"
  },
  "language_info": {
   "codemirror_mode": {
    "name": "ipython",
    "version": 3
   },
   "file_extension": ".py",
   "mimetype": "text/x-python",
   "name": "python",
   "nbconvert_exporter": "python",
   "pygments_lexer": "ipython3",
   "version": "3.4.3"
  }
 },
 "nbformat": 4,
 "nbformat_minor": 0
}
