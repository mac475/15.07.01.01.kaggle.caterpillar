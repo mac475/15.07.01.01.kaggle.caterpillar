{
 "cells": [
  {
   "cell_type": "code",
   "execution_count": 1,
   "metadata": {
    "collapsed": false
   },
   "outputs": [
    {
     "data": {
      "text/html": [
       "<style>\n",
       "    @font-face {\n",
       "        font-family: \"Computer Modern\", \"malgun gothic\";\n",
       "        src: url('http://mirrors.ctan.org/fonts/cm-unicode/fonts/otf/cmunss.otf');\n",
       "    }\n",
       "//    div.cell{\n",
       "//        width: 100%;\n",
       "//    }\n",
       "    // 아래의 div.container는 내가 임의로 추가한 style임\n",
       "//    div.container{\n",
       "//        width: 105%;\n",
       "//    }\n",
       "    ul {\n",
       "        line-height: 100%;\n",
       "        font-size: 100%;\n",
       "    }\n",
       "    li {\n",
       "        margin-bottom: 0.5em;\n",
       "    }\n",
       "    h1 {\n",
       "        font-family: Helvetica, serif, \"malgun gothic\";\n",
       "    }\n",
       "    h4{\n",
       "        margin-top: 12px;\n",
       "//        margin-bottom: 3px;\n",
       "       }\n",
       "    div.text_cell_render{\n",
       "//        font-family: Computer Modern, \"Helvetica Neue\", Arial, Helvetica, Geneva, sans-serif;\n",
       "        font-family: malgun gothic;\n",
       "        line-height: 140%;\n",
       "//        font-size: 100%;\n",
       "//        width: 100%;\n",
       "//        margin-left:auto;\n",
       "//        margin-right:auto;\n",
       "    }\n",
       "    .CodeMirror{\n",
       "            font-family: \"Source Code Pro\", source-code-pro,Consolas, monospace;\n",
       "    }\n",
       "/*    .prompt{\n",
       "        display: None;\n",
       "    }*/\n",
       "    .text_cell_render h5 {\n",
       "        font-family: malgun gothic;\n",
       "        font-weight: 300;\n",
       "        font-size: 16pt;\n",
       "        color: #4057A1;\n",
       "        font-style: italic;\n",
       "        margin-bottom: 0.5em;\n",
       "        margin-top: 0.5em;\n",
       "        display: block;\n",
       "    }\n",
       "    .warning{\n",
       "        color: rgb( 240, 20, 20 )\n",
       "        }\n",
       "</style>\n",
       "<script>\n",
       "    MathJax.Hub.Config({\n",
       "                        TeX: {\n",
       "                           extensions: [\"AMSmath.js\"]\n",
       "                           },\n",
       "                tex2jax: {\n",
       "                    inlineMath: [ ['$','$'], [\"\\\\(\",\"\\\\)\"] ],\n",
       "                    displayMath: [ ['$$','$$'], [\"\\\\[\",\"\\\\]\"] ]\n",
       "                },\n",
       "                displayAlign: 'center', // Change this to 'center' to center equations.\n",
       "//                \"HTML-CSS\": {\n",
       "//                    styles: {'.MathJax_Display': {\"margin\": 4}}\n",
       "//                }\n",
       "        });\n",
       "</script>"
      ],
      "text/plain": [
       "<IPython.core.display.HTML object>"
      ]
     },
     "execution_count": 1,
     "metadata": {},
     "output_type": "execute_result"
    }
   ],
   "source": [
    "# mac475의 ipython 표준 style을 적용함\n",
    "from IPython.core.display import HTML\n",
    "styles = open(\"../styles/custom.css\", \"r\").read()\n",
    "HTML( styles )"
   ]
  },
  {
   "cell_type": "markdown",
   "metadata": {},
   "source": [
    "#1. tube-bill_merged와 spces의 merge\n",
    "\n",
    "- spec dataset의 merge 필요성\n",
    "\n",
    "    → tube_bill_merged dataset만 활용시 modeling 활용 feature 제약, tube_assembly_id join하여 specs dataset내의 tube 속성정보 modeling에 활용\n",
    "    \n",
    "    → spec1~10, 10개 속성 : 상세한 의미는 알 수 없음\n",
    "    \n",
    "- 단, specs dataset을 보완필요 있는지 사전확인후, 적절한 작업의 병행필요\n",
    "\t\n",
    "<img src=\"images/02.tube-bill-specs.png\" style=\"display:inline; width: 60%\" />"
   ]
  },
  {
   "cell_type": "markdown",
   "metadata": {},
   "source": [
    "#2. specs 주요 feature 검사"
   ]
  },
  {
   "cell_type": "code",
   "execution_count": 2,
   "metadata": {
    "collapsed": false
   },
   "outputs": [],
   "source": [
    "import pandas as pd\n",
    "import numpy as np\n",
    "\n",
    "df = pd.read_csv( './dataset/01.original.dataset/specs.csv' )"
   ]
  },
  {
   "cell_type": "markdown",
   "metadata": {},
   "source": [
    "##2.1 specs 누락 feature 확인"
   ]
  },
  {
   "cell_type": "code",
   "execution_count": 3,
   "metadata": {
    "collapsed": false
   },
   "outputs": [
    {
     "data": {
      "text/plain": [
       "tube_assembly_id    21198\n",
       "spec1                7129\n",
       "spec2                6844\n",
       "spec3                5840\n",
       "spec4                4154\n",
       "spec5                2921\n",
       "spec6                2071\n",
       "spec7                 535\n",
       "spec8                 106\n",
       "spec9                  20\n",
       "spec10                  1\n",
       "dtype: int64"
      ]
     },
     "execution_count": 3,
     "metadata": {},
     "output_type": "execute_result"
    }
   ],
   "source": [
    "df.count()    # spec의 전체적인 data 충실도를 확인"
   ]
  },
  {
   "cell_type": "markdown",
   "metadata": {},
   "source": [
    "* 확인결과\n",
    "    \n",
    "    - N/A"
   ]
  },
  {
   "cell_type": "markdown",
   "metadata": {},
   "source": [
    "."
   ]
  },
  {
   "cell_type": "markdown",
   "metadata": {},
   "source": [
    "##2.2 각 features의 unique 구성 확인"
   ]
  },
  {
   "cell_type": "code",
   "execution_count": 4,
   "metadata": {
    "collapsed": true
   },
   "outputs": [],
   "source": [
    "def get_unique_elements_sorted( name, sz ) :    # series내의 unique 정보를 sorted 제공\n",
    "    tmp = sz.sort( axis = 0, ascending = True, inplace = False ).unique()\n",
    "#     print( 'name : ', name, tmp, 'count : ', len( tmp ) )\n",
    "    sz = None\n",
    "    tmp = None    "
   ]
  },
  {
   "cell_type": "code",
   "execution_count": 5,
   "metadata": {
    "collapsed": false
   },
   "outputs": [],
   "source": [
    "list_cols = df.columns.values.tolist()    # columns\n",
    "\n",
    "for col in list_cols[1:] :    # 일반적으로 0번째 col은 pk : id이므로 uniqueness 조사 필요성 없음\n",
    "    get_unique_elements_sorted( col, df[ col ].copy() )"
   ]
  },
  {
   "cell_type": "markdown",
   "metadata": {},
   "source": [
    "<font color = 'red'>* unique 확인결과, 이상 data 문제없음</font>"
   ]
  },
  {
   "cell_type": "markdown",
   "metadata": {},
   "source": [
    "#3. Derived feature 추출작업"
   ]
  },
  {
   "cell_type": "code",
   "execution_count": 6,
   "metadata": {
    "collapsed": false
   },
   "outputs": [],
   "source": [
    "def calculate_spec_type_count( p_df ) :    # spec type의 count를 계산\n",
    "    spec_count = 0    # spec count 초기화\n",
    "    for i in range( 1, 11 ) :\n",
    "        spec_str = 'spec' + str( i )\n",
    "        \n",
    "        if pd.notnull( p_df[ spec_str ] )  :\n",
    "            spec_count += 1\n",
    "    return spec_count"
   ]
  },
  {
   "cell_type": "code",
   "execution_count": 7,
   "metadata": {
    "collapsed": false
   },
   "outputs": [],
   "source": [
    "for i in range( 1, 11 ) :    # spec feature들에 대한 type casting 수행\n",
    "    spec_str = 'spec' + str( i )\n",
    "    df[ spec_str ].astype( str )"
   ]
  },
  {
   "cell_type": "code",
   "execution_count": 8,
   "metadata": {
    "collapsed": false
   },
   "outputs": [],
   "source": [
    "df[ 'spec_type_count' ] = df.apply( calculate_spec_type_count, axis = 1 )    # spec type의 개수 확보"
   ]
  },
  {
   "cell_type": "code",
   "execution_count": 9,
   "metadata": {
    "collapsed": true
   },
   "outputs": [],
   "source": [
    "df.fillna( 'NONE', inplace = True )"
   ]
  },
  {
   "cell_type": "code",
   "execution_count": 10,
   "metadata": {
    "collapsed": false
   },
   "outputs": [
    {
     "data": {
      "text/html": [
       "<div style=\"max-height:1000px;max-width:1500px;overflow:auto;\">\n",
       "<table border=\"1\" class=\"dataframe\">\n",
       "  <thead>\n",
       "    <tr style=\"text-align: right;\">\n",
       "      <th></th>\n",
       "      <th>tube_assembly_id</th>\n",
       "      <th>spec1</th>\n",
       "      <th>spec2</th>\n",
       "      <th>spec3</th>\n",
       "      <th>spec4</th>\n",
       "      <th>spec5</th>\n",
       "      <th>spec6</th>\n",
       "      <th>spec7</th>\n",
       "      <th>spec8</th>\n",
       "      <th>spec9</th>\n",
       "      <th>spec10</th>\n",
       "      <th>spec_type_count</th>\n",
       "    </tr>\n",
       "  </thead>\n",
       "  <tbody>\n",
       "    <tr>\n",
       "      <th>0</th>\n",
       "      <td> TA-00001</td>\n",
       "      <td> NONE</td>\n",
       "      <td> NONE</td>\n",
       "      <td> NONE</td>\n",
       "      <td> NONE</td>\n",
       "      <td> NONE</td>\n",
       "      <td> NONE</td>\n",
       "      <td> NONE</td>\n",
       "      <td> NONE</td>\n",
       "      <td> NONE</td>\n",
       "      <td> NONE</td>\n",
       "      <td> 0</td>\n",
       "    </tr>\n",
       "    <tr>\n",
       "      <th>1</th>\n",
       "      <td> TA-00002</td>\n",
       "      <td> NONE</td>\n",
       "      <td> NONE</td>\n",
       "      <td> NONE</td>\n",
       "      <td> NONE</td>\n",
       "      <td> NONE</td>\n",
       "      <td> NONE</td>\n",
       "      <td> NONE</td>\n",
       "      <td> NONE</td>\n",
       "      <td> NONE</td>\n",
       "      <td> NONE</td>\n",
       "      <td> 0</td>\n",
       "    </tr>\n",
       "    <tr>\n",
       "      <th>2</th>\n",
       "      <td> TA-00003</td>\n",
       "      <td> NONE</td>\n",
       "      <td> NONE</td>\n",
       "      <td> NONE</td>\n",
       "      <td> NONE</td>\n",
       "      <td> NONE</td>\n",
       "      <td> NONE</td>\n",
       "      <td> NONE</td>\n",
       "      <td> NONE</td>\n",
       "      <td> NONE</td>\n",
       "      <td> NONE</td>\n",
       "      <td> 0</td>\n",
       "    </tr>\n",
       "  </tbody>\n",
       "</table>\n",
       "</div>"
      ],
      "text/plain": [
       "  tube_assembly_id spec1 spec2 spec3 spec4 spec5 spec6 spec7 spec8 spec9  \\\n",
       "0         TA-00001  NONE  NONE  NONE  NONE  NONE  NONE  NONE  NONE  NONE   \n",
       "1         TA-00002  NONE  NONE  NONE  NONE  NONE  NONE  NONE  NONE  NONE   \n",
       "2         TA-00003  NONE  NONE  NONE  NONE  NONE  NONE  NONE  NONE  NONE   \n",
       "\n",
       "  spec10  spec_type_count  \n",
       "0   NONE                0  \n",
       "1   NONE                0  \n",
       "2   NONE                0  "
      ]
     },
     "execution_count": 10,
     "metadata": {},
     "output_type": "execute_result"
    }
   ],
   "source": [
    "df.head( 3 )"
   ]
  },
  {
   "cell_type": "code",
   "execution_count": 11,
   "metadata": {
    "collapsed": true
   },
   "outputs": [],
   "source": [
    "def get_spec_feature( p_df, p_str ) :\n",
    "    ret = 0\n",
    "    for i in range( 1, 11 ) :\n",
    "        data = p_df[ 'spec' + str( i ) ]\n",
    "        if data != 'NONE' :\n",
    "            if data == p_str :\n",
    "                ret = 1\n",
    "                break\n",
    "            else :\n",
    "                if data > p_str :\n",
    "                    break\n",
    "        else :\n",
    "            break\n",
    "    return ret"
   ]
  },
  {
   "cell_type": "code",
   "execution_count": 12,
   "metadata": {
    "collapsed": false
   },
   "outputs": [],
   "source": [
    "for i in range( 1, 97 ) :    # 일단, SP-0001 ~ SP-0096을 0으로 초기화한다\n",
    "    sp_str = 'SP-00'\n",
    "    \n",
    "    if i < 10 :\n",
    "        sp_str += '0'\n",
    "    sp_str += str( i )\n",
    "    df[ sp_str ] = df.apply( get_spec_feature, axis = 1, args = (sp_str,) )"
   ]
  },
  {
   "cell_type": "code",
   "execution_count": 13,
   "metadata": {
    "collapsed": false
   },
   "outputs": [
    {
     "data": {
      "text/html": [
       "<div style=\"max-height:1000px;max-width:1500px;overflow:auto;\">\n",
       "<table border=\"1\" class=\"dataframe\">\n",
       "  <thead>\n",
       "    <tr style=\"text-align: right;\">\n",
       "      <th></th>\n",
       "      <th>tube_assembly_id</th>\n",
       "      <th>spec1</th>\n",
       "      <th>spec2</th>\n",
       "      <th>spec3</th>\n",
       "      <th>spec4</th>\n",
       "      <th>spec5</th>\n",
       "      <th>spec6</th>\n",
       "      <th>spec7</th>\n",
       "      <th>spec8</th>\n",
       "      <th>spec9</th>\n",
       "      <th>...</th>\n",
       "      <th>SP-0087</th>\n",
       "      <th>SP-0088</th>\n",
       "      <th>SP-0089</th>\n",
       "      <th>SP-0090</th>\n",
       "      <th>SP-0091</th>\n",
       "      <th>SP-0092</th>\n",
       "      <th>SP-0093</th>\n",
       "      <th>SP-0094</th>\n",
       "      <th>SP-0095</th>\n",
       "      <th>SP-0096</th>\n",
       "    </tr>\n",
       "  </thead>\n",
       "  <tbody>\n",
       "  </tbody>\n",
       "</table>\n",
       "<p>0 rows × 108 columns</p>\n",
       "</div>"
      ],
      "text/plain": [
       "Empty DataFrame\n",
       "Columns: [tube_assembly_id, spec1, spec2, spec3, spec4, spec5, spec6, spec7, spec8, spec9, spec10, spec_type_count, SP-0001, SP-0002, SP-0003, SP-0004, SP-0005, SP-0006, SP-0007, SP-0008, SP-0009, SP-0010, SP-0011, SP-0012, SP-0013, SP-0014, SP-0015, SP-0016, SP-0017, SP-0018, SP-0019, SP-0020, SP-0021, SP-0022, SP-0023, SP-0024, SP-0025, SP-0026, SP-0027, SP-0028, SP-0029, SP-0030, SP-0031, SP-0032, SP-0033, SP-0034, SP-0035, SP-0036, SP-0037, SP-0038, SP-0039, SP-0040, SP-0041, SP-0042, SP-0043, SP-0044, SP-0045, SP-0046, SP-0047, SP-0048, SP-0049, SP-0050, SP-0051, SP-0052, SP-0053, SP-0054, SP-0055, SP-0056, SP-0057, SP-0058, SP-0059, SP-0060, SP-0061, SP-0062, SP-0063, SP-0064, SP-0065, SP-0066, SP-0067, SP-0068, SP-0069, SP-0070, SP-0071, SP-0072, SP-0073, SP-0074, SP-0075, SP-0076, SP-0077, SP-0078, SP-0079, SP-0080, SP-0081, SP-0082, SP-0083, SP-0084, SP-0085, SP-0086, SP-0087, SP-0088, ...]\n",
       "Index: []\n",
       "\n",
       "[0 rows x 108 columns]"
      ]
     },
     "execution_count": 13,
     "metadata": {},
     "output_type": "execute_result"
    }
   ],
   "source": [
    "df.head( 3 )[10:]"
   ]
  },
  {
   "cell_type": "code",
   "execution_count": 14,
   "metadata": {
    "collapsed": false
   },
   "outputs": [
    {
     "name": "stdout",
     "output_type": "stream",
     "text": [
      "<class 'pandas.core.frame.DataFrame'>\n",
      "Int64Index: 21198 entries, 0 to 21197\n",
      "Columns: 108 entries, tube_assembly_id to SP-0096\n",
      "dtypes: int64(97), object(11)\n",
      "memory usage: 17.6+ MB\n"
     ]
    }
   ],
   "source": [
    "df.info()"
   ]
  },
  {
   "cell_type": "code",
   "execution_count": 15,
   "metadata": {
    "collapsed": false
   },
   "outputs": [
    {
     "data": {
      "text/plain": [
       "tube_assembly_id    21198\n",
       "spec1               21198\n",
       "spec2               21198\n",
       "spec3               21198\n",
       "spec4               21198\n",
       "spec5               21198\n",
       "spec6               21198\n",
       "spec7               21198\n",
       "spec8               21198\n",
       "spec9               21198\n",
       "spec10              21198\n",
       "spec_type_count     21198\n",
       "SP-0001             21198\n",
       "SP-0002             21198\n",
       "SP-0003             21198\n",
       "...\n",
       "SP-0082    21198\n",
       "SP-0083    21198\n",
       "SP-0084    21198\n",
       "SP-0085    21198\n",
       "SP-0086    21198\n",
       "SP-0087    21198\n",
       "SP-0088    21198\n",
       "SP-0089    21198\n",
       "SP-0090    21198\n",
       "SP-0091    21198\n",
       "SP-0092    21198\n",
       "SP-0093    21198\n",
       "SP-0094    21198\n",
       "SP-0095    21198\n",
       "SP-0096    21198\n",
       "Length: 108, dtype: int64"
      ]
     },
     "execution_count": 15,
     "metadata": {},
     "output_type": "execute_result"
    }
   ],
   "source": [
    "df.count()"
   ]
  },
  {
   "cell_type": "markdown",
   "metadata": {},
   "source": [
    "#4. 정련된 specs 저장"
   ]
  },
  {
   "cell_type": "code",
   "execution_count": 16,
   "metadata": {
    "collapsed": false
   },
   "outputs": [],
   "source": [
    "df.to_csv( './dataset/02.ml.verified.dataset/specs.verified.csv', index = False )\n",
    "del( df )"
   ]
  },
  {
   "cell_type": "markdown",
   "metadata": {},
   "source": [
    "."
   ]
  },
  {
   "cell_type": "markdown",
   "metadata": {},
   "source": [
    "#5. Merge 시도"
   ]
  },
  {
   "cell_type": "code",
   "execution_count": 17,
   "metadata": {
    "collapsed": false
   },
   "outputs": [],
   "source": [
    "# df_tube_bill = pd.read_csv( './dataset/03.merged/tube_bill_merged.csv', dtype = { 'component_id_8' : str } )\n",
    "df_tube_bill = pd.read_csv( './dataset/03.merged/tube_bill_merged.csv' )\n",
    "df_specs = pd.read_csv( './dataset/02.ml.verified.dataset/specs.verified.csv' )"
   ]
  },
  {
   "cell_type": "code",
   "execution_count": 18,
   "metadata": {
    "collapsed": false
   },
   "outputs": [
    {
     "data": {
      "text/plain": [
       "(21198, 21198)"
      ]
     },
     "execution_count": 18,
     "metadata": {},
     "output_type": "execute_result"
    }
   ],
   "source": [
    "len( df_tube_bill ), len( df_specs )"
   ]
  },
  {
   "cell_type": "markdown",
   "metadata": {},
   "source": [
    "→ inner join 시도"
   ]
  },
  {
   "cell_type": "code",
   "execution_count": 19,
   "metadata": {
    "collapsed": true
   },
   "outputs": [],
   "source": [
    "df_tube_bill_specs = df_tube_bill.merge( df_specs, how = 'inner', on = 'tube_assembly_id' )"
   ]
  },
  {
   "cell_type": "code",
   "execution_count": 20,
   "metadata": {
    "collapsed": false
   },
   "outputs": [
    {
     "data": {
      "text/html": [
       "<div style=\"max-height:1000px;max-width:1500px;overflow:auto;\">\n",
       "<table border=\"1\" class=\"dataframe\">\n",
       "  <thead>\n",
       "    <tr style=\"text-align: right;\">\n",
       "      <th></th>\n",
       "      <th>tube_assembly_id</th>\n",
       "      <th>material_id</th>\n",
       "      <th>diameter</th>\n",
       "      <th>wall</th>\n",
       "      <th>length</th>\n",
       "      <th>num_bends</th>\n",
       "      <th>bend_radius</th>\n",
       "      <th>end_a_1x</th>\n",
       "      <th>end_a_2x</th>\n",
       "      <th>end_x_1x</th>\n",
       "      <th>...</th>\n",
       "      <th>SP-0087</th>\n",
       "      <th>SP-0088</th>\n",
       "      <th>SP-0089</th>\n",
       "      <th>SP-0090</th>\n",
       "      <th>SP-0091</th>\n",
       "      <th>SP-0092</th>\n",
       "      <th>SP-0093</th>\n",
       "      <th>SP-0094</th>\n",
       "      <th>SP-0095</th>\n",
       "      <th>SP-0096</th>\n",
       "    </tr>\n",
       "  </thead>\n",
       "  <tbody>\n",
       "    <tr>\n",
       "      <th>0</th>\n",
       "      <td> TA-00001</td>\n",
       "      <td> SP-0035</td>\n",
       "      <td> 12.70</td>\n",
       "      <td> 1.65</td>\n",
       "      <td> 164</td>\n",
       "      <td> 5</td>\n",
       "      <td>  38.10</td>\n",
       "      <td> 0</td>\n",
       "      <td> 0</td>\n",
       "      <td> 0</td>\n",
       "      <td>...</td>\n",
       "      <td> 0</td>\n",
       "      <td> 0</td>\n",
       "      <td> 0</td>\n",
       "      <td> 0</td>\n",
       "      <td> 0</td>\n",
       "      <td> 0</td>\n",
       "      <td> 0</td>\n",
       "      <td> 0</td>\n",
       "      <td> 0</td>\n",
       "      <td> 0</td>\n",
       "    </tr>\n",
       "    <tr>\n",
       "      <th>1</th>\n",
       "      <td> TA-00002</td>\n",
       "      <td> SP-0019</td>\n",
       "      <td>  6.35</td>\n",
       "      <td> 0.71</td>\n",
       "      <td> 137</td>\n",
       "      <td> 8</td>\n",
       "      <td>  19.05</td>\n",
       "      <td> 0</td>\n",
       "      <td> 0</td>\n",
       "      <td> 0</td>\n",
       "      <td>...</td>\n",
       "      <td> 0</td>\n",
       "      <td> 0</td>\n",
       "      <td> 0</td>\n",
       "      <td> 0</td>\n",
       "      <td> 0</td>\n",
       "      <td> 0</td>\n",
       "      <td> 0</td>\n",
       "      <td> 0</td>\n",
       "      <td> 0</td>\n",
       "      <td> 0</td>\n",
       "    </tr>\n",
       "    <tr>\n",
       "      <th>2</th>\n",
       "      <td> TA-00003</td>\n",
       "      <td> SP-0019</td>\n",
       "      <td>  6.35</td>\n",
       "      <td> 0.71</td>\n",
       "      <td> 127</td>\n",
       "      <td> 7</td>\n",
       "      <td>  19.05</td>\n",
       "      <td> 0</td>\n",
       "      <td> 0</td>\n",
       "      <td> 0</td>\n",
       "      <td>...</td>\n",
       "      <td> 0</td>\n",
       "      <td> 0</td>\n",
       "      <td> 0</td>\n",
       "      <td> 0</td>\n",
       "      <td> 0</td>\n",
       "      <td> 0</td>\n",
       "      <td> 0</td>\n",
       "      <td> 0</td>\n",
       "      <td> 0</td>\n",
       "      <td> 0</td>\n",
       "    </tr>\n",
       "    <tr>\n",
       "      <th>3</th>\n",
       "      <td> TA-00004</td>\n",
       "      <td> SP-0019</td>\n",
       "      <td>  6.35</td>\n",
       "      <td> 0.71</td>\n",
       "      <td> 137</td>\n",
       "      <td> 9</td>\n",
       "      <td>  19.05</td>\n",
       "      <td> 0</td>\n",
       "      <td> 0</td>\n",
       "      <td> 0</td>\n",
       "      <td>...</td>\n",
       "      <td> 0</td>\n",
       "      <td> 0</td>\n",
       "      <td> 0</td>\n",
       "      <td> 0</td>\n",
       "      <td> 0</td>\n",
       "      <td> 0</td>\n",
       "      <td> 0</td>\n",
       "      <td> 0</td>\n",
       "      <td> 0</td>\n",
       "      <td> 0</td>\n",
       "    </tr>\n",
       "    <tr>\n",
       "      <th>4</th>\n",
       "      <td> TA-00005</td>\n",
       "      <td> SP-0029</td>\n",
       "      <td> 19.05</td>\n",
       "      <td> 1.24</td>\n",
       "      <td> 109</td>\n",
       "      <td> 4</td>\n",
       "      <td>  50.80</td>\n",
       "      <td> 0</td>\n",
       "      <td> 0</td>\n",
       "      <td> 0</td>\n",
       "      <td>...</td>\n",
       "      <td> 0</td>\n",
       "      <td> 0</td>\n",
       "      <td> 0</td>\n",
       "      <td> 0</td>\n",
       "      <td> 0</td>\n",
       "      <td> 0</td>\n",
       "      <td> 0</td>\n",
       "      <td> 0</td>\n",
       "      <td> 0</td>\n",
       "      <td> 0</td>\n",
       "    </tr>\n",
       "    <tr>\n",
       "      <th>5</th>\n",
       "      <td> TA-00006</td>\n",
       "      <td> SP-0029</td>\n",
       "      <td> 19.05</td>\n",
       "      <td> 1.24</td>\n",
       "      <td>  79</td>\n",
       "      <td> 4</td>\n",
       "      <td>  50.80</td>\n",
       "      <td> 0</td>\n",
       "      <td> 0</td>\n",
       "      <td> 0</td>\n",
       "      <td>...</td>\n",
       "      <td> 0</td>\n",
       "      <td> 0</td>\n",
       "      <td> 0</td>\n",
       "      <td> 0</td>\n",
       "      <td> 0</td>\n",
       "      <td> 0</td>\n",
       "      <td> 0</td>\n",
       "      <td> 0</td>\n",
       "      <td> 0</td>\n",
       "      <td> 0</td>\n",
       "    </tr>\n",
       "    <tr>\n",
       "      <th>6</th>\n",
       "      <td> TA-00007</td>\n",
       "      <td> SP-0035</td>\n",
       "      <td> 12.70</td>\n",
       "      <td> 1.65</td>\n",
       "      <td> 202</td>\n",
       "      <td> 5</td>\n",
       "      <td>  38.10</td>\n",
       "      <td> 0</td>\n",
       "      <td> 0</td>\n",
       "      <td> 0</td>\n",
       "      <td>...</td>\n",
       "      <td> 0</td>\n",
       "      <td> 0</td>\n",
       "      <td> 0</td>\n",
       "      <td> 0</td>\n",
       "      <td> 0</td>\n",
       "      <td> 0</td>\n",
       "      <td> 0</td>\n",
       "      <td> 0</td>\n",
       "      <td> 0</td>\n",
       "      <td> 0</td>\n",
       "    </tr>\n",
       "    <tr>\n",
       "      <th>7</th>\n",
       "      <td> TA-00008</td>\n",
       "      <td> SP-0039</td>\n",
       "      <td>  6.35</td>\n",
       "      <td> 0.71</td>\n",
       "      <td> 174</td>\n",
       "      <td> 6</td>\n",
       "      <td>  19.05</td>\n",
       "      <td> 0</td>\n",
       "      <td> 0</td>\n",
       "      <td> 0</td>\n",
       "      <td>...</td>\n",
       "      <td> 0</td>\n",
       "      <td> 0</td>\n",
       "      <td> 0</td>\n",
       "      <td> 0</td>\n",
       "      <td> 0</td>\n",
       "      <td> 0</td>\n",
       "      <td> 0</td>\n",
       "      <td> 0</td>\n",
       "      <td> 0</td>\n",
       "      <td> 0</td>\n",
       "    </tr>\n",
       "    <tr>\n",
       "      <th>8</th>\n",
       "      <td> TA-00009</td>\n",
       "      <td> SP-0029</td>\n",
       "      <td> 25.40</td>\n",
       "      <td> 1.65</td>\n",
       "      <td> 135</td>\n",
       "      <td> 4</td>\n",
       "      <td>  63.50</td>\n",
       "      <td> 0</td>\n",
       "      <td> 0</td>\n",
       "      <td> 0</td>\n",
       "      <td>...</td>\n",
       "      <td> 0</td>\n",
       "      <td> 0</td>\n",
       "      <td> 0</td>\n",
       "      <td> 0</td>\n",
       "      <td> 0</td>\n",
       "      <td> 0</td>\n",
       "      <td> 0</td>\n",
       "      <td> 0</td>\n",
       "      <td> 0</td>\n",
       "      <td> 0</td>\n",
       "    </tr>\n",
       "    <tr>\n",
       "      <th>9</th>\n",
       "      <td> TA-00010</td>\n",
       "      <td> SP-0046</td>\n",
       "      <td> 42.70</td>\n",
       "      <td> 4.80</td>\n",
       "      <td> 290</td>\n",
       "      <td> 4</td>\n",
       "      <td> 110.00</td>\n",
       "      <td> 0</td>\n",
       "      <td> 0</td>\n",
       "      <td> 0</td>\n",
       "      <td>...</td>\n",
       "      <td> 0</td>\n",
       "      <td> 0</td>\n",
       "      <td> 0</td>\n",
       "      <td> 0</td>\n",
       "      <td> 0</td>\n",
       "      <td> 0</td>\n",
       "      <td> 0</td>\n",
       "      <td> 0</td>\n",
       "      <td> 0</td>\n",
       "      <td> 0</td>\n",
       "    </tr>\n",
       "  </tbody>\n",
       "</table>\n",
       "<p>10 rows × 178 columns</p>\n",
       "</div>"
      ],
      "text/plain": [
       "  tube_assembly_id material_id  diameter  wall  length  num_bends  \\\n",
       "0         TA-00001     SP-0035     12.70  1.65     164          5   \n",
       "1         TA-00002     SP-0019      6.35  0.71     137          8   \n",
       "2         TA-00003     SP-0019      6.35  0.71     127          7   \n",
       "3         TA-00004     SP-0019      6.35  0.71     137          9   \n",
       "4         TA-00005     SP-0029     19.05  1.24     109          4   \n",
       "5         TA-00006     SP-0029     19.05  1.24      79          4   \n",
       "6         TA-00007     SP-0035     12.70  1.65     202          5   \n",
       "7         TA-00008     SP-0039      6.35  0.71     174          6   \n",
       "8         TA-00009     SP-0029     25.40  1.65     135          4   \n",
       "9         TA-00010     SP-0046     42.70  4.80     290          4   \n",
       "\n",
       "   bend_radius  end_a_1x  end_a_2x  end_x_1x   ...    SP-0087 SP-0088 SP-0089  \\\n",
       "0        38.10         0         0         0   ...          0       0       0   \n",
       "1        19.05         0         0         0   ...          0       0       0   \n",
       "2        19.05         0         0         0   ...          0       0       0   \n",
       "3        19.05         0         0         0   ...          0       0       0   \n",
       "4        50.80         0         0         0   ...          0       0       0   \n",
       "5        50.80         0         0         0   ...          0       0       0   \n",
       "6        38.10         0         0         0   ...          0       0       0   \n",
       "7        19.05         0         0         0   ...          0       0       0   \n",
       "8        63.50         0         0         0   ...          0       0       0   \n",
       "9       110.00         0         0         0   ...          0       0       0   \n",
       "\n",
       "   SP-0090  SP-0091  SP-0092  SP-0093 SP-0094  SP-0095 SP-0096  \n",
       "0        0        0        0        0       0        0       0  \n",
       "1        0        0        0        0       0        0       0  \n",
       "2        0        0        0        0       0        0       0  \n",
       "3        0        0        0        0       0        0       0  \n",
       "4        0        0        0        0       0        0       0  \n",
       "5        0        0        0        0       0        0       0  \n",
       "6        0        0        0        0       0        0       0  \n",
       "7        0        0        0        0       0        0       0  \n",
       "8        0        0        0        0       0        0       0  \n",
       "9        0        0        0        0       0        0       0  \n",
       "\n",
       "[10 rows x 178 columns]"
      ]
     },
     "execution_count": 20,
     "metadata": {},
     "output_type": "execute_result"
    }
   ],
   "source": [
    "df_tube_bill_specs.head( 10 )"
   ]
  },
  {
   "cell_type": "code",
   "execution_count": 21,
   "metadata": {
    "collapsed": false
   },
   "outputs": [
    {
     "name": "stdout",
     "output_type": "stream",
     "text": [
      "<class 'pandas.core.frame.DataFrame'>\n",
      "Int64Index: 21198 entries, 0 to 21197\n",
      "Columns: 178 entries, tube_assembly_id to SP-0096\n",
      "dtypes: float64(50), int64(106), object(22)\n",
      "memory usage: 28.9+ MB\n"
     ]
    }
   ],
   "source": [
    "df_tube_bill_specs.info()"
   ]
  },
  {
   "cell_type": "code",
   "execution_count": 22,
   "metadata": {
    "collapsed": false
   },
   "outputs": [
    {
     "data": {
      "text/plain": [
       "tube_assembly_id    21198\n",
       "material_id         21198\n",
       "diameter            21198\n",
       "wall                21198\n",
       "length              21198\n",
       "num_bends           21198\n",
       "bend_radius         21198\n",
       "end_a_1x            21198\n",
       "end_a_2x            21198\n",
       "end_x_1x            21198\n",
       "end_x_2x            21198\n",
       "end_a               21198\n",
       "end_x               21198\n",
       "num_boss            21198\n",
       "num_bracket         21198\n",
       "...\n",
       "SP-0082    21198\n",
       "SP-0083    21198\n",
       "SP-0084    21198\n",
       "SP-0085    21198\n",
       "SP-0086    21198\n",
       "SP-0087    21198\n",
       "SP-0088    21198\n",
       "SP-0089    21198\n",
       "SP-0090    21198\n",
       "SP-0091    21198\n",
       "SP-0092    21198\n",
       "SP-0093    21198\n",
       "SP-0094    21198\n",
       "SP-0095    21198\n",
       "SP-0096    21198\n",
       "Length: 178, dtype: int64"
      ]
     },
     "execution_count": 22,
     "metadata": {},
     "output_type": "execute_result"
    }
   ],
   "source": [
    "df_tube_bill_specs.count()"
   ]
  },
  {
   "cell_type": "code",
   "execution_count": 23,
   "metadata": {
    "collapsed": false
   },
   "outputs": [],
   "source": [
    "df_tube_bill_specs.to_csv( './dataset/03.merged/tube_bill_specs_merged.csv', index = False )"
   ]
  },
  {
   "cell_type": "markdown",
   "metadata": {},
   "source": [
    "."
   ]
  },
  {
   "cell_type": "markdown",
   "metadata": {},
   "source": [
    "#6. spec_meta 생성\n",
    "    \n",
    "    * specs의 경우, meta가 없어, label encoding시 진행불가능하므로, specs내의 각 data를 활용하여, spec_meta를 생성\n",
    "    * \n",
    "    "
   ]
  },
  {
   "cell_type": "code",
   "execution_count": 24,
   "metadata": {
    "collapsed": true
   },
   "outputs": [],
   "source": [
    "df = pd.read_csv( './dataset/01.original.dataset/specs.csv' )"
   ]
  },
  {
   "cell_type": "code",
   "execution_count": 25,
   "metadata": {
    "collapsed": false
   },
   "outputs": [],
   "source": [
    "list_cols = df.columns.values.tolist()    # columns\n",
    "list_spec = [ 'NONE' ]\n",
    "\n",
    "for col in list_cols[1:] :    # specs의 column별로 순환하며, 내부 data를 sorting/ unique확보하여 배열담고, 이를 담은 list 확보\n",
    "    arr = df[ col ].sort( axis = 0, ascending = True, inplace = False ).unique()\n",
    "    for a in arr :\n",
    "        if a != None :\n",
    "            list_spec.append( a )\n",
    "    \n",
    "sz = pd.Series( list_spec )    # series 처리\n",
    "sz = sz.sort( axis = 0, ascending = True, inplace = False ).unique()    # sorting/ unique\n",
    "sz = pd.Series( sz ).dropna()    # nan 처리\n",
    "df_spec_meta = pd.DataFrame( sz, columns = [ 'spec' ] )\n",
    "df_spec_meta.to_csv( './dataset/01.original.dataset/spec_meta.csv', index = False )\n",
    "\n",
    "del( df )"
   ]
  },
  {
   "cell_type": "markdown",
   "metadata": {},
   "source": [
    "."
   ]
  },
  {
   "cell_type": "markdown",
   "metadata": {},
   "source": [
    "#7. tube_end_form merge 시도\n",
    "\n",
    "    * end_a, end_x는 tube_end_form dataset과 merge하여 forming feature를 확장할 수 있다\n",
    "    ."
   ]
  },
  {
   "cell_type": "code",
   "execution_count": 26,
   "metadata": {
    "collapsed": false
   },
   "outputs": [
    {
     "data": {
      "text/plain": [
       "EF-003    11388\n",
       "EF-018     2514\n",
       "EF-008     2130\n",
       "EF-017     1052\n",
       "NONE        998\n",
       "dtype: int64"
      ]
     },
     "execution_count": 26,
     "metadata": {},
     "output_type": "execute_result"
    }
   ],
   "source": [
    "df_tube_bill_specs[ 'end_a' ].value_counts()[:5]    # end_a의 % 확인"
   ]
  },
  {
   "cell_type": "markdown",
   "metadata": {},
   "source": [
    "* 압도적으로 EF-003, 018, 008, 017이 많다"
   ]
  },
  {
   "cell_type": "code",
   "execution_count": 27,
   "metadata": {
    "collapsed": false
   },
   "outputs": [
    {
     "data": {
      "text/plain": [
       "EF-003    10865\n",
       "EF-018     2287\n",
       "EF-017     2023\n",
       "EF-008     1947\n",
       "NONE       1377\n",
       "dtype: int64"
      ]
     },
     "execution_count": 27,
     "metadata": {},
     "output_type": "execute_result"
    }
   ],
   "source": [
    "df_tube_bill_specs[ 'end_x' ].value_counts()[:5]    # end_x의 % 확인"
   ]
  },
  {
   "cell_type": "markdown",
   "metadata": {},
   "source": [
    "* 압도적으로 EF-003, 018, 017, 008이 많다\n",
    "\n",
    "* <font color = 'red'><b>end_a, end_x 모두 NONE도 많다</b></font>"
   ]
  },
  {
   "cell_type": "code",
   "execution_count": 28,
   "metadata": {
    "collapsed": false
   },
   "outputs": [
    {
     "data": {
      "text/plain": [
       "(array(['EF-003', 'EF-008', 'EF-021', 'NONE', 'EF-018', 'EF-005', 'EF-009',\n",
       "        'EF-023', 'EF-017', 'EF-015', 'EF-012', 'EF-001', 'EF-010',\n",
       "        'EF-004', 'EF-002', 'EF-013', 'EF-019', 'EF-007', 'EF-020',\n",
       "        'EF-025', 'EF-016', 'EF-022', 'EF-011', 'EF-006', 'EF-014'], dtype=object),\n",
       " 25)"
      ]
     },
     "execution_count": 28,
     "metadata": {},
     "output_type": "execute_result"
    }
   ],
   "source": [
    "df_tube_bill_specs[ 'end_a' ].unique(), len( df_tube_bill_specs[ 'end_a' ].unique() )    # end_a의 unique"
   ]
  },
  {
   "cell_type": "code",
   "execution_count": 29,
   "metadata": {
    "collapsed": false
   },
   "outputs": [
    {
     "data": {
      "text/plain": [
       "(array(['EF-003', 'EF-008', 'EF-021', 'NONE', 'EF-018', 'EF-009', 'EF-017',\n",
       "        'EF-019', 'EF-015', 'EF-012', 'EF-023', 'EF-002', 'EF-013',\n",
       "        'EF-007', 'EF-010', 'EF-006', 'EF-016', 'EF-022', 'EF-004',\n",
       "        'EF-001', 'EF-005', 'EF-011', 'EF-025', 'EF-014', 'EF-026', 'EF-024'], dtype=object),\n",
       " 26)"
      ]
     },
     "execution_count": 29,
     "metadata": {},
     "output_type": "execute_result"
    }
   ],
   "source": [
    "df_tube_bill_specs[ 'end_x' ].unique(), len( df_tube_bill_specs[ 'end_x' ].unique() )    # end_x의 unique"
   ]
  },
  {
   "cell_type": "code",
   "execution_count": 30,
   "metadata": {
    "collapsed": true
   },
   "outputs": [],
   "source": [
    "df_tube_end_form = pd.read_csv( './dataset/01.original.dataset/tube_end_form.csv' )"
   ]
  },
  {
   "cell_type": "code",
   "execution_count": 31,
   "metadata": {
    "collapsed": false
   },
   "outputs": [
    {
     "data": {
      "text/html": [
       "<div style=\"max-height:1000px;max-width:1500px;overflow:auto;\">\n",
       "<table border=\"1\" class=\"dataframe\">\n",
       "  <thead>\n",
       "    <tr style=\"text-align: right;\">\n",
       "      <th></th>\n",
       "      <th>end_form_id</th>\n",
       "      <th>forming</th>\n",
       "    </tr>\n",
       "  </thead>\n",
       "  <tbody>\n",
       "    <tr>\n",
       "      <th>0</th>\n",
       "      <td> EF-001</td>\n",
       "      <td> Yes</td>\n",
       "    </tr>\n",
       "    <tr>\n",
       "      <th>1</th>\n",
       "      <td> EF-002</td>\n",
       "      <td>  No</td>\n",
       "    </tr>\n",
       "    <tr>\n",
       "      <th>2</th>\n",
       "      <td> EF-003</td>\n",
       "      <td>  No</td>\n",
       "    </tr>\n",
       "  </tbody>\n",
       "</table>\n",
       "</div>"
      ],
      "text/plain": [
       "  end_form_id forming\n",
       "0      EF-001     Yes\n",
       "1      EF-002      No\n",
       "2      EF-003      No"
      ]
     },
     "execution_count": 31,
     "metadata": {},
     "output_type": "execute_result"
    }
   ],
   "source": [
    "df_tube_end_form.head( 3 )"
   ]
  },
  {
   "cell_type": "code",
   "execution_count": 32,
   "metadata": {
    "collapsed": false
   },
   "outputs": [
    {
     "data": {
      "text/html": [
       "<div style=\"max-height:1000px;max-width:1500px;overflow:auto;\">\n",
       "<table border=\"1\" class=\"dataframe\">\n",
       "  <thead>\n",
       "    <tr style=\"text-align: right;\">\n",
       "      <th></th>\n",
       "      <th>end_form_id</th>\n",
       "      <th>forming</th>\n",
       "    </tr>\n",
       "  </thead>\n",
       "  <tbody>\n",
       "    <tr>\n",
       "      <th>25</th>\n",
       "      <td> EF-026</td>\n",
       "      <td> No</td>\n",
       "    </tr>\n",
       "    <tr>\n",
       "      <th>26</th>\n",
       "      <td>   9999</td>\n",
       "      <td> No</td>\n",
       "    </tr>\n",
       "    <tr>\n",
       "      <th>27</th>\n",
       "      <td>   NONE</td>\n",
       "      <td> No</td>\n",
       "    </tr>\n",
       "  </tbody>\n",
       "</table>\n",
       "</div>"
      ],
      "text/plain": [
       "   end_form_id forming\n",
       "25      EF-026      No\n",
       "26        9999      No\n",
       "27        NONE      No"
      ]
     },
     "execution_count": 32,
     "metadata": {},
     "output_type": "execute_result"
    }
   ],
   "source": [
    "df_tube_end_form.tail( 3 )"
   ]
  },
  {
   "cell_type": "markdown",
   "metadata": {},
   "source": [
    "* 9999가 존재한다 → df_tube_bill_spec내 'end_a', 'end_x' feature들은 NONE 정보가 있었으므로 이를 연계가능"
   ]
  },
  {
   "cell_type": "code",
   "execution_count": 33,
   "metadata": {
    "collapsed": false
   },
   "outputs": [
    {
     "data": {
      "text/html": [
       "<div style=\"max-height:1000px;max-width:1500px;overflow:auto;\">\n",
       "<table border=\"1\" class=\"dataframe\">\n",
       "  <thead>\n",
       "    <tr style=\"text-align: right;\">\n",
       "      <th></th>\n",
       "      <th>tube_assembly_id</th>\n",
       "      <th>end_a</th>\n",
       "      <th>end_x</th>\n",
       "    </tr>\n",
       "  </thead>\n",
       "  <tbody>\n",
       "    <tr>\n",
       "      <th>0</th>\n",
       "      <td> TA-00001</td>\n",
       "      <td> EF-003</td>\n",
       "      <td> EF-003</td>\n",
       "    </tr>\n",
       "    <tr>\n",
       "      <th>1</th>\n",
       "      <td> TA-00002</td>\n",
       "      <td> EF-008</td>\n",
       "      <td> EF-008</td>\n",
       "    </tr>\n",
       "    <tr>\n",
       "      <th>2</th>\n",
       "      <td> TA-00003</td>\n",
       "      <td> EF-008</td>\n",
       "      <td> EF-008</td>\n",
       "    </tr>\n",
       "  </tbody>\n",
       "</table>\n",
       "</div>"
      ],
      "text/plain": [
       "  tube_assembly_id   end_a   end_x\n",
       "0         TA-00001  EF-003  EF-003\n",
       "1         TA-00002  EF-008  EF-008\n",
       "2         TA-00003  EF-008  EF-008"
      ]
     },
     "execution_count": 33,
     "metadata": {},
     "output_type": "execute_result"
    }
   ],
   "source": [
    "df_tube_bill_specs[ [ 'tube_assembly_id', 'end_a', 'end_x' ] ].head( 3 )"
   ]
  },
  {
   "cell_type": "code",
   "execution_count": 34,
   "metadata": {
    "collapsed": false
   },
   "outputs": [],
   "source": [
    "# NONE값을 join위해, 표준으로 변환처리 → NONE은 없다는 의미로 받아들이고 분석을 진행\n",
    "# df_tube_bill_specs[ 'end_a' ].replace( to_replace = 'NONE', value = np.nan, inplace = True )\n",
    "# df_tube_bill_specs[ 'end_x' ].replace( to_replace = 'NONE', value = np.nan, inplace = True )"
   ]
  },
  {
   "cell_type": "code",
   "execution_count": 35,
   "metadata": {
    "collapsed": false
   },
   "outputs": [],
   "source": [
    "# df_tube_bill_specs[ [ 'tube_assembly_id', 'end_a', 'end_x' ] ]"
   ]
  },
  {
   "cell_type": "code",
   "execution_count": 36,
   "metadata": {
    "collapsed": false
   },
   "outputs": [],
   "source": [
    "# df_tube_bill_specs[ [ 'tube_assembly_id', 'end_a', 'end_x' ] ].head( 20 )"
   ]
  },
  {
   "cell_type": "code",
   "execution_count": 37,
   "metadata": {
    "collapsed": false
   },
   "outputs": [
    {
     "data": {
      "text/plain": [
       "21198"
      ]
     },
     "execution_count": 37,
     "metadata": {},
     "output_type": "execute_result"
    }
   ],
   "source": [
    "len( df_tube_bill_specs )"
   ]
  },
  {
   "cell_type": "code",
   "execution_count": 38,
   "metadata": {
    "collapsed": false
   },
   "outputs": [],
   "source": [
    "# 동일 코드를 사용중인 end_a, end_x에 대해 연쇄적으로 merge를 수행\n",
    "df_tube_bill_specs_end = df_tube_bill_specs.merge( df_tube_end_form, how = 'left',\n",
    "                                                   left_on = 'end_a', right_on = 'end_form_id' )"
   ]
  },
  {
   "cell_type": "code",
   "execution_count": 39,
   "metadata": {
    "collapsed": false
   },
   "outputs": [
    {
     "data": {
      "text/plain": [
       "21198"
      ]
     },
     "execution_count": 39,
     "metadata": {},
     "output_type": "execute_result"
    }
   ],
   "source": [
    "len( df_tube_bill_specs_end )"
   ]
  },
  {
   "cell_type": "code",
   "execution_count": 40,
   "metadata": {
    "collapsed": true
   },
   "outputs": [],
   "source": [
    "df_tube_bill_specs_end = df_tube_bill_specs_end.merge( df_tube_end_form, how = 'left',\n",
    "                                                       left_on = 'end_x', right_on = 'end_form_id' )"
   ]
  },
  {
   "cell_type": "code",
   "execution_count": 41,
   "metadata": {
    "collapsed": false
   },
   "outputs": [
    {
     "data": {
      "text/plain": [
       "21198"
      ]
     },
     "execution_count": 41,
     "metadata": {},
     "output_type": "execute_result"
    }
   ],
   "source": [
    "len( df_tube_bill_specs_end )"
   ]
  },
  {
   "cell_type": "code",
   "execution_count": 42,
   "metadata": {
    "collapsed": false
   },
   "outputs": [
    {
     "data": {
      "text/html": [
       "<div style=\"max-height:1000px;max-width:1500px;overflow:auto;\">\n",
       "<table border=\"1\" class=\"dataframe\">\n",
       "  <thead>\n",
       "    <tr style=\"text-align: right;\">\n",
       "      <th></th>\n",
       "      <th>tube_assembly_id</th>\n",
       "      <th>material_id</th>\n",
       "      <th>diameter</th>\n",
       "      <th>wall</th>\n",
       "      <th>length</th>\n",
       "      <th>num_bends</th>\n",
       "      <th>bend_radius</th>\n",
       "      <th>end_a_1x</th>\n",
       "      <th>end_a_2x</th>\n",
       "      <th>end_x_1x</th>\n",
       "      <th>...</th>\n",
       "      <th>SP-0091</th>\n",
       "      <th>SP-0092</th>\n",
       "      <th>SP-0093</th>\n",
       "      <th>SP-0094</th>\n",
       "      <th>SP-0095</th>\n",
       "      <th>SP-0096</th>\n",
       "      <th>end_form_id_x</th>\n",
       "      <th>forming_x</th>\n",
       "      <th>end_form_id_y</th>\n",
       "      <th>forming_y</th>\n",
       "    </tr>\n",
       "  </thead>\n",
       "  <tbody>\n",
       "    <tr>\n",
       "      <th>0</th>\n",
       "      <td> TA-00001</td>\n",
       "      <td> SP-0035</td>\n",
       "      <td> 12.70</td>\n",
       "      <td> 1.65</td>\n",
       "      <td> 164</td>\n",
       "      <td> 5</td>\n",
       "      <td> 38.10</td>\n",
       "      <td> 0</td>\n",
       "      <td> 0</td>\n",
       "      <td> 0</td>\n",
       "      <td>...</td>\n",
       "      <td> 0</td>\n",
       "      <td> 0</td>\n",
       "      <td> 0</td>\n",
       "      <td> 0</td>\n",
       "      <td> 0</td>\n",
       "      <td> 0</td>\n",
       "      <td> EF-003</td>\n",
       "      <td>  No</td>\n",
       "      <td> EF-003</td>\n",
       "      <td>  No</td>\n",
       "    </tr>\n",
       "    <tr>\n",
       "      <th>1</th>\n",
       "      <td> TA-00002</td>\n",
       "      <td> SP-0019</td>\n",
       "      <td>  6.35</td>\n",
       "      <td> 0.71</td>\n",
       "      <td> 137</td>\n",
       "      <td> 8</td>\n",
       "      <td> 19.05</td>\n",
       "      <td> 0</td>\n",
       "      <td> 0</td>\n",
       "      <td> 0</td>\n",
       "      <td>...</td>\n",
       "      <td> 0</td>\n",
       "      <td> 0</td>\n",
       "      <td> 0</td>\n",
       "      <td> 0</td>\n",
       "      <td> 0</td>\n",
       "      <td> 0</td>\n",
       "      <td> EF-008</td>\n",
       "      <td> Yes</td>\n",
       "      <td> EF-008</td>\n",
       "      <td> Yes</td>\n",
       "    </tr>\n",
       "    <tr>\n",
       "      <th>2</th>\n",
       "      <td> TA-00003</td>\n",
       "      <td> SP-0019</td>\n",
       "      <td>  6.35</td>\n",
       "      <td> 0.71</td>\n",
       "      <td> 127</td>\n",
       "      <td> 7</td>\n",
       "      <td> 19.05</td>\n",
       "      <td> 0</td>\n",
       "      <td> 0</td>\n",
       "      <td> 0</td>\n",
       "      <td>...</td>\n",
       "      <td> 0</td>\n",
       "      <td> 0</td>\n",
       "      <td> 0</td>\n",
       "      <td> 0</td>\n",
       "      <td> 0</td>\n",
       "      <td> 0</td>\n",
       "      <td> EF-008</td>\n",
       "      <td> Yes</td>\n",
       "      <td> EF-008</td>\n",
       "      <td> Yes</td>\n",
       "    </tr>\n",
       "  </tbody>\n",
       "</table>\n",
       "<p>3 rows × 182 columns</p>\n",
       "</div>"
      ],
      "text/plain": [
       "  tube_assembly_id material_id  diameter  wall  length  num_bends  \\\n",
       "0         TA-00001     SP-0035     12.70  1.65     164          5   \n",
       "1         TA-00002     SP-0019      6.35  0.71     137          8   \n",
       "2         TA-00003     SP-0019      6.35  0.71     127          7   \n",
       "\n",
       "   bend_radius  end_a_1x  end_a_2x  end_x_1x    ...     SP-0091 SP-0092  \\\n",
       "0        38.10         0         0         0    ...           0       0   \n",
       "1        19.05         0         0         0    ...           0       0   \n",
       "2        19.05         0         0         0    ...           0       0   \n",
       "\n",
       "  SP-0093  SP-0094  SP-0095  SP-0096  end_form_id_x forming_x  end_form_id_y  \\\n",
       "0       0        0        0        0         EF-003        No         EF-003   \n",
       "1       0        0        0        0         EF-008       Yes         EF-008   \n",
       "2       0        0        0        0         EF-008       Yes         EF-008   \n",
       "\n",
       "  forming_y  \n",
       "0        No  \n",
       "1       Yes  \n",
       "2       Yes  \n",
       "\n",
       "[3 rows x 182 columns]"
      ]
     },
     "execution_count": 42,
     "metadata": {},
     "output_type": "execute_result"
    }
   ],
   "source": [
    "df_tube_bill_specs_end.sort( 'tube_assembly_id' ).head( 3 )"
   ]
  },
  {
   "cell_type": "code",
   "execution_count": 43,
   "metadata": {
    "collapsed": false
   },
   "outputs": [],
   "source": [
    "df_tube_bill_specs_end.drop( [ 'end_form_id_x', 'end_form_id_y' ], axis = 1, inplace = True )"
   ]
  },
  {
   "cell_type": "code",
   "execution_count": 44,
   "metadata": {
    "collapsed": false,
    "scrolled": false
   },
   "outputs": [
    {
     "data": {
      "text/html": [
       "<div style=\"max-height:1000px;max-width:1500px;overflow:auto;\">\n",
       "<table border=\"1\" class=\"dataframe\">\n",
       "  <thead>\n",
       "    <tr style=\"text-align: right;\">\n",
       "      <th></th>\n",
       "      <th>tube_assembly_id</th>\n",
       "      <th>material_id</th>\n",
       "      <th>diameter</th>\n",
       "      <th>wall</th>\n",
       "      <th>length</th>\n",
       "      <th>num_bends</th>\n",
       "      <th>bend_radius</th>\n",
       "      <th>end_a_1x</th>\n",
       "      <th>end_a_2x</th>\n",
       "      <th>end_x_1x</th>\n",
       "      <th>...</th>\n",
       "      <th>SP-0089</th>\n",
       "      <th>SP-0090</th>\n",
       "      <th>SP-0091</th>\n",
       "      <th>SP-0092</th>\n",
       "      <th>SP-0093</th>\n",
       "      <th>SP-0094</th>\n",
       "      <th>SP-0095</th>\n",
       "      <th>SP-0096</th>\n",
       "      <th>forming_x</th>\n",
       "      <th>forming_y</th>\n",
       "    </tr>\n",
       "  </thead>\n",
       "  <tbody>\n",
       "    <tr>\n",
       "      <th>0</th>\n",
       "      <td> TA-00001</td>\n",
       "      <td> SP-0035</td>\n",
       "      <td> 12.70</td>\n",
       "      <td> 1.65</td>\n",
       "      <td> 164</td>\n",
       "      <td> 5</td>\n",
       "      <td> 38.10</td>\n",
       "      <td> 0</td>\n",
       "      <td> 0</td>\n",
       "      <td> 0</td>\n",
       "      <td>...</td>\n",
       "      <td> 0</td>\n",
       "      <td> 0</td>\n",
       "      <td> 0</td>\n",
       "      <td> 0</td>\n",
       "      <td> 0</td>\n",
       "      <td> 0</td>\n",
       "      <td> 0</td>\n",
       "      <td> 0</td>\n",
       "      <td>  No</td>\n",
       "      <td>  No</td>\n",
       "    </tr>\n",
       "    <tr>\n",
       "      <th>1</th>\n",
       "      <td> TA-00002</td>\n",
       "      <td> SP-0019</td>\n",
       "      <td>  6.35</td>\n",
       "      <td> 0.71</td>\n",
       "      <td> 137</td>\n",
       "      <td> 8</td>\n",
       "      <td> 19.05</td>\n",
       "      <td> 0</td>\n",
       "      <td> 0</td>\n",
       "      <td> 0</td>\n",
       "      <td>...</td>\n",
       "      <td> 0</td>\n",
       "      <td> 0</td>\n",
       "      <td> 0</td>\n",
       "      <td> 0</td>\n",
       "      <td> 0</td>\n",
       "      <td> 0</td>\n",
       "      <td> 0</td>\n",
       "      <td> 0</td>\n",
       "      <td> Yes</td>\n",
       "      <td> Yes</td>\n",
       "    </tr>\n",
       "    <tr>\n",
       "      <th>2</th>\n",
       "      <td> TA-00003</td>\n",
       "      <td> SP-0019</td>\n",
       "      <td>  6.35</td>\n",
       "      <td> 0.71</td>\n",
       "      <td> 127</td>\n",
       "      <td> 7</td>\n",
       "      <td> 19.05</td>\n",
       "      <td> 0</td>\n",
       "      <td> 0</td>\n",
       "      <td> 0</td>\n",
       "      <td>...</td>\n",
       "      <td> 0</td>\n",
       "      <td> 0</td>\n",
       "      <td> 0</td>\n",
       "      <td> 0</td>\n",
       "      <td> 0</td>\n",
       "      <td> 0</td>\n",
       "      <td> 0</td>\n",
       "      <td> 0</td>\n",
       "      <td> Yes</td>\n",
       "      <td> Yes</td>\n",
       "    </tr>\n",
       "  </tbody>\n",
       "</table>\n",
       "<p>3 rows × 180 columns</p>\n",
       "</div>"
      ],
      "text/plain": [
       "  tube_assembly_id material_id  diameter  wall  length  num_bends  \\\n",
       "0         TA-00001     SP-0035     12.70  1.65     164          5   \n",
       "1         TA-00002     SP-0019      6.35  0.71     137          8   \n",
       "2         TA-00003     SP-0019      6.35  0.71     127          7   \n",
       "\n",
       "   bend_radius  end_a_1x  end_a_2x  end_x_1x    ...     SP-0089 SP-0090  \\\n",
       "0        38.10         0         0         0    ...           0       0   \n",
       "1        19.05         0         0         0    ...           0       0   \n",
       "2        19.05         0         0         0    ...           0       0   \n",
       "\n",
       "  SP-0091  SP-0092  SP-0093  SP-0094  SP-0095 SP-0096  forming_x forming_y  \n",
       "0       0        0        0        0        0       0         No        No  \n",
       "1       0        0        0        0        0       0        Yes       Yes  \n",
       "2       0        0        0        0        0       0        Yes       Yes  \n",
       "\n",
       "[3 rows x 180 columns]"
      ]
     },
     "execution_count": 44,
     "metadata": {},
     "output_type": "execute_result"
    }
   ],
   "source": [
    "df_tube_bill_specs_end.head( 3 )"
   ]
  },
  {
   "cell_type": "code",
   "execution_count": 45,
   "metadata": {
    "collapsed": false
   },
   "outputs": [],
   "source": [
    "dic = { 'Yes' : 'Y', 'No' : 'N' }\n",
    "df_tube_bill_specs_end.replace( dic, inplace = True )"
   ]
  },
  {
   "cell_type": "code",
   "execution_count": 46,
   "metadata": {
    "collapsed": false,
    "scrolled": true
   },
   "outputs": [
    {
     "data": {
      "text/html": [
       "<div style=\"max-height:1000px;max-width:1500px;overflow:auto;\">\n",
       "<table border=\"1\" class=\"dataframe\">\n",
       "  <thead>\n",
       "    <tr style=\"text-align: right;\">\n",
       "      <th></th>\n",
       "      <th>tube_assembly_id</th>\n",
       "      <th>material_id</th>\n",
       "      <th>diameter</th>\n",
       "      <th>wall</th>\n",
       "      <th>length</th>\n",
       "      <th>num_bends</th>\n",
       "      <th>bend_radius</th>\n",
       "      <th>end_a_1x</th>\n",
       "      <th>end_a_2x</th>\n",
       "      <th>end_x_1x</th>\n",
       "      <th>...</th>\n",
       "      <th>SP-0089</th>\n",
       "      <th>SP-0090</th>\n",
       "      <th>SP-0091</th>\n",
       "      <th>SP-0092</th>\n",
       "      <th>SP-0093</th>\n",
       "      <th>SP-0094</th>\n",
       "      <th>SP-0095</th>\n",
       "      <th>SP-0096</th>\n",
       "      <th>forming_x</th>\n",
       "      <th>forming_y</th>\n",
       "    </tr>\n",
       "  </thead>\n",
       "  <tbody>\n",
       "    <tr>\n",
       "      <th>0</th>\n",
       "      <td> TA-00001</td>\n",
       "      <td> SP-0035</td>\n",
       "      <td> 12.70</td>\n",
       "      <td> 1.65</td>\n",
       "      <td> 164</td>\n",
       "      <td> 5</td>\n",
       "      <td> 38.10</td>\n",
       "      <td> 0</td>\n",
       "      <td> 0</td>\n",
       "      <td> 0</td>\n",
       "      <td>...</td>\n",
       "      <td> 0</td>\n",
       "      <td> 0</td>\n",
       "      <td> 0</td>\n",
       "      <td> 0</td>\n",
       "      <td> 0</td>\n",
       "      <td> 0</td>\n",
       "      <td> 0</td>\n",
       "      <td> 0</td>\n",
       "      <td> N</td>\n",
       "      <td> N</td>\n",
       "    </tr>\n",
       "    <tr>\n",
       "      <th>1</th>\n",
       "      <td> TA-00002</td>\n",
       "      <td> SP-0019</td>\n",
       "      <td>  6.35</td>\n",
       "      <td> 0.71</td>\n",
       "      <td> 137</td>\n",
       "      <td> 8</td>\n",
       "      <td> 19.05</td>\n",
       "      <td> 0</td>\n",
       "      <td> 0</td>\n",
       "      <td> 0</td>\n",
       "      <td>...</td>\n",
       "      <td> 0</td>\n",
       "      <td> 0</td>\n",
       "      <td> 0</td>\n",
       "      <td> 0</td>\n",
       "      <td> 0</td>\n",
       "      <td> 0</td>\n",
       "      <td> 0</td>\n",
       "      <td> 0</td>\n",
       "      <td> Y</td>\n",
       "      <td> Y</td>\n",
       "    </tr>\n",
       "    <tr>\n",
       "      <th>2</th>\n",
       "      <td> TA-00003</td>\n",
       "      <td> SP-0019</td>\n",
       "      <td>  6.35</td>\n",
       "      <td> 0.71</td>\n",
       "      <td> 127</td>\n",
       "      <td> 7</td>\n",
       "      <td> 19.05</td>\n",
       "      <td> 0</td>\n",
       "      <td> 0</td>\n",
       "      <td> 0</td>\n",
       "      <td>...</td>\n",
       "      <td> 0</td>\n",
       "      <td> 0</td>\n",
       "      <td> 0</td>\n",
       "      <td> 0</td>\n",
       "      <td> 0</td>\n",
       "      <td> 0</td>\n",
       "      <td> 0</td>\n",
       "      <td> 0</td>\n",
       "      <td> Y</td>\n",
       "      <td> Y</td>\n",
       "    </tr>\n",
       "  </tbody>\n",
       "</table>\n",
       "<p>3 rows × 180 columns</p>\n",
       "</div>"
      ],
      "text/plain": [
       "  tube_assembly_id material_id  diameter  wall  length  num_bends  \\\n",
       "0         TA-00001     SP-0035     12.70  1.65     164          5   \n",
       "1         TA-00002     SP-0019      6.35  0.71     137          8   \n",
       "2         TA-00003     SP-0019      6.35  0.71     127          7   \n",
       "\n",
       "   bend_radius  end_a_1x  end_a_2x  end_x_1x    ...     SP-0089 SP-0090  \\\n",
       "0        38.10         0         0         0    ...           0       0   \n",
       "1        19.05         0         0         0    ...           0       0   \n",
       "2        19.05         0         0         0    ...           0       0   \n",
       "\n",
       "  SP-0091  SP-0092  SP-0093  SP-0094  SP-0095 SP-0096  forming_x forming_y  \n",
       "0       0        0        0        0        0       0          N         N  \n",
       "1       0        0        0        0        0       0          Y         Y  \n",
       "2       0        0        0        0        0       0          Y         Y  \n",
       "\n",
       "[3 rows x 180 columns]"
      ]
     },
     "execution_count": 46,
     "metadata": {},
     "output_type": "execute_result"
    }
   ],
   "source": [
    "df_tube_bill_specs_end.head( 3 )"
   ]
  },
  {
   "cell_type": "code",
   "execution_count": 47,
   "metadata": {
    "collapsed": true
   },
   "outputs": [],
   "source": [
    "df_tube_bill_specs_end.sort( 'tube_assembly_id' ).to_csv( './dataset/03.merged/tube_bill_specs_end_merged.csv', index = False )"
   ]
  },
  {
   "cell_type": "code",
   "execution_count": 48,
   "metadata": {
    "collapsed": false
   },
   "outputs": [
    {
     "name": "stdout",
     "output_type": "stream",
     "text": [
      "<class 'pandas.core.frame.DataFrame'>\n",
      "Int64Index: 21198 entries, 0 to 21197\n",
      "Columns: 180 entries, tube_assembly_id to forming_y\n",
      "dtypes: float64(50), int64(106), object(24)\n",
      "memory usage: 29.3+ MB\n"
     ]
    }
   ],
   "source": [
    "df_tube_bill_specs_end.info()"
   ]
  },
  {
   "cell_type": "code",
   "execution_count": 49,
   "metadata": {
    "collapsed": false
   },
   "outputs": [
    {
     "data": {
      "text/plain": [
       "tube_assembly_id    21198\n",
       "material_id         21198\n",
       "diameter            21198\n",
       "wall                21198\n",
       "length              21198\n",
       "num_bends           21198\n",
       "bend_radius         21198\n",
       "end_a_1x            21198\n",
       "end_a_2x            21198\n",
       "end_x_1x            21198\n",
       "end_x_2x            21198\n",
       "end_a               21198\n",
       "end_x               21198\n",
       "num_boss            21198\n",
       "num_bracket         21198\n",
       "...\n",
       "SP-0084      21198\n",
       "SP-0085      21198\n",
       "SP-0086      21198\n",
       "SP-0087      21198\n",
       "SP-0088      21198\n",
       "SP-0089      21198\n",
       "SP-0090      21198\n",
       "SP-0091      21198\n",
       "SP-0092      21198\n",
       "SP-0093      21198\n",
       "SP-0094      21198\n",
       "SP-0095      21198\n",
       "SP-0096      21198\n",
       "forming_x    21198\n",
       "forming_y    21198\n",
       "Length: 180, dtype: int64"
      ]
     },
     "execution_count": 49,
     "metadata": {},
     "output_type": "execute_result"
    }
   ],
   "source": [
    "df_tube_bill_specs_end.count()"
   ]
  },
  {
   "cell_type": "code",
   "execution_count": 50,
   "metadata": {
    "collapsed": true
   },
   "outputs": [],
   "source": [
    "del( df_tube_bill_specs )\n",
    "del( df_tube_end_form )\n",
    "del( df_tube_bill_specs_end )"
   ]
  }
 ],
 "metadata": {
  "kernelspec": {
   "display_name": "Python 3",
   "language": "python",
   "name": "python3"
  },
  "language_info": {
   "codemirror_mode": {
    "name": "ipython",
    "version": 3
   },
   "file_extension": ".py",
   "mimetype": "text/x-python",
   "name": "python",
   "nbconvert_exporter": "python",
   "pygments_lexer": "ipython3",
   "version": "3.4.3"
  }
 },
 "nbformat": 4,
 "nbformat_minor": 0
}
