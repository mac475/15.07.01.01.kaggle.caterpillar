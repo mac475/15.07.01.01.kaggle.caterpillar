{
 "cells": [
  {
   "cell_type": "code",
   "execution_count": 1,
   "metadata": {
    "collapsed": false
   },
   "outputs": [
    {
     "data": {
      "text/html": [
       "<style>\n",
       "    @font-face {\n",
       "        font-family: \"Computer Modern\", \"malgun gothic\";\n",
       "        src: url('http://mirrors.ctan.org/fonts/cm-unicode/fonts/otf/cmunss.otf');\n",
       "    }\n",
       "//    div.cell{\n",
       "//        width: 100%;\n",
       "//    }\n",
       "    // 아래의 div.container는 내가 임의로 추가한 style임\n",
       "//    div.container{\n",
       "//        width: 105%;\n",
       "//    }\n",
       "    ul {\n",
       "        line-height: 100%;\n",
       "        font-size: 100%;\n",
       "    }\n",
       "    li {\n",
       "        margin-bottom: 0.5em;\n",
       "    }\n",
       "    h1 {\n",
       "        font-family: Helvetica, serif, \"malgun gothic\";\n",
       "    }\n",
       "    h4{\n",
       "        margin-top: 12px;\n",
       "//        margin-bottom: 3px;\n",
       "       }\n",
       "    div.text_cell_render{\n",
       "//        font-family: Computer Modern, \"Helvetica Neue\", Arial, Helvetica, Geneva, sans-serif;\n",
       "        font-family: malgun gothic;\n",
       "        line-height: 140%;\n",
       "//        font-size: 100%;\n",
       "//        width: 100%;\n",
       "//        margin-left:auto;\n",
       "//        margin-right:auto;\n",
       "    }\n",
       "    .CodeMirror{\n",
       "            font-family: \"Source Code Pro\", source-code-pro,Consolas, monospace;\n",
       "    }\n",
       "/*    .prompt{\n",
       "        display: None;\n",
       "    }*/\n",
       "    .text_cell_render h5 {\n",
       "        font-family: malgun gothic;\n",
       "        font-weight: 300;\n",
       "        font-size: 16pt;\n",
       "        color: #4057A1;\n",
       "        font-style: italic;\n",
       "        margin-bottom: 0.5em;\n",
       "        margin-top: 0.5em;\n",
       "        display: block;\n",
       "    }\n",
       "    .warning{\n",
       "        color: rgb( 240, 20, 20 )\n",
       "        }\n",
       "</style>\n",
       "<script>\n",
       "    MathJax.Hub.Config({\n",
       "                        TeX: {\n",
       "                           extensions: [\"AMSmath.js\"]\n",
       "                           },\n",
       "                tex2jax: {\n",
       "                    inlineMath: [ ['$','$'], [\"\\\\(\",\"\\\\)\"] ],\n",
       "                    displayMath: [ ['$$','$$'], [\"\\\\[\",\"\\\\]\"] ]\n",
       "                },\n",
       "                displayAlign: 'center', // Change this to 'center' to center equations.\n",
       "//                \"HTML-CSS\": {\n",
       "//                    styles: {'.MathJax_Display': {\"margin\": 4}}\n",
       "//                }\n",
       "        });\n",
       "</script>"
      ],
      "text/plain": [
       "<IPython.core.display.HTML object>"
      ]
     },
     "execution_count": 1,
     "metadata": {},
     "output_type": "execute_result"
    }
   ],
   "source": [
    "# mac475의 ipython 표준 style을 적용함\n",
    "from IPython.core.display import HTML\n",
    "styles = open(\"../styles/custom.css\", \"r\").read()\n",
    "HTML( styles )"
   ]
  },
  {
   "cell_type": "markdown",
   "metadata": {},
   "source": [
    "    0. Dataset 읽기\n",
    "\n",
    "    1. Feature 추출 function\n",
    "\n",
    "    2. Label Encoding function\n",
    "\n",
    "    3. Label Encoding용 Dataset\n",
    "    \n",
    "        3.1 train/ test dataset merge\n",
    "\n",
    "    4. Modeling\n",
    "\n",
    "        4.1 Merged features중, modeling시 제거할 feature 관리\n",
    "\n",
    "        4.2 Train : 연/ 월/ 일 Feature 추출\n",
    "\n",
    "        4.3 Train : Tube와 merge통한 Feature 확장\n",
    "\n",
    "        4.4 Train : Merged dataset Label Encoding 수행\n",
    "\n",
    "        4.5 Train : 불필요 Feature 제거\n",
    "\n",
    "        4.6 Test : Dataset 읽기\n",
    "\n",
    "        4.7 Test : 연/ 월/ 일 Feature 추출\n",
    "\n",
    "        4.8 Test : Tube와 merge통한 Feature 확장\n",
    "\n",
    "        4.9 Test : Merged dataset Label Encoding 수행\n",
    "\n",
    "        4.10 Test : 불필요 Featrue 제거"
   ]
  },
  {
   "cell_type": "markdown",
   "metadata": {},
   "source": [
    "#0. Dataset 읽기"
   ]
  },
  {
   "cell_type": "code",
   "execution_count": 2,
   "metadata": {
    "collapsed": true
   },
   "outputs": [],
   "source": [
    "import pandas as pd\n",
    "import numpy as np\n",
    "\n",
    "df_train = pd.read_csv( './dataset/train_set.csv' )    # data를 읽어들인다.\n",
    "df_test = pd.read_csv( './dataset/test_set.csv' )    # data를 읽어들인다."
   ]
  },
  {
   "cell_type": "markdown",
   "metadata": {},
   "source": [
    "#1. Feature 추출 function\n",
    "* quote_date 활용하여 year, month, day 확보"
   ]
  },
  {
   "cell_type": "code",
   "execution_count": 3,
   "metadata": {
    "collapsed": false
   },
   "outputs": [],
   "source": [
    "import datetime\n",
    "\n",
    "def extract_year_month_day_from_quote_date( p_df ) :\n",
    "    p_df[ 'quote_date' ] = pd.to_datetime( p_df[ 'quote_date' ] )    # string을 datetime으로 형변환\n",
    "    p_df[ 'year' ] = p_df[ 'quote_date' ].dt.year    # 연도\n",
    "    p_df[ 'month' ] = p_df[ 'quote_date' ].dt.month    # 월\n",
    "    p_df[ 'day' ] = p_df[ 'quote_date' ].dt.day    # 일\n",
    "\n",
    "    return p_df"
   ]
  },
  {
   "cell_type": "markdown",
   "metadata": {},
   "source": [
    "#2. Label Encoding function\n",
    "* 현재, train/ test dataset과 tube dataset과 merge하는 case까지 반영하여 encoder 관리"
   ]
  },
  {
   "cell_type": "code",
   "execution_count": 4,
   "metadata": {
    "collapsed": true
   },
   "outputs": [],
   "source": [
    "from sklearn import preprocessing\n",
    "\n",
    "# le_tube_assembly_id = preprocessing.LabelEncoder()\n",
    "le_supplier = preprocessing.LabelEncoder()\n",
    "le_bracket_pricing = preprocessing.LabelEncoder()\n",
    "\n",
    "le_material_id = preprocessing.LabelEncoder()\n",
    "le_end_a_1x = preprocessing.LabelEncoder()\n",
    "le_end_a_2x = preprocessing.LabelEncoder()\n",
    "le_end_x_1x = preprocessing.LabelEncoder()\n",
    "le_end_x_2x = preprocessing.LabelEncoder()\n",
    "le_end_a = preprocessing.LabelEncoder()\n",
    "le_end_x = preprocessing.LabelEncoder()\n",
    "\n",
    "def executeLabelEncoding( p_df, is_init ) :\n",
    "    if is_init == True :    # training dataset인 경우, label encoder 생성 및 fitting 수행\n",
    "        p_df[ 'bracket_pricing' ] = le_bracket_pricing.fit_transform( p_df[ 'bracket_pricing' ] )\n",
    "\n",
    "        p_df[ 'supplier' ] = le_supplier.fit_transform( p_df[ 'supplier' ] )\n",
    "        p_df[ 'material_id' ] = le_material_id.fit_transform( p_df[ 'material_id' ] )\n",
    "        \n",
    "        p_df[ 'end_a_1x' ] = le_end_a_1x.fit_transform( p_df[ 'end_a_1x' ] )\n",
    "        p_df[ 'end_a_2x' ] = le_end_a_2x.fit_transform( p_df[ 'end_a_2x' ] )\n",
    "        p_df[ 'end_x_1x' ] = le_end_x_1x.fit_transform( p_df[ 'end_x_1x' ] )\n",
    "        p_df[ 'end_x_2x' ] = le_end_x_2x.fit_transform( p_df[ 'end_x_2x' ] )\n",
    "        p_df[ 'end_a' ] = le_end_a.fit_transform( p_df[ 'end_a' ] )\n",
    "        p_df[ 'end_x' ] = le_end_x.fit_transform( p_df[ 'end_x' ] )\n",
    "    else :\n",
    "        p_df[ 'bracket_pricing' ] = le_bracket_pricing.transform( p_df[ 'bracket_pricing' ] )\n",
    "\n",
    "        p_df[ 'supplier' ] = le_supplier.transform( p_df[ 'supplier' ] )\n",
    "        p_df[ 'material_id' ] = le_material_id.transform( p_df[ 'material_id' ] )\n",
    "        \n",
    "        p_df[ 'end_a_1x' ] = le_end_a_1x.transform( p_df[ 'end_a_1x' ] )\n",
    "        p_df[ 'end_a_2x' ] = le_end_a_2x.transform( p_df[ 'end_a_2x' ] )\n",
    "        p_df[ 'end_x_1x' ] = le_end_x_1x.transform( p_df[ 'end_x_1x' ] )\n",
    "        p_df[ 'end_x_2x' ] = le_end_x_2x.transform( p_df[ 'end_x_2x' ] )\n",
    "        p_df[ 'end_a' ] = le_end_a.transform( p_df[ 'end_a' ] )\n",
    "        p_df[ 'end_x' ] = le_end_x.transform( p_df[ 'end_x' ] )\n",
    "    \n",
    "    return p_df"
   ]
  },
  {
   "cell_type": "markdown",
   "metadata": {},
   "source": [
    "."
   ]
  },
  {
   "cell_type": "markdown",
   "metadata": {},
   "source": [
    "#3. Label Encoding용 Dataset\n",
    "* categorical data를 모두 포함해야 하므로, tube join후 기반으로 label encoder를 fitting한다\n",
    "* label encoding의 대상은 bracket_pricing, supplier, material_id, end_a_1x 시리즈, end_a 시리즈 feature이다"
   ]
  },
  {
   "cell_type": "markdown",
   "metadata": {},
   "source": [
    "##3.1 train/ test dataset merge"
   ]
  },
  {
   "cell_type": "code",
   "execution_count": 5,
   "metadata": {
    "collapsed": true
   },
   "outputs": [],
   "source": [
    "df_train[ 'id' ] = '99999'    # test와 join위해 feature 추가 : 99999는 train dataset이다"
   ]
  },
  {
   "cell_type": "code",
   "execution_count": 6,
   "metadata": {
    "collapsed": false
   },
   "outputs": [],
   "source": [
    "df_merged = df_train.append( df_test )    # train과 test df를 merge한다."
   ]
  },
  {
   "cell_type": "code",
   "execution_count": 7,
   "metadata": {
    "collapsed": false
   },
   "outputs": [
    {
     "data": {
      "text/html": [
       "<div style=\"max-height:1000px;max-width:1500px;overflow:auto;\">\n",
       "<table border=\"1\" class=\"dataframe\">\n",
       "  <thead>\n",
       "    <tr style=\"text-align: right;\">\n",
       "      <th></th>\n",
       "      <th>annual_usage</th>\n",
       "      <th>bracket_pricing</th>\n",
       "      <th>cost</th>\n",
       "      <th>id</th>\n",
       "      <th>min_order_quantity</th>\n",
       "      <th>quantity</th>\n",
       "      <th>quote_date</th>\n",
       "      <th>supplier</th>\n",
       "      <th>tube_assembly_id</th>\n",
       "    </tr>\n",
       "  </thead>\n",
       "  <tbody>\n",
       "    <tr>\n",
       "      <th>30232</th>\n",
       "      <td> 883</td>\n",
       "      <td> No</td>\n",
       "      <td>NaN</td>\n",
       "      <td> 30233</td>\n",
       "      <td> 85</td>\n",
       "      <td> 85</td>\n",
       "      <td> 2013-09-10</td>\n",
       "      <td> S-0041</td>\n",
       "      <td> TA-21194</td>\n",
       "    </tr>\n",
       "    <tr>\n",
       "      <th>30233</th>\n",
       "      <td>  28</td>\n",
       "      <td> No</td>\n",
       "      <td>NaN</td>\n",
       "      <td> 30234</td>\n",
       "      <td>  1</td>\n",
       "      <td>  1</td>\n",
       "      <td> 2003-09-16</td>\n",
       "      <td> S-0026</td>\n",
       "      <td> TA-21198</td>\n",
       "    </tr>\n",
       "    <tr>\n",
       "      <th>30234</th>\n",
       "      <td>  28</td>\n",
       "      <td> No</td>\n",
       "      <td>NaN</td>\n",
       "      <td> 30235</td>\n",
       "      <td>  1</td>\n",
       "      <td>  1</td>\n",
       "      <td> 2003-09-16</td>\n",
       "      <td> S-0026</td>\n",
       "      <td> TA-21199</td>\n",
       "    </tr>\n",
       "  </tbody>\n",
       "</table>\n",
       "</div>"
      ],
      "text/plain": [
       "       annual_usage bracket_pricing  cost     id  min_order_quantity  \\\n",
       "30232           883              No   NaN  30233                  85   \n",
       "30233            28              No   NaN  30234                   1   \n",
       "30234            28              No   NaN  30235                   1   \n",
       "\n",
       "       quantity  quote_date supplier tube_assembly_id  \n",
       "30232        85  2013-09-10   S-0041         TA-21194  \n",
       "30233         1  2003-09-16   S-0026         TA-21198  \n",
       "30234         1  2003-09-16   S-0026         TA-21199  "
      ]
     },
     "execution_count": 7,
     "metadata": {},
     "output_type": "execute_result"
    }
   ],
   "source": [
    "df_merged.tail( 3 )"
   ]
  },
  {
   "cell_type": "code",
   "execution_count": 8,
   "metadata": {
    "collapsed": false
   },
   "outputs": [
    {
     "data": {
      "text/plain": [
       "annual_usage          60448\n",
       "bracket_pricing       60448\n",
       "cost                  30213\n",
       "id                    60448\n",
       "min_order_quantity    60448\n",
       "quantity              60448\n",
       "quote_date            60448\n",
       "supplier              60448\n",
       "tube_assembly_id      60448\n",
       "dtype: int64"
      ]
     },
     "execution_count": 8,
     "metadata": {},
     "output_type": "execute_result"
    }
   ],
   "source": [
    "df_merged.count()"
   ]
  },
  {
   "cell_type": "markdown",
   "metadata": {},
   "source": [
    "##3.1 tube dataset merge 및 label encoding"
   ]
  },
  {
   "cell_type": "code",
   "execution_count": 9,
   "metadata": {
    "collapsed": true
   },
   "outputs": [],
   "source": [
    "df_tube = pd.read_csv( './dataset/02.ml.verified.dataset/tube.material_id.verified.csv' )"
   ]
  },
  {
   "cell_type": "code",
   "execution_count": 10,
   "metadata": {
    "collapsed": true
   },
   "outputs": [],
   "source": [
    "df_merged = df_merged.merge( df_tube, how = 'inner', on = 'tube_assembly_id' )"
   ]
  },
  {
   "cell_type": "code",
   "execution_count": 11,
   "metadata": {
    "collapsed": false
   },
   "outputs": [
    {
     "data": {
      "text/plain": [
       "annual_usage          60448\n",
       "bracket_pricing       60448\n",
       "cost                  30213\n",
       "id                    60448\n",
       "min_order_quantity    60448\n",
       "quantity              60448\n",
       "quote_date            60448\n",
       "supplier              60448\n",
       "tube_assembly_id      60448\n",
       "material_id           60448\n",
       "diameter              60448\n",
       "wall                  60448\n",
       "length                60448\n",
       "num_bends             60448\n",
       "bend_radius           60448\n",
       "end_a_1x              60448\n",
       "end_a_2x              60448\n",
       "end_x_1x              60448\n",
       "end_x_2x              60448\n",
       "end_a                 60448\n",
       "end_x                 60448\n",
       "num_boss              60448\n",
       "num_bracket           60448\n",
       "other                 60448\n",
       "dtype: int64"
      ]
     },
     "execution_count": 11,
     "metadata": {},
     "output_type": "execute_result"
    }
   ],
   "source": [
    "df_merged.count()"
   ]
  },
  {
   "cell_type": "code",
   "execution_count": 12,
   "metadata": {
    "collapsed": false
   },
   "outputs": [
    {
     "data": {
      "text/plain": [
       "Index(['annual_usage', 'bracket_pricing', 'cost', 'id', 'min_order_quantity', 'quantity', 'quote_date', 'supplier', 'tube_assembly_id', 'material_id', 'diameter', 'wall', 'length', 'num_bends', 'bend_radius', 'end_a_1x', 'end_a_2x', 'end_x_1x', 'end_x_2x', 'end_a', 'end_x', 'num_boss', 'num_bracket', 'other'], dtype='object')"
      ]
     },
     "execution_count": 12,
     "metadata": {},
     "output_type": "execute_result"
    }
   ],
   "source": [
    "df_merged.columns    # merged feature를 확인"
   ]
  },
  {
   "cell_type": "code",
   "execution_count": 13,
   "metadata": {
    "collapsed": false
   },
   "outputs": [],
   "source": [
    "df_merged = executeLabelEncoding( df_merged, is_init = True )    # label encoding을 수행한다"
   ]
  },
  {
   "cell_type": "code",
   "execution_count": 14,
   "metadata": {
    "collapsed": true
   },
   "outputs": [],
   "source": [
    "df_train.drop( 'id', axis = 1, inplace = True )    # 일단, 필요없는 것들 제거 : df_train을 원상 복구해둠\n",
    "df_test = ''    # 일단, 필요없는 것들 제거\n",
    "df_merged = ''    # 일단, 필요없는 것들 제거"
   ]
  },
  {
   "cell_type": "markdown",
   "metadata": {},
   "source": [
    "#4. Modeling"
   ]
  },
  {
   "cell_type": "markdown",
   "metadata": {},
   "source": [
    "##4.1 Merged features중, modeling시 제거할 feature 관리"
   ]
  },
  {
   "cell_type": "code",
   "execution_count": 15,
   "metadata": {
    "collapsed": true
   },
   "outputs": [],
   "source": [
    "def executeFeatureRemoval( p_df ) :\n",
    "    # 제거하고자 하는 feature list\n",
    "    list_for_remove = [    # 82.7% 정확도 feature list : default\n",
    "                        'tube_assembly_id',\n",
    "#                         'supplier',\n",
    "\n",
    "                        'quote_date',\n",
    "#                         'annual_usage',\n",
    "#                         'min_order_quantity',\n",
    "        \n",
    "    #                     'bracket_pricing',\n",
    "    #                     'quantity',\n",
    "        \n",
    "#                         'year',\n",
    "#                         'month',\n",
    "#                         'day',\n",
    "\n",
    "#                         'material_id',\n",
    "#                         'diameter',\n",
    "#                         'wall',\n",
    "#                         'length',\n",
    "    \n",
    "#                         'num_bends',\n",
    "#                         'bend_radius',\n",
    "    \n",
    "#                         'end_a_1x',\n",
    "#                         'end_a_2x',\n",
    "#                         'end_x_1x',\n",
    "#                         'end_x_2x',\n",
    "#                         'end_a',\n",
    "#                         'end_x',\n",
    "    \n",
    "#                         'num_boss',\n",
    "#                         'num_bracket',\n",
    "#                         'other',\n",
    "                      ]       \n",
    "\n",
    "    return p_df.drop( list_for_remove, axis = 1, inplace = False )"
   ]
  },
  {
   "cell_type": "markdown",
   "metadata": {},
   "source": [
    "##4.2 Train : 연/ 월/ 일 Feature 추출"
   ]
  },
  {
   "cell_type": "code",
   "execution_count": 16,
   "metadata": {
    "collapsed": false
   },
   "outputs": [],
   "source": [
    "df_train = extract_year_month_day_from_quote_date( df_train )    # feature 처리를 수행"
   ]
  },
  {
   "cell_type": "markdown",
   "metadata": {},
   "source": [
    "##4.3 Train : Tube와 merge통한 Feature 확장"
   ]
  },
  {
   "cell_type": "code",
   "execution_count": 17,
   "metadata": {
    "collapsed": true
   },
   "outputs": [],
   "source": [
    "df_train_merged = df_train.merge( df_tube, how = 'inner', on = 'tube_assembly_id' )"
   ]
  },
  {
   "cell_type": "markdown",
   "metadata": {},
   "source": [
    "##4.4 Train : Merged dataset Label Encoding 수행"
   ]
  },
  {
   "cell_type": "code",
   "execution_count": 18,
   "metadata": {
    "collapsed": false
   },
   "outputs": [],
   "source": [
    "df_train_merged = executeLabelEncoding( df_train_merged, is_init = False )    # label encoding을 수행한다"
   ]
  },
  {
   "cell_type": "markdown",
   "metadata": {},
   "source": [
    "##4.5 Train : 불필요 Feature 제거"
   ]
  },
  {
   "cell_type": "code",
   "execution_count": 19,
   "metadata": {
    "collapsed": false
   },
   "outputs": [
    {
     "data": {
      "text/html": [
       "<div style=\"max-height:1000px;max-width:1500px;overflow:auto;\">\n",
       "<table border=\"1\" class=\"dataframe\">\n",
       "  <thead>\n",
       "    <tr style=\"text-align: right;\">\n",
       "      <th></th>\n",
       "      <th>supplier</th>\n",
       "      <th>annual_usage</th>\n",
       "      <th>min_order_quantity</th>\n",
       "      <th>bracket_pricing</th>\n",
       "      <th>quantity</th>\n",
       "      <th>cost</th>\n",
       "      <th>year</th>\n",
       "      <th>month</th>\n",
       "      <th>day</th>\n",
       "      <th>material_id</th>\n",
       "      <th>...</th>\n",
       "      <th>bend_radius</th>\n",
       "      <th>end_a_1x</th>\n",
       "      <th>end_a_2x</th>\n",
       "      <th>end_x_1x</th>\n",
       "      <th>end_x_2x</th>\n",
       "      <th>end_a</th>\n",
       "      <th>end_x</th>\n",
       "      <th>num_boss</th>\n",
       "      <th>num_bracket</th>\n",
       "      <th>other</th>\n",
       "    </tr>\n",
       "  </thead>\n",
       "  <tbody>\n",
       "    <tr>\n",
       "      <th>0</th>\n",
       "      <td> 41</td>\n",
       "      <td> 0</td>\n",
       "      <td> 0</td>\n",
       "      <td> 1</td>\n",
       "      <td> 1</td>\n",
       "      <td> 21.905933</td>\n",
       "      <td> 2013</td>\n",
       "      <td> 7</td>\n",
       "      <td> 7</td>\n",
       "      <td> 1</td>\n",
       "      <td>...</td>\n",
       "      <td> 19.05</td>\n",
       "      <td> 0</td>\n",
       "      <td> 0</td>\n",
       "      <td> 0</td>\n",
       "      <td> 0</td>\n",
       "      <td> 7</td>\n",
       "      <td> 7</td>\n",
       "      <td> 0</td>\n",
       "      <td> 0</td>\n",
       "      <td> 0</td>\n",
       "    </tr>\n",
       "    <tr>\n",
       "      <th>1</th>\n",
       "      <td> 41</td>\n",
       "      <td> 0</td>\n",
       "      <td> 0</td>\n",
       "      <td> 1</td>\n",
       "      <td> 2</td>\n",
       "      <td> 12.341214</td>\n",
       "      <td> 2013</td>\n",
       "      <td> 7</td>\n",
       "      <td> 7</td>\n",
       "      <td> 1</td>\n",
       "      <td>...</td>\n",
       "      <td> 19.05</td>\n",
       "      <td> 0</td>\n",
       "      <td> 0</td>\n",
       "      <td> 0</td>\n",
       "      <td> 0</td>\n",
       "      <td> 7</td>\n",
       "      <td> 7</td>\n",
       "      <td> 0</td>\n",
       "      <td> 0</td>\n",
       "      <td> 0</td>\n",
       "    </tr>\n",
       "    <tr>\n",
       "      <th>2</th>\n",
       "      <td> 41</td>\n",
       "      <td> 0</td>\n",
       "      <td> 0</td>\n",
       "      <td> 1</td>\n",
       "      <td> 5</td>\n",
       "      <td>  6.601826</td>\n",
       "      <td> 2013</td>\n",
       "      <td> 7</td>\n",
       "      <td> 7</td>\n",
       "      <td> 1</td>\n",
       "      <td>...</td>\n",
       "      <td> 19.05</td>\n",
       "      <td> 0</td>\n",
       "      <td> 0</td>\n",
       "      <td> 0</td>\n",
       "      <td> 0</td>\n",
       "      <td> 7</td>\n",
       "      <td> 7</td>\n",
       "      <td> 0</td>\n",
       "      <td> 0</td>\n",
       "      <td> 0</td>\n",
       "    </tr>\n",
       "  </tbody>\n",
       "</table>\n",
       "<p>3 rows × 24 columns</p>\n",
       "</div>"
      ],
      "text/plain": [
       "   supplier  annual_usage  min_order_quantity  bracket_pricing  quantity  \\\n",
       "0        41             0                   0                1         1   \n",
       "1        41             0                   0                1         2   \n",
       "2        41             0                   0                1         5   \n",
       "\n",
       "        cost  year  month  day  material_id  ...    bend_radius  end_a_1x  \\\n",
       "0  21.905933  2013      7    7            1  ...          19.05         0   \n",
       "1  12.341214  2013      7    7            1  ...          19.05         0   \n",
       "2   6.601826  2013      7    7            1  ...          19.05         0   \n",
       "\n",
       "   end_a_2x  end_x_1x  end_x_2x  end_a  end_x  num_boss  num_bracket  other  \n",
       "0         0         0         0      7      7         0            0      0  \n",
       "1         0         0         0      7      7         0            0      0  \n",
       "2         0         0         0      7      7         0            0      0  \n",
       "\n",
       "[3 rows x 24 columns]"
      ]
     },
     "execution_count": 19,
     "metadata": {},
     "output_type": "execute_result"
    }
   ],
   "source": [
    "df_train_merged = executeFeatureRemoval( df_train_merged )    # feature removal 처리를 수행\n",
    "df_train_merged.head( 3 )"
   ]
  },
  {
   "cell_type": "markdown",
   "metadata": {},
   "source": [
    "."
   ]
  },
  {
   "cell_type": "markdown",
   "metadata": {},
   "source": [
    "##4.6 Test : Dataset 읽기"
   ]
  },
  {
   "cell_type": "code",
   "execution_count": 20,
   "metadata": {
    "collapsed": true
   },
   "outputs": [],
   "source": [
    "df_test = pd.read_csv( './dataset/test_set.csv' )    # data를 읽어들인다."
   ]
  },
  {
   "cell_type": "markdown",
   "metadata": {},
   "source": [
    "##4.7 Test : 연/ 월/ 일 Feature 추출"
   ]
  },
  {
   "cell_type": "code",
   "execution_count": 21,
   "metadata": {
    "collapsed": false
   },
   "outputs": [],
   "source": [
    "df_test = extract_year_month_day_from_quote_date( df_test )    # feature 처리를 수행\n",
    "\n",
    "df_result = pd.DataFrame( df_test[ 'id' ], columns = ['id'] )    # 결과용 dataframe을 생성\n",
    "df_test.drop( 'id', axis = 1, inplace = True )    # id feature는 일단 제거"
   ]
  },
  {
   "cell_type": "markdown",
   "metadata": {},
   "source": [
    "##4.8 Test : Tube와 merge통한 Feature 확장"
   ]
  },
  {
   "cell_type": "code",
   "execution_count": 22,
   "metadata": {
    "collapsed": true
   },
   "outputs": [],
   "source": [
    "df_test_merged = df_test.merge( df_tube, how = 'inner', on = 'tube_assembly_id' )"
   ]
  },
  {
   "cell_type": "code",
   "execution_count": 23,
   "metadata": {
    "collapsed": false
   },
   "outputs": [
    {
     "data": {
      "text/html": [
       "<div style=\"max-height:1000px;max-width:1500px;overflow:auto;\">\n",
       "<table border=\"1\" class=\"dataframe\">\n",
       "  <thead>\n",
       "    <tr style=\"text-align: right;\">\n",
       "      <th></th>\n",
       "      <th>tube_assembly_id</th>\n",
       "      <th>supplier</th>\n",
       "      <th>quote_date</th>\n",
       "      <th>annual_usage</th>\n",
       "      <th>min_order_quantity</th>\n",
       "      <th>bracket_pricing</th>\n",
       "      <th>quantity</th>\n",
       "      <th>year</th>\n",
       "      <th>month</th>\n",
       "      <th>day</th>\n",
       "      <th>...</th>\n",
       "      <th>bend_radius</th>\n",
       "      <th>end_a_1x</th>\n",
       "      <th>end_a_2x</th>\n",
       "      <th>end_x_1x</th>\n",
       "      <th>end_x_2x</th>\n",
       "      <th>end_a</th>\n",
       "      <th>end_x</th>\n",
       "      <th>num_boss</th>\n",
       "      <th>num_bracket</th>\n",
       "      <th>other</th>\n",
       "    </tr>\n",
       "  </thead>\n",
       "  <tbody>\n",
       "    <tr>\n",
       "      <th>0</th>\n",
       "      <td> TA-00001</td>\n",
       "      <td> S-0066</td>\n",
       "      <td>2013-06-23</td>\n",
       "      <td> 0</td>\n",
       "      <td> 0</td>\n",
       "      <td> Yes</td>\n",
       "      <td> 1</td>\n",
       "      <td> 2013</td>\n",
       "      <td> 6</td>\n",
       "      <td> 23</td>\n",
       "      <td>...</td>\n",
       "      <td> 38.1</td>\n",
       "      <td> N</td>\n",
       "      <td> N</td>\n",
       "      <td> N</td>\n",
       "      <td> N</td>\n",
       "      <td> EF-003</td>\n",
       "      <td> EF-003</td>\n",
       "      <td> 0</td>\n",
       "      <td> 0</td>\n",
       "      <td> 0</td>\n",
       "    </tr>\n",
       "    <tr>\n",
       "      <th>1</th>\n",
       "      <td> TA-00001</td>\n",
       "      <td> S-0066</td>\n",
       "      <td>2013-06-23</td>\n",
       "      <td> 0</td>\n",
       "      <td> 0</td>\n",
       "      <td> Yes</td>\n",
       "      <td> 2</td>\n",
       "      <td> 2013</td>\n",
       "      <td> 6</td>\n",
       "      <td> 23</td>\n",
       "      <td>...</td>\n",
       "      <td> 38.1</td>\n",
       "      <td> N</td>\n",
       "      <td> N</td>\n",
       "      <td> N</td>\n",
       "      <td> N</td>\n",
       "      <td> EF-003</td>\n",
       "      <td> EF-003</td>\n",
       "      <td> 0</td>\n",
       "      <td> 0</td>\n",
       "      <td> 0</td>\n",
       "    </tr>\n",
       "    <tr>\n",
       "      <th>2</th>\n",
       "      <td> TA-00001</td>\n",
       "      <td> S-0066</td>\n",
       "      <td>2013-06-23</td>\n",
       "      <td> 0</td>\n",
       "      <td> 0</td>\n",
       "      <td> Yes</td>\n",
       "      <td> 5</td>\n",
       "      <td> 2013</td>\n",
       "      <td> 6</td>\n",
       "      <td> 23</td>\n",
       "      <td>...</td>\n",
       "      <td> 38.1</td>\n",
       "      <td> N</td>\n",
       "      <td> N</td>\n",
       "      <td> N</td>\n",
       "      <td> N</td>\n",
       "      <td> EF-003</td>\n",
       "      <td> EF-003</td>\n",
       "      <td> 0</td>\n",
       "      <td> 0</td>\n",
       "      <td> 0</td>\n",
       "    </tr>\n",
       "  </tbody>\n",
       "</table>\n",
       "<p>3 rows × 25 columns</p>\n",
       "</div>"
      ],
      "text/plain": [
       "  tube_assembly_id supplier quote_date  annual_usage  min_order_quantity  \\\n",
       "0         TA-00001   S-0066 2013-06-23             0                   0   \n",
       "1         TA-00001   S-0066 2013-06-23             0                   0   \n",
       "2         TA-00001   S-0066 2013-06-23             0                   0   \n",
       "\n",
       "  bracket_pricing  quantity  year  month  day  ...  bend_radius  end_a_1x  \\\n",
       "0             Yes         1  2013      6   23  ...         38.1         N   \n",
       "1             Yes         2  2013      6   23  ...         38.1         N   \n",
       "2             Yes         5  2013      6   23  ...         38.1         N   \n",
       "\n",
       "   end_a_2x  end_x_1x  end_x_2x   end_a   end_x num_boss num_bracket other  \n",
       "0         N         N         N  EF-003  EF-003        0           0     0  \n",
       "1         N         N         N  EF-003  EF-003        0           0     0  \n",
       "2         N         N         N  EF-003  EF-003        0           0     0  \n",
       "\n",
       "[3 rows x 25 columns]"
      ]
     },
     "execution_count": 23,
     "metadata": {},
     "output_type": "execute_result"
    }
   ],
   "source": [
    "df_test_merged.head( 3 )"
   ]
  },
  {
   "cell_type": "markdown",
   "metadata": {},
   "source": [
    "##4.9 Test : Merged dataset Label Encoding 수행"
   ]
  },
  {
   "cell_type": "code",
   "execution_count": 24,
   "metadata": {
    "collapsed": true
   },
   "outputs": [],
   "source": [
    "df_test_merged = executeLabelEncoding( df_test_merged, is_init = False )    # label encoding을 수행한다"
   ]
  },
  {
   "cell_type": "code",
   "execution_count": 25,
   "metadata": {
    "collapsed": false
   },
   "outputs": [
    {
     "data": {
      "text/html": [
       "<div style=\"max-height:1000px;max-width:1500px;overflow:auto;\">\n",
       "<table border=\"1\" class=\"dataframe\">\n",
       "  <thead>\n",
       "    <tr style=\"text-align: right;\">\n",
       "      <th></th>\n",
       "      <th>tube_assembly_id</th>\n",
       "      <th>supplier</th>\n",
       "      <th>quote_date</th>\n",
       "      <th>annual_usage</th>\n",
       "      <th>min_order_quantity</th>\n",
       "      <th>bracket_pricing</th>\n",
       "      <th>quantity</th>\n",
       "      <th>year</th>\n",
       "      <th>month</th>\n",
       "      <th>day</th>\n",
       "      <th>...</th>\n",
       "      <th>bend_radius</th>\n",
       "      <th>end_a_1x</th>\n",
       "      <th>end_a_2x</th>\n",
       "      <th>end_x_1x</th>\n",
       "      <th>end_x_2x</th>\n",
       "      <th>end_a</th>\n",
       "      <th>end_x</th>\n",
       "      <th>num_boss</th>\n",
       "      <th>num_bracket</th>\n",
       "      <th>other</th>\n",
       "    </tr>\n",
       "  </thead>\n",
       "  <tbody>\n",
       "    <tr>\n",
       "      <th>0</th>\n",
       "      <td> TA-00001</td>\n",
       "      <td> 41</td>\n",
       "      <td>2013-06-23</td>\n",
       "      <td> 0</td>\n",
       "      <td> 0</td>\n",
       "      <td> 1</td>\n",
       "      <td> 1</td>\n",
       "      <td> 2013</td>\n",
       "      <td> 6</td>\n",
       "      <td> 23</td>\n",
       "      <td>...</td>\n",
       "      <td> 38.1</td>\n",
       "      <td> 0</td>\n",
       "      <td> 0</td>\n",
       "      <td> 0</td>\n",
       "      <td> 0</td>\n",
       "      <td> 2</td>\n",
       "      <td> 2</td>\n",
       "      <td> 0</td>\n",
       "      <td> 0</td>\n",
       "      <td> 0</td>\n",
       "    </tr>\n",
       "    <tr>\n",
       "      <th>1</th>\n",
       "      <td> TA-00001</td>\n",
       "      <td> 41</td>\n",
       "      <td>2013-06-23</td>\n",
       "      <td> 0</td>\n",
       "      <td> 0</td>\n",
       "      <td> 1</td>\n",
       "      <td> 2</td>\n",
       "      <td> 2013</td>\n",
       "      <td> 6</td>\n",
       "      <td> 23</td>\n",
       "      <td>...</td>\n",
       "      <td> 38.1</td>\n",
       "      <td> 0</td>\n",
       "      <td> 0</td>\n",
       "      <td> 0</td>\n",
       "      <td> 0</td>\n",
       "      <td> 2</td>\n",
       "      <td> 2</td>\n",
       "      <td> 0</td>\n",
       "      <td> 0</td>\n",
       "      <td> 0</td>\n",
       "    </tr>\n",
       "    <tr>\n",
       "      <th>2</th>\n",
       "      <td> TA-00001</td>\n",
       "      <td> 41</td>\n",
       "      <td>2013-06-23</td>\n",
       "      <td> 0</td>\n",
       "      <td> 0</td>\n",
       "      <td> 1</td>\n",
       "      <td> 5</td>\n",
       "      <td> 2013</td>\n",
       "      <td> 6</td>\n",
       "      <td> 23</td>\n",
       "      <td>...</td>\n",
       "      <td> 38.1</td>\n",
       "      <td> 0</td>\n",
       "      <td> 0</td>\n",
       "      <td> 0</td>\n",
       "      <td> 0</td>\n",
       "      <td> 2</td>\n",
       "      <td> 2</td>\n",
       "      <td> 0</td>\n",
       "      <td> 0</td>\n",
       "      <td> 0</td>\n",
       "    </tr>\n",
       "  </tbody>\n",
       "</table>\n",
       "<p>3 rows × 25 columns</p>\n",
       "</div>"
      ],
      "text/plain": [
       "  tube_assembly_id  supplier quote_date  annual_usage  min_order_quantity  \\\n",
       "0         TA-00001        41 2013-06-23             0                   0   \n",
       "1         TA-00001        41 2013-06-23             0                   0   \n",
       "2         TA-00001        41 2013-06-23             0                   0   \n",
       "\n",
       "   bracket_pricing  quantity  year  month  day  ...    bend_radius  end_a_1x  \\\n",
       "0                1         1  2013      6   23  ...           38.1         0   \n",
       "1                1         2  2013      6   23  ...           38.1         0   \n",
       "2                1         5  2013      6   23  ...           38.1         0   \n",
       "\n",
       "   end_a_2x  end_x_1x  end_x_2x  end_a  end_x  num_boss  num_bracket  other  \n",
       "0         0         0         0      2      2         0            0      0  \n",
       "1         0         0         0      2      2         0            0      0  \n",
       "2         0         0         0      2      2         0            0      0  \n",
       "\n",
       "[3 rows x 25 columns]"
      ]
     },
     "execution_count": 25,
     "metadata": {},
     "output_type": "execute_result"
    }
   ],
   "source": [
    "df_test_merged.head( 3 )"
   ]
  },
  {
   "cell_type": "markdown",
   "metadata": {},
   "source": [
    "##4.10 Test : 불필요 Featrue 제거"
   ]
  },
  {
   "cell_type": "code",
   "execution_count": 26,
   "metadata": {
    "collapsed": false
   },
   "outputs": [
    {
     "data": {
      "text/html": [
       "<div style=\"max-height:1000px;max-width:1500px;overflow:auto;\">\n",
       "<table border=\"1\" class=\"dataframe\">\n",
       "  <thead>\n",
       "    <tr style=\"text-align: right;\">\n",
       "      <th></th>\n",
       "      <th>supplier</th>\n",
       "      <th>annual_usage</th>\n",
       "      <th>min_order_quantity</th>\n",
       "      <th>bracket_pricing</th>\n",
       "      <th>quantity</th>\n",
       "      <th>year</th>\n",
       "      <th>month</th>\n",
       "      <th>day</th>\n",
       "      <th>material_id</th>\n",
       "      <th>diameter</th>\n",
       "      <th>...</th>\n",
       "      <th>bend_radius</th>\n",
       "      <th>end_a_1x</th>\n",
       "      <th>end_a_2x</th>\n",
       "      <th>end_x_1x</th>\n",
       "      <th>end_x_2x</th>\n",
       "      <th>end_a</th>\n",
       "      <th>end_x</th>\n",
       "      <th>num_boss</th>\n",
       "      <th>num_bracket</th>\n",
       "      <th>other</th>\n",
       "    </tr>\n",
       "  </thead>\n",
       "  <tbody>\n",
       "    <tr>\n",
       "      <th>0</th>\n",
       "      <td> 41</td>\n",
       "      <td> 0</td>\n",
       "      <td> 0</td>\n",
       "      <td> 1</td>\n",
       "      <td> 1</td>\n",
       "      <td> 2013</td>\n",
       "      <td> 6</td>\n",
       "      <td> 23</td>\n",
       "      <td> 9</td>\n",
       "      <td> 12.7</td>\n",
       "      <td>...</td>\n",
       "      <td> 38.1</td>\n",
       "      <td> 0</td>\n",
       "      <td> 0</td>\n",
       "      <td> 0</td>\n",
       "      <td> 0</td>\n",
       "      <td> 2</td>\n",
       "      <td> 2</td>\n",
       "      <td> 0</td>\n",
       "      <td> 0</td>\n",
       "      <td> 0</td>\n",
       "    </tr>\n",
       "    <tr>\n",
       "      <th>1</th>\n",
       "      <td> 41</td>\n",
       "      <td> 0</td>\n",
       "      <td> 0</td>\n",
       "      <td> 1</td>\n",
       "      <td> 2</td>\n",
       "      <td> 2013</td>\n",
       "      <td> 6</td>\n",
       "      <td> 23</td>\n",
       "      <td> 9</td>\n",
       "      <td> 12.7</td>\n",
       "      <td>...</td>\n",
       "      <td> 38.1</td>\n",
       "      <td> 0</td>\n",
       "      <td> 0</td>\n",
       "      <td> 0</td>\n",
       "      <td> 0</td>\n",
       "      <td> 2</td>\n",
       "      <td> 2</td>\n",
       "      <td> 0</td>\n",
       "      <td> 0</td>\n",
       "      <td> 0</td>\n",
       "    </tr>\n",
       "    <tr>\n",
       "      <th>2</th>\n",
       "      <td> 41</td>\n",
       "      <td> 0</td>\n",
       "      <td> 0</td>\n",
       "      <td> 1</td>\n",
       "      <td> 5</td>\n",
       "      <td> 2013</td>\n",
       "      <td> 6</td>\n",
       "      <td> 23</td>\n",
       "      <td> 9</td>\n",
       "      <td> 12.7</td>\n",
       "      <td>...</td>\n",
       "      <td> 38.1</td>\n",
       "      <td> 0</td>\n",
       "      <td> 0</td>\n",
       "      <td> 0</td>\n",
       "      <td> 0</td>\n",
       "      <td> 2</td>\n",
       "      <td> 2</td>\n",
       "      <td> 0</td>\n",
       "      <td> 0</td>\n",
       "      <td> 0</td>\n",
       "    </tr>\n",
       "  </tbody>\n",
       "</table>\n",
       "<p>3 rows × 23 columns</p>\n",
       "</div>"
      ],
      "text/plain": [
       "   supplier  annual_usage  min_order_quantity  bracket_pricing  quantity  \\\n",
       "0        41             0                   0                1         1   \n",
       "1        41             0                   0                1         2   \n",
       "2        41             0                   0                1         5   \n",
       "\n",
       "   year  month  day  material_id  diameter  ...    bend_radius  end_a_1x  \\\n",
       "0  2013      6   23            9      12.7  ...           38.1         0   \n",
       "1  2013      6   23            9      12.7  ...           38.1         0   \n",
       "2  2013      6   23            9      12.7  ...           38.1         0   \n",
       "\n",
       "   end_a_2x  end_x_1x  end_x_2x  end_a  end_x  num_boss  num_bracket  other  \n",
       "0         0         0         0      2      2         0            0      0  \n",
       "1         0         0         0      2      2         0            0      0  \n",
       "2         0         0         0      2      2         0            0      0  \n",
       "\n",
       "[3 rows x 23 columns]"
      ]
     },
     "execution_count": 26,
     "metadata": {},
     "output_type": "execute_result"
    }
   ],
   "source": [
    "df_test_merged = executeFeatureRemoval( df_test_merged )    # feature removal 처리를 수행\n",
    "df_test_merged.head( 3 )"
   ]
  },
  {
   "cell_type": "markdown",
   "metadata": {},
   "source": []
  },
  {
   "cell_type": "markdown",
   "metadata": {},
   "source": [
    "##4.11 Prediction Modeling"
   ]
  },
  {
   "cell_type": "code",
   "execution_count": 27,
   "metadata": {
    "collapsed": false
   },
   "outputs": [
    {
     "data": {
      "text/html": [
       "<div style=\"max-height:1000px;max-width:1500px;overflow:auto;\">\n",
       "<table border=\"1\" class=\"dataframe\">\n",
       "  <thead>\n",
       "    <tr style=\"text-align: right;\">\n",
       "      <th></th>\n",
       "      <th>supplier</th>\n",
       "      <th>annual_usage</th>\n",
       "      <th>min_order_quantity</th>\n",
       "      <th>bracket_pricing</th>\n",
       "      <th>quantity</th>\n",
       "      <th>cost</th>\n",
       "      <th>year</th>\n",
       "      <th>month</th>\n",
       "      <th>day</th>\n",
       "      <th>material_id</th>\n",
       "      <th>...</th>\n",
       "      <th>bend_radius</th>\n",
       "      <th>end_a_1x</th>\n",
       "      <th>end_a_2x</th>\n",
       "      <th>end_x_1x</th>\n",
       "      <th>end_x_2x</th>\n",
       "      <th>end_a</th>\n",
       "      <th>end_x</th>\n",
       "      <th>num_boss</th>\n",
       "      <th>num_bracket</th>\n",
       "      <th>other</th>\n",
       "    </tr>\n",
       "  </thead>\n",
       "  <tbody>\n",
       "    <tr>\n",
       "      <th>0</th>\n",
       "      <td> 41</td>\n",
       "      <td> 0</td>\n",
       "      <td> 0</td>\n",
       "      <td> 1</td>\n",
       "      <td> 1</td>\n",
       "      <td> 21.905933</td>\n",
       "      <td> 2013</td>\n",
       "      <td> 7</td>\n",
       "      <td> 7</td>\n",
       "      <td> 1</td>\n",
       "      <td>...</td>\n",
       "      <td> 19.05</td>\n",
       "      <td> 0</td>\n",
       "      <td> 0</td>\n",
       "      <td> 0</td>\n",
       "      <td> 0</td>\n",
       "      <td> 7</td>\n",
       "      <td> 7</td>\n",
       "      <td> 0</td>\n",
       "      <td> 0</td>\n",
       "      <td> 0</td>\n",
       "    </tr>\n",
       "    <tr>\n",
       "      <th>1</th>\n",
       "      <td> 41</td>\n",
       "      <td> 0</td>\n",
       "      <td> 0</td>\n",
       "      <td> 1</td>\n",
       "      <td> 2</td>\n",
       "      <td> 12.341214</td>\n",
       "      <td> 2013</td>\n",
       "      <td> 7</td>\n",
       "      <td> 7</td>\n",
       "      <td> 1</td>\n",
       "      <td>...</td>\n",
       "      <td> 19.05</td>\n",
       "      <td> 0</td>\n",
       "      <td> 0</td>\n",
       "      <td> 0</td>\n",
       "      <td> 0</td>\n",
       "      <td> 7</td>\n",
       "      <td> 7</td>\n",
       "      <td> 0</td>\n",
       "      <td> 0</td>\n",
       "      <td> 0</td>\n",
       "    </tr>\n",
       "    <tr>\n",
       "      <th>2</th>\n",
       "      <td> 41</td>\n",
       "      <td> 0</td>\n",
       "      <td> 0</td>\n",
       "      <td> 1</td>\n",
       "      <td> 5</td>\n",
       "      <td>  6.601826</td>\n",
       "      <td> 2013</td>\n",
       "      <td> 7</td>\n",
       "      <td> 7</td>\n",
       "      <td> 1</td>\n",
       "      <td>...</td>\n",
       "      <td> 19.05</td>\n",
       "      <td> 0</td>\n",
       "      <td> 0</td>\n",
       "      <td> 0</td>\n",
       "      <td> 0</td>\n",
       "      <td> 7</td>\n",
       "      <td> 7</td>\n",
       "      <td> 0</td>\n",
       "      <td> 0</td>\n",
       "      <td> 0</td>\n",
       "    </tr>\n",
       "  </tbody>\n",
       "</table>\n",
       "<p>3 rows × 24 columns</p>\n",
       "</div>"
      ],
      "text/plain": [
       "   supplier  annual_usage  min_order_quantity  bracket_pricing  quantity  \\\n",
       "0        41             0                   0                1         1   \n",
       "1        41             0                   0                1         2   \n",
       "2        41             0                   0                1         5   \n",
       "\n",
       "        cost  year  month  day  material_id  ...    bend_radius  end_a_1x  \\\n",
       "0  21.905933  2013      7    7            1  ...          19.05         0   \n",
       "1  12.341214  2013      7    7            1  ...          19.05         0   \n",
       "2   6.601826  2013      7    7            1  ...          19.05         0   \n",
       "\n",
       "   end_a_2x  end_x_1x  end_x_2x  end_a  end_x  num_boss  num_bracket  other  \n",
       "0         0         0         0      7      7         0            0      0  \n",
       "1         0         0         0      7      7         0            0      0  \n",
       "2         0         0         0      7      7         0            0      0  \n",
       "\n",
       "[3 rows x 24 columns]"
      ]
     },
     "execution_count": 27,
     "metadata": {},
     "output_type": "execute_result"
    }
   ],
   "source": [
    "df_train_merged.head( 3 )"
   ]
  },
  {
   "cell_type": "code",
   "execution_count": 28,
   "metadata": {
    "collapsed": true
   },
   "outputs": [],
   "source": [
    "X = df_train_merged.drop( 'cost', axis = 1, inplace = False )    # X를 확보\n",
    "y = np.log1p( df_train_merged[ 'cost' ] )   # y를 확보\n",
    "\n",
    "df_train = ''\n",
    "df_train_merged = ''"
   ]
  },
  {
   "cell_type": "code",
   "execution_count": 29,
   "metadata": {
    "collapsed": false
   },
   "outputs": [
    {
     "data": {
      "text/html": [
       "<div style=\"max-height:1000px;max-width:1500px;overflow:auto;\">\n",
       "<table border=\"1\" class=\"dataframe\">\n",
       "  <thead>\n",
       "    <tr style=\"text-align: right;\">\n",
       "      <th></th>\n",
       "      <th>supplier</th>\n",
       "      <th>annual_usage</th>\n",
       "      <th>min_order_quantity</th>\n",
       "      <th>bracket_pricing</th>\n",
       "      <th>quantity</th>\n",
       "      <th>year</th>\n",
       "      <th>month</th>\n",
       "      <th>day</th>\n",
       "      <th>material_id</th>\n",
       "      <th>diameter</th>\n",
       "      <th>...</th>\n",
       "      <th>bend_radius</th>\n",
       "      <th>end_a_1x</th>\n",
       "      <th>end_a_2x</th>\n",
       "      <th>end_x_1x</th>\n",
       "      <th>end_x_2x</th>\n",
       "      <th>end_a</th>\n",
       "      <th>end_x</th>\n",
       "      <th>num_boss</th>\n",
       "      <th>num_bracket</th>\n",
       "      <th>other</th>\n",
       "    </tr>\n",
       "  </thead>\n",
       "  <tbody>\n",
       "    <tr>\n",
       "      <th>0</th>\n",
       "      <td> 41</td>\n",
       "      <td> 0</td>\n",
       "      <td> 0</td>\n",
       "      <td> 1</td>\n",
       "      <td> 1</td>\n",
       "      <td> 2013</td>\n",
       "      <td> 7</td>\n",
       "      <td> 7</td>\n",
       "      <td> 1</td>\n",
       "      <td> 6.35</td>\n",
       "      <td>...</td>\n",
       "      <td> 19.05</td>\n",
       "      <td> 0</td>\n",
       "      <td> 0</td>\n",
       "      <td> 0</td>\n",
       "      <td> 0</td>\n",
       "      <td> 7</td>\n",
       "      <td> 7</td>\n",
       "      <td> 0</td>\n",
       "      <td> 0</td>\n",
       "      <td> 0</td>\n",
       "    </tr>\n",
       "    <tr>\n",
       "      <th>1</th>\n",
       "      <td> 41</td>\n",
       "      <td> 0</td>\n",
       "      <td> 0</td>\n",
       "      <td> 1</td>\n",
       "      <td> 2</td>\n",
       "      <td> 2013</td>\n",
       "      <td> 7</td>\n",
       "      <td> 7</td>\n",
       "      <td> 1</td>\n",
       "      <td> 6.35</td>\n",
       "      <td>...</td>\n",
       "      <td> 19.05</td>\n",
       "      <td> 0</td>\n",
       "      <td> 0</td>\n",
       "      <td> 0</td>\n",
       "      <td> 0</td>\n",
       "      <td> 7</td>\n",
       "      <td> 7</td>\n",
       "      <td> 0</td>\n",
       "      <td> 0</td>\n",
       "      <td> 0</td>\n",
       "    </tr>\n",
       "    <tr>\n",
       "      <th>2</th>\n",
       "      <td> 41</td>\n",
       "      <td> 0</td>\n",
       "      <td> 0</td>\n",
       "      <td> 1</td>\n",
       "      <td> 5</td>\n",
       "      <td> 2013</td>\n",
       "      <td> 7</td>\n",
       "      <td> 7</td>\n",
       "      <td> 1</td>\n",
       "      <td> 6.35</td>\n",
       "      <td>...</td>\n",
       "      <td> 19.05</td>\n",
       "      <td> 0</td>\n",
       "      <td> 0</td>\n",
       "      <td> 0</td>\n",
       "      <td> 0</td>\n",
       "      <td> 7</td>\n",
       "      <td> 7</td>\n",
       "      <td> 0</td>\n",
       "      <td> 0</td>\n",
       "      <td> 0</td>\n",
       "    </tr>\n",
       "  </tbody>\n",
       "</table>\n",
       "<p>3 rows × 23 columns</p>\n",
       "</div>"
      ],
      "text/plain": [
       "   supplier  annual_usage  min_order_quantity  bracket_pricing  quantity  \\\n",
       "0        41             0                   0                1         1   \n",
       "1        41             0                   0                1         2   \n",
       "2        41             0                   0                1         5   \n",
       "\n",
       "   year  month  day  material_id  diameter  ...    bend_radius  end_a_1x  \\\n",
       "0  2013      7    7            1      6.35  ...          19.05         0   \n",
       "1  2013      7    7            1      6.35  ...          19.05         0   \n",
       "2  2013      7    7            1      6.35  ...          19.05         0   \n",
       "\n",
       "   end_a_2x  end_x_1x  end_x_2x  end_a  end_x  num_boss  num_bracket  other  \n",
       "0         0         0         0      7      7         0            0      0  \n",
       "1         0         0         0      7      7         0            0      0  \n",
       "2         0         0         0      7      7         0            0      0  \n",
       "\n",
       "[3 rows x 23 columns]"
      ]
     },
     "execution_count": 29,
     "metadata": {},
     "output_type": "execute_result"
    }
   ],
   "source": [
    "X.head( 3 )"
   ]
  },
  {
   "cell_type": "code",
   "execution_count": 30,
   "metadata": {
    "collapsed": false
   },
   "outputs": [
    {
     "data": {
      "text/plain": [
       "0    3.131396\n",
       "1    2.590858\n",
       "2    2.028389\n",
       "Name: cost, dtype: float64"
      ]
     },
     "execution_count": 30,
     "metadata": {},
     "output_type": "execute_result"
    }
   ],
   "source": [
    "y.head( 3 )"
   ]
  },
  {
   "cell_type": "code",
   "execution_count": 31,
   "metadata": {
    "collapsed": true
   },
   "outputs": [],
   "source": [
    "cv_cnt = 10    # cv : cross validation 횟수\n",
    "n_jobs_cnt = 6"
   ]
  },
  {
   "cell_type": "code",
   "execution_count": 32,
   "metadata": {
    "collapsed": true
   },
   "outputs": [],
   "source": [
    "from sklearn.ensemble import RandomForestRegressor\n",
    "from sklearn.linear_model import LinearRegression\n",
    "\n",
    "from sklearn import grid_search"
   ]
  },
  {
   "cell_type": "code",
   "execution_count": 33,
   "metadata": {
    "collapsed": true
   },
   "outputs": [],
   "source": [
    "model_list = [\n",
    "#                Lasso(),\n",
    "#                ElasticNet(),\n",
    "#                KernelRidge(),\n",
    "#                SVR( kernel = 'linear' ),\n",
    "#                SVR( kernel = 'rbf' ),\n",
    "               RandomForestRegressor( max_depth = 50, n_estimators = 200, n_jobs = n_jobs_cnt ),\n",
    "#                LinearRegression(),    \n",
    "             ]"
   ]
  },
  {
   "cell_type": "code",
   "execution_count": 34,
   "metadata": {
    "collapsed": true
   },
   "outputs": [],
   "source": [
    "# from sklearn.metrics import make_scorer\n",
    "\n",
    "# # RMSLE scoring function : customized scoring function\n",
    "# def rmsle( predicted, actual, size ) :\n",
    "#     return np.sqrt( np.nansum( np.square( np.log( predicted + 1 ) - np.log( actual + 1 ) ) ) / float( size ) )\n",
    "\n",
    "# scorer = make_scorer( rmsle, greater_is_better = False, size = 10 )"
   ]
  },
  {
   "cell_type": "code",
   "execution_count": 35,
   "metadata": {
    "collapsed": false
   },
   "outputs": [
    {
     "name": "stdout",
     "output_type": "stream",
     "text": [
      "model :  RandomForestRegressor\n",
      "best_score :  0.829835694806\n",
      "=================\n",
      "best model :  RandomForestRegressor(bootstrap=True, criterion='mse', max_depth=50,\n",
      "           max_features='auto', max_leaf_nodes=None, min_samples_leaf=1,\n",
      "           min_samples_split=2, min_weight_fraction_leaf=0.0,\n",
      "           n_estimators=200, n_jobs=6, oob_score=False, random_state=None,\n",
      "           verbose=0, warm_start=False)\n",
      "=================\n",
      "Wall time: 1min 13s\n"
     ]
    }
   ],
   "source": [
    "%%time\n",
    "import time\n",
    "for model in model_list :\n",
    "    params = {\n",
    "#                'max_depth' : (10,30,50),    # RandomForest\n",
    "#                'n_estimators' : (10,20,50,100),    # RandomForest\n",
    "             }\n",
    "\n",
    "    gs = grid_search.GridSearchCV( model,\n",
    "                                   param_grid = params,\n",
    "#                                    n_jobs = n_jobs_cnt,\n",
    "                                   cv = cv_cnt,\n",
    "#                                    scoring = scorer\n",
    "                                 )\n",
    "    gs.fit( X, y )\n",
    "    \n",
    "    \n",
    "    print( 'model : ', str( model ).split( '(' )[0] )\n",
    "    print( 'best_score : ', gs.best_score_ )\n",
    "    \n",
    "    print( '=================' )\n",
    "    print( 'best model : ', gs.best_estimator_ )\n",
    "    print( '=================' )\n",
    "    \n",
    "#     df_tmp = pd.DataFrame( X.columns.values, columns = [ 'features' ] )\n",
    "#     df_tmp[ 'importance' ] = gs.best_estimator_.feature_importances_\n",
    "#     print( df_tmp.sort( 'importance', ascending = False  ) )    \n",
    "    \n",
    "    \n",
    "    y_pred = gs.best_estimator_.predict( df_test_merged )    # prediction 수행\n",
    "    df_result[ 'cost' ] = np.expm1( y_pred )\n",
    "    \n",
    "    now = time.strftime( '%Y%m%d%H%M%S' )    # 현재시각을 확보\n",
    "    model_name = str( model ).split( '(' )[0]    # 파일생성용\n",
    "    file_timestamp = now[2:4] + now[4:6] + now[6:8] + now[8:10] + now[10:12] + now[12:14]\n",
    "    accuracy = '{0:.1f}%'.format( gs.best_score_ * 100 )    # latitude에 대한 예측률 저장 : 파일명 활용용도임\n",
    "    df_result.to_csv( path_or_buf = './result.to.submit/' + file_timestamp + '.' + model_name +\n",
    "                      '.' + accuracy + '.result().csv', sep = ',', index = False )"
   ]
  },
  {
   "cell_type": "code",
   "execution_count": 36,
   "metadata": {
    "collapsed": false
   },
   "outputs": [
    {
     "data": {
      "text/html": [
       "<div style=\"max-height:1000px;max-width:1500px;overflow:auto;\">\n",
       "<table border=\"1\" class=\"dataframe\">\n",
       "  <thead>\n",
       "    <tr style=\"text-align: right;\">\n",
       "      <th></th>\n",
       "      <th>id</th>\n",
       "      <th>cost</th>\n",
       "    </tr>\n",
       "  </thead>\n",
       "  <tbody>\n",
       "    <tr>\n",
       "      <th>0</th>\n",
       "      <td> 1</td>\n",
       "      <td> 23.305064</td>\n",
       "    </tr>\n",
       "    <tr>\n",
       "      <th>1</th>\n",
       "      <td> 2</td>\n",
       "      <td> 13.819046</td>\n",
       "    </tr>\n",
       "    <tr>\n",
       "      <th>2</th>\n",
       "      <td> 3</td>\n",
       "      <td>  7.730898</td>\n",
       "    </tr>\n",
       "  </tbody>\n",
       "</table>\n",
       "</div>"
      ],
      "text/plain": [
       "   id       cost\n",
       "0   1  23.305064\n",
       "1   2  13.819046\n",
       "2   3   7.730898"
      ]
     },
     "execution_count": 36,
     "metadata": {},
     "output_type": "execute_result"
    }
   ],
   "source": [
    "df_result.head( 3 )"
   ]
  },
  {
   "cell_type": "code",
   "execution_count": 37,
   "metadata": {
    "collapsed": false
   },
   "outputs": [
    {
     "data": {
      "text/html": [
       "<div style=\"max-height:1000px;max-width:1500px;overflow:auto;\">\n",
       "<table border=\"1\" class=\"dataframe\">\n",
       "  <thead>\n",
       "    <tr style=\"text-align: right;\">\n",
       "      <th></th>\n",
       "      <th>cost</th>\n",
       "    </tr>\n",
       "  </thead>\n",
       "  <tbody>\n",
       "    <tr>\n",
       "      <th>count</th>\n",
       "      <td>     8.000000</td>\n",
       "    </tr>\n",
       "    <tr>\n",
       "      <th>mean</th>\n",
       "      <td>  3885.296727</td>\n",
       "    </tr>\n",
       "    <tr>\n",
       "      <th>std</th>\n",
       "      <td> 10650.383398</td>\n",
       "    </tr>\n",
       "    <tr>\n",
       "      <th>min</th>\n",
       "      <td>     0.876346</td>\n",
       "    </tr>\n",
       "    <tr>\n",
       "      <th>25%</th>\n",
       "      <td>     5.996390</td>\n",
       "    </tr>\n",
       "    <tr>\n",
       "      <th>50%</th>\n",
       "      <td>    12.751212</td>\n",
       "    </tr>\n",
       "    <tr>\n",
       "      <th>75%</th>\n",
       "      <td>   213.085414</td>\n",
       "    </tr>\n",
       "    <tr>\n",
       "      <th>max</th>\n",
       "      <td> 30235.000000</td>\n",
       "    </tr>\n",
       "  </tbody>\n",
       "</table>\n",
       "</div>"
      ],
      "text/plain": [
       "               cost\n",
       "count      8.000000\n",
       "mean    3885.296727\n",
       "std    10650.383398\n",
       "min        0.876346\n",
       "25%        5.996390\n",
       "50%       12.751212\n",
       "75%      213.085414\n",
       "max    30235.000000"
      ]
     },
     "execution_count": 37,
     "metadata": {},
     "output_type": "execute_result"
    }
   ],
   "source": [
    "df_result_desc = df_result.describe()    # 결과의 overview 확인\n",
    "df_result_desc.drop( 'id', axis = 1, inplace = True )\n",
    "df_result_desc.describe()"
   ]
  },
  {
   "cell_type": "code",
   "execution_count": 38,
   "metadata": {
    "collapsed": true
   },
   "outputs": [],
   "source": [
    "X = ''    # X 초기화\n",
    "y = ''\n",
    "df_test = ''\n",
    "df_result = ''\n",
    "df_tmp = ''"
   ]
  }
 ],
 "metadata": {
  "kernelspec": {
   "display_name": "Python 3",
   "language": "python",
   "name": "python3"
  },
  "language_info": {
   "codemirror_mode": {
    "name": "ipython",
    "version": 3
   },
   "file_extension": ".py",
   "mimetype": "text/x-python",
   "name": "python",
   "nbconvert_exporter": "python",
   "pygments_lexer": "ipython3",
   "version": "3.4.3"
  }
 },
 "nbformat": 4,
 "nbformat_minor": 0
}
