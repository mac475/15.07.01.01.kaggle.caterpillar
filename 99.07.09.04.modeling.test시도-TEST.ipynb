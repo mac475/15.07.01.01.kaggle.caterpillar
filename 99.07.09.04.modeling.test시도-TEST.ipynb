{
 "cells": [
  {
   "cell_type": "code",
   "execution_count": 17,
   "metadata": {
    "collapsed": false
   },
   "outputs": [
    {
     "data": {
      "text/html": [
       "<style>\n",
       "    @font-face {\n",
       "        font-family: \"Computer Modern\", \"malgun gothic\";\n",
       "        src: url('http://mirrors.ctan.org/fonts/cm-unicode/fonts/otf/cmunss.otf');\n",
       "    }\n",
       "//    div.cell{\n",
       "//        width: 100%;\n",
       "//    }\n",
       "    // 아래의 div.container는 내가 임의로 추가한 style임\n",
       "//    div.container{\n",
       "//        width: 105%;\n",
       "//    }\n",
       "    ul {\n",
       "        line-height: 100%;\n",
       "        font-size: 100%;\n",
       "    }\n",
       "    li {\n",
       "        margin-bottom: 0.5em;\n",
       "    }\n",
       "    h1 {\n",
       "        font-family: Helvetica, serif, \"malgun gothic\";\n",
       "    }\n",
       "    h4{\n",
       "        margin-top: 12px;\n",
       "//        margin-bottom: 3px;\n",
       "       }\n",
       "    div.text_cell_render{\n",
       "//        font-family: Computer Modern, \"Helvetica Neue\", Arial, Helvetica, Geneva, sans-serif;\n",
       "        font-family: malgun gothic;\n",
       "        line-height: 140%;\n",
       "//        font-size: 100%;\n",
       "//        width: 100%;\n",
       "//        margin-left:auto;\n",
       "//        margin-right:auto;\n",
       "    }\n",
       "    .CodeMirror{\n",
       "            font-family: \"Source Code Pro\", source-code-pro,Consolas, monospace;\n",
       "    }\n",
       "/*    .prompt{\n",
       "        display: None;\n",
       "    }*/\n",
       "    .text_cell_render h5 {\n",
       "        font-family: malgun gothic;\n",
       "        font-weight: 300;\n",
       "        font-size: 16pt;\n",
       "        color: #4057A1;\n",
       "        font-style: italic;\n",
       "        margin-bottom: 0.5em;\n",
       "        margin-top: 0.5em;\n",
       "        display: block;\n",
       "    }\n",
       "    .warning{\n",
       "        color: rgb( 240, 20, 20 )\n",
       "        }\n",
       "</style>\n",
       "<script>\n",
       "    MathJax.Hub.Config({\n",
       "                        TeX: {\n",
       "                           extensions: [\"AMSmath.js\"]\n",
       "                           },\n",
       "                tex2jax: {\n",
       "                    inlineMath: [ ['$','$'], [\"\\\\(\",\"\\\\)\"] ],\n",
       "                    displayMath: [ ['$$','$$'], [\"\\\\[\",\"\\\\]\"] ]\n",
       "                },\n",
       "                displayAlign: 'center', // Change this to 'center' to center equations.\n",
       "//                \"HTML-CSS\": {\n",
       "//                    styles: {'.MathJax_Display': {\"margin\": 4}}\n",
       "//                }\n",
       "        });\n",
       "</script>"
      ],
      "text/plain": [
       "<IPython.core.display.HTML object>"
      ]
     },
     "execution_count": 17,
     "metadata": {},
     "output_type": "execute_result"
    }
   ],
   "source": [
    "# mac475의 ipython 표준 style을 적용함\n",
    "from IPython.core.display import HTML\n",
    "styles = open(\"../styles/custom.css\", \"r\").read()\n",
    "HTML( styles )"
   ]
  },
  {
   "cell_type": "markdown",
   "metadata": {},
   "source": [
    "    0. Dataset 읽기\n",
    "\n",
    "    1. Feature 추출 function\n",
    "\n",
    "    2. Label Encoding function\n",
    "\n",
    "    3. Label Encoding용 Dataset\n",
    "    \n",
    "        3.1 train/ test dataset merge\n",
    "\n",
    "    4. Modeling\n",
    "\n",
    "        4.1 Merged features중, modeling시 제거할 feature 관리\n",
    "\n",
    "        4.2 Train : 연/ 월/ 일 Feature 추출\n",
    "\n",
    "        4.3 Train : Tube와 merge통한 Feature 확장\n",
    "\n",
    "        4.4 Train : Merged dataset Label Encoding 수행\n",
    "\n",
    "        4.5 Train : 불필요 Feature 제거\n",
    "\n",
    "        4.6 Test : Dataset 읽기\n",
    "\n",
    "        4.7 Test : 연/ 월/ 일 Feature 추출\n",
    "\n",
    "        4.8 Test : Tube와 merge통한 Feature 확장\n",
    "\n",
    "        4.9 Test : Merged dataset Label Encoding 수행\n",
    "\n",
    "        4.10 Test : 불필요 Featrue 제거"
   ]
  },
  {
   "cell_type": "markdown",
   "metadata": {},
   "source": [
    "#0. Mode 설정"
   ]
  },
  {
   "cell_type": "code",
   "execution_count": 18,
   "metadata": {
    "collapsed": true
   },
   "outputs": [],
   "source": [
    "mode = True\n",
    "# mode = False"
   ]
  },
  {
   "cell_type": "markdown",
   "metadata": {},
   "source": [
    "#0. Dataset 읽기"
   ]
  },
  {
   "cell_type": "code",
   "execution_count": 19,
   "metadata": {
    "collapsed": true
   },
   "outputs": [],
   "source": [
    "import pandas as pd\n",
    "import numpy as np\n",
    "\n",
    "df_train = pd.read_csv( './dataset/train_set.csv' )    # data를 읽어들인다.\n",
    "df_test = pd.read_csv( './dataset/test_set.csv' )    # data를 읽어들인다."
   ]
  },
  {
   "cell_type": "markdown",
   "metadata": {},
   "source": [
    "#1. Feature 추출 function\n",
    "* quote_date 활용하여 year, month, day 확보"
   ]
  },
  {
   "cell_type": "code",
   "execution_count": 20,
   "metadata": {
    "collapsed": false
   },
   "outputs": [],
   "source": [
    "import datetime\n",
    "\n",
    "def extract_year_month_day_from_quote_date( p_df ) :\n",
    "    p_df[ 'quote_date' ] = pd.to_datetime( p_df[ 'quote_date' ] )    # string을 datetime으로 형변환\n",
    "    p_df[ 'year' ] = p_df[ 'quote_date' ].dt.year    # 연도\n",
    "    p_df[ 'month' ] = p_df[ 'quote_date' ].dt.month    # 월\n",
    "    p_df[ 'day' ] = p_df[ 'quote_date' ].dt.day    # 일\n",
    "\n",
    "    return p_df"
   ]
  },
  {
   "cell_type": "markdown",
   "metadata": {},
   "source": [
    "#2. Label Encoding function\n",
    "* 현재, train/ test dataset과 tube dataset과 merge하는 case까지 반영하여 encoder 관리"
   ]
  },
  {
   "cell_type": "code",
   "execution_count": 21,
   "metadata": {
    "collapsed": false
   },
   "outputs": [],
   "source": [
    "from sklearn import preprocessing\n",
    "\n",
    "# le_tube_assembly_id = preprocessing.LabelEncoder()\n",
    "le_supplier = preprocessing.LabelEncoder()\n",
    "le_bracket_pricing = preprocessing.LabelEncoder()\n",
    "\n",
    "le_material_id = preprocessing.LabelEncoder()\n",
    "le_end_a_1x = preprocessing.LabelEncoder()\n",
    "le_end_a_2x = preprocessing.LabelEncoder()\n",
    "le_end_x_1x = preprocessing.LabelEncoder()\n",
    "le_end_x_2x = preprocessing.LabelEncoder()\n",
    "le_end_a = preprocessing.LabelEncoder()\n",
    "le_end_x = preprocessing.LabelEncoder()\n",
    "\n",
    "le_component_id = preprocessing.LabelEncoder()    # component의 경우, master dataset이 별도로 존재하므로\n",
    "df_components = pd.read_csv( './dataset/02.ml.verified.dataset/components.verified.csv' )\n",
    "le_component_id.fit( df_components[ 'component_id' ] )\n",
    "df_components = None\n",
    "\n",
    "le_spec_id = preprocessing.LabelEncoder()    # spec의 경우, spec meta dataset을 별도로 생성했음\n",
    "df_spec_meta = pd.read_csv( './dataset/01.original.dataset/spec_meta.csv' )\n",
    "le_spec_id.fit( df_spec_meta[ 'spec' ].append( pd.Series( [ '-1' ] ) ) )\n",
    "df_spec_meta = ''\n",
    "\n",
    "def executeLabelEncoding( p_df, is_init ) :\n",
    "    if is_init == True :    # training dataset인 경우, label encoder 생성 및 fitting 수행\n",
    "        p_df[ 'bracket_pricing' ] = le_bracket_pricing.fit_transform( p_df[ 'bracket_pricing' ] )\n",
    "\n",
    "        p_df[ 'supplier' ] = le_supplier.fit_transform( p_df[ 'supplier' ] )\n",
    "        p_df[ 'material_id' ] = le_material_id.fit_transform( p_df[ 'material_id' ] )\n",
    "        \n",
    "        p_df[ 'end_a_1x' ] = le_end_a_1x.fit_transform( p_df[ 'end_a_1x' ] )\n",
    "        p_df[ 'end_a_2x' ] = le_end_a_2x.fit_transform( p_df[ 'end_a_2x' ] )\n",
    "        p_df[ 'end_x_1x' ] = le_end_x_1x.fit_transform( p_df[ 'end_x_1x' ] )\n",
    "        p_df[ 'end_x_2x' ] = le_end_x_2x.fit_transform( p_df[ 'end_x_2x' ] )\n",
    "        p_df[ 'end_a' ] = le_end_a.fit_transform( p_df[ 'end_a' ] )\n",
    "        p_df[ 'end_x' ] = le_end_x.fit_transform( p_df[ 'end_x' ] )\n",
    "    else :\n",
    "        p_df[ 'bracket_pricing' ] = le_bracket_pricing.transform( p_df[ 'bracket_pricing' ] )\n",
    "\n",
    "        p_df[ 'supplier' ] = le_supplier.transform( p_df[ 'supplier' ] )\n",
    "        p_df[ 'material_id' ] = le_material_id.transform( p_df[ 'material_id' ] )\n",
    "        \n",
    "        p_df[ 'end_a_1x' ] = le_end_a_1x.transform( p_df[ 'end_a_1x' ] )\n",
    "        p_df[ 'end_a_2x' ] = le_end_a_2x.transform( p_df[ 'end_a_2x' ] )\n",
    "        p_df[ 'end_x_1x' ] = le_end_x_1x.transform( p_df[ 'end_x_1x' ] )\n",
    "        p_df[ 'end_x_2x' ] = le_end_x_2x.transform( p_df[ 'end_x_2x' ] )\n",
    "        p_df[ 'end_a' ] = le_end_a.transform( p_df[ 'end_a' ] )\n",
    "        p_df[ 'end_x' ] = le_end_x.transform( p_df[ 'end_x' ] )\n",
    "    \n",
    "    # 무조건 수행\n",
    "    for i in range( 1, 9 ) :    # bill_of_materials에서 merge된 component_id_1~8을 label encoding 수행\n",
    "        comp_str = 'component_id_' + str( i )\n",
    "        p_df[ comp_str ] = le_component_id.transform( p_df[ comp_str ] )\n",
    "        \n",
    "    for i in range( 1, 11 ) :    # specs에서 merge된 spec1~10을 label encoding 수행\n",
    "        spec_str = 'spec' + str( i )\n",
    "        p_df[ spec_str ] = le_spec_id.transform( p_df[ spec_str ] )        \n",
    "    \n",
    "    return p_df"
   ]
  },
  {
   "cell_type": "markdown",
   "metadata": {},
   "source": [
    "."
   ]
  },
  {
   "cell_type": "markdown",
   "metadata": {},
   "source": [
    "#3. Label Encoding용 Dataset\n",
    "* categorical data를 모두 포함해야 하므로, tube join후 기반으로 label encoder를 fitting한다\n",
    "* label encoding의 대상은 bracket_pricing, supplier, material_id, end_a_1x 시리즈, end_a 시리즈 feature이다"
   ]
  },
  {
   "cell_type": "markdown",
   "metadata": {},
   "source": [
    "##3.1 train/ test dataset merge"
   ]
  },
  {
   "cell_type": "code",
   "execution_count": 22,
   "metadata": {
    "collapsed": true
   },
   "outputs": [],
   "source": [
    "df_train[ 'id' ] = '99999'    # test와 join위해 feature 추가 : 99999는 train dataset이다"
   ]
  },
  {
   "cell_type": "code",
   "execution_count": 23,
   "metadata": {
    "collapsed": false
   },
   "outputs": [],
   "source": [
    "df_merged = df_train.append( df_test )    # train과 test df를 merge한다."
   ]
  },
  {
   "cell_type": "code",
   "execution_count": 24,
   "metadata": {
    "collapsed": false
   },
   "outputs": [
    {
     "data": {
      "text/html": [
       "<div style=\"max-height:1000px;max-width:1500px;overflow:auto;\">\n",
       "<table border=\"1\" class=\"dataframe\">\n",
       "  <thead>\n",
       "    <tr style=\"text-align: right;\">\n",
       "      <th></th>\n",
       "      <th>annual_usage</th>\n",
       "      <th>bracket_pricing</th>\n",
       "      <th>cost</th>\n",
       "      <th>id</th>\n",
       "      <th>min_order_quantity</th>\n",
       "      <th>quantity</th>\n",
       "      <th>quote_date</th>\n",
       "      <th>supplier</th>\n",
       "      <th>tube_assembly_id</th>\n",
       "    </tr>\n",
       "  </thead>\n",
       "  <tbody>\n",
       "    <tr>\n",
       "      <th>30232</th>\n",
       "      <td> 883</td>\n",
       "      <td> No</td>\n",
       "      <td>NaN</td>\n",
       "      <td> 30233</td>\n",
       "      <td> 85</td>\n",
       "      <td> 85</td>\n",
       "      <td> 2013-09-10</td>\n",
       "      <td> S-0041</td>\n",
       "      <td> TA-21194</td>\n",
       "    </tr>\n",
       "    <tr>\n",
       "      <th>30233</th>\n",
       "      <td>  28</td>\n",
       "      <td> No</td>\n",
       "      <td>NaN</td>\n",
       "      <td> 30234</td>\n",
       "      <td>  1</td>\n",
       "      <td>  1</td>\n",
       "      <td> 2003-09-16</td>\n",
       "      <td> S-0026</td>\n",
       "      <td> TA-21198</td>\n",
       "    </tr>\n",
       "    <tr>\n",
       "      <th>30234</th>\n",
       "      <td>  28</td>\n",
       "      <td> No</td>\n",
       "      <td>NaN</td>\n",
       "      <td> 30235</td>\n",
       "      <td>  1</td>\n",
       "      <td>  1</td>\n",
       "      <td> 2003-09-16</td>\n",
       "      <td> S-0026</td>\n",
       "      <td> TA-21199</td>\n",
       "    </tr>\n",
       "  </tbody>\n",
       "</table>\n",
       "</div>"
      ],
      "text/plain": [
       "       annual_usage bracket_pricing  cost     id  min_order_quantity  \\\n",
       "30232           883              No   NaN  30233                  85   \n",
       "30233            28              No   NaN  30234                   1   \n",
       "30234            28              No   NaN  30235                   1   \n",
       "\n",
       "       quantity  quote_date supplier tube_assembly_id  \n",
       "30232        85  2013-09-10   S-0041         TA-21194  \n",
       "30233         1  2003-09-16   S-0026         TA-21198  \n",
       "30234         1  2003-09-16   S-0026         TA-21199  "
      ]
     },
     "execution_count": 24,
     "metadata": {},
     "output_type": "execute_result"
    }
   ],
   "source": [
    "df_merged.tail( 3 )"
   ]
  },
  {
   "cell_type": "code",
   "execution_count": 25,
   "metadata": {
    "collapsed": false
   },
   "outputs": [
    {
     "data": {
      "text/plain": [
       "annual_usage          60448\n",
       "bracket_pricing       60448\n",
       "cost                  30213\n",
       "id                    60448\n",
       "min_order_quantity    60448\n",
       "quantity              60448\n",
       "quote_date            60448\n",
       "supplier              60448\n",
       "tube_assembly_id      60448\n",
       "dtype: int64"
      ]
     },
     "execution_count": 25,
     "metadata": {},
     "output_type": "execute_result"
    }
   ],
   "source": [
    "df_merged.count()"
   ]
  },
  {
   "cell_type": "markdown",
   "metadata": {},
   "source": [
    "##3.1 tube_bill_specs dataset merge 및 label encoding"
   ]
  },
  {
   "cell_type": "code",
   "execution_count": 26,
   "metadata": {
    "collapsed": false
   },
   "outputs": [
    {
     "name": "stderr",
     "output_type": "stream",
     "text": [
      "C:\\Anaconda3\\lib\\site-packages\\pandas\\io\\parsers.py:1159: DtypeWarning: Columns (26,38,39,40,41,102,211) have mixed types. Specify dtype option on import or set low_memory=False.\n",
      "  data = self._reader.read(nrows)\n"
     ]
    }
   ],
   "source": [
    "# df_tube = pd.read_csv( './dataset/tube.material_id.verified.csv' )\n",
    "# df_tube_bill = pd.read_csv( './dataset/tube_bill_merged.csv', dtype = { 'component_id_8' : str } )\n",
    "# df_tube_bill_specs = pd.read_csv( './dataset/tube_bill_specs_merged.csv',\n",
    "#                                   dtype = { 'component_id_8' : str, 'spec9' : str, 'spec10' : str } )\n",
    "# df_tube_bill_specs_end = pd.read_csv( './dataset/tube_bill_specs_end_merged.csv',\n",
    "#                                   dtype = { 'component_id_8' : str, 'spec9' : str, 'spec10' : str } )\n",
    "df_tube_bill_specs_end = pd.read_csv( './dataset/03.merged/tube_full_tmp.csv',\n",
    "                                  dtype = { 'component_id_8' : str, 'spec9' : str, 'spec10' : str,\n",
    "                                            'component_id_7' : str, 'spec8' : str, '69' : str } )\n",
    "# df_tube_bill_specs.columns[30], df_tube_bill_specs.columns[43], df_tube_bill_specs.columns[44]"
   ]
  },
  {
   "cell_type": "code",
   "execution_count": 27,
   "metadata": {
    "collapsed": false
   },
   "outputs": [],
   "source": [
    "# df_tube_bill_specs_end.columns[28], df_tube_bill_specs_end.columns[42], df_tube_bill_specs_end.columns[101]"
   ]
  },
  {
   "cell_type": "code",
   "execution_count": 28,
   "metadata": {
    "collapsed": false
   },
   "outputs": [
    {
     "data": {
      "text/html": [
       "<div style=\"max-height:1000px;max-width:1500px;overflow:auto;\">\n",
       "<table border=\"1\" class=\"dataframe\">\n",
       "  <thead>\n",
       "    <tr style=\"text-align: right;\">\n",
       "      <th></th>\n",
       "      <th>tube_assembly_id</th>\n",
       "      <th>material_id</th>\n",
       "      <th>diameter</th>\n",
       "      <th>wall</th>\n",
       "      <th>length</th>\n",
       "      <th>num_bends</th>\n",
       "      <th>bend_radius</th>\n",
       "      <th>end_a_1x</th>\n",
       "      <th>end_a_2x</th>\n",
       "      <th>end_x_1x</th>\n",
       "      <th>...</th>\n",
       "      <th>128_y</th>\n",
       "      <th>129_y</th>\n",
       "      <th>130_y</th>\n",
       "      <th>131_y</th>\n",
       "      <th>134_y</th>\n",
       "      <th>135_y</th>\n",
       "      <th>136_y</th>\n",
       "      <th>138_y</th>\n",
       "      <th>34_y.4</th>\n",
       "      <th>140_y</th>\n",
       "    </tr>\n",
       "  </thead>\n",
       "  <tbody>\n",
       "    <tr>\n",
       "      <th>0</th>\n",
       "      <td> TA-00001</td>\n",
       "      <td> SP-0035</td>\n",
       "      <td> 12.70</td>\n",
       "      <td> 1.65</td>\n",
       "      <td> 164</td>\n",
       "      <td> 5</td>\n",
       "      <td> 38.10</td>\n",
       "      <td> N</td>\n",
       "      <td> N</td>\n",
       "      <td> N</td>\n",
       "      <td>...</td>\n",
       "      <td> -1</td>\n",
       "      <td> -1</td>\n",
       "      <td> -1</td>\n",
       "      <td> -1</td>\n",
       "      <td> -1</td>\n",
       "      <td> -1</td>\n",
       "      <td> -1</td>\n",
       "      <td> -1</td>\n",
       "      <td> -1</td>\n",
       "      <td> -1</td>\n",
       "    </tr>\n",
       "    <tr>\n",
       "      <th>1</th>\n",
       "      <td> TA-00002</td>\n",
       "      <td> SP-0019</td>\n",
       "      <td>  6.35</td>\n",
       "      <td> 0.71</td>\n",
       "      <td> 137</td>\n",
       "      <td> 8</td>\n",
       "      <td> 19.05</td>\n",
       "      <td> N</td>\n",
       "      <td> N</td>\n",
       "      <td> N</td>\n",
       "      <td>...</td>\n",
       "      <td>NaN</td>\n",
       "      <td>NaN</td>\n",
       "      <td>NaN</td>\n",
       "      <td>NaN</td>\n",
       "      <td>NaN</td>\n",
       "      <td>NaN</td>\n",
       "      <td>NaN</td>\n",
       "      <td>NaN</td>\n",
       "      <td>NaN</td>\n",
       "      <td>NaN</td>\n",
       "    </tr>\n",
       "    <tr>\n",
       "      <th>2</th>\n",
       "      <td> TA-00003</td>\n",
       "      <td> SP-0019</td>\n",
       "      <td>  6.35</td>\n",
       "      <td> 0.71</td>\n",
       "      <td> 127</td>\n",
       "      <td> 7</td>\n",
       "      <td> 19.05</td>\n",
       "      <td> N</td>\n",
       "      <td> N</td>\n",
       "      <td> N</td>\n",
       "      <td>...</td>\n",
       "      <td>NaN</td>\n",
       "      <td>NaN</td>\n",
       "      <td>NaN</td>\n",
       "      <td>NaN</td>\n",
       "      <td>NaN</td>\n",
       "      <td>NaN</td>\n",
       "      <td>NaN</td>\n",
       "      <td>NaN</td>\n",
       "      <td>NaN</td>\n",
       "      <td>NaN</td>\n",
       "    </tr>\n",
       "  </tbody>\n",
       "</table>\n",
       "<p>3 rows × 266 columns</p>\n",
       "</div>"
      ],
      "text/plain": [
       "  tube_assembly_id material_id  diameter  wall  length  num_bends  \\\n",
       "0         TA-00001     SP-0035     12.70  1.65     164          5   \n",
       "1         TA-00002     SP-0019      6.35  0.71     137          8   \n",
       "2         TA-00003     SP-0019      6.35  0.71     127          7   \n",
       "\n",
       "   bend_radius end_a_1x end_a_2x end_x_1x  ...   128_y 129_y 130_y  131_y  \\\n",
       "0        38.10        N        N        N  ...      -1    -1    -1     -1   \n",
       "1        19.05        N        N        N  ...     NaN   NaN   NaN    NaN   \n",
       "2        19.05        N        N        N  ...     NaN   NaN   NaN    NaN   \n",
       "\n",
       "   134_y  135_y 136_y  138_y 34_y.4  140_y  \n",
       "0     -1     -1    -1     -1     -1     -1  \n",
       "1    NaN    NaN   NaN    NaN    NaN    NaN  \n",
       "2    NaN    NaN   NaN    NaN    NaN    NaN  \n",
       "\n",
       "[3 rows x 266 columns]"
      ]
     },
     "execution_count": 28,
     "metadata": {},
     "output_type": "execute_result"
    }
   ],
   "source": [
    "df_tube_bill_specs_end.head( 3 )"
   ]
  },
  {
   "cell_type": "code",
   "execution_count": 29,
   "metadata": {
    "collapsed": true
   },
   "outputs": [],
   "source": [
    "# df_merged = df_merged.merge( df_tube, how = 'inner', on = 'tube_assembly_id' )\n",
    "df_merged = df_merged.merge( df_tube_bill_specs_end, how = 'inner', on = 'tube_assembly_id' )"
   ]
  },
  {
   "cell_type": "code",
   "execution_count": 30,
   "metadata": {
    "collapsed": false
   },
   "outputs": [
    {
     "data": {
      "text/plain": [
       "annual_usage          60448\n",
       "bracket_pricing       60448\n",
       "cost                  30213\n",
       "id                    60448\n",
       "min_order_quantity    60448\n",
       "quantity              60448\n",
       "quote_date            60448\n",
       "supplier              60448\n",
       "tube_assembly_id      60448\n",
       "material_id           60448\n",
       "diameter              60448\n",
       "wall                  60448\n",
       "length                60448\n",
       "num_bends             60448\n",
       "bend_radius           60448\n",
       "...\n",
       "119_y     42149\n",
       "122_y     42149\n",
       "123_y     42149\n",
       "124_y     42149\n",
       "125_y     42149\n",
       "128_y     42149\n",
       "129_y     42149\n",
       "130_y     42149\n",
       "131_y     42149\n",
       "134_y     42149\n",
       "135_y     42149\n",
       "136_y     42149\n",
       "138_y     42149\n",
       "34_y.4    42149\n",
       "140_y     42149\n",
       "Length: 274, dtype: int64"
      ]
     },
     "execution_count": 30,
     "metadata": {},
     "output_type": "execute_result"
    }
   ],
   "source": [
    "df_merged.count()"
   ]
  },
  {
   "cell_type": "code",
   "execution_count": 31,
   "metadata": {
    "collapsed": false
   },
   "outputs": [
    {
     "data": {
      "text/plain": [
       "Index(['annual_usage', 'bracket_pricing', 'cost', 'id', 'min_order_quantity', 'quantity', 'quote_date', 'supplier', 'tube_assembly_id', 'material_id', 'diameter', 'wall', 'length', 'num_bends', 'bend_radius', 'end_a_1x', 'end_a_2x', 'end_x_1x', 'end_x_2x', 'end_a', 'end_x', 'num_boss', 'num_bracket', 'other', 'component_id_1', 'quantity_1', 'component_id_2', 'quantity_2', 'component_id_3', 'quantity_3', 'component_id_4', 'quantity_4', 'component_id_5', 'quantity_5', 'component_id_6', 'quantity_6', 'component_id_7', 'quantity_7', 'component_id_8', 'quantity_8', 'comp_type_count', 'comp_total_count', 'tube_volume', 'spec1', 'spec2', 'spec3', 'spec4', 'spec5', 'spec6', 'spec7', 'spec8', 'spec9', 'spec10', 'spec_type_count', 'forming_x', 'forming_y', 'component_id_x', '4_x', '5_x', '8_x', '9_x', '10_x', '11_x', '14_x', '15_x', '16_x', '17_x', '18_x', '19_x', '20_x', '21_x', '23_x', '25_x', '26_x', '27_x', '28_x', '29_x', '30_x', '31_x', '32_x', '33_x', '34_x', '35_x', '37_x', '38_x', '39_x', '40_x', '41_x', '42_x', '43_x', '44_x', '45_x', '46_x', '47_x', '19_x.1', '20_x.1', '21_x.1', '28_x.1', '29_x.1', '54_x', ...], dtype='object')"
      ]
     },
     "execution_count": 31,
     "metadata": {},
     "output_type": "execute_result"
    }
   ],
   "source": [
    "df_merged.columns    # merged feature를 확인"
   ]
  },
  {
   "cell_type": "code",
   "execution_count": 32,
   "metadata": {
    "collapsed": false
   },
   "outputs": [],
   "source": [
    "def process_nulls( p_df ) :\n",
    "    for i in range( 1, 9 ) :    # df_merged내의 null을 -1으로 채워둔다\n",
    "        comp_str = 'component_id_' + str( i )\n",
    "        quan_str = 'quantity_' + str( i )\n",
    "\n",
    "        print( comp_str, quan_str )\n",
    "        \n",
    "        p_df[ comp_str ].fillna( '-1', inplace = True )\n",
    "#         p_df[ quan_str ].fillna( -1, inplace = True )\n",
    "        p_df[ quan_str ].fillna( 0, inplace = True )\n",
    "    \n",
    "    for i in range( 1, 11 ) :    # df_merged내의 null을 -1으로 채워둔다\n",
    "        spec_str = 'spec' + str( i )\n",
    "\n",
    "        print( spec_str )\n",
    "        \n",
    "        p_df[ spec_str ].fillna( '-1', inplace = True )\n",
    "\n",
    "    p_df.fillna( -1, inplace = True )\n",
    "        \n",
    "    return p_df"
   ]
  },
  {
   "cell_type": "code",
   "execution_count": 33,
   "metadata": {
    "collapsed": false
   },
   "outputs": [
    {
     "name": "stdout",
     "output_type": "stream",
     "text": [
      "component_id_1 quantity_1\n",
      "component_id_2 quantity_2\n",
      "component_id_3 quantity_3\n",
      "component_id_4 quantity_4\n",
      "component_id_5 quantity_5\n",
      "component_id_6 quantity_6\n",
      "component_id_7 quantity_7\n",
      "component_id_8 quantity_8\n",
      "spec1\n",
      "spec2\n",
      "spec3\n",
      "spec4\n",
      "spec5\n",
      "spec6\n",
      "spec7\n",
      "spec8\n",
      "spec9\n",
      "spec10\n"
     ]
    }
   ],
   "source": [
    "df_merged = process_nulls( df_merged )    # merge된 df내의 null 처리"
   ]
  },
  {
   "cell_type": "code",
   "execution_count": 34,
   "metadata": {
    "collapsed": false
   },
   "outputs": [],
   "source": [
    "# df_merged[ 'component_id_1' ]"
   ]
  },
  {
   "cell_type": "code",
   "execution_count": 35,
   "metadata": {
    "collapsed": false
   },
   "outputs": [],
   "source": [
    "# df_merged[ 'component_id_2' ]"
   ]
  },
  {
   "cell_type": "code",
   "execution_count": 36,
   "metadata": {
    "collapsed": false
   },
   "outputs": [],
   "source": [
    "df_merged = executeLabelEncoding( df_merged, is_init = True )    # label encoding을 수행한다"
   ]
  },
  {
   "cell_type": "code",
   "execution_count": 37,
   "metadata": {
    "collapsed": false
   },
   "outputs": [
    {
     "data": {
      "text/plain": [
       "annual_usage          60448\n",
       "bracket_pricing       60448\n",
       "cost                  60448\n",
       "id                    60448\n",
       "min_order_quantity    60448\n",
       "quantity              60448\n",
       "quote_date            60448\n",
       "supplier              60448\n",
       "tube_assembly_id      60448\n",
       "material_id           60448\n",
       "diameter              60448\n",
       "wall                  60448\n",
       "length                60448\n",
       "num_bends             60448\n",
       "bend_radius           60448\n",
       "...\n",
       "119_y     60448\n",
       "122_y     60448\n",
       "123_y     60448\n",
       "124_y     60448\n",
       "125_y     60448\n",
       "128_y     60448\n",
       "129_y     60448\n",
       "130_y     60448\n",
       "131_y     60448\n",
       "134_y     60448\n",
       "135_y     60448\n",
       "136_y     60448\n",
       "138_y     60448\n",
       "34_y.4    60448\n",
       "140_y     60448\n",
       "Length: 274, dtype: int64"
      ]
     },
     "execution_count": 37,
     "metadata": {},
     "output_type": "execute_result"
    }
   ],
   "source": [
    "df_merged.count()"
   ]
  },
  {
   "cell_type": "code",
   "execution_count": 38,
   "metadata": {
    "collapsed": true
   },
   "outputs": [],
   "source": [
    "# df_merged.to_csv( './dataset/xxxxxxxxxxxxxxxxxx.verified.csv', index = False )\n",
    "df_merged = ''"
   ]
  },
  {
   "cell_type": "code",
   "execution_count": 39,
   "metadata": {
    "collapsed": true
   },
   "outputs": [],
   "source": [
    "df_train.drop( 'id', axis = 1, inplace = True )    # 일단, 필요없는 것들 제거 : df_train을 원상 복구해둠\n",
    "df_test = ''    # 일단, 필요없는 것들 제거\n",
    "df_merged = ''    # 일단, 필요없는 것들 제거"
   ]
  },
  {
   "cell_type": "markdown",
   "metadata": {},
   "source": [
    "#4. Modeling"
   ]
  },
  {
   "cell_type": "markdown",
   "metadata": {},
   "source": [
    "##4.1 Merged features중, modeling시 제거할 feature 관리"
   ]
  },
  {
   "cell_type": "code",
   "execution_count": 40,
   "metadata": {
    "collapsed": true
   },
   "outputs": [],
   "source": [
    "list_for_remove = []    # 전역변수의 선언\n",
    "def executeFeatureRemoval( p_df ) :\n",
    "    # 제거하고자 하는 feature list\n",
    "    global list_for_remove    # 전역변수 명시\n",
    "    list_for_remove = [    # 82.7% 정확도 feature list : default\n",
    "                        'tube_assembly_id',\n",
    "#                         'supplier',\n",
    "\n",
    "                        'quote_date',\n",
    "#                         'annual_usage',\n",
    "#                         'min_order_quantity',\n",
    "        \n",
    "    #                     'bracket_pricing',\n",
    "    #                     'quantity',\n",
    "        \n",
    "#                         'year',\n",
    "#                         'month',\n",
    "#                         'day',\n",
    "\n",
    "#                         'material_id',\n",
    "#                         'diameter',\n",
    "#                         'wall',\n",
    "#                         'length',\n",
    "    \n",
    "#                         'num_bends',\n",
    "#                         'bend_radius',\n",
    "    \n",
    "#                         'end_a_1x',\n",
    "#                         'end_a_2x',\n",
    "#                         'end_x_1x',\n",
    "#                         'end_x_2x',\n",
    "#                         'end_a',\n",
    "#                         'end_x',\n",
    "    \n",
    "#                         'num_boss',\n",
    "#                         'num_bracket',\n",
    "#                         'other',\n",
    "        \n",
    "#                         'component_id_1',\n",
    "#                         'quantity_1',\n",
    "#                         'component_id_2',\n",
    "#                         'quantity_2',\n",
    "#                         'component_id_3',\n",
    "#                         'quantity_3',\n",
    "#                         'component_id_4',\n",
    "#                         'quantity_4',\n",
    "        \n",
    "                        'component_id_5',\n",
    "                        'quantity_5',\n",
    "                        'component_id_6',\n",
    "                        'quantity_6',\n",
    "                        'component_id_7',\n",
    "                        'quantity_7',\n",
    "                        'component_id_8',\n",
    "                        'quantity_8',\n",
    "        \n",
    "#                         'comp_type_count',        \n",
    "#                         'comp_total_count',        \n",
    "        \n",
    "#                         'tube_volume',\n",
    "\n",
    "#                         'spec1',\n",
    "                        'spec2',\n",
    "                        'spec3',\n",
    "                        'spec4',\n",
    "                        'spec5',\n",
    "                        'spec6',\n",
    "                        'spec7',\n",
    "                        'spec8',\n",
    "                        'spec9',\n",
    "                        'spec10',\n",
    "#                         'spec_type_count',\n",
    "\n",
    "#                         'forming_x',\n",
    "#                         'forming_y',\n",
    "                        \n",
    "                        'component_id_x', 'component_id_y', \n",
    "                        '69_x', '69_y',\n",
    "                      ]      \n",
    "\n",
    "    return p_df.drop( list_for_remove, axis = 1, inplace = False )"
   ]
  },
  {
   "cell_type": "markdown",
   "metadata": {},
   "source": [
    "##4.2 Train : 연/ 월/ 일 Feature 추출"
   ]
  },
  {
   "cell_type": "code",
   "execution_count": 41,
   "metadata": {
    "collapsed": false
   },
   "outputs": [],
   "source": [
    "df_train = extract_year_month_day_from_quote_date( df_train )    # feature 처리를 수행"
   ]
  },
  {
   "cell_type": "markdown",
   "metadata": {},
   "source": [
    "##4.3 Train : Tube와 merge통한 Feature 확장"
   ]
  },
  {
   "cell_type": "code",
   "execution_count": 42,
   "metadata": {
    "collapsed": true
   },
   "outputs": [],
   "source": [
    "# df_train_merged = df_train.merge( df_tube, how = 'inner', on = 'tube_assembly_id' )\n",
    "# df_train_merged = df_train.merge( df_tube_bill, how = 'inner', on = 'tube_assembly_id' )\n",
    "# df_train_merged = df_train.merge( df_tube_bill_specs, how = 'inner', on = 'tube_assembly_id' )\n",
    "df_train_merged = df_train.merge( df_tube_bill_specs_end, how = 'inner', on = 'tube_assembly_id' )"
   ]
  },
  {
   "cell_type": "markdown",
   "metadata": {},
   "source": [
    "##4.4 Train : Merged dataset Label Encoding 수행"
   ]
  },
  {
   "cell_type": "code",
   "execution_count": 43,
   "metadata": {
    "collapsed": false
   },
   "outputs": [
    {
     "name": "stdout",
     "output_type": "stream",
     "text": [
      "component_id_1 quantity_1\n",
      "component_id_2 quantity_2\n",
      "component_id_3 quantity_3\n",
      "component_id_4 quantity_4\n",
      "component_id_5 quantity_5\n",
      "component_id_6 quantity_6\n",
      "component_id_7 quantity_7\n",
      "component_id_8 quantity_8\n",
      "spec1\n",
      "spec2\n",
      "spec3\n",
      "spec4\n",
      "spec5\n",
      "spec6\n",
      "spec7\n",
      "spec8\n",
      "spec9\n",
      "spec10\n"
     ]
    }
   ],
   "source": [
    "df_train_merged = process_nulls( df_train_merged )\n",
    "df_train_merged = executeLabelEncoding( df_train_merged, is_init = False )    # label encoding을 수행한다"
   ]
  },
  {
   "cell_type": "markdown",
   "metadata": {},
   "source": [
    "##4.5 Train : 불필요 Feature 제거"
   ]
  },
  {
   "cell_type": "code",
   "execution_count": 44,
   "metadata": {
    "collapsed": false
   },
   "outputs": [
    {
     "data": {
      "text/html": [
       "<div style=\"max-height:1000px;max-width:1500px;overflow:auto;\">\n",
       "<table border=\"1\" class=\"dataframe\">\n",
       "  <thead>\n",
       "    <tr style=\"text-align: right;\">\n",
       "      <th></th>\n",
       "      <th>supplier</th>\n",
       "      <th>annual_usage</th>\n",
       "      <th>min_order_quantity</th>\n",
       "      <th>bracket_pricing</th>\n",
       "      <th>quantity</th>\n",
       "      <th>cost</th>\n",
       "      <th>year</th>\n",
       "      <th>month</th>\n",
       "      <th>day</th>\n",
       "      <th>material_id</th>\n",
       "      <th>...</th>\n",
       "      <th>128_y</th>\n",
       "      <th>129_y</th>\n",
       "      <th>130_y</th>\n",
       "      <th>131_y</th>\n",
       "      <th>134_y</th>\n",
       "      <th>135_y</th>\n",
       "      <th>136_y</th>\n",
       "      <th>138_y</th>\n",
       "      <th>34_y.4</th>\n",
       "      <th>140_y</th>\n",
       "    </tr>\n",
       "  </thead>\n",
       "  <tbody>\n",
       "    <tr>\n",
       "      <th>0</th>\n",
       "      <td> 41</td>\n",
       "      <td> 0</td>\n",
       "      <td> 0</td>\n",
       "      <td> 1</td>\n",
       "      <td> 1</td>\n",
       "      <td> 21.905933</td>\n",
       "      <td> 2013</td>\n",
       "      <td> 7</td>\n",
       "      <td> 7</td>\n",
       "      <td> 1</td>\n",
       "      <td>...</td>\n",
       "      <td>-1</td>\n",
       "      <td>-1</td>\n",
       "      <td>-1</td>\n",
       "      <td>-1</td>\n",
       "      <td>-1</td>\n",
       "      <td>-1</td>\n",
       "      <td>-1</td>\n",
       "      <td>-1</td>\n",
       "      <td>-1</td>\n",
       "      <td>-1</td>\n",
       "    </tr>\n",
       "    <tr>\n",
       "      <th>1</th>\n",
       "      <td> 41</td>\n",
       "      <td> 0</td>\n",
       "      <td> 0</td>\n",
       "      <td> 1</td>\n",
       "      <td> 2</td>\n",
       "      <td> 12.341214</td>\n",
       "      <td> 2013</td>\n",
       "      <td> 7</td>\n",
       "      <td> 7</td>\n",
       "      <td> 1</td>\n",
       "      <td>...</td>\n",
       "      <td>-1</td>\n",
       "      <td>-1</td>\n",
       "      <td>-1</td>\n",
       "      <td>-1</td>\n",
       "      <td>-1</td>\n",
       "      <td>-1</td>\n",
       "      <td>-1</td>\n",
       "      <td>-1</td>\n",
       "      <td>-1</td>\n",
       "      <td>-1</td>\n",
       "    </tr>\n",
       "    <tr>\n",
       "      <th>2</th>\n",
       "      <td> 41</td>\n",
       "      <td> 0</td>\n",
       "      <td> 0</td>\n",
       "      <td> 1</td>\n",
       "      <td> 5</td>\n",
       "      <td>  6.601826</td>\n",
       "      <td> 2013</td>\n",
       "      <td> 7</td>\n",
       "      <td> 7</td>\n",
       "      <td> 1</td>\n",
       "      <td>...</td>\n",
       "      <td>-1</td>\n",
       "      <td>-1</td>\n",
       "      <td>-1</td>\n",
       "      <td>-1</td>\n",
       "      <td>-1</td>\n",
       "      <td>-1</td>\n",
       "      <td>-1</td>\n",
       "      <td>-1</td>\n",
       "      <td>-1</td>\n",
       "      <td>-1</td>\n",
       "    </tr>\n",
       "  </tbody>\n",
       "</table>\n",
       "<p>3 rows × 253 columns</p>\n",
       "</div>"
      ],
      "text/plain": [
       "   supplier  annual_usage  min_order_quantity  bracket_pricing  quantity  \\\n",
       "0        41             0                   0                1         1   \n",
       "1        41             0                   0                1         2   \n",
       "2        41             0                   0                1         5   \n",
       "\n",
       "        cost  year  month  day  material_id  ...    128_y  129_y  130_y  \\\n",
       "0  21.905933  2013      7    7            1  ...       -1     -1     -1   \n",
       "1  12.341214  2013      7    7            1  ...       -1     -1     -1   \n",
       "2   6.601826  2013      7    7            1  ...       -1     -1     -1   \n",
       "\n",
       "   131_y  134_y  135_y  136_y  138_y  34_y.4  140_y  \n",
       "0     -1     -1     -1     -1     -1      -1     -1  \n",
       "1     -1     -1     -1     -1     -1      -1     -1  \n",
       "2     -1     -1     -1     -1     -1      -1     -1  \n",
       "\n",
       "[3 rows x 253 columns]"
      ]
     },
     "execution_count": 44,
     "metadata": {},
     "output_type": "execute_result"
    }
   ],
   "source": [
    "df_train_merged = executeFeatureRemoval( df_train_merged )    # feature removal 처리를 수행\n",
    "df_train_merged.head( 3 )"
   ]
  },
  {
   "cell_type": "markdown",
   "metadata": {},
   "source": [
    "."
   ]
  },
  {
   "cell_type": "markdown",
   "metadata": {},
   "source": [
    "##4.6 Test : Dataset 읽기"
   ]
  },
  {
   "cell_type": "code",
   "execution_count": 45,
   "metadata": {
    "collapsed": true
   },
   "outputs": [],
   "source": [
    "df_test = pd.read_csv( './dataset/test_set.csv' )    # data를 읽어들인다."
   ]
  },
  {
   "cell_type": "markdown",
   "metadata": {},
   "source": [
    "##4.7 Test : 연/ 월/ 일 Feature 추출"
   ]
  },
  {
   "cell_type": "code",
   "execution_count": 46,
   "metadata": {
    "collapsed": false
   },
   "outputs": [],
   "source": [
    "df_test = extract_year_month_day_from_quote_date( df_test )    # feature 처리를 수행\n",
    "\n",
    "df_result = pd.DataFrame( df_test[ 'id' ], columns = ['id'] )    # 결과용 dataframe을 생성\n",
    "df_test.drop( 'id', axis = 1, inplace = True )    # id feature는 일단 제거"
   ]
  },
  {
   "cell_type": "markdown",
   "metadata": {},
   "source": [
    "##4.8 Test : Tube와 merge통한 Feature 확장"
   ]
  },
  {
   "cell_type": "code",
   "execution_count": 47,
   "metadata": {
    "collapsed": true
   },
   "outputs": [],
   "source": [
    "# df_test_merged = df_test.merge( df_tube, how = 'inner', on = 'tube_assembly_id' )\n",
    "# df_test_merged = df_test.merge( df_tube_bill, how = 'inner', on = 'tube_assembly_id' )\n",
    "# df_test_merged = df_test.merge( df_tube_bill_specs, how = 'inner', on = 'tube_assembly_id' )\n",
    "df_test_merged = df_test.merge( df_tube_bill_specs_end, how = 'inner', on = 'tube_assembly_id' )"
   ]
  },
  {
   "cell_type": "code",
   "execution_count": 48,
   "metadata": {
    "collapsed": false
   },
   "outputs": [
    {
     "data": {
      "text/html": [
       "<div style=\"max-height:1000px;max-width:1500px;overflow:auto;\">\n",
       "<table border=\"1\" class=\"dataframe\">\n",
       "  <thead>\n",
       "    <tr style=\"text-align: right;\">\n",
       "      <th></th>\n",
       "      <th>tube_assembly_id</th>\n",
       "      <th>supplier</th>\n",
       "      <th>quote_date</th>\n",
       "      <th>annual_usage</th>\n",
       "      <th>min_order_quantity</th>\n",
       "      <th>bracket_pricing</th>\n",
       "      <th>quantity</th>\n",
       "      <th>year</th>\n",
       "      <th>month</th>\n",
       "      <th>day</th>\n",
       "      <th>...</th>\n",
       "      <th>128_y</th>\n",
       "      <th>129_y</th>\n",
       "      <th>130_y</th>\n",
       "      <th>131_y</th>\n",
       "      <th>134_y</th>\n",
       "      <th>135_y</th>\n",
       "      <th>136_y</th>\n",
       "      <th>138_y</th>\n",
       "      <th>34_y.4</th>\n",
       "      <th>140_y</th>\n",
       "    </tr>\n",
       "  </thead>\n",
       "  <tbody>\n",
       "    <tr>\n",
       "      <th>0</th>\n",
       "      <td> TA-00001</td>\n",
       "      <td> S-0066</td>\n",
       "      <td>2013-06-23</td>\n",
       "      <td> 0</td>\n",
       "      <td> 0</td>\n",
       "      <td> Yes</td>\n",
       "      <td> 1</td>\n",
       "      <td> 2013</td>\n",
       "      <td> 6</td>\n",
       "      <td> 23</td>\n",
       "      <td>...</td>\n",
       "      <td>-1</td>\n",
       "      <td>-1</td>\n",
       "      <td>-1</td>\n",
       "      <td>-1</td>\n",
       "      <td>-1</td>\n",
       "      <td>-1</td>\n",
       "      <td>-1</td>\n",
       "      <td>-1</td>\n",
       "      <td>-1</td>\n",
       "      <td>-1</td>\n",
       "    </tr>\n",
       "    <tr>\n",
       "      <th>1</th>\n",
       "      <td> TA-00001</td>\n",
       "      <td> S-0066</td>\n",
       "      <td>2013-06-23</td>\n",
       "      <td> 0</td>\n",
       "      <td> 0</td>\n",
       "      <td> Yes</td>\n",
       "      <td> 2</td>\n",
       "      <td> 2013</td>\n",
       "      <td> 6</td>\n",
       "      <td> 23</td>\n",
       "      <td>...</td>\n",
       "      <td>-1</td>\n",
       "      <td>-1</td>\n",
       "      <td>-1</td>\n",
       "      <td>-1</td>\n",
       "      <td>-1</td>\n",
       "      <td>-1</td>\n",
       "      <td>-1</td>\n",
       "      <td>-1</td>\n",
       "      <td>-1</td>\n",
       "      <td>-1</td>\n",
       "    </tr>\n",
       "    <tr>\n",
       "      <th>2</th>\n",
       "      <td> TA-00001</td>\n",
       "      <td> S-0066</td>\n",
       "      <td>2013-06-23</td>\n",
       "      <td> 0</td>\n",
       "      <td> 0</td>\n",
       "      <td> Yes</td>\n",
       "      <td> 5</td>\n",
       "      <td> 2013</td>\n",
       "      <td> 6</td>\n",
       "      <td> 23</td>\n",
       "      <td>...</td>\n",
       "      <td>-1</td>\n",
       "      <td>-1</td>\n",
       "      <td>-1</td>\n",
       "      <td>-1</td>\n",
       "      <td>-1</td>\n",
       "      <td>-1</td>\n",
       "      <td>-1</td>\n",
       "      <td>-1</td>\n",
       "      <td>-1</td>\n",
       "      <td>-1</td>\n",
       "    </tr>\n",
       "  </tbody>\n",
       "</table>\n",
       "<p>3 rows × 275 columns</p>\n",
       "</div>"
      ],
      "text/plain": [
       "  tube_assembly_id supplier quote_date  annual_usage  min_order_quantity  \\\n",
       "0         TA-00001   S-0066 2013-06-23             0                   0   \n",
       "1         TA-00001   S-0066 2013-06-23             0                   0   \n",
       "2         TA-00001   S-0066 2013-06-23             0                   0   \n",
       "\n",
       "  bracket_pricing  quantity  year  month  day  ...  128_y  129_y  130_y  \\\n",
       "0             Yes         1  2013      6   23  ...     -1     -1     -1   \n",
       "1             Yes         2  2013      6   23  ...     -1     -1     -1   \n",
       "2             Yes         5  2013      6   23  ...     -1     -1     -1   \n",
       "\n",
       "   131_y  134_y  135_y 136_y 138_y 34_y.4 140_y  \n",
       "0     -1     -1     -1    -1    -1     -1    -1  \n",
       "1     -1     -1     -1    -1    -1     -1    -1  \n",
       "2     -1     -1     -1    -1    -1     -1    -1  \n",
       "\n",
       "[3 rows x 275 columns]"
      ]
     },
     "execution_count": 48,
     "metadata": {},
     "output_type": "execute_result"
    }
   ],
   "source": [
    "df_test_merged.head( 3 )"
   ]
  },
  {
   "cell_type": "markdown",
   "metadata": {},
   "source": [
    "##4.9 Test : Merged dataset Label Encoding 수행"
   ]
  },
  {
   "cell_type": "code",
   "execution_count": 49,
   "metadata": {
    "collapsed": false
   },
   "outputs": [
    {
     "name": "stdout",
     "output_type": "stream",
     "text": [
      "component_id_1 quantity_1\n",
      "component_id_2 quantity_2\n",
      "component_id_3 quantity_3\n",
      "component_id_4 quantity_4\n",
      "component_id_5 quantity_5\n",
      "component_id_6 quantity_6\n",
      "component_id_7 quantity_7\n",
      "component_id_8 quantity_8\n",
      "spec1\n",
      "spec2\n",
      "spec3\n",
      "spec4\n",
      "spec5\n",
      "spec6\n",
      "spec7\n",
      "spec8\n",
      "spec9\n",
      "spec10\n"
     ]
    }
   ],
   "source": [
    "df_test_merged = process_nulls( df_test_merged )\n",
    "df_test_merged = executeLabelEncoding( df_test_merged, is_init = False )    # label encoding을 수행한다"
   ]
  },
  {
   "cell_type": "code",
   "execution_count": 50,
   "metadata": {
    "collapsed": false
   },
   "outputs": [
    {
     "data": {
      "text/html": [
       "<div style=\"max-height:1000px;max-width:1500px;overflow:auto;\">\n",
       "<table border=\"1\" class=\"dataframe\">\n",
       "  <thead>\n",
       "    <tr style=\"text-align: right;\">\n",
       "      <th></th>\n",
       "      <th>tube_assembly_id</th>\n",
       "      <th>supplier</th>\n",
       "      <th>quote_date</th>\n",
       "      <th>annual_usage</th>\n",
       "      <th>min_order_quantity</th>\n",
       "      <th>bracket_pricing</th>\n",
       "      <th>quantity</th>\n",
       "      <th>year</th>\n",
       "      <th>month</th>\n",
       "      <th>day</th>\n",
       "      <th>...</th>\n",
       "      <th>128_y</th>\n",
       "      <th>129_y</th>\n",
       "      <th>130_y</th>\n",
       "      <th>131_y</th>\n",
       "      <th>134_y</th>\n",
       "      <th>135_y</th>\n",
       "      <th>136_y</th>\n",
       "      <th>138_y</th>\n",
       "      <th>34_y.4</th>\n",
       "      <th>140_y</th>\n",
       "    </tr>\n",
       "  </thead>\n",
       "  <tbody>\n",
       "    <tr>\n",
       "      <th>0</th>\n",
       "      <td> TA-00001</td>\n",
       "      <td> 41</td>\n",
       "      <td>2013-06-23</td>\n",
       "      <td> 0</td>\n",
       "      <td> 0</td>\n",
       "      <td> 1</td>\n",
       "      <td> 1</td>\n",
       "      <td> 2013</td>\n",
       "      <td> 6</td>\n",
       "      <td> 23</td>\n",
       "      <td>...</td>\n",
       "      <td>-1</td>\n",
       "      <td>-1</td>\n",
       "      <td>-1</td>\n",
       "      <td>-1</td>\n",
       "      <td>-1</td>\n",
       "      <td>-1</td>\n",
       "      <td>-1</td>\n",
       "      <td>-1</td>\n",
       "      <td>-1</td>\n",
       "      <td>-1</td>\n",
       "    </tr>\n",
       "    <tr>\n",
       "      <th>1</th>\n",
       "      <td> TA-00001</td>\n",
       "      <td> 41</td>\n",
       "      <td>2013-06-23</td>\n",
       "      <td> 0</td>\n",
       "      <td> 0</td>\n",
       "      <td> 1</td>\n",
       "      <td> 2</td>\n",
       "      <td> 2013</td>\n",
       "      <td> 6</td>\n",
       "      <td> 23</td>\n",
       "      <td>...</td>\n",
       "      <td>-1</td>\n",
       "      <td>-1</td>\n",
       "      <td>-1</td>\n",
       "      <td>-1</td>\n",
       "      <td>-1</td>\n",
       "      <td>-1</td>\n",
       "      <td>-1</td>\n",
       "      <td>-1</td>\n",
       "      <td>-1</td>\n",
       "      <td>-1</td>\n",
       "    </tr>\n",
       "    <tr>\n",
       "      <th>2</th>\n",
       "      <td> TA-00001</td>\n",
       "      <td> 41</td>\n",
       "      <td>2013-06-23</td>\n",
       "      <td> 0</td>\n",
       "      <td> 0</td>\n",
       "      <td> 1</td>\n",
       "      <td> 5</td>\n",
       "      <td> 2013</td>\n",
       "      <td> 6</td>\n",
       "      <td> 23</td>\n",
       "      <td>...</td>\n",
       "      <td>-1</td>\n",
       "      <td>-1</td>\n",
       "      <td>-1</td>\n",
       "      <td>-1</td>\n",
       "      <td>-1</td>\n",
       "      <td>-1</td>\n",
       "      <td>-1</td>\n",
       "      <td>-1</td>\n",
       "      <td>-1</td>\n",
       "      <td>-1</td>\n",
       "    </tr>\n",
       "  </tbody>\n",
       "</table>\n",
       "<p>3 rows × 275 columns</p>\n",
       "</div>"
      ],
      "text/plain": [
       "  tube_assembly_id  supplier quote_date  annual_usage  min_order_quantity  \\\n",
       "0         TA-00001        41 2013-06-23             0                   0   \n",
       "1         TA-00001        41 2013-06-23             0                   0   \n",
       "2         TA-00001        41 2013-06-23             0                   0   \n",
       "\n",
       "   bracket_pricing  quantity  year  month  day  ...    128_y  129_y  130_y  \\\n",
       "0                1         1  2013      6   23  ...       -1     -1     -1   \n",
       "1                1         2  2013      6   23  ...       -1     -1     -1   \n",
       "2                1         5  2013      6   23  ...       -1     -1     -1   \n",
       "\n",
       "   131_y  134_y  135_y  136_y  138_y  34_y.4  140_y  \n",
       "0     -1     -1     -1     -1     -1      -1     -1  \n",
       "1     -1     -1     -1     -1     -1      -1     -1  \n",
       "2     -1     -1     -1     -1     -1      -1     -1  \n",
       "\n",
       "[3 rows x 275 columns]"
      ]
     },
     "execution_count": 50,
     "metadata": {},
     "output_type": "execute_result"
    }
   ],
   "source": [
    "df_test_merged.head( 3 )"
   ]
  },
  {
   "cell_type": "markdown",
   "metadata": {},
   "source": [
    "##4.10 Test : 불필요 Featrue 제거"
   ]
  },
  {
   "cell_type": "code",
   "execution_count": 51,
   "metadata": {
    "collapsed": false,
    "scrolled": true
   },
   "outputs": [
    {
     "data": {
      "text/html": [
       "<div style=\"max-height:1000px;max-width:1500px;overflow:auto;\">\n",
       "<table border=\"1\" class=\"dataframe\">\n",
       "  <thead>\n",
       "    <tr style=\"text-align: right;\">\n",
       "      <th></th>\n",
       "      <th>supplier</th>\n",
       "      <th>annual_usage</th>\n",
       "      <th>min_order_quantity</th>\n",
       "      <th>bracket_pricing</th>\n",
       "      <th>quantity</th>\n",
       "      <th>year</th>\n",
       "      <th>month</th>\n",
       "      <th>day</th>\n",
       "      <th>material_id</th>\n",
       "      <th>diameter</th>\n",
       "      <th>...</th>\n",
       "      <th>128_y</th>\n",
       "      <th>129_y</th>\n",
       "      <th>130_y</th>\n",
       "      <th>131_y</th>\n",
       "      <th>134_y</th>\n",
       "      <th>135_y</th>\n",
       "      <th>136_y</th>\n",
       "      <th>138_y</th>\n",
       "      <th>34_y.4</th>\n",
       "      <th>140_y</th>\n",
       "    </tr>\n",
       "  </thead>\n",
       "  <tbody>\n",
       "    <tr>\n",
       "      <th>0</th>\n",
       "      <td> 41</td>\n",
       "      <td> 0</td>\n",
       "      <td> 0</td>\n",
       "      <td> 1</td>\n",
       "      <td> 1</td>\n",
       "      <td> 2013</td>\n",
       "      <td> 6</td>\n",
       "      <td> 23</td>\n",
       "      <td> 9</td>\n",
       "      <td> 12.7</td>\n",
       "      <td>...</td>\n",
       "      <td>-1</td>\n",
       "      <td>-1</td>\n",
       "      <td>-1</td>\n",
       "      <td>-1</td>\n",
       "      <td>-1</td>\n",
       "      <td>-1</td>\n",
       "      <td>-1</td>\n",
       "      <td>-1</td>\n",
       "      <td>-1</td>\n",
       "      <td>-1</td>\n",
       "    </tr>\n",
       "    <tr>\n",
       "      <th>1</th>\n",
       "      <td> 41</td>\n",
       "      <td> 0</td>\n",
       "      <td> 0</td>\n",
       "      <td> 1</td>\n",
       "      <td> 2</td>\n",
       "      <td> 2013</td>\n",
       "      <td> 6</td>\n",
       "      <td> 23</td>\n",
       "      <td> 9</td>\n",
       "      <td> 12.7</td>\n",
       "      <td>...</td>\n",
       "      <td>-1</td>\n",
       "      <td>-1</td>\n",
       "      <td>-1</td>\n",
       "      <td>-1</td>\n",
       "      <td>-1</td>\n",
       "      <td>-1</td>\n",
       "      <td>-1</td>\n",
       "      <td>-1</td>\n",
       "      <td>-1</td>\n",
       "      <td>-1</td>\n",
       "    </tr>\n",
       "    <tr>\n",
       "      <th>2</th>\n",
       "      <td> 41</td>\n",
       "      <td> 0</td>\n",
       "      <td> 0</td>\n",
       "      <td> 1</td>\n",
       "      <td> 5</td>\n",
       "      <td> 2013</td>\n",
       "      <td> 6</td>\n",
       "      <td> 23</td>\n",
       "      <td> 9</td>\n",
       "      <td> 12.7</td>\n",
       "      <td>...</td>\n",
       "      <td>-1</td>\n",
       "      <td>-1</td>\n",
       "      <td>-1</td>\n",
       "      <td>-1</td>\n",
       "      <td>-1</td>\n",
       "      <td>-1</td>\n",
       "      <td>-1</td>\n",
       "      <td>-1</td>\n",
       "      <td>-1</td>\n",
       "      <td>-1</td>\n",
       "    </tr>\n",
       "  </tbody>\n",
       "</table>\n",
       "<p>3 rows × 252 columns</p>\n",
       "</div>"
      ],
      "text/plain": [
       "   supplier  annual_usage  min_order_quantity  bracket_pricing  quantity  \\\n",
       "0        41             0                   0                1         1   \n",
       "1        41             0                   0                1         2   \n",
       "2        41             0                   0                1         5   \n",
       "\n",
       "   year  month  day  material_id  diameter  ...    128_y  129_y  130_y  131_y  \\\n",
       "0  2013      6   23            9      12.7  ...       -1     -1     -1     -1   \n",
       "1  2013      6   23            9      12.7  ...       -1     -1     -1     -1   \n",
       "2  2013      6   23            9      12.7  ...       -1     -1     -1     -1   \n",
       "\n",
       "   134_y  135_y  136_y  138_y  34_y.4  140_y  \n",
       "0     -1     -1     -1     -1      -1     -1  \n",
       "1     -1     -1     -1     -1      -1     -1  \n",
       "2     -1     -1     -1     -1      -1     -1  \n",
       "\n",
       "[3 rows x 252 columns]"
      ]
     },
     "execution_count": 51,
     "metadata": {},
     "output_type": "execute_result"
    }
   ],
   "source": [
    "df_test_merged = executeFeatureRemoval( df_test_merged )    # feature removal 처리를 수행\n",
    "df_test_merged.head( 3 )"
   ]
  },
  {
   "cell_type": "markdown",
   "metadata": {},
   "source": [
    "."
   ]
  },
  {
   "cell_type": "markdown",
   "metadata": {},
   "source": [
    "##4.11 Prediction Modeling"
   ]
  },
  {
   "cell_type": "code",
   "execution_count": 52,
   "metadata": {
    "collapsed": false
   },
   "outputs": [
    {
     "data": {
      "text/html": [
       "<div style=\"max-height:1000px;max-width:1500px;overflow:auto;\">\n",
       "<table border=\"1\" class=\"dataframe\">\n",
       "  <thead>\n",
       "    <tr style=\"text-align: right;\">\n",
       "      <th></th>\n",
       "      <th>supplier</th>\n",
       "      <th>annual_usage</th>\n",
       "      <th>min_order_quantity</th>\n",
       "      <th>bracket_pricing</th>\n",
       "      <th>quantity</th>\n",
       "      <th>cost</th>\n",
       "      <th>year</th>\n",
       "      <th>month</th>\n",
       "      <th>day</th>\n",
       "      <th>material_id</th>\n",
       "      <th>...</th>\n",
       "      <th>128_y</th>\n",
       "      <th>129_y</th>\n",
       "      <th>130_y</th>\n",
       "      <th>131_y</th>\n",
       "      <th>134_y</th>\n",
       "      <th>135_y</th>\n",
       "      <th>136_y</th>\n",
       "      <th>138_y</th>\n",
       "      <th>34_y.4</th>\n",
       "      <th>140_y</th>\n",
       "    </tr>\n",
       "  </thead>\n",
       "  <tbody>\n",
       "    <tr>\n",
       "      <th>0</th>\n",
       "      <td> 41</td>\n",
       "      <td> 0</td>\n",
       "      <td> 0</td>\n",
       "      <td> 1</td>\n",
       "      <td> 1</td>\n",
       "      <td> 21.905933</td>\n",
       "      <td> 2013</td>\n",
       "      <td> 7</td>\n",
       "      <td> 7</td>\n",
       "      <td> 1</td>\n",
       "      <td>...</td>\n",
       "      <td>-1</td>\n",
       "      <td>-1</td>\n",
       "      <td>-1</td>\n",
       "      <td>-1</td>\n",
       "      <td>-1</td>\n",
       "      <td>-1</td>\n",
       "      <td>-1</td>\n",
       "      <td>-1</td>\n",
       "      <td>-1</td>\n",
       "      <td>-1</td>\n",
       "    </tr>\n",
       "    <tr>\n",
       "      <th>1</th>\n",
       "      <td> 41</td>\n",
       "      <td> 0</td>\n",
       "      <td> 0</td>\n",
       "      <td> 1</td>\n",
       "      <td> 2</td>\n",
       "      <td> 12.341214</td>\n",
       "      <td> 2013</td>\n",
       "      <td> 7</td>\n",
       "      <td> 7</td>\n",
       "      <td> 1</td>\n",
       "      <td>...</td>\n",
       "      <td>-1</td>\n",
       "      <td>-1</td>\n",
       "      <td>-1</td>\n",
       "      <td>-1</td>\n",
       "      <td>-1</td>\n",
       "      <td>-1</td>\n",
       "      <td>-1</td>\n",
       "      <td>-1</td>\n",
       "      <td>-1</td>\n",
       "      <td>-1</td>\n",
       "    </tr>\n",
       "    <tr>\n",
       "      <th>2</th>\n",
       "      <td> 41</td>\n",
       "      <td> 0</td>\n",
       "      <td> 0</td>\n",
       "      <td> 1</td>\n",
       "      <td> 5</td>\n",
       "      <td>  6.601826</td>\n",
       "      <td> 2013</td>\n",
       "      <td> 7</td>\n",
       "      <td> 7</td>\n",
       "      <td> 1</td>\n",
       "      <td>...</td>\n",
       "      <td>-1</td>\n",
       "      <td>-1</td>\n",
       "      <td>-1</td>\n",
       "      <td>-1</td>\n",
       "      <td>-1</td>\n",
       "      <td>-1</td>\n",
       "      <td>-1</td>\n",
       "      <td>-1</td>\n",
       "      <td>-1</td>\n",
       "      <td>-1</td>\n",
       "    </tr>\n",
       "  </tbody>\n",
       "</table>\n",
       "<p>3 rows × 253 columns</p>\n",
       "</div>"
      ],
      "text/plain": [
       "   supplier  annual_usage  min_order_quantity  bracket_pricing  quantity  \\\n",
       "0        41             0                   0                1         1   \n",
       "1        41             0                   0                1         2   \n",
       "2        41             0                   0                1         5   \n",
       "\n",
       "        cost  year  month  day  material_id  ...    128_y  129_y  130_y  \\\n",
       "0  21.905933  2013      7    7            1  ...       -1     -1     -1   \n",
       "1  12.341214  2013      7    7            1  ...       -1     -1     -1   \n",
       "2   6.601826  2013      7    7            1  ...       -1     -1     -1   \n",
       "\n",
       "   131_y  134_y  135_y  136_y  138_y  34_y.4  140_y  \n",
       "0     -1     -1     -1     -1     -1      -1     -1  \n",
       "1     -1     -1     -1     -1     -1      -1     -1  \n",
       "2     -1     -1     -1     -1     -1      -1     -1  \n",
       "\n",
       "[3 rows x 253 columns]"
      ]
     },
     "execution_count": 52,
     "metadata": {},
     "output_type": "execute_result"
    }
   ],
   "source": [
    "df_train_merged.head( 3 )"
   ]
  },
  {
   "cell_type": "code",
   "execution_count": 53,
   "metadata": {
    "collapsed": true
   },
   "outputs": [],
   "source": [
    "X = df_train_merged.drop( 'cost', axis = 1, inplace = False )    # X를 확보\n",
    "y = np.log1p( df_train_merged[ 'cost' ] )   # y를 확보\n",
    "\n",
    "df_train = ''\n",
    "df_train_merged = ''"
   ]
  },
  {
   "cell_type": "code",
   "execution_count": 54,
   "metadata": {
    "collapsed": false,
    "scrolled": false
   },
   "outputs": [
    {
     "data": {
      "text/html": [
       "<div style=\"max-height:1000px;max-width:1500px;overflow:auto;\">\n",
       "<table border=\"1\" class=\"dataframe\">\n",
       "  <thead>\n",
       "    <tr style=\"text-align: right;\">\n",
       "      <th></th>\n",
       "      <th>supplier</th>\n",
       "      <th>annual_usage</th>\n",
       "      <th>min_order_quantity</th>\n",
       "      <th>bracket_pricing</th>\n",
       "      <th>quantity</th>\n",
       "      <th>year</th>\n",
       "      <th>month</th>\n",
       "      <th>day</th>\n",
       "      <th>material_id</th>\n",
       "      <th>diameter</th>\n",
       "      <th>...</th>\n",
       "      <th>128_y</th>\n",
       "      <th>129_y</th>\n",
       "      <th>130_y</th>\n",
       "      <th>131_y</th>\n",
       "      <th>134_y</th>\n",
       "      <th>135_y</th>\n",
       "      <th>136_y</th>\n",
       "      <th>138_y</th>\n",
       "      <th>34_y.4</th>\n",
       "      <th>140_y</th>\n",
       "    </tr>\n",
       "  </thead>\n",
       "  <tbody>\n",
       "    <tr>\n",
       "      <th>0</th>\n",
       "      <td> 41</td>\n",
       "      <td> 0</td>\n",
       "      <td> 0</td>\n",
       "      <td> 1</td>\n",
       "      <td> 1</td>\n",
       "      <td> 2013</td>\n",
       "      <td> 7</td>\n",
       "      <td> 7</td>\n",
       "      <td> 1</td>\n",
       "      <td> 6.35</td>\n",
       "      <td>...</td>\n",
       "      <td>-1</td>\n",
       "      <td>-1</td>\n",
       "      <td>-1</td>\n",
       "      <td>-1</td>\n",
       "      <td>-1</td>\n",
       "      <td>-1</td>\n",
       "      <td>-1</td>\n",
       "      <td>-1</td>\n",
       "      <td>-1</td>\n",
       "      <td>-1</td>\n",
       "    </tr>\n",
       "    <tr>\n",
       "      <th>1</th>\n",
       "      <td> 41</td>\n",
       "      <td> 0</td>\n",
       "      <td> 0</td>\n",
       "      <td> 1</td>\n",
       "      <td> 2</td>\n",
       "      <td> 2013</td>\n",
       "      <td> 7</td>\n",
       "      <td> 7</td>\n",
       "      <td> 1</td>\n",
       "      <td> 6.35</td>\n",
       "      <td>...</td>\n",
       "      <td>-1</td>\n",
       "      <td>-1</td>\n",
       "      <td>-1</td>\n",
       "      <td>-1</td>\n",
       "      <td>-1</td>\n",
       "      <td>-1</td>\n",
       "      <td>-1</td>\n",
       "      <td>-1</td>\n",
       "      <td>-1</td>\n",
       "      <td>-1</td>\n",
       "    </tr>\n",
       "    <tr>\n",
       "      <th>2</th>\n",
       "      <td> 41</td>\n",
       "      <td> 0</td>\n",
       "      <td> 0</td>\n",
       "      <td> 1</td>\n",
       "      <td> 5</td>\n",
       "      <td> 2013</td>\n",
       "      <td> 7</td>\n",
       "      <td> 7</td>\n",
       "      <td> 1</td>\n",
       "      <td> 6.35</td>\n",
       "      <td>...</td>\n",
       "      <td>-1</td>\n",
       "      <td>-1</td>\n",
       "      <td>-1</td>\n",
       "      <td>-1</td>\n",
       "      <td>-1</td>\n",
       "      <td>-1</td>\n",
       "      <td>-1</td>\n",
       "      <td>-1</td>\n",
       "      <td>-1</td>\n",
       "      <td>-1</td>\n",
       "    </tr>\n",
       "  </tbody>\n",
       "</table>\n",
       "<p>3 rows × 252 columns</p>\n",
       "</div>"
      ],
      "text/plain": [
       "   supplier  annual_usage  min_order_quantity  bracket_pricing  quantity  \\\n",
       "0        41             0                   0                1         1   \n",
       "1        41             0                   0                1         2   \n",
       "2        41             0                   0                1         5   \n",
       "\n",
       "   year  month  day  material_id  diameter  ...    128_y  129_y  130_y  131_y  \\\n",
       "0  2013      7    7            1      6.35  ...       -1     -1     -1     -1   \n",
       "1  2013      7    7            1      6.35  ...       -1     -1     -1     -1   \n",
       "2  2013      7    7            1      6.35  ...       -1     -1     -1     -1   \n",
       "\n",
       "   134_y  135_y  136_y  138_y  34_y.4  140_y  \n",
       "0     -1     -1     -1     -1      -1     -1  \n",
       "1     -1     -1     -1     -1      -1     -1  \n",
       "2     -1     -1     -1     -1      -1     -1  \n",
       "\n",
       "[3 rows x 252 columns]"
      ]
     },
     "execution_count": 54,
     "metadata": {},
     "output_type": "execute_result"
    }
   ],
   "source": [
    "X.head( 3 )"
   ]
  },
  {
   "cell_type": "code",
   "execution_count": 55,
   "metadata": {
    "collapsed": false
   },
   "outputs": [
    {
     "data": {
      "text/plain": [
       "0    3.131396\n",
       "1    2.590858\n",
       "2    2.028389\n",
       "Name: cost, dtype: float64"
      ]
     },
     "execution_count": 55,
     "metadata": {},
     "output_type": "execute_result"
    }
   ],
   "source": [
    "y.head( 3 )"
   ]
  },
  {
   "cell_type": "code",
   "execution_count": 56,
   "metadata": {
    "collapsed": true
   },
   "outputs": [],
   "source": [
    "cv_cnt = 10    # cv : cross validation 횟수\n",
    "n_jobs_cnt = 6"
   ]
  },
  {
   "cell_type": "code",
   "execution_count": 57,
   "metadata": {
    "collapsed": true
   },
   "outputs": [],
   "source": [
    "from sklearn.linear_model import SGDRegressor\n",
    "\n",
    "from sklearn.linear_model import Lasso\n",
    "from sklearn.linear_model import ElasticNet\n",
    "\n",
    "from sklearn.kernel_ridge import KernelRidge\n",
    "from sklearn.svm import SVR\n",
    "\n",
    "from sklearn.ensemble import RandomForestRegressor\n",
    "from sklearn.linear_model import LinearRegression\n",
    "# from sklearn.ensemble import GradientBoostingRegressor\n",
    "\n",
    "from sklearn import grid_search"
   ]
  },
  {
   "cell_type": "code",
   "execution_count": 58,
   "metadata": {
    "collapsed": false
   },
   "outputs": [],
   "source": [
    "if mode == True :\n",
    "    model_list = [\n",
    "                   RandomForestRegressor( max_depth = 100, n_estimators = 200, n_jobs = n_jobs_cnt ),    # 제출용\n",
    "#                    RandomForestRegressor( n_jobs = n_jobs_cnt ),    # 제출용        \n",
    "#                    RandomForestRegressor( n_estimators=5, n_jobs = n_jobs_cnt ),    # 제출용                \n",
    "                 ]\n",
    "else :\n",
    "    model_list = [\n",
    "                   RandomForestRegressor( n_jobs = n_jobs_cnt ),    # 테스트용\n",
    "#                    GradientBoostingRegressor()\n",
    "                 ]    "
   ]
  },
  {
   "cell_type": "code",
   "execution_count": 55,
   "metadata": {
    "collapsed": false
   },
   "outputs": [],
   "source": [
    "# X.to_csv( './dataset/xxxxxxxx.csv', index = False )\n",
    "# X[ 'component_id_x.1' ]"
   ]
  },
  {
   "cell_type": "code",
   "execution_count": 56,
   "metadata": {
    "collapsed": false,
    "scrolled": false
   },
   "outputs": [],
   "source": [
    "# X.columns.tolist()"
   ]
  },
  {
   "cell_type": "code",
   "execution_count": 59,
   "metadata": {
    "collapsed": false
   },
   "outputs": [
    {
     "name": "stdout",
     "output_type": "stream",
     "text": [
      "model :  RandomForestRegressor\n",
      "best_score :  0.858809912793\n",
      "=================\n",
      "best model :  RandomForestRegressor(bootstrap=True, criterion='mse', max_depth=100,\n",
      "           max_features='auto', max_leaf_nodes=None, min_samples_leaf=1,\n",
      "           min_samples_split=2, min_weight_fraction_leaf=0.0,\n",
      "           n_estimators=200, n_jobs=6, oob_score=False, random_state=None,\n",
      "           verbose=0, warm_start=False)\n",
      "=================\n",
      "Wall time: 6min 5s\n"
     ]
    }
   ],
   "source": [
    "%%time\n",
    "import time\n",
    "for model in model_list :\n",
    "    params = {    # 현재, 최적의 params 조건은 max_depth = 100, n_estimators = 500임\n",
    "#                'max_depth' : (10,30,50,100,200),    # RandomForest\n",
    "#                'n_estimators' : (10,20,50,100,200,500),    # RandomForest\n",
    "             }\n",
    "\n",
    "    gs = grid_search.GridSearchCV( model,\n",
    "                                   param_grid = params,\n",
    "#                                    n_jobs = n_jobs_cnt,\n",
    "                                   cv = cv_cnt,\n",
    "#                                    scoring = scorer\n",
    "                                 )\n",
    "    gs.fit( X, y )\n",
    "    \n",
    "    \n",
    "    print( 'model : ', str( model ).split( '(' )[0] )\n",
    "    print( 'best_score : ', gs.best_score_ )\n",
    "    \n",
    "    print( '=================' )\n",
    "    print( 'best model : ', gs.best_estimator_ )\n",
    "    print( '=================' )\n",
    "    \n",
    "    df_feature_importance = pd.DataFrame( X.columns.values, columns = [ 'features' ] )\n",
    "    df_feature_importance[ 'importance' ] = gs.best_estimator_.feature_importances_\n",
    "#     print( df_feature_importance.sort( 'importance', ascending = False  ) )    \n",
    "    \n",
    "    \n",
    "    y_pred = gs.best_estimator_.predict( df_test_merged )    # prediction 수행\n",
    "#     df_result[ 'cost' ] = y_pred\n",
    "    df_result[ 'cost' ] = np.expm1( y_pred )\n",
    "#     df_result[ 'cost' ] = df_result[ 'cost' ]\n",
    "    \n",
    "    now = time.strftime( '%Y%m%d%H%M%S' )    # 현재시각을 확보\n",
    "    model_name = str( model ).split( '(' )[0]    # 파일생성용\n",
    "    file_timestamp = now[2:4] + now[4:6] + now[6:8] + now[8:10] + now[10:12] + now[12:14]\n",
    "    accuracy = '{0:.1f}%'.format( gs.best_score_ * 100 )    # latitude에 대한 예측률 저장 : 파일명 활용용도임\n",
    "    df_result.to_csv( path_or_buf = './result.to.submit/' + file_timestamp + '.' + model_name +\n",
    "                      '.' + accuracy + '.result().csv', sep = ',', index = False )"
   ]
  },
  {
   "cell_type": "code",
   "execution_count": 60,
   "metadata": {
    "collapsed": false
   },
   "outputs": [],
   "source": [
    "list_features = df_test_merged.columns.values.tolist()"
   ]
  },
  {
   "cell_type": "code",
   "execution_count": 61,
   "metadata": {
    "collapsed": false
   },
   "outputs": [],
   "source": [
    "with open( 'performance.condition.history.txt', 'a' ) as history_file :    # 모델의 이력을 logging\n",
    "    history_file.write( '======================================================================\\n' )\n",
    "    history_file.write( '0. Description :\\n' )\n",
    "    if mode == True :\n",
    "        history_file.write( '\\tmode : Production mode\\n' )\n",
    "    else :\n",
    "        history_file.write( '\\tmode : Test mode\\n' )\n",
    "    history_file.write( '1. File name :\\n\\t' + file_timestamp + '.' + model_name + '.' + accuracy + '\\n' )\n",
    "    history_file.write( '2. Model information :\\n\\t' + str( gs.best_estimator_ ) + '\\n' )\n",
    "    history_file.write( '3. Applied features :\\n' )\n",
    "    for feature in list_features :\n",
    "        history_file.write( '\\t' + feature + '\\n' )\n",
    "    history_file.write( '4. Removed features :\\n' )\n",
    "    for feature in list_for_remove :\n",
    "        history_file.write( '\\t' + feature + '\\n' )\n",
    "    history_file.write( '5. Feature importance :\\n\\t' )        \n",
    "    history_file.write( df_feature_importance.sort( 'importance', ascending = False  ).to_string() )\n",
    "    history_file.write( '\\n' )\n",
    "    history_file.close()"
   ]
  },
  {
   "cell_type": "code",
   "execution_count": 62,
   "metadata": {
    "collapsed": false
   },
   "outputs": [
    {
     "data": {
      "text/html": [
       "<div style=\"max-height:1000px;max-width:1500px;overflow:auto;\">\n",
       "<table border=\"1\" class=\"dataframe\">\n",
       "  <thead>\n",
       "    <tr style=\"text-align: right;\">\n",
       "      <th></th>\n",
       "      <th>id</th>\n",
       "      <th>cost</th>\n",
       "    </tr>\n",
       "  </thead>\n",
       "  <tbody>\n",
       "    <tr>\n",
       "      <th>0</th>\n",
       "      <td> 1</td>\n",
       "      <td> 22.632436</td>\n",
       "    </tr>\n",
       "    <tr>\n",
       "      <th>1</th>\n",
       "      <td> 2</td>\n",
       "      <td> 13.271888</td>\n",
       "    </tr>\n",
       "    <tr>\n",
       "      <th>2</th>\n",
       "      <td> 3</td>\n",
       "      <td>  7.387373</td>\n",
       "    </tr>\n",
       "  </tbody>\n",
       "</table>\n",
       "</div>"
      ],
      "text/plain": [
       "   id       cost\n",
       "0   1  22.632436\n",
       "1   2  13.271888\n",
       "2   3   7.387373"
      ]
     },
     "execution_count": 62,
     "metadata": {},
     "output_type": "execute_result"
    }
   ],
   "source": [
    "df_result.head( 3 )"
   ]
  },
  {
   "cell_type": "code",
   "execution_count": 63,
   "metadata": {
    "collapsed": false
   },
   "outputs": [
    {
     "data": {
      "text/html": [
       "<div style=\"max-height:1000px;max-width:1500px;overflow:auto;\">\n",
       "<table border=\"1\" class=\"dataframe\">\n",
       "  <thead>\n",
       "    <tr style=\"text-align: right;\">\n",
       "      <th></th>\n",
       "      <th>cost</th>\n",
       "    </tr>\n",
       "  </thead>\n",
       "  <tbody>\n",
       "    <tr>\n",
       "      <th>count</th>\n",
       "      <td>     8.000000</td>\n",
       "    </tr>\n",
       "    <tr>\n",
       "      <th>mean</th>\n",
       "      <td>  3874.356088</td>\n",
       "    </tr>\n",
       "    <tr>\n",
       "      <th>std</th>\n",
       "      <td> 10654.077552</td>\n",
       "    </tr>\n",
       "    <tr>\n",
       "      <th>min</th>\n",
       "      <td>     0.826364</td>\n",
       "    </tr>\n",
       "    <tr>\n",
       "      <th>25%</th>\n",
       "      <td>     5.952737</td>\n",
       "    </tr>\n",
       "    <tr>\n",
       "      <th>50%</th>\n",
       "      <td>    12.550039</td>\n",
       "    </tr>\n",
       "    <tr>\n",
       "      <th>75%</th>\n",
       "      <td>   190.821622</td>\n",
       "    </tr>\n",
       "    <tr>\n",
       "      <th>max</th>\n",
       "      <td> 30235.000000</td>\n",
       "    </tr>\n",
       "  </tbody>\n",
       "</table>\n",
       "</div>"
      ],
      "text/plain": [
       "               cost\n",
       "count      8.000000\n",
       "mean    3874.356088\n",
       "std    10654.077552\n",
       "min        0.826364\n",
       "25%        5.952737\n",
       "50%       12.550039\n",
       "75%      190.821622\n",
       "max    30235.000000"
      ]
     },
     "execution_count": 63,
     "metadata": {},
     "output_type": "execute_result"
    }
   ],
   "source": [
    "df_result_desc = df_result.describe()    # 결과의 overview 확인\n",
    "df_result_desc.drop( 'id', axis = 1, inplace = True )\n",
    "df_result_desc.describe()"
   ]
  },
  {
   "cell_type": "code",
   "execution_count": 64,
   "metadata": {
    "collapsed": true
   },
   "outputs": [],
   "source": [
    "X = ''    # X 초기화\n",
    "y = ''\n",
    "\n",
    "df_train = ''\n",
    "df_train_merged = ''\n",
    "\n",
    "df_test = ''\n",
    "df_test_merged = ''\n",
    "\n",
    "df_components = ''\n",
    "df_merged = ''\n",
    "\n",
    "df_result_desc = ''\n",
    "df_result = ''\n",
    "df_tmp = ''\n",
    "df_feature_importance = ''\n",
    "\n",
    "df_tube_bill = ''"
   ]
  }
 ],
 "metadata": {
  "kernelspec": {
   "display_name": "Python 3",
   "language": "python",
   "name": "python3"
  },
  "language_info": {
   "codemirror_mode": {
    "name": "ipython",
    "version": 3
   },
   "file_extension": ".py",
   "mimetype": "text/x-python",
   "name": "python",
   "nbconvert_exporter": "python",
   "pygments_lexer": "ipython3",
   "version": "3.4.3"
  }
 },
 "nbformat": 4,
 "nbformat_minor": 0
}
