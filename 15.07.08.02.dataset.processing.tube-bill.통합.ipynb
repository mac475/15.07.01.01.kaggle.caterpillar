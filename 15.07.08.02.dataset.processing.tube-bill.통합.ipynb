{
 "cells": [
  {
   "cell_type": "code",
   "execution_count": 1,
   "metadata": {
    "collapsed": false
   },
   "outputs": [
    {
     "data": {
      "text/html": [
       "<style>\n",
       "    @font-face {\n",
       "        font-family: \"Computer Modern\", \"malgun gothic\";\n",
       "        src: url('http://mirrors.ctan.org/fonts/cm-unicode/fonts/otf/cmunss.otf');\n",
       "    }\n",
       "//    div.cell{\n",
       "//        width: 100%;\n",
       "//    }\n",
       "    // 아래의 div.container는 내가 임의로 추가한 style임\n",
       "//    div.container{\n",
       "//        width: 105%;\n",
       "//    }\n",
       "    ul {\n",
       "        line-height: 100%;\n",
       "        font-size: 100%;\n",
       "    }\n",
       "    li {\n",
       "        margin-bottom: 0.5em;\n",
       "    }\n",
       "    h1 {\n",
       "        font-family: Helvetica, serif, \"malgun gothic\";\n",
       "    }\n",
       "    h4{\n",
       "        margin-top: 12px;\n",
       "//        margin-bottom: 3px;\n",
       "       }\n",
       "    div.text_cell_render{\n",
       "//        font-family: Computer Modern, \"Helvetica Neue\", Arial, Helvetica, Geneva, sans-serif;\n",
       "        font-family: malgun gothic;\n",
       "        line-height: 140%;\n",
       "//        font-size: 100%;\n",
       "//        width: 100%;\n",
       "//        margin-left:auto;\n",
       "//        margin-right:auto;\n",
       "    }\n",
       "    .CodeMirror{\n",
       "            font-family: \"Source Code Pro\", source-code-pro,Consolas, monospace;\n",
       "    }\n",
       "/*    .prompt{\n",
       "        display: None;\n",
       "    }*/\n",
       "    .text_cell_render h5 {\n",
       "        font-family: malgun gothic;\n",
       "        font-weight: 300;\n",
       "        font-size: 16pt;\n",
       "        color: #4057A1;\n",
       "        font-style: italic;\n",
       "        margin-bottom: 0.5em;\n",
       "        margin-top: 0.5em;\n",
       "        display: block;\n",
       "    }\n",
       "    .warning{\n",
       "        color: rgb( 240, 20, 20 )\n",
       "        }\n",
       "</style>\n",
       "<script>\n",
       "    MathJax.Hub.Config({\n",
       "                        TeX: {\n",
       "                           extensions: [\"AMSmath.js\"]\n",
       "                           },\n",
       "                tex2jax: {\n",
       "                    inlineMath: [ ['$','$'], [\"\\\\(\",\"\\\\)\"] ],\n",
       "                    displayMath: [ ['$$','$$'], [\"\\\\[\",\"\\\\]\"] ]\n",
       "                },\n",
       "                displayAlign: 'center', // Change this to 'center' to center equations.\n",
       "//                \"HTML-CSS\": {\n",
       "//                    styles: {'.MathJax_Display': {\"margin\": 4}}\n",
       "//                }\n",
       "        });\n",
       "</script>"
      ],
      "text/plain": [
       "<IPython.core.display.HTML object>"
      ]
     },
     "execution_count": 1,
     "metadata": {},
     "output_type": "execute_result"
    }
   ],
   "source": [
    "# mac475의 ipython 표준 style을 적용함\n",
    "from IPython.core.display import HTML\n",
    "styles = open(\"../styles/custom.css\", \"r\").read()\n",
    "HTML( styles )"
   ]
  },
  {
   "cell_type": "markdown",
   "metadata": {},
   "source": [
    "#1. tube의 merge\n",
    "\n",
    "- tube dataset의 merge 필요성\n",
    "\n",
    "    → tube dataset만 활용시 modeling 활용 feature 제약, tube_assembly_id join하여 bill_of_materials dataset내의 tube 속성정보 modeling에 활용\n",
    "    \n",
    "    → component_id_1/ quantity_1 ~ component_id_8/ quantity_8,  16개 속성\n",
    "    \n",
    "- 단, bill_of_materials dataset을 보완필요 있는지 사전확인후, 적절한 작업의 병행필요\n",
    "\t\n",
    "<img src=\"images/02.tube-bill-specs.png\" style=\"display:inline; width: 60%\" />"
   ]
  },
  {
   "cell_type": "code",
   "execution_count": 2,
   "metadata": {
    "collapsed": true
   },
   "outputs": [],
   "source": [
    "import pandas as pd\n",
    "import numpy as np"
   ]
  },
  {
   "cell_type": "markdown",
   "metadata": {},
   "source": [
    "#2. bill_of_materials 주요 feature 검사"
   ]
  },
  {
   "cell_type": "code",
   "execution_count": 3,
   "metadata": {
    "collapsed": false
   },
   "outputs": [],
   "source": [
    "df = pd.read_csv( './dataset/01.original.dataset/bill_of_materials.csv' )"
   ]
  },
  {
   "cell_type": "markdown",
   "metadata": {},
   "source": [
    "##2.1 bill_of_materials 누락 feature 확인"
   ]
  },
  {
   "cell_type": "code",
   "execution_count": 4,
   "metadata": {
    "collapsed": false
   },
   "outputs": [
    {
     "data": {
      "text/plain": [
       "tube_assembly_id    21198\n",
       "component_id_1      19149\n",
       "quantity_1          19149\n",
       "component_id_2      14786\n",
       "quantity_2          14786\n",
       "component_id_3       4791\n",
       "quantity_3           4798\n",
       "component_id_4        607\n",
       "quantity_4            608\n",
       "component_id_5         92\n",
       "quantity_5             92\n",
       "component_id_6         26\n",
       "quantity_6             26\n",
       "component_id_7          7\n",
       "quantity_7              7\n",
       "component_id_8          1\n",
       "quantity_8              1\n",
       "dtype: int64"
      ]
     },
     "execution_count": 4,
     "metadata": {},
     "output_type": "execute_result"
    }
   ],
   "source": [
    "df.count()    # tube의 전체적인 data 충실도를 확인"
   ]
  },
  {
   "cell_type": "markdown",
   "metadata": {},
   "source": [
    "* 확인결과\n",
    "    \n",
    "    - component_1은 id와 수량 문제 없음 : 확인필요\n",
    "        \n",
    "        → component_1도 존재하지 않는 경우가 가능할까? 2049개가 NA이다 9.6% : 이후 tube-bill-comp로 merge시 누락되어 분석한계 발생\n",
    "    - component_2는 id와 수량 문제 없음\n",
    "    - component_3는 id보다 수량이 7개 더 많음 : 확인필요\n",
    "    - component_4는 id보다 수량이 1개 더 많음 : 확인필요\n",
    "    - component_5는 id와 수량 문제 없음\n",
    "    - component_6는 id와 수량 문제 없음\n",
    "    - component_7는 id와 수량 문제 없음\n",
    "    - component_8은 id와 수량 문제 없음"
   ]
  },
  {
   "cell_type": "markdown",
   "metadata": {},
   "source": [
    "."
   ]
  },
  {
   "cell_type": "markdown",
   "metadata": {},
   "source": [
    "##2.2 각 features의 unique 구성 확인"
   ]
  },
  {
   "cell_type": "code",
   "execution_count": 5,
   "metadata": {
    "collapsed": true
   },
   "outputs": [],
   "source": [
    "def get_unique_elements_sorted( name, sz ) :    # series내의 unique 정보를 sorted 제공\n",
    "    tmp = sz.sort( axis = 0, ascending = True, inplace = False ).unique()\n",
    "#     print( 'name : ', name, tmp, 'count : ', len( tmp ) )\n",
    "    sz = None\n",
    "    tmp = None    "
   ]
  },
  {
   "cell_type": "code",
   "execution_count": 6,
   "metadata": {
    "collapsed": false
   },
   "outputs": [],
   "source": [
    "list_cols = df.columns.values.tolist()    # columns\n",
    "\n",
    "for col in list_cols[1:] :\n",
    "    get_unique_elements_sorted( col, df[ col ].copy() )"
   ]
  },
  {
   "cell_type": "markdown",
   "metadata": {},
   "source": [
    "<font color = 'red'>* unique 확인결과, component_id_1에 포함된, 9999 == unknown을 제외하면 이상 data 문제없음</font>\n",
    "    \n",
    "    → component의 master인 components dataset 확인결과 9999 코드값이 존재하므로, 9999 역시 의미있는 정보로 인정"
   ]
  },
  {
   "cell_type": "markdown",
   "metadata": {},
   "source": [
    "##2.3 component_1 확인"
   ]
  },
  {
   "cell_type": "code",
   "execution_count": 7,
   "metadata": {
    "collapsed": false
   },
   "outputs": [
    {
     "data": {
      "text/plain": [
       "('C-1621', 2)"
      ]
     },
     "execution_count": 7,
     "metadata": {},
     "output_type": "execute_result"
    }
   ],
   "source": [
    "top_component_id = df[ 'component_id_1' ].value_counts().index[0]    # component_1 == NA를 채우기 위한 가장 빈번 component_id\n",
    "top_component_qunatity = df[ 'quantity_1' ][ df[ 'component_id_1' ] == top_component_id ].value_counts().index[0].astype( int )\n",
    "top_component_id, top_component_qunatity"
   ]
  },
  {
   "cell_type": "markdown",
   "metadata": {},
   "source": [
    "* component_id_1 == null이 되면, tube-bill-comp merge가 불가능하므로, 가장 빈번한 comp_id/ quntity로 채운다 (임시방편임)"
   ]
  },
  {
   "cell_type": "code",
   "execution_count": 8,
   "metadata": {
    "collapsed": false
   },
   "outputs": [],
   "source": [
    "# component_id_1 == Null인것들 유지\n",
    "idx_list = df[ df[ 'component_id_1' ].isnull() ].index.tolist()\n",
    "for idx in idx_list :\n",
    "    df.loc[ idx, 'component_id_1' ] = top_component_id\n",
    "    df.loc[ idx, 'quantity_1' ] = top_component_qunatity"
   ]
  },
  {
   "cell_type": "markdown",
   "metadata": {},
   "source": [
    "* component_id_1 == null인 경우가 2,049개 존재이며, id_1이 null이면 나머지도 모두 null임"
   ]
  },
  {
   "cell_type": "code",
   "execution_count": 9,
   "metadata": {
    "collapsed": false
   },
   "outputs": [],
   "source": [
    "df[ 'component_id_1' ].sort( axis = 0, ascending = True, inplace = False ).unique()\n",
    "get_unique_elements_sorted( 'component_id_1', df[ 'component_id_1' ].copy() )"
   ]
  },
  {
   "cell_type": "markdown",
   "metadata": {},
   "source": [
    "* 1,080개 존재하나, 9999 : unknown 존재함"
   ]
  },
  {
   "cell_type": "code",
   "execution_count": 10,
   "metadata": {
    "collapsed": false
   },
   "outputs": [
    {
     "data": {
      "text/html": [
       "<div style=\"max-height:1000px;max-width:1500px;overflow:auto;\">\n",
       "<table border=\"1\" class=\"dataframe\">\n",
       "  <thead>\n",
       "    <tr style=\"text-align: right;\">\n",
       "      <th></th>\n",
       "      <th>tube_assembly_id</th>\n",
       "      <th>component_id_1</th>\n",
       "      <th>quantity_1</th>\n",
       "      <th>component_id_2</th>\n",
       "      <th>quantity_2</th>\n",
       "      <th>component_id_3</th>\n",
       "      <th>quantity_3</th>\n",
       "      <th>component_id_4</th>\n",
       "      <th>quantity_4</th>\n",
       "      <th>component_id_5</th>\n",
       "      <th>quantity_5</th>\n",
       "      <th>component_id_6</th>\n",
       "      <th>quantity_6</th>\n",
       "      <th>component_id_7</th>\n",
       "      <th>quantity_7</th>\n",
       "      <th>component_id_8</th>\n",
       "      <th>quantity_8</th>\n",
       "    </tr>\n",
       "  </thead>\n",
       "  <tbody>\n",
       "    <tr>\n",
       "      <th>21141</th>\n",
       "      <td> TA-21143</td>\n",
       "      <td> 9999</td>\n",
       "      <td> 1</td>\n",
       "      <td> NaN</td>\n",
       "      <td>NaN</td>\n",
       "      <td> NaN</td>\n",
       "      <td>NaN</td>\n",
       "      <td> NaN</td>\n",
       "      <td>NaN</td>\n",
       "      <td> NaN</td>\n",
       "      <td>NaN</td>\n",
       "      <td> NaN</td>\n",
       "      <td>NaN</td>\n",
       "      <td> NaN</td>\n",
       "      <td>NaN</td>\n",
       "      <td> NaN</td>\n",
       "      <td>NaN</td>\n",
       "    </tr>\n",
       "    <tr>\n",
       "      <th>21142</th>\n",
       "      <td> TA-21144</td>\n",
       "      <td> 9999</td>\n",
       "      <td> 1</td>\n",
       "      <td> NaN</td>\n",
       "      <td>NaN</td>\n",
       "      <td> NaN</td>\n",
       "      <td>NaN</td>\n",
       "      <td> NaN</td>\n",
       "      <td>NaN</td>\n",
       "      <td> NaN</td>\n",
       "      <td>NaN</td>\n",
       "      <td> NaN</td>\n",
       "      <td>NaN</td>\n",
       "      <td> NaN</td>\n",
       "      <td>NaN</td>\n",
       "      <td> NaN</td>\n",
       "      <td>NaN</td>\n",
       "    </tr>\n",
       "  </tbody>\n",
       "</table>\n",
       "</div>"
      ],
      "text/plain": [
       "      tube_assembly_id component_id_1  quantity_1 component_id_2  quantity_2  \\\n",
       "21141         TA-21143           9999           1            NaN         NaN   \n",
       "21142         TA-21144           9999           1            NaN         NaN   \n",
       "\n",
       "      component_id_3  quantity_3 component_id_4  quantity_4 component_id_5  \\\n",
       "21141            NaN         NaN            NaN         NaN            NaN   \n",
       "21142            NaN         NaN            NaN         NaN            NaN   \n",
       "\n",
       "       quantity_5 component_id_6  quantity_6 component_id_7  quantity_7  \\\n",
       "21141         NaN            NaN         NaN            NaN         NaN   \n",
       "21142         NaN            NaN         NaN            NaN         NaN   \n",
       "\n",
       "      component_id_8  quantity_8  \n",
       "21141            NaN         NaN  \n",
       "21142            NaN         NaN  "
      ]
     },
     "execution_count": 10,
     "metadata": {},
     "output_type": "execute_result"
    }
   ],
   "source": [
    "df[ df[ 'component_id_1' ] == '9999' ]    # 처리해야 할 대상임 → comp master에 존재하는 값이므로 그대로 인정한다"
   ]
  },
  {
   "cell_type": "code",
   "execution_count": 11,
   "metadata": {
    "collapsed": true
   },
   "outputs": [],
   "source": [
    "# list_comp1_9999 = df[ df[ 'component_id_1' ] == '9999' ].index.values.tolist()\n",
    "# top_of_comp1 = df[ 'component_id_1' ].value_counts().index[ 0 ]    # component_id_1에서 가장 빈번한 data를 9999에 배정예정"
   ]
  },
  {
   "cell_type": "code",
   "execution_count": 12,
   "metadata": {
    "collapsed": false
   },
   "outputs": [],
   "source": [
    "# 당초 component_id_1 == 9999 인 것들에 대해, 보정하려 했으나, component dataset을 보면 9999가 other처리되어 있으므로,\n",
    "# 그대로 활용하는 것이 맞다고 판단됨\n",
    "# for idx in list_comp1_9999 :    # component_id_1 == '9999'를 보정\n",
    "#     df.loc[ idx, 'component_id_1' ] = top_of_comp1"
   ]
  },
  {
   "cell_type": "code",
   "execution_count": 13,
   "metadata": {
    "collapsed": false
   },
   "outputs": [
    {
     "data": {
      "text/plain": [
       "2"
      ]
     },
     "execution_count": 13,
     "metadata": {},
     "output_type": "execute_result"
    }
   ],
   "source": [
    "len( df[ df[ 'component_id_1' ] == '9999' ] )    # 없어짐"
   ]
  },
  {
   "cell_type": "markdown",
   "metadata": {},
   "source": [
    "##2.4 component_3 확인 : quantity_3와 개수가 상이함"
   ]
  },
  {
   "cell_type": "code",
   "execution_count": 14,
   "metadata": {
    "collapsed": true
   },
   "outputs": [],
   "source": [
    "df_comp3_problem = df[ ( df[ 'component_id_3' ].isnull() ) & ( df[ 'quantity_3' ].notnull() ) ]    # 이상현상 df"
   ]
  },
  {
   "cell_type": "code",
   "execution_count": 15,
   "metadata": {
    "collapsed": false,
    "scrolled": true
   },
   "outputs": [
    {
     "data": {
      "text/html": [
       "<div style=\"max-height:1000px;max-width:1500px;overflow:auto;\">\n",
       "<table border=\"1\" class=\"dataframe\">\n",
       "  <thead>\n",
       "    <tr style=\"text-align: right;\">\n",
       "      <th></th>\n",
       "      <th>tube_assembly_id</th>\n",
       "      <th>component_id_1</th>\n",
       "      <th>quantity_1</th>\n",
       "      <th>component_id_2</th>\n",
       "      <th>quantity_2</th>\n",
       "      <th>component_id_3</th>\n",
       "      <th>quantity_3</th>\n",
       "      <th>component_id_4</th>\n",
       "      <th>quantity_4</th>\n",
       "      <th>component_id_5</th>\n",
       "      <th>quantity_5</th>\n",
       "      <th>component_id_6</th>\n",
       "      <th>quantity_6</th>\n",
       "      <th>component_id_7</th>\n",
       "      <th>quantity_7</th>\n",
       "      <th>component_id_8</th>\n",
       "      <th>quantity_8</th>\n",
       "    </tr>\n",
       "  </thead>\n",
       "  <tbody>\n",
       "    <tr>\n",
       "      <th>2644</th>\n",
       "      <td> TA-02645</td>\n",
       "      <td> C-1623</td>\n",
       "      <td> 1</td>\n",
       "      <td> C-1630</td>\n",
       "      <td> 1</td>\n",
       "      <td> NaN</td>\n",
       "      <td> 1</td>\n",
       "      <td> NaN</td>\n",
       "      <td>NaN</td>\n",
       "      <td> NaN</td>\n",
       "      <td>NaN</td>\n",
       "      <td> NaN</td>\n",
       "      <td>NaN</td>\n",
       "      <td> NaN</td>\n",
       "      <td>NaN</td>\n",
       "      <td> NaN</td>\n",
       "      <td>NaN</td>\n",
       "    </tr>\n",
       "    <tr>\n",
       "      <th>2722</th>\n",
       "      <td> TA-02723</td>\n",
       "      <td> C-1623</td>\n",
       "      <td> 1</td>\n",
       "      <td> C-1630</td>\n",
       "      <td> 1</td>\n",
       "      <td> NaN</td>\n",
       "      <td> 1</td>\n",
       "      <td> NaN</td>\n",
       "      <td>NaN</td>\n",
       "      <td> NaN</td>\n",
       "      <td>NaN</td>\n",
       "      <td> NaN</td>\n",
       "      <td>NaN</td>\n",
       "      <td> NaN</td>\n",
       "      <td>NaN</td>\n",
       "      <td> NaN</td>\n",
       "      <td>NaN</td>\n",
       "    </tr>\n",
       "    <tr>\n",
       "      <th>2727</th>\n",
       "      <td> TA-02728</td>\n",
       "      <td> C-1623</td>\n",
       "      <td> 1</td>\n",
       "      <td> C-1630</td>\n",
       "      <td> 1</td>\n",
       "      <td> NaN</td>\n",
       "      <td> 1</td>\n",
       "      <td> NaN</td>\n",
       "      <td>NaN</td>\n",
       "      <td> NaN</td>\n",
       "      <td>NaN</td>\n",
       "      <td> NaN</td>\n",
       "      <td>NaN</td>\n",
       "      <td> NaN</td>\n",
       "      <td>NaN</td>\n",
       "      <td> NaN</td>\n",
       "      <td>NaN</td>\n",
       "    </tr>\n",
       "    <tr>\n",
       "      <th>2919</th>\n",
       "      <td> TA-02920</td>\n",
       "      <td> C-1624</td>\n",
       "      <td> 1</td>\n",
       "      <td> C-1631</td>\n",
       "      <td> 1</td>\n",
       "      <td> NaN</td>\n",
       "      <td> 1</td>\n",
       "      <td> NaN</td>\n",
       "      <td>NaN</td>\n",
       "      <td> NaN</td>\n",
       "      <td>NaN</td>\n",
       "      <td> NaN</td>\n",
       "      <td>NaN</td>\n",
       "      <td> NaN</td>\n",
       "      <td>NaN</td>\n",
       "      <td> NaN</td>\n",
       "      <td>NaN</td>\n",
       "    </tr>\n",
       "    <tr>\n",
       "      <th>2922</th>\n",
       "      <td> TA-02923</td>\n",
       "      <td> C-1625</td>\n",
       "      <td> 1</td>\n",
       "      <td> C-1632</td>\n",
       "      <td> 1</td>\n",
       "      <td> NaN</td>\n",
       "      <td> 1</td>\n",
       "      <td> NaN</td>\n",
       "      <td>NaN</td>\n",
       "      <td> NaN</td>\n",
       "      <td>NaN</td>\n",
       "      <td> NaN</td>\n",
       "      <td>NaN</td>\n",
       "      <td> NaN</td>\n",
       "      <td>NaN</td>\n",
       "      <td> NaN</td>\n",
       "      <td>NaN</td>\n",
       "    </tr>\n",
       "    <tr>\n",
       "      <th>4171</th>\n",
       "      <td> TA-04172</td>\n",
       "      <td> C-1623</td>\n",
       "      <td> 1</td>\n",
       "      <td> C-1630</td>\n",
       "      <td> 1</td>\n",
       "      <td> NaN</td>\n",
       "      <td> 1</td>\n",
       "      <td> NaN</td>\n",
       "      <td>NaN</td>\n",
       "      <td> NaN</td>\n",
       "      <td>NaN</td>\n",
       "      <td> NaN</td>\n",
       "      <td>NaN</td>\n",
       "      <td> NaN</td>\n",
       "      <td>NaN</td>\n",
       "      <td> NaN</td>\n",
       "      <td>NaN</td>\n",
       "    </tr>\n",
       "    <tr>\n",
       "      <th>4172</th>\n",
       "      <td> TA-04173</td>\n",
       "      <td> C-1623</td>\n",
       "      <td> 1</td>\n",
       "      <td> C-1630</td>\n",
       "      <td> 1</td>\n",
       "      <td> NaN</td>\n",
       "      <td> 1</td>\n",
       "      <td> NaN</td>\n",
       "      <td>NaN</td>\n",
       "      <td> NaN</td>\n",
       "      <td>NaN</td>\n",
       "      <td> NaN</td>\n",
       "      <td>NaN</td>\n",
       "      <td> NaN</td>\n",
       "      <td>NaN</td>\n",
       "      <td> NaN</td>\n",
       "      <td>NaN</td>\n",
       "    </tr>\n",
       "  </tbody>\n",
       "</table>\n",
       "</div>"
      ],
      "text/plain": [
       "     tube_assembly_id component_id_1  quantity_1 component_id_2  quantity_2  \\\n",
       "2644         TA-02645         C-1623           1         C-1630           1   \n",
       "2722         TA-02723         C-1623           1         C-1630           1   \n",
       "2727         TA-02728         C-1623           1         C-1630           1   \n",
       "2919         TA-02920         C-1624           1         C-1631           1   \n",
       "2922         TA-02923         C-1625           1         C-1632           1   \n",
       "4171         TA-04172         C-1623           1         C-1630           1   \n",
       "4172         TA-04173         C-1623           1         C-1630           1   \n",
       "\n",
       "     component_id_3  quantity_3 component_id_4  quantity_4 component_id_5  \\\n",
       "2644            NaN           1            NaN         NaN            NaN   \n",
       "2722            NaN           1            NaN         NaN            NaN   \n",
       "2727            NaN           1            NaN         NaN            NaN   \n",
       "2919            NaN           1            NaN         NaN            NaN   \n",
       "2922            NaN           1            NaN         NaN            NaN   \n",
       "4171            NaN           1            NaN         NaN            NaN   \n",
       "4172            NaN           1            NaN         NaN            NaN   \n",
       "\n",
       "      quantity_5 component_id_6  quantity_6 component_id_7  quantity_7  \\\n",
       "2644         NaN            NaN         NaN            NaN         NaN   \n",
       "2722         NaN            NaN         NaN            NaN         NaN   \n",
       "2727         NaN            NaN         NaN            NaN         NaN   \n",
       "2919         NaN            NaN         NaN            NaN         NaN   \n",
       "2922         NaN            NaN         NaN            NaN         NaN   \n",
       "4171         NaN            NaN         NaN            NaN         NaN   \n",
       "4172         NaN            NaN         NaN            NaN         NaN   \n",
       "\n",
       "     component_id_8  quantity_8  \n",
       "2644            NaN         NaN  \n",
       "2722            NaN         NaN  \n",
       "2727            NaN         NaN  \n",
       "2919            NaN         NaN  \n",
       "2922            NaN         NaN  \n",
       "4171            NaN         NaN  \n",
       "4172            NaN         NaN  "
      ]
     },
     "execution_count": 15,
     "metadata": {},
     "output_type": "execute_result"
    }
   ],
   "source": [
    "df_comp3_problem"
   ]
  },
  {
   "cell_type": "code",
   "execution_count": 16,
   "metadata": {
    "collapsed": false
   },
   "outputs": [],
   "source": [
    "for idx, data in df_comp3_problem.iterrows() :    # 이상판단되는 data를 순환하며, 각 조건과 일치하는 sampling중 가장 빈번사례 추출\n",
    "    top_of_comp3_by_condition = df[ 'component_id_3' ][ ( df[ 'component_id_1' ] == data[ 'component_id_1' ] ) &\n",
    "                                                        ( df[ 'component_id_2' ] == data[ 'component_id_2' ] ) &\n",
    "                                                        ( df[ 'quantity_1' ] == data[ 'quantity_1' ] ) &\n",
    "                                                        ( df[ 'quantity_2' ] == data[ 'quantity_2' ] )\n",
    "                                  ].dropna().value_counts().index[ 0 ]\n",
    "#     df.loc[ idx, 'component_id_3' ] = top_of_comp3_by_condition\n",
    "\n",
    "    # component_3의 수량을 0로 만든다\n",
    "    df.loc[ idx, 'quantity_3' ] = 0"
   ]
  },
  {
   "cell_type": "code",
   "execution_count": 17,
   "metadata": {
    "collapsed": false
   },
   "outputs": [
    {
     "data": {
      "text/plain": [
       "7"
      ]
     },
     "execution_count": 17,
     "metadata": {},
     "output_type": "execute_result"
    }
   ],
   "source": [
    "len( df[ ( df[ 'component_id_3' ].isnull() ) & ( df[ 'quantity_3' ].notnull() ) ] )   # 없어짐"
   ]
  },
  {
   "cell_type": "markdown",
   "metadata": {},
   "source": [
    "##2.5 component_4 확인 : quantity_4와 개수가 상이함"
   ]
  },
  {
   "cell_type": "code",
   "execution_count": 18,
   "metadata": {
    "collapsed": true
   },
   "outputs": [],
   "source": [
    "df_comp4_problem = df[ ( df[ 'component_id_4' ].isnull() ) & ( df[ 'quantity_4' ].notnull() ) ]    # 이상현상 df"
   ]
  },
  {
   "cell_type": "code",
   "execution_count": 19,
   "metadata": {
    "collapsed": false,
    "scrolled": false
   },
   "outputs": [
    {
     "data": {
      "text/html": [
       "<div style=\"max-height:1000px;max-width:1500px;overflow:auto;\">\n",
       "<table border=\"1\" class=\"dataframe\">\n",
       "  <thead>\n",
       "    <tr style=\"text-align: right;\">\n",
       "      <th></th>\n",
       "      <th>tube_assembly_id</th>\n",
       "      <th>component_id_1</th>\n",
       "      <th>quantity_1</th>\n",
       "      <th>component_id_2</th>\n",
       "      <th>quantity_2</th>\n",
       "      <th>component_id_3</th>\n",
       "      <th>quantity_3</th>\n",
       "      <th>component_id_4</th>\n",
       "      <th>quantity_4</th>\n",
       "      <th>component_id_5</th>\n",
       "      <th>quantity_5</th>\n",
       "      <th>component_id_6</th>\n",
       "      <th>quantity_6</th>\n",
       "      <th>component_id_7</th>\n",
       "      <th>quantity_7</th>\n",
       "      <th>component_id_8</th>\n",
       "      <th>quantity_8</th>\n",
       "    </tr>\n",
       "  </thead>\n",
       "  <tbody>\n",
       "    <tr>\n",
       "      <th>2814</th>\n",
       "      <td> TA-02815</td>\n",
       "      <td> C-1621</td>\n",
       "      <td> 1</td>\n",
       "      <td> C-1622</td>\n",
       "      <td> 1</td>\n",
       "      <td> C-1628</td>\n",
       "      <td> 1</td>\n",
       "      <td> NaN</td>\n",
       "      <td> 1</td>\n",
       "      <td> NaN</td>\n",
       "      <td>NaN</td>\n",
       "      <td> NaN</td>\n",
       "      <td>NaN</td>\n",
       "      <td> NaN</td>\n",
       "      <td>NaN</td>\n",
       "      <td> NaN</td>\n",
       "      <td>NaN</td>\n",
       "    </tr>\n",
       "  </tbody>\n",
       "</table>\n",
       "</div>"
      ],
      "text/plain": [
       "     tube_assembly_id component_id_1  quantity_1 component_id_2  quantity_2  \\\n",
       "2814         TA-02815         C-1621           1         C-1622           1   \n",
       "\n",
       "     component_id_3  quantity_3 component_id_4  quantity_4 component_id_5  \\\n",
       "2814         C-1628           1            NaN           1            NaN   \n",
       "\n",
       "      quantity_5 component_id_6  quantity_6 component_id_7  quantity_7  \\\n",
       "2814         NaN            NaN         NaN            NaN         NaN   \n",
       "\n",
       "     component_id_8  quantity_8  \n",
       "2814            NaN         NaN  "
      ]
     },
     "execution_count": 19,
     "metadata": {},
     "output_type": "execute_result"
    }
   ],
   "source": [
    "df_comp4_problem"
   ]
  },
  {
   "cell_type": "code",
   "execution_count": 20,
   "metadata": {
    "collapsed": false
   },
   "outputs": [],
   "source": [
    "for idx, data in df_comp4_problem.iterrows() :    # 이상판단되는 data를 순환하며, 각 조건과 일치하는 sampling중 가장 빈번사례 추출\n",
    "    top_of_comp4_by_condition = df[ 'component_id_4' ][ ( df[ 'component_id_1' ] == data[ 'component_id_1' ] ) &\n",
    "                                                        ( df[ 'component_id_2' ] == data[ 'component_id_2' ] ) &\n",
    "                                                        ( df[ 'component_id_3' ] == data[ 'component_id_3' ] ) &\n",
    "                                                        ( df[ 'quantity_1' ] == data[ 'quantity_1' ] ) &\n",
    "                                                        ( df[ 'quantity_2' ] == data[ 'quantity_2' ] ) &\n",
    "                                                        ( df[ 'quantity_3' ] == data[ 'quantity_3' ] )\n",
    "                                  ].dropna().value_counts().index[ 0 ]\n",
    "#     df.loc[ idx, 'component_id_4' ] = top_of_comp4_by_condition\n",
    "    # component_4의 수량을 0로 만든다\n",
    "    df.loc[ idx, 'quantity_4' ] = 0"
   ]
  },
  {
   "cell_type": "code",
   "execution_count": 21,
   "metadata": {
    "collapsed": false
   },
   "outputs": [
    {
     "data": {
      "text/plain": [
       "1"
      ]
     },
     "execution_count": 21,
     "metadata": {},
     "output_type": "execute_result"
    }
   ],
   "source": [
    "len( df[ ( df[ 'component_id_4' ].isnull() ) & ( df[ 'quantity_4' ].notnull() ) ] )    # 없어짐"
   ]
  },
  {
   "cell_type": "code",
   "execution_count": 22,
   "metadata": {
    "collapsed": false
   },
   "outputs": [],
   "source": [
    "# df[ 'component_id_1' ].value_counts()"
   ]
  },
  {
   "cell_type": "markdown",
   "metadata": {},
   "source": [
    "#3. 정련된 bill_of_materials 저장"
   ]
  },
  {
   "cell_type": "code",
   "execution_count": 23,
   "metadata": {
    "collapsed": true
   },
   "outputs": [],
   "source": [
    "def process_null( p_df ) :    # bill~내의 null값들은 NONE, 0으로 채운다\n",
    "    \n",
    "    for i in range( 2, 9 ) :\n",
    "#     for i in range( 1, 9 ) :    # component_id_1 == Null인것들 유지\n",
    "        comp_str = 'component_id_' + str( i )\n",
    "        quan_str = 'quantity_' + str( i )\n",
    "        \n",
    "        p_df[ comp_str ].fillna( 'NONE', inplace = True )\n",
    "        p_df[ quan_str ].fillna( 0, inplace = True )"
   ]
  },
  {
   "cell_type": "code",
   "execution_count": 24,
   "metadata": {
    "collapsed": true
   },
   "outputs": [],
   "source": [
    "process_null( df )    # null을 각각 채워둔다"
   ]
  },
  {
   "cell_type": "code",
   "execution_count": 25,
   "metadata": {
    "collapsed": false
   },
   "outputs": [],
   "source": [
    "df_comp = pd.read_csv( './dataset/02.ml.verified.dataset/components.verified.csv' )"
   ]
  },
  {
   "cell_type": "code",
   "execution_count": 26,
   "metadata": {
    "collapsed": false
   },
   "outputs": [],
   "source": [
    "df[ 'component_id_1' ][18], df[ 'component_id_1' ][19], df[ 'component_id_1' ][20]\n",
    "if df[ 'component_id_1' ][18] is np.nan :\n",
    "    print( 'np.nan check' )"
   ]
  },
  {
   "cell_type": "code",
   "execution_count": 27,
   "metadata": {
    "collapsed": false
   },
   "outputs": [],
   "source": [
    "def calculate_weight( p_df, i ) :    # 각 bill내의 component들에 대한 무게를 구한다\n",
    "    global df_comp\n",
    "    cond = p_df[ 'component_id_' + str( i ) ]\n",
    "    if cond is not np.nan :\n",
    "        ret = df_comp[ 'mac475_weight' ][ df_comp[ 'component_id' ] == cond ].iloc[ 0 ] * p_df[ 'quantity_' + str( i ) ]\n",
    "    else :\n",
    "        ret = 0\n",
    "    return ret\n",
    "        \n",
    "for i in range( 1, 9 ) :    # 각 무게를 구한다\n",
    "    df[ 'weight_' + str( i ) ] = df.apply( calculate_weight, axis = 1, args = (i,) )"
   ]
  },
  {
   "cell_type": "code",
   "execution_count": 28,
   "metadata": {
    "collapsed": false
   },
   "outputs": [],
   "source": [
    "def calculate_weight_sum( p_df ) :    # 각 무게의 합을 구한다\n",
    "    sum = 0\n",
    "    for i in range( 1, 9 ) :\n",
    "        sum += p_df[ 'weight_' + str( i ) ]\n",
    "    return sum"
   ]
  },
  {
   "cell_type": "code",
   "execution_count": 29,
   "metadata": {
    "collapsed": true
   },
   "outputs": [],
   "source": [
    "df[ 'weight_sum' ] = df.apply( calculate_weight_sum, axis = 1 )    # 각 무게의 합을 구한다"
   ]
  },
  {
   "cell_type": "code",
   "execution_count": 30,
   "metadata": {
    "collapsed": true
   },
   "outputs": [],
   "source": [
    "def calculate_length( p_df, i ) :    # 각 bill내의 component들에 대한 길이를 구한다\n",
    "    global df_comp\n",
    "    cond = p_df[ 'component_id_' + str( i ) ]\n",
    "    if cond is not np.nan :\n",
    "        ret = df_comp[ 'overall_length' ][ df_comp[ 'component_id' ] == cond ].iloc[ 0 ] * p_df[ 'quantity_' + str( i ) ]\n",
    "    else :\n",
    "        ret = 0\n",
    "    return ret\n",
    "        \n",
    "for i in range( 1, 9 ) :    # 각 길이를 구한다\n",
    "    df[ 'length_' + str( i ) ] = df.apply( calculate_length, axis = 1, args = (i,) )"
   ]
  },
  {
   "cell_type": "code",
   "execution_count": 31,
   "metadata": {
    "collapsed": true
   },
   "outputs": [],
   "source": [
    "def calculate_length_sum( p_df ) :    # 각 길이의 합을 구한다\n",
    "    sum = 0\n",
    "    for i in range( 1, 9 ) :\n",
    "        sum += p_df[ 'length_' + str( i ) ]\n",
    "    return sum"
   ]
  },
  {
   "cell_type": "code",
   "execution_count": 32,
   "metadata": {
    "collapsed": true
   },
   "outputs": [],
   "source": [
    "df[ 'length_sum' ] = df.apply( calculate_length_sum, axis = 1 )    # 각 길이의 합을 구한다"
   ]
  },
  {
   "cell_type": "code",
   "execution_count": 33,
   "metadata": {
    "collapsed": true
   },
   "outputs": [],
   "source": [
    "def calculate_uniqueness_count( p_df, p_type ) :    # uniqueness, orientation count를 계산한다\n",
    "    global df_comp\n",
    "    ret = 0\n",
    "    for i in range( 1, 9 ) :\n",
    "        cond = p_df[ 'component_id_' + str( i ) ]\n",
    "        if cond != 'NONE' :\n",
    "            data = df_comp[ p_type ][ df_comp[ 'component_id' ] == cond ].iloc[ 0 ]\n",
    "            if data == 'Y' :\n",
    "                ret +=  p_df[ 'quantity_' + str( i ) ]\n",
    "        else :\n",
    "            break\n",
    "    return ret\n",
    "\n",
    "#     p_df[ 'component_id_' + str( i ) ]"
   ]
  },
  {
   "cell_type": "code",
   "execution_count": 34,
   "metadata": {
    "collapsed": true
   },
   "outputs": [],
   "source": [
    "df[ 'uniqueness_count' ] = df.apply( calculate_uniqueness_count, axis = 1, args = ('uniqueness',)  )    # uniq count를 계산한다\n",
    "df[ 'orientation_count' ] = df.apply( calculate_uniqueness_count, axis = 1, args = ('orientation',)  )    # orient 계산한다"
   ]
  },
  {
   "cell_type": "code",
   "execution_count": 35,
   "metadata": {
    "collapsed": false
   },
   "outputs": [
    {
     "data": {
      "text/html": [
       "<div style=\"max-height:1000px;max-width:1500px;overflow:auto;\">\n",
       "<table border=\"1\" class=\"dataframe\">\n",
       "  <thead>\n",
       "    <tr style=\"text-align: right;\">\n",
       "      <th></th>\n",
       "      <th>tube_assembly_id</th>\n",
       "      <th>component_id_1</th>\n",
       "      <th>quantity_1</th>\n",
       "      <th>component_id_2</th>\n",
       "      <th>quantity_2</th>\n",
       "      <th>component_id_3</th>\n",
       "      <th>quantity_3</th>\n",
       "      <th>component_id_4</th>\n",
       "      <th>quantity_4</th>\n",
       "      <th>component_id_5</th>\n",
       "      <th>...</th>\n",
       "      <th>length_2</th>\n",
       "      <th>length_3</th>\n",
       "      <th>length_4</th>\n",
       "      <th>length_5</th>\n",
       "      <th>length_6</th>\n",
       "      <th>length_7</th>\n",
       "      <th>length_8</th>\n",
       "      <th>length_sum</th>\n",
       "      <th>uniqueness_count</th>\n",
       "      <th>orientation_count</th>\n",
       "    </tr>\n",
       "  </thead>\n",
       "  <tbody>\n",
       "    <tr>\n",
       "      <th>0</th>\n",
       "      <td> TA-00001</td>\n",
       "      <td> C-1622</td>\n",
       "      <td> 2</td>\n",
       "      <td> C-1629</td>\n",
       "      <td> 2</td>\n",
       "      <td> NONE</td>\n",
       "      <td> 0</td>\n",
       "      <td> NONE</td>\n",
       "      <td> 0</td>\n",
       "      <td> NONE</td>\n",
       "      <td>...</td>\n",
       "      <td> 29</td>\n",
       "      <td> 0</td>\n",
       "      <td> 0</td>\n",
       "      <td> 0</td>\n",
       "      <td> 0</td>\n",
       "      <td> 0</td>\n",
       "      <td> 0</td>\n",
       "      <td> 69.0</td>\n",
       "      <td> 0</td>\n",
       "      <td> 0</td>\n",
       "    </tr>\n",
       "    <tr>\n",
       "      <th>1</th>\n",
       "      <td> TA-00002</td>\n",
       "      <td> C-1312</td>\n",
       "      <td> 2</td>\n",
       "      <td>   NONE</td>\n",
       "      <td> 0</td>\n",
       "      <td> NONE</td>\n",
       "      <td> 0</td>\n",
       "      <td> NONE</td>\n",
       "      <td> 0</td>\n",
       "      <td> NONE</td>\n",
       "      <td>...</td>\n",
       "      <td>  0</td>\n",
       "      <td> 0</td>\n",
       "      <td> 0</td>\n",
       "      <td> 0</td>\n",
       "      <td> 0</td>\n",
       "      <td> 0</td>\n",
       "      <td> 0</td>\n",
       "      <td> 28.4</td>\n",
       "      <td> 0</td>\n",
       "      <td> 0</td>\n",
       "    </tr>\n",
       "    <tr>\n",
       "      <th>2</th>\n",
       "      <td> TA-00003</td>\n",
       "      <td> C-1312</td>\n",
       "      <td> 2</td>\n",
       "      <td>   NONE</td>\n",
       "      <td> 0</td>\n",
       "      <td> NONE</td>\n",
       "      <td> 0</td>\n",
       "      <td> NONE</td>\n",
       "      <td> 0</td>\n",
       "      <td> NONE</td>\n",
       "      <td>...</td>\n",
       "      <td>  0</td>\n",
       "      <td> 0</td>\n",
       "      <td> 0</td>\n",
       "      <td> 0</td>\n",
       "      <td> 0</td>\n",
       "      <td> 0</td>\n",
       "      <td> 0</td>\n",
       "      <td> 28.4</td>\n",
       "      <td> 0</td>\n",
       "      <td> 0</td>\n",
       "    </tr>\n",
       "  </tbody>\n",
       "</table>\n",
       "<p>3 rows × 37 columns</p>\n",
       "</div>"
      ],
      "text/plain": [
       "  tube_assembly_id component_id_1  quantity_1 component_id_2  quantity_2  \\\n",
       "0         TA-00001         C-1622           2         C-1629           2   \n",
       "1         TA-00002         C-1312           2           NONE           0   \n",
       "2         TA-00003         C-1312           2           NONE           0   \n",
       "\n",
       "  component_id_3  quantity_3 component_id_4  quantity_4 component_id_5  \\\n",
       "0           NONE           0           NONE           0           NONE   \n",
       "1           NONE           0           NONE           0           NONE   \n",
       "2           NONE           0           NONE           0           NONE   \n",
       "\n",
       "         ...          length_2 length_3  length_4 length_5  length_6 length_7  \\\n",
       "0        ...                29        0         0        0         0        0   \n",
       "1        ...                 0        0         0        0         0        0   \n",
       "2        ...                 0        0         0        0         0        0   \n",
       "\n",
       "   length_8  length_sum  uniqueness_count  orientation_count  \n",
       "0         0        69.0                 0                  0  \n",
       "1         0        28.4                 0                  0  \n",
       "2         0        28.4                 0                  0  \n",
       "\n",
       "[3 rows x 37 columns]"
      ]
     },
     "execution_count": 35,
     "metadata": {},
     "output_type": "execute_result"
    }
   ],
   "source": [
    "df.head( 3 )"
   ]
  },
  {
   "cell_type": "code",
   "execution_count": 36,
   "metadata": {
    "collapsed": true
   },
   "outputs": [],
   "source": [
    "def retrieve_component_type( p_df, i ) :    # 각 component_id_1~8의 type을 알아낸다\n",
    "    global df_comp\n",
    "    cond = p_df[ 'component_id_' + str( i ) ]\n",
    "    return df_comp[ 'component_mac475' ][ df_comp[ 'component_id' ] == cond ].iloc[ 0 ]    "
   ]
  },
  {
   "cell_type": "code",
   "execution_count": 37,
   "metadata": {
    "collapsed": false
   },
   "outputs": [],
   "source": [
    "for i in range( 1, 9 ) :\n",
    "    df[ 'comp_type_' + str( i ) ] = df.apply( retrieve_component_type, axis = 1, args = (i,) )    # 각 componenet의 type을 알아낸다"
   ]
  },
  {
   "cell_type": "code",
   "execution_count": 38,
   "metadata": {
    "collapsed": false
   },
   "outputs": [
    {
     "data": {
      "text/html": [
       "<div style=\"max-height:1000px;max-width:1500px;overflow:auto;\">\n",
       "<table border=\"1\" class=\"dataframe\">\n",
       "  <thead>\n",
       "    <tr style=\"text-align: right;\">\n",
       "      <th></th>\n",
       "      <th>tube_assembly_id</th>\n",
       "      <th>component_id_1</th>\n",
       "      <th>quantity_1</th>\n",
       "      <th>component_id_2</th>\n",
       "      <th>quantity_2</th>\n",
       "      <th>component_id_3</th>\n",
       "      <th>quantity_3</th>\n",
       "      <th>component_id_4</th>\n",
       "      <th>quantity_4</th>\n",
       "      <th>component_id_5</th>\n",
       "      <th>...</th>\n",
       "      <th>uniqueness_count</th>\n",
       "      <th>orientation_count</th>\n",
       "      <th>comp_type_1</th>\n",
       "      <th>comp_type_2</th>\n",
       "      <th>comp_type_3</th>\n",
       "      <th>comp_type_4</th>\n",
       "      <th>comp_type_5</th>\n",
       "      <th>comp_type_6</th>\n",
       "      <th>comp_type_7</th>\n",
       "      <th>comp_type_8</th>\n",
       "    </tr>\n",
       "  </thead>\n",
       "  <tbody>\n",
       "    <tr>\n",
       "      <th>0</th>\n",
       "      <td> TA-00001</td>\n",
       "      <td> C-1622</td>\n",
       "      <td> 2</td>\n",
       "      <td> C-1629</td>\n",
       "      <td> 2</td>\n",
       "      <td>   NONE</td>\n",
       "      <td> 0</td>\n",
       "      <td> NONE</td>\n",
       "      <td> 0</td>\n",
       "      <td> NONE</td>\n",
       "      <td>...</td>\n",
       "      <td> 0</td>\n",
       "      <td> 0</td>\n",
       "      <td>     nut</td>\n",
       "      <td> sleeve</td>\n",
       "      <td>     NONE</td>\n",
       "      <td> NONE</td>\n",
       "      <td> NONE</td>\n",
       "      <td> NONE</td>\n",
       "      <td> NONE</td>\n",
       "      <td> NONE</td>\n",
       "    </tr>\n",
       "    <tr>\n",
       "      <th>1</th>\n",
       "      <td> TA-00002</td>\n",
       "      <td> C-1312</td>\n",
       "      <td> 2</td>\n",
       "      <td>   NONE</td>\n",
       "      <td> 0</td>\n",
       "      <td>   NONE</td>\n",
       "      <td> 0</td>\n",
       "      <td> NONE</td>\n",
       "      <td> 0</td>\n",
       "      <td> NONE</td>\n",
       "      <td>...</td>\n",
       "      <td> 0</td>\n",
       "      <td> 0</td>\n",
       "      <td> adaptor</td>\n",
       "      <td>   NONE</td>\n",
       "      <td>     NONE</td>\n",
       "      <td> NONE</td>\n",
       "      <td> NONE</td>\n",
       "      <td> NONE</td>\n",
       "      <td> NONE</td>\n",
       "      <td> NONE</td>\n",
       "    </tr>\n",
       "    <tr>\n",
       "      <th>2</th>\n",
       "      <td> TA-00003</td>\n",
       "      <td> C-1312</td>\n",
       "      <td> 2</td>\n",
       "      <td>   NONE</td>\n",
       "      <td> 0</td>\n",
       "      <td>   NONE</td>\n",
       "      <td> 0</td>\n",
       "      <td> NONE</td>\n",
       "      <td> 0</td>\n",
       "      <td> NONE</td>\n",
       "      <td>...</td>\n",
       "      <td> 0</td>\n",
       "      <td> 0</td>\n",
       "      <td> adaptor</td>\n",
       "      <td>   NONE</td>\n",
       "      <td>     NONE</td>\n",
       "      <td> NONE</td>\n",
       "      <td> NONE</td>\n",
       "      <td> NONE</td>\n",
       "      <td> NONE</td>\n",
       "      <td> NONE</td>\n",
       "    </tr>\n",
       "    <tr>\n",
       "      <th>3</th>\n",
       "      <td> TA-00004</td>\n",
       "      <td> C-1312</td>\n",
       "      <td> 2</td>\n",
       "      <td>   NONE</td>\n",
       "      <td> 0</td>\n",
       "      <td>   NONE</td>\n",
       "      <td> 0</td>\n",
       "      <td> NONE</td>\n",
       "      <td> 0</td>\n",
       "      <td> NONE</td>\n",
       "      <td>...</td>\n",
       "      <td> 0</td>\n",
       "      <td> 0</td>\n",
       "      <td> adaptor</td>\n",
       "      <td>   NONE</td>\n",
       "      <td>     NONE</td>\n",
       "      <td> NONE</td>\n",
       "      <td> NONE</td>\n",
       "      <td> NONE</td>\n",
       "      <td> NONE</td>\n",
       "      <td> NONE</td>\n",
       "    </tr>\n",
       "    <tr>\n",
       "      <th>4</th>\n",
       "      <td> TA-00005</td>\n",
       "      <td> C-1624</td>\n",
       "      <td> 1</td>\n",
       "      <td> C-1631</td>\n",
       "      <td> 1</td>\n",
       "      <td> C-1641</td>\n",
       "      <td> 1</td>\n",
       "      <td> NONE</td>\n",
       "      <td> 0</td>\n",
       "      <td> NONE</td>\n",
       "      <td>...</td>\n",
       "      <td> 0</td>\n",
       "      <td> 0</td>\n",
       "      <td>     nut</td>\n",
       "      <td> sleeve</td>\n",
       "      <td> threaded</td>\n",
       "      <td> NONE</td>\n",
       "      <td> NONE</td>\n",
       "      <td> NONE</td>\n",
       "      <td> NONE</td>\n",
       "      <td> NONE</td>\n",
       "    </tr>\n",
       "  </tbody>\n",
       "</table>\n",
       "<p>5 rows × 45 columns</p>\n",
       "</div>"
      ],
      "text/plain": [
       "  tube_assembly_id component_id_1  quantity_1 component_id_2  quantity_2  \\\n",
       "0         TA-00001         C-1622           2         C-1629           2   \n",
       "1         TA-00002         C-1312           2           NONE           0   \n",
       "2         TA-00003         C-1312           2           NONE           0   \n",
       "3         TA-00004         C-1312           2           NONE           0   \n",
       "4         TA-00005         C-1624           1         C-1631           1   \n",
       "\n",
       "  component_id_3  quantity_3 component_id_4  quantity_4 component_id_5  \\\n",
       "0           NONE           0           NONE           0           NONE   \n",
       "1           NONE           0           NONE           0           NONE   \n",
       "2           NONE           0           NONE           0           NONE   \n",
       "3           NONE           0           NONE           0           NONE   \n",
       "4         C-1641           1           NONE           0           NONE   \n",
       "\n",
       "      ...       uniqueness_count orientation_count  comp_type_1 comp_type_2  \\\n",
       "0     ...                      0                 0          nut      sleeve   \n",
       "1     ...                      0                 0      adaptor        NONE   \n",
       "2     ...                      0                 0      adaptor        NONE   \n",
       "3     ...                      0                 0      adaptor        NONE   \n",
       "4     ...                      0                 0          nut      sleeve   \n",
       "\n",
       "   comp_type_3 comp_type_4  comp_type_5  comp_type_6  comp_type_7  comp_type_8  \n",
       "0         NONE        NONE         NONE         NONE         NONE         NONE  \n",
       "1         NONE        NONE         NONE         NONE         NONE         NONE  \n",
       "2         NONE        NONE         NONE         NONE         NONE         NONE  \n",
       "3         NONE        NONE         NONE         NONE         NONE         NONE  \n",
       "4     threaded        NONE         NONE         NONE         NONE         NONE  \n",
       "\n",
       "[5 rows x 45 columns]"
      ]
     },
     "execution_count": 38,
     "metadata": {},
     "output_type": "execute_result"
    }
   ],
   "source": [
    "df.head( 5 )"
   ]
  },
  {
   "cell_type": "code",
   "execution_count": 39,
   "metadata": {
    "collapsed": false
   },
   "outputs": [],
   "source": [
    "def get_sum_by_component_type( p_df, p_type, calc_type ) :    # 각 component들의 합을 구한다\n",
    "    sum_adaptor = 0\n",
    "    sum_boss = 0\n",
    "    sum_elbow = 0\n",
    "    sum_float = 0\n",
    "    sum_hfl = 0\n",
    "    sum_nut = 0\n",
    "    sum_other = 0\n",
    "    sum_sleeve = 0\n",
    "    sum_straight = 0\n",
    "    sum_tee = 0\n",
    "    sum_threaded = 0\n",
    "    \n",
    "    for i in range( 1, 9 ) :\n",
    "        data = p_df[ 'comp_type_' + str( i ) ]\n",
    "        if  data == 'adaptor' :\n",
    "            sum_adaptor += p_df[ calc_type + str( i ) ]\n",
    "        elif data == 'boss' :\n",
    "            sum_boss += p_df[ calc_type + str( i ) ]\n",
    "        elif data == 'elbow' :\n",
    "            sum_elbow += p_df[ calc_type + str( i ) ]\n",
    "        elif data == 'float' :\n",
    "            sum_float += p_df[ calc_type + str( i ) ]\n",
    "        elif data == 'hfl' :\n",
    "            sum_hfl += p_df[ calc_type + str( i ) ]\n",
    "        elif data == 'nut' :\n",
    "            sum_nut += p_df[ calc_type + str( i ) ]\n",
    "        elif data == 'other' :\n",
    "            sum_other += p_df[ calc_type + str( i ) ]\n",
    "        elif data == 'sleeve' :\n",
    "            sum_sleeve += p_df[ calc_type + str( i ) ]\n",
    "        elif data == 'straight' :\n",
    "            sum_straight += p_df[ calc_type + str( i ) ]\n",
    "        elif data == 'tee' :\n",
    "            sum_tee += p_df[ calc_type + str( i ) ]\n",
    "        elif data == 'threaded' :\n",
    "            sum_threaded += p_df[ calc_type + str( i ) ]\n",
    "\n",
    "        ret_val = 0\n",
    "        # return value 결정    \n",
    "        if  p_type == 'adaptor' :\n",
    "            ret_val = sum_adaptor\n",
    "        elif p_type == 'boss' :\n",
    "            ret_val = sum_boss\n",
    "        elif p_type == 'elbow' :\n",
    "            ret_val = sum_elbow\n",
    "        elif p_type == 'float' :\n",
    "            ret_val = sum_float\n",
    "        elif p_type == 'hfl' :\n",
    "            ret_val = sum_hfl\n",
    "        elif p_type == 'nut' :\n",
    "            ret_val = sum_nut\n",
    "        elif p_type == 'other' :\n",
    "            ret_val = sum_other\n",
    "        elif p_type == 'sleeve' :\n",
    "            ret_val = sum_sleeve\n",
    "        elif p_type == 'straight' :\n",
    "            ret_val = sum_straight\n",
    "        elif p_type == 'tee' :\n",
    "            ret_val = sum_tee\n",
    "        elif p_type == 'threaded' :\n",
    "            ret_val = sum_threaded\n",
    "            \n",
    "    return ret_val"
   ]
  },
  {
   "cell_type": "code",
   "execution_count": 40,
   "metadata": {
    "collapsed": false
   },
   "outputs": [],
   "source": [
    "# 각 component의 개수합을 구한다\n",
    "df[ 'adaptor_sum' ] = df.apply( get_sum_by_component_type, axis = 1, args = ('adaptor', 'quantity_' ) )\n",
    "df[ 'boss_sum' ] = df.apply( get_sum_by_component_type, axis = 1, args = ('boss', 'quantity_' ) )\n",
    "df[ 'elbow_sum' ] = df.apply( get_sum_by_component_type, axis = 1, args = ('elbow', 'quantity_' ) )\n",
    "df[ 'float_sum' ] = df.apply( get_sum_by_component_type, axis = 1, args = ('float', 'quantity_' ) )\n",
    "df[ 'hfl_sum' ] = df.apply( get_sum_by_component_type, axis = 1, args = ('hfl', 'quantity_' ) )\n",
    "df[ 'nut_sum' ] = df.apply( get_sum_by_component_type, axis = 1, args = ('nut', 'quantity_' ) )\n",
    "df[ 'other_sum' ] = df.apply( get_sum_by_component_type, axis = 1, args = ('other', 'quantity_' ) )\n",
    "df[ 'sleeve_sum' ] = df.apply( get_sum_by_component_type, axis = 1, args = ('sleeve', 'quantity_' ) )\n",
    "df[ 'straight_sum' ] = df.apply( get_sum_by_component_type, axis = 1, args = ('straight', 'quantity_' ) )\n",
    "df[ 'tee_sum' ] = df.apply( get_sum_by_component_type, axis = 1, args = ('tee', 'quantity_' ) )\n",
    "df[ 'threaded_sum' ] = df.apply( get_sum_by_component_type, axis = 1, args = ('threaded', 'quantity_' ) )"
   ]
  },
  {
   "cell_type": "code",
   "execution_count": 41,
   "metadata": {
    "collapsed": true
   },
   "outputs": [],
   "source": [
    "# 각 component의 무게합을 구한다\n",
    "df[ 'adaptor_weight_sum' ] = df.apply( get_sum_by_component_type, axis = 1, args = ('adaptor', 'weight_' ) )\n",
    "df[ 'boss_weight_sum' ] = df.apply( get_sum_by_component_type, axis = 1, args = ('boss', 'weight_' ) )\n",
    "df[ 'elbow_weight_sum' ] = df.apply( get_sum_by_component_type, axis = 1, args = ('elbow', 'weight_' ) )\n",
    "df[ 'float_weight_sum' ] = df.apply( get_sum_by_component_type, axis = 1, args = ('float', 'weight_' ) )\n",
    "df[ 'hfl_weight_sum' ] = df.apply( get_sum_by_component_type, axis = 1, args = ('hfl', 'weight_' ) )\n",
    "df[ 'nut_weight_sum' ] = df.apply( get_sum_by_component_type, axis = 1, args = ('nut', 'weight_' ) )\n",
    "df[ 'other_weight_sum' ] = df.apply( get_sum_by_component_type, axis = 1, args = ('other', 'weight_' ) )\n",
    "df[ 'sleeve_weight_sum' ] = df.apply( get_sum_by_component_type, axis = 1, args = ('sleeve', 'weight_' ) )\n",
    "df[ 'straight_weight_sum' ] = df.apply( get_sum_by_component_type, axis = 1, args = ('straight', 'weight_' ) )\n",
    "df[ 'tee_weight_sum' ] = df.apply( get_sum_by_component_type, axis = 1, args = ('tee', 'weight_' ) )\n",
    "df[ 'threaded_weight_sum' ] = df.apply( get_sum_by_component_type, axis = 1, args = ('threaded', 'weight_' ) )"
   ]
  },
  {
   "cell_type": "code",
   "execution_count": 42,
   "metadata": {
    "collapsed": false
   },
   "outputs": [
    {
     "data": {
      "text/html": [
       "<div style=\"max-height:1000px;max-width:1500px;overflow:auto;\">\n",
       "<table border=\"1\" class=\"dataframe\">\n",
       "  <thead>\n",
       "    <tr style=\"text-align: right;\">\n",
       "      <th></th>\n",
       "      <th>tube_assembly_id</th>\n",
       "      <th>component_id_1</th>\n",
       "      <th>quantity_1</th>\n",
       "      <th>component_id_2</th>\n",
       "      <th>quantity_2</th>\n",
       "      <th>component_id_3</th>\n",
       "      <th>quantity_3</th>\n",
       "      <th>component_id_4</th>\n",
       "      <th>quantity_4</th>\n",
       "      <th>component_id_5</th>\n",
       "      <th>...</th>\n",
       "      <th>boss_weight_sum</th>\n",
       "      <th>elbow_weight_sum</th>\n",
       "      <th>float_weight_sum</th>\n",
       "      <th>hfl_weight_sum</th>\n",
       "      <th>nut_weight_sum</th>\n",
       "      <th>other_weight_sum</th>\n",
       "      <th>sleeve_weight_sum</th>\n",
       "      <th>straight_weight_sum</th>\n",
       "      <th>tee_weight_sum</th>\n",
       "      <th>threaded_weight_sum</th>\n",
       "    </tr>\n",
       "  </thead>\n",
       "  <tbody>\n",
       "    <tr>\n",
       "      <th>0</th>\n",
       "      <td> TA-00001</td>\n",
       "      <td> C-1622</td>\n",
       "      <td> 2</td>\n",
       "      <td> C-1629</td>\n",
       "      <td> 2</td>\n",
       "      <td> NONE</td>\n",
       "      <td> 0</td>\n",
       "      <td> NONE</td>\n",
       "      <td> 0</td>\n",
       "      <td> NONE</td>\n",
       "      <td>...</td>\n",
       "      <td> 0</td>\n",
       "      <td> 0</td>\n",
       "      <td> 0</td>\n",
       "      <td> 0</td>\n",
       "      <td> 0.072</td>\n",
       "      <td> 0</td>\n",
       "      <td> 0.024</td>\n",
       "      <td> 0</td>\n",
       "      <td> 0</td>\n",
       "      <td> 0</td>\n",
       "    </tr>\n",
       "    <tr>\n",
       "      <th>1</th>\n",
       "      <td> TA-00002</td>\n",
       "      <td> C-1312</td>\n",
       "      <td> 2</td>\n",
       "      <td>   NONE</td>\n",
       "      <td> 0</td>\n",
       "      <td> NONE</td>\n",
       "      <td> 0</td>\n",
       "      <td> NONE</td>\n",
       "      <td> 0</td>\n",
       "      <td> NONE</td>\n",
       "      <td>...</td>\n",
       "      <td> 0</td>\n",
       "      <td> 0</td>\n",
       "      <td> 0</td>\n",
       "      <td> 0</td>\n",
       "      <td> 0.000</td>\n",
       "      <td> 0</td>\n",
       "      <td> 0.000</td>\n",
       "      <td> 0</td>\n",
       "      <td> 0</td>\n",
       "      <td> 0</td>\n",
       "    </tr>\n",
       "    <tr>\n",
       "      <th>2</th>\n",
       "      <td> TA-00003</td>\n",
       "      <td> C-1312</td>\n",
       "      <td> 2</td>\n",
       "      <td>   NONE</td>\n",
       "      <td> 0</td>\n",
       "      <td> NONE</td>\n",
       "      <td> 0</td>\n",
       "      <td> NONE</td>\n",
       "      <td> 0</td>\n",
       "      <td> NONE</td>\n",
       "      <td>...</td>\n",
       "      <td> 0</td>\n",
       "      <td> 0</td>\n",
       "      <td> 0</td>\n",
       "      <td> 0</td>\n",
       "      <td> 0.000</td>\n",
       "      <td> 0</td>\n",
       "      <td> 0.000</td>\n",
       "      <td> 0</td>\n",
       "      <td> 0</td>\n",
       "      <td> 0</td>\n",
       "    </tr>\n",
       "  </tbody>\n",
       "</table>\n",
       "<p>3 rows × 67 columns</p>\n",
       "</div>"
      ],
      "text/plain": [
       "  tube_assembly_id component_id_1  quantity_1 component_id_2  quantity_2  \\\n",
       "0         TA-00001         C-1622           2         C-1629           2   \n",
       "1         TA-00002         C-1312           2           NONE           0   \n",
       "2         TA-00003         C-1312           2           NONE           0   \n",
       "\n",
       "  component_id_3  quantity_3 component_id_4  quantity_4 component_id_5  \\\n",
       "0           NONE           0           NONE           0           NONE   \n",
       "1           NONE           0           NONE           0           NONE   \n",
       "2           NONE           0           NONE           0           NONE   \n",
       "\n",
       "          ...           boss_weight_sum elbow_weight_sum  float_weight_sum  \\\n",
       "0         ...                         0                0                 0   \n",
       "1         ...                         0                0                 0   \n",
       "2         ...                         0                0                 0   \n",
       "\n",
       "  hfl_weight_sum  nut_weight_sum other_weight_sum  sleeve_weight_sum  \\\n",
       "0              0           0.072                0              0.024   \n",
       "1              0           0.000                0              0.000   \n",
       "2              0           0.000                0              0.000   \n",
       "\n",
       "   straight_weight_sum  tee_weight_sum  threaded_weight_sum  \n",
       "0                    0               0                    0  \n",
       "1                    0               0                    0  \n",
       "2                    0               0                    0  \n",
       "\n",
       "[3 rows x 67 columns]"
      ]
     },
     "execution_count": 42,
     "metadata": {},
     "output_type": "execute_result"
    }
   ],
   "source": [
    "df.head( 3 )"
   ]
  },
  {
   "cell_type": "code",
   "execution_count": 43,
   "metadata": {
    "collapsed": true
   },
   "outputs": [],
   "source": [
    "for i in range( 1, 9 ) :    # component type feature 제거\n",
    "    df.drop( [ 'comp_type_' + str( i ) ], axis = 1, inplace = True )\n",
    "\n",
    "for i in range( 1, 9 ) :    # 무게합 산출위해 추가되었던 각 comp들의 weight feature를 제거한다\n",
    "    df.drop( [ 'weight_' + str( i ) ], axis = 1, inplace = True )"
   ]
  },
  {
   "cell_type": "code",
   "execution_count": 44,
   "metadata": {
    "collapsed": false
   },
   "outputs": [
    {
     "data": {
      "text/html": [
       "<div style=\"max-height:1000px;max-width:1500px;overflow:auto;\">\n",
       "<table border=\"1\" class=\"dataframe\">\n",
       "  <thead>\n",
       "    <tr style=\"text-align: right;\">\n",
       "      <th></th>\n",
       "      <th>tube_assembly_id</th>\n",
       "      <th>component_id_1</th>\n",
       "      <th>quantity_1</th>\n",
       "      <th>component_id_2</th>\n",
       "      <th>quantity_2</th>\n",
       "      <th>component_id_3</th>\n",
       "      <th>quantity_3</th>\n",
       "      <th>component_id_4</th>\n",
       "      <th>quantity_4</th>\n",
       "      <th>component_id_5</th>\n",
       "      <th>...</th>\n",
       "      <th>boss_weight_sum</th>\n",
       "      <th>elbow_weight_sum</th>\n",
       "      <th>float_weight_sum</th>\n",
       "      <th>hfl_weight_sum</th>\n",
       "      <th>nut_weight_sum</th>\n",
       "      <th>other_weight_sum</th>\n",
       "      <th>sleeve_weight_sum</th>\n",
       "      <th>straight_weight_sum</th>\n",
       "      <th>tee_weight_sum</th>\n",
       "      <th>threaded_weight_sum</th>\n",
       "    </tr>\n",
       "  </thead>\n",
       "  <tbody>\n",
       "    <tr>\n",
       "      <th>0</th>\n",
       "      <td> TA-00001</td>\n",
       "      <td> C-1622</td>\n",
       "      <td> 2</td>\n",
       "      <td> C-1629</td>\n",
       "      <td> 2</td>\n",
       "      <td> NONE</td>\n",
       "      <td> 0</td>\n",
       "      <td> NONE</td>\n",
       "      <td> 0</td>\n",
       "      <td> NONE</td>\n",
       "      <td>...</td>\n",
       "      <td> 0</td>\n",
       "      <td> 0</td>\n",
       "      <td> 0</td>\n",
       "      <td> 0</td>\n",
       "      <td> 0.072</td>\n",
       "      <td> 0</td>\n",
       "      <td> 0.024</td>\n",
       "      <td> 0</td>\n",
       "      <td> 0</td>\n",
       "      <td> 0</td>\n",
       "    </tr>\n",
       "    <tr>\n",
       "      <th>1</th>\n",
       "      <td> TA-00002</td>\n",
       "      <td> C-1312</td>\n",
       "      <td> 2</td>\n",
       "      <td>   NONE</td>\n",
       "      <td> 0</td>\n",
       "      <td> NONE</td>\n",
       "      <td> 0</td>\n",
       "      <td> NONE</td>\n",
       "      <td> 0</td>\n",
       "      <td> NONE</td>\n",
       "      <td>...</td>\n",
       "      <td> 0</td>\n",
       "      <td> 0</td>\n",
       "      <td> 0</td>\n",
       "      <td> 0</td>\n",
       "      <td> 0.000</td>\n",
       "      <td> 0</td>\n",
       "      <td> 0.000</td>\n",
       "      <td> 0</td>\n",
       "      <td> 0</td>\n",
       "      <td> 0</td>\n",
       "    </tr>\n",
       "    <tr>\n",
       "      <th>2</th>\n",
       "      <td> TA-00003</td>\n",
       "      <td> C-1312</td>\n",
       "      <td> 2</td>\n",
       "      <td>   NONE</td>\n",
       "      <td> 0</td>\n",
       "      <td> NONE</td>\n",
       "      <td> 0</td>\n",
       "      <td> NONE</td>\n",
       "      <td> 0</td>\n",
       "      <td> NONE</td>\n",
       "      <td>...</td>\n",
       "      <td> 0</td>\n",
       "      <td> 0</td>\n",
       "      <td> 0</td>\n",
       "      <td> 0</td>\n",
       "      <td> 0.000</td>\n",
       "      <td> 0</td>\n",
       "      <td> 0.000</td>\n",
       "      <td> 0</td>\n",
       "      <td> 0</td>\n",
       "      <td> 0</td>\n",
       "    </tr>\n",
       "  </tbody>\n",
       "</table>\n",
       "<p>3 rows × 51 columns</p>\n",
       "</div>"
      ],
      "text/plain": [
       "  tube_assembly_id component_id_1  quantity_1 component_id_2  quantity_2  \\\n",
       "0         TA-00001         C-1622           2         C-1629           2   \n",
       "1         TA-00002         C-1312           2           NONE           0   \n",
       "2         TA-00003         C-1312           2           NONE           0   \n",
       "\n",
       "  component_id_3  quantity_3 component_id_4  quantity_4 component_id_5  \\\n",
       "0           NONE           0           NONE           0           NONE   \n",
       "1           NONE           0           NONE           0           NONE   \n",
       "2           NONE           0           NONE           0           NONE   \n",
       "\n",
       "          ...           boss_weight_sum elbow_weight_sum  float_weight_sum  \\\n",
       "0         ...                         0                0                 0   \n",
       "1         ...                         0                0                 0   \n",
       "2         ...                         0                0                 0   \n",
       "\n",
       "  hfl_weight_sum  nut_weight_sum other_weight_sum  sleeve_weight_sum  \\\n",
       "0              0           0.072                0              0.024   \n",
       "1              0           0.000                0              0.000   \n",
       "2              0           0.000                0              0.000   \n",
       "\n",
       "   straight_weight_sum  tee_weight_sum  threaded_weight_sum  \n",
       "0                    0               0                    0  \n",
       "1                    0               0                    0  \n",
       "2                    0               0                    0  \n",
       "\n",
       "[3 rows x 51 columns]"
      ]
     },
     "execution_count": 44,
     "metadata": {},
     "output_type": "execute_result"
    }
   ],
   "source": [
    "df.head( 3 )"
   ]
  },
  {
   "cell_type": "code",
   "execution_count": 45,
   "metadata": {
    "collapsed": false
   },
   "outputs": [],
   "source": [
    "# df = df[ df[ 'component_id_1' ].notnull() ]    # comp1이 null인 것들은 가장 빈번한 comp id로 대체하여 저장\n",
    "df.to_csv( './dataset/02.ml.verified.dataset/bill_of_materials.verified.csv', index = False )\n",
    "del( df )"
   ]
  },
  {
   "cell_type": "markdown",
   "metadata": {},
   "source": [
    "."
   ]
  },
  {
   "cell_type": "markdown",
   "metadata": {},
   "source": [
    "#4. Merge 시도"
   ]
  },
  {
   "cell_type": "code",
   "execution_count": 46,
   "metadata": {
    "collapsed": false
   },
   "outputs": [],
   "source": [
    "df_tube = pd.read_csv( './dataset/02.ml.verified.dataset/tube.material_id.verified.csv' )\n",
    "df_bill = pd.read_csv( './dataset/02.ml.verified.dataset/bill_of_materials.verified.csv' )"
   ]
  },
  {
   "cell_type": "code",
   "execution_count": 47,
   "metadata": {
    "collapsed": false
   },
   "outputs": [
    {
     "data": {
      "text/plain": [
       "(21198, 21198)"
      ]
     },
     "execution_count": 47,
     "metadata": {},
     "output_type": "execute_result"
    }
   ],
   "source": [
    "len( df_tube ), len( df_bill )"
   ]
  },
  {
   "cell_type": "code",
   "execution_count": 48,
   "metadata": {
    "collapsed": true
   },
   "outputs": [],
   "source": [
    "df_tube_bill = df_tube.merge( df_bill, how = 'inner', on = 'tube_assembly_id' )"
   ]
  },
  {
   "cell_type": "code",
   "execution_count": 49,
   "metadata": {
    "collapsed": false
   },
   "outputs": [
    {
     "data": {
      "text/plain": [
       "21198"
      ]
     },
     "execution_count": 49,
     "metadata": {},
     "output_type": "execute_result"
    }
   ],
   "source": [
    "len( df_tube_bill )"
   ]
  },
  {
   "cell_type": "code",
   "execution_count": 50,
   "metadata": {
    "collapsed": false
   },
   "outputs": [
    {
     "data": {
      "text/html": [
       "<div style=\"max-height:1000px;max-width:1500px;overflow:auto;\">\n",
       "<table border=\"1\" class=\"dataframe\">\n",
       "  <thead>\n",
       "    <tr style=\"text-align: right;\">\n",
       "      <th></th>\n",
       "      <th>component_id_1</th>\n",
       "      <th>component_id_2</th>\n",
       "    </tr>\n",
       "  </thead>\n",
       "  <tbody>\n",
       "    <tr>\n",
       "      <th>0</th>\n",
       "      <td> C-1622</td>\n",
       "      <td> C-1629</td>\n",
       "    </tr>\n",
       "    <tr>\n",
       "      <th>1</th>\n",
       "      <td> C-1312</td>\n",
       "      <td>   NONE</td>\n",
       "    </tr>\n",
       "    <tr>\n",
       "      <th>2</th>\n",
       "      <td> C-1312</td>\n",
       "      <td>   NONE</td>\n",
       "    </tr>\n",
       "  </tbody>\n",
       "</table>\n",
       "</div>"
      ],
      "text/plain": [
       "  component_id_1 component_id_2\n",
       "0         C-1622         C-1629\n",
       "1         C-1312           NONE\n",
       "2         C-1312           NONE"
      ]
     },
     "execution_count": 50,
     "metadata": {},
     "output_type": "execute_result"
    }
   ],
   "source": [
    "df_tube_bill[ [ 'component_id_1', 'component_id_2' ] ].head( 3 )\n",
    "# df_tube_bill[ 'component_id_1' ].describe()"
   ]
  },
  {
   "cell_type": "markdown",
   "metadata": {},
   "source": [
    "##component type count와 component total count feature, tube volume 추가"
   ]
  },
  {
   "cell_type": "code",
   "execution_count": 51,
   "metadata": {
    "collapsed": false
   },
   "outputs": [],
   "source": [
    "def calculate_component_type_count( p_df ) :    # component type의 count를 계산\n",
    "    type_count = 0    # type count 초기화\n",
    "    for i in range( 1, 9 ) :\n",
    "        comp_str = 'component_id_' + str( i )\n",
    "        \n",
    "        if p_df[ comp_str ] != 'NONE' :\n",
    "            type_count += 1\n",
    "            \n",
    "    return type_count\n",
    "\n",
    "def calculate_comp_total_count( p_df ) :    # component의 total count를 계산\n",
    "    total_count = 0\n",
    "    for i in range( 1, 9 ) :\n",
    "        quan_str = 'quantity_' + str( i )\n",
    "        if p_df[ quan_str ] > 0 :\n",
    "            total_count += p_df[ quan_str ]\n",
    "    return total_count\n",
    "\n",
    "def calculate_tube_volume( p_df ) :    # tube의 volume을 대략적으로 계산\n",
    "    import math\n",
    "    \n",
    "    outer_r = p_df[ 'diameter' ] / 2    # radius\n",
    "    inner_r = ( p_df[ 'diameter' ] - p_df[ 'wall' ] * 2 ) / 2    # 내 식으로 판단\n",
    "#     inner_r = ( p_df[ 'diameter' ] - p_df[ 'wall' ]  ) / 2    # forum의 공식\n",
    "    len = p_df[ 'length' ]\n",
    "    tube_vol = ( np.pi * math.pow( outer_r, 2 ) - np.pi * math.pow( inner_r, 2 ) ) * len\n",
    "    return tube_vol\n",
    "\n",
    "def calculate_tube_area( p_df ) :    # tube의 area를 대략적으로 계산\n",
    "    import math\n",
    "    outer_r = p_df[ 'diameter' ] / 2    # radius\n",
    "    inner_r = ( p_df[ 'diameter' ] - p_df[ 'wall' ] * 2 ) / 2\n",
    "    tube_area = np.pi * math.pow( p_df[ 'diameter' ]/2, 2 ) - np.pi * math.pow( p_df[ 'diameter' ]/2 - p_df[ 'wall' ], 2 )\n",
    "    return tube_area"
   ]
  },
  {
   "cell_type": "code",
   "execution_count": 52,
   "metadata": {
    "collapsed": false
   },
   "outputs": [],
   "source": [
    "for i in range( 1, 9 ) :    # component/ quantity feature들에 대한 type casting 수행\n",
    "    comp_str = 'component_id_' + str( i )\n",
    "    quan_str = 'quantity_' + str( i )\n",
    "    df_tube_bill[ comp_str ].astype( str )\n",
    "#     df_tube_bill[ quan_str ].astype( int )"
   ]
  },
  {
   "cell_type": "code",
   "execution_count": 53,
   "metadata": {
    "collapsed": false
   },
   "outputs": [],
   "source": [
    "df_tube_bill[ 'comp_type_count' ] = df_tube_bill.apply( calculate_component_type_count, axis = 1 )    # comp type의 개수 확보\n",
    "df_tube_bill[ 'comp_total_count' ] = df_tube_bill.apply( calculate_comp_total_count, axis = 1 )    # total comp 개수 확보\n",
    "df_tube_bill[ 'tube_volume' ] = df_tube_bill.apply( calculate_tube_volume, axis = 1 )    # tube 부피 확보\n",
    "df_tube_bill[ 'tube_area' ] = df_tube_bill.apply( calculate_tube_area, axis = 1 )    # tube 면적 확보"
   ]
  },
  {
   "cell_type": "code",
   "execution_count": 54,
   "metadata": {
    "collapsed": false
   },
   "outputs": [
    {
     "data": {
      "text/plain": [
       "21198"
      ]
     },
     "execution_count": 54,
     "metadata": {},
     "output_type": "execute_result"
    }
   ],
   "source": [
    "len( df_tube_bill )"
   ]
  },
  {
   "cell_type": "code",
   "execution_count": 55,
   "metadata": {
    "collapsed": false,
    "scrolled": false
   },
   "outputs": [
    {
     "data": {
      "text/html": [
       "<div style=\"max-height:1000px;max-width:1500px;overflow:auto;\">\n",
       "<table border=\"1\" class=\"dataframe\">\n",
       "  <thead>\n",
       "    <tr style=\"text-align: right;\">\n",
       "      <th></th>\n",
       "      <th>tube_assembly_id</th>\n",
       "      <th>material_id</th>\n",
       "      <th>diameter</th>\n",
       "      <th>wall</th>\n",
       "      <th>length</th>\n",
       "      <th>num_bends</th>\n",
       "      <th>bend_radius</th>\n",
       "      <th>end_a_1x</th>\n",
       "      <th>end_a_2x</th>\n",
       "      <th>end_x_1x</th>\n",
       "      <th>...</th>\n",
       "      <th>nut_weight_sum</th>\n",
       "      <th>other_weight_sum</th>\n",
       "      <th>sleeve_weight_sum</th>\n",
       "      <th>straight_weight_sum</th>\n",
       "      <th>tee_weight_sum</th>\n",
       "      <th>threaded_weight_sum</th>\n",
       "      <th>comp_type_count</th>\n",
       "      <th>comp_total_count</th>\n",
       "      <th>tube_volume</th>\n",
       "      <th>tube_area</th>\n",
       "    </tr>\n",
       "  </thead>\n",
       "  <tbody>\n",
       "    <tr>\n",
       "      <th>0</th>\n",
       "      <td> TA-00001</td>\n",
       "      <td> SP-0035</td>\n",
       "      <td> 12.70</td>\n",
       "      <td> 1.65</td>\n",
       "      <td> 164</td>\n",
       "      <td> 5</td>\n",
       "      <td> 38.10</td>\n",
       "      <td> 0</td>\n",
       "      <td> 0</td>\n",
       "      <td> 0</td>\n",
       "      <td>...</td>\n",
       "      <td> 0.072</td>\n",
       "      <td> 0</td>\n",
       "      <td> 0.024</td>\n",
       "      <td> 0</td>\n",
       "      <td> 0</td>\n",
       "      <td> 0</td>\n",
       "      <td> 2</td>\n",
       "      <td> 4</td>\n",
       "      <td> 9393.770441</td>\n",
       "      <td> 57.279088</td>\n",
       "    </tr>\n",
       "    <tr>\n",
       "      <th>1</th>\n",
       "      <td> TA-00002</td>\n",
       "      <td> SP-0019</td>\n",
       "      <td>  6.35</td>\n",
       "      <td> 0.71</td>\n",
       "      <td> 137</td>\n",
       "      <td> 8</td>\n",
       "      <td> 19.05</td>\n",
       "      <td> 0</td>\n",
       "      <td> 0</td>\n",
       "      <td> 0</td>\n",
       "      <td>...</td>\n",
       "      <td> 0.000</td>\n",
       "      <td> 0</td>\n",
       "      <td> 0.000</td>\n",
       "      <td> 0</td>\n",
       "      <td> 0</td>\n",
       "      <td> 0</td>\n",
       "      <td> 1</td>\n",
       "      <td> 2</td>\n",
       "      <td> 1723.486526</td>\n",
       "      <td> 12.580194</td>\n",
       "    </tr>\n",
       "    <tr>\n",
       "      <th>2</th>\n",
       "      <td> TA-00003</td>\n",
       "      <td> SP-0019</td>\n",
       "      <td>  6.35</td>\n",
       "      <td> 0.71</td>\n",
       "      <td> 127</td>\n",
       "      <td> 7</td>\n",
       "      <td> 19.05</td>\n",
       "      <td> 0</td>\n",
       "      <td> 0</td>\n",
       "      <td> 0</td>\n",
       "      <td>...</td>\n",
       "      <td> 0.000</td>\n",
       "      <td> 0</td>\n",
       "      <td> 0.000</td>\n",
       "      <td> 0</td>\n",
       "      <td> 0</td>\n",
       "      <td> 0</td>\n",
       "      <td> 1</td>\n",
       "      <td> 2</td>\n",
       "      <td> 1597.684590</td>\n",
       "      <td> 12.580194</td>\n",
       "    </tr>\n",
       "  </tbody>\n",
       "</table>\n",
       "<p>3 rows × 71 columns</p>\n",
       "</div>"
      ],
      "text/plain": [
       "  tube_assembly_id material_id  diameter  wall  length  num_bends  \\\n",
       "0         TA-00001     SP-0035     12.70  1.65     164          5   \n",
       "1         TA-00002     SP-0019      6.35  0.71     137          8   \n",
       "2         TA-00003     SP-0019      6.35  0.71     127          7   \n",
       "\n",
       "   bend_radius  end_a_1x  end_a_2x  end_x_1x    ...      nut_weight_sum  \\\n",
       "0        38.10         0         0         0    ...               0.072   \n",
       "1        19.05         0         0         0    ...               0.000   \n",
       "2        19.05         0         0         0    ...               0.000   \n",
       "\n",
       "  other_weight_sum sleeve_weight_sum  straight_weight_sum  tee_weight_sum  \\\n",
       "0                0             0.024                    0               0   \n",
       "1                0             0.000                    0               0   \n",
       "2                0             0.000                    0               0   \n",
       "\n",
       "   threaded_weight_sum  comp_type_count comp_total_count  tube_volume  \\\n",
       "0                    0                2                4  9393.770441   \n",
       "1                    0                1                2  1723.486526   \n",
       "2                    0                1                2  1597.684590   \n",
       "\n",
       "   tube_area  \n",
       "0  57.279088  \n",
       "1  12.580194  \n",
       "2  12.580194  \n",
       "\n",
       "[3 rows x 71 columns]"
      ]
     },
     "execution_count": 55,
     "metadata": {},
     "output_type": "execute_result"
    }
   ],
   "source": [
    "df_tube_bill.head( 3 )"
   ]
  },
  {
   "cell_type": "markdown",
   "metadata": {},
   "source": [
    "* Merged DF의 저장전에 categorical feature들을 string형으로 변환해둔다"
   ]
  },
  {
   "cell_type": "code",
   "execution_count": 56,
   "metadata": {
    "collapsed": false
   },
   "outputs": [],
   "source": [
    "list_cols = df_tube_bill.columns.values.tolist()\n",
    "\n",
    "for col in list_cols :\n",
    "    if df_tube_bill[ col ].dtype.name.endswith( 'object' ) :\n",
    "        df_tube_bill.astype( str )"
   ]
  },
  {
   "cell_type": "code",
   "execution_count": 57,
   "metadata": {
    "collapsed": false
   },
   "outputs": [
    {
     "name": "stdout",
     "output_type": "stream",
     "text": [
      "<class 'pandas.core.frame.DataFrame'>\n",
      "Int64Index: 21198 entries, 0 to 21197\n",
      "Data columns (total 71 columns):\n",
      "tube_assembly_id       21198 non-null object\n",
      "material_id            21198 non-null object\n",
      "diameter               21198 non-null float64\n",
      "wall                   21198 non-null float64\n",
      "length                 21198 non-null float64\n",
      "num_bends              21198 non-null int64\n",
      "bend_radius            21198 non-null float64\n",
      "end_a_1x               21198 non-null int64\n",
      "end_a_2x               21198 non-null int64\n",
      "end_x_1x               21198 non-null int64\n",
      "end_x_2x               21198 non-null int64\n",
      "end_a                  21198 non-null object\n",
      "end_x                  21198 non-null object\n",
      "num_boss               21198 non-null int64\n",
      "num_bracket            21198 non-null int64\n",
      "other                  21198 non-null int64\n",
      "bend_num_by_radius     21198 non-null float64\n",
      "component_id_1         21198 non-null object\n",
      "quantity_1             21198 non-null float64\n",
      "component_id_2         21198 non-null object\n",
      "quantity_2             21198 non-null float64\n",
      "component_id_3         21198 non-null object\n",
      "quantity_3             21198 non-null float64\n",
      "component_id_4         21198 non-null object\n",
      "quantity_4             21198 non-null float64\n",
      "component_id_5         21198 non-null object\n",
      "quantity_5             21198 non-null float64\n",
      "component_id_6         21198 non-null object\n",
      "quantity_6             21198 non-null float64\n",
      "component_id_7         21198 non-null object\n",
      "quantity_7             21198 non-null float64\n",
      "component_id_8         21198 non-null object\n",
      "quantity_8             21198 non-null float64\n",
      "weight_sum             21198 non-null float64\n",
      "length_1               21198 non-null float64\n",
      "length_2               21198 non-null float64\n",
      "length_3               21198 non-null float64\n",
      "length_4               21198 non-null float64\n",
      "length_5               21198 non-null float64\n",
      "length_6               21198 non-null float64\n",
      "length_7               21198 non-null float64\n",
      "length_8               21198 non-null float64\n",
      "length_sum             21198 non-null float64\n",
      "uniqueness_count       21198 non-null float64\n",
      "orientation_count      21198 non-null float64\n",
      "adaptor_sum            21198 non-null float64\n",
      "boss_sum               21198 non-null float64\n",
      "elbow_sum              21198 non-null float64\n",
      "float_sum              21198 non-null float64\n",
      "hfl_sum                21198 non-null float64\n",
      "nut_sum                21198 non-null float64\n",
      "other_sum              21198 non-null float64\n",
      "sleeve_sum             21198 non-null float64\n",
      "straight_sum           21198 non-null float64\n",
      "tee_sum                21198 non-null float64\n",
      "threaded_sum           21198 non-null float64\n",
      "adaptor_weight_sum     21198 non-null float64\n",
      "boss_weight_sum        21198 non-null float64\n",
      "elbow_weight_sum       21198 non-null float64\n",
      "float_weight_sum       21198 non-null float64\n",
      "hfl_weight_sum         21198 non-null float64\n",
      "nut_weight_sum         21198 non-null float64\n",
      "other_weight_sum       21198 non-null float64\n",
      "sleeve_weight_sum      21198 non-null float64\n",
      "straight_weight_sum    21198 non-null float64\n",
      "tee_weight_sum         21198 non-null float64\n",
      "threaded_weight_sum    21198 non-null float64\n",
      "comp_type_count        21198 non-null int64\n",
      "comp_total_count       21198 non-null float64\n",
      "tube_volume            21198 non-null float64\n",
      "tube_area              21198 non-null float64\n",
      "dtypes: float64(50), int64(9), object(12)\n",
      "memory usage: 11.6+ MB\n"
     ]
    }
   ],
   "source": [
    "df_tube_bill.info()"
   ]
  },
  {
   "cell_type": "code",
   "execution_count": 58,
   "metadata": {
    "collapsed": true
   },
   "outputs": [],
   "source": [
    "df_tube_bill.to_csv( './dataset/03.merged/tube_bill_merged.csv', index = False )"
   ]
  },
  {
   "cell_type": "code",
   "execution_count": 59,
   "metadata": {
    "collapsed": false
   },
   "outputs": [
    {
     "data": {
      "text/plain": [
       "tube_assembly_id    21198\n",
       "material_id         21198\n",
       "diameter            21198\n",
       "wall                21198\n",
       "length              21198\n",
       "num_bends           21198\n",
       "bend_radius         21198\n",
       "end_a_1x            21198\n",
       "end_a_2x            21198\n",
       "end_x_1x            21198\n",
       "end_x_2x            21198\n",
       "end_a               21198\n",
       "end_x               21198\n",
       "num_boss            21198\n",
       "num_bracket         21198\n",
       "...\n",
       "adaptor_weight_sum     21198\n",
       "boss_weight_sum        21198\n",
       "elbow_weight_sum       21198\n",
       "float_weight_sum       21198\n",
       "hfl_weight_sum         21198\n",
       "nut_weight_sum         21198\n",
       "other_weight_sum       21198\n",
       "sleeve_weight_sum      21198\n",
       "straight_weight_sum    21198\n",
       "tee_weight_sum         21198\n",
       "threaded_weight_sum    21198\n",
       "comp_type_count        21198\n",
       "comp_total_count       21198\n",
       "tube_volume            21198\n",
       "tube_area              21198\n",
       "Length: 71, dtype: int64"
      ]
     },
     "execution_count": 59,
     "metadata": {},
     "output_type": "execute_result"
    }
   ],
   "source": [
    "df_tube_bill.count()"
   ]
  },
  {
   "cell_type": "code",
   "execution_count": 60,
   "metadata": {
    "collapsed": true
   },
   "outputs": [],
   "source": [
    "del( df_comp )\n",
    "\n",
    "del( df_tube )\n",
    "del( df_bill )\n",
    "del( df_tube_bill )"
   ]
  }
 ],
 "metadata": {
  "kernelspec": {
   "display_name": "Python 3",
   "language": "python",
   "name": "python3"
  },
  "language_info": {
   "codemirror_mode": {
    "name": "ipython",
    "version": 3
   },
   "file_extension": ".py",
   "mimetype": "text/x-python",
   "name": "python",
   "nbconvert_exporter": "python",
   "pygments_lexer": "ipython3",
   "version": "3.4.3"
  }
 },
 "nbformat": 4,
 "nbformat_minor": 0
}
