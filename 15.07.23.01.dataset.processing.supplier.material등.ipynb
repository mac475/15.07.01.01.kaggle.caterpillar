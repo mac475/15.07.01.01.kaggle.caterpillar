{
 "cells": [
  {
   "cell_type": "code",
   "execution_count": 1,
   "metadata": {
    "collapsed": false
   },
   "outputs": [
    {
     "data": {
      "text/html": [
       "<style>\n",
       "    @font-face {\n",
       "        font-family: \"Computer Modern\", \"malgun gothic\";\n",
       "        src: url('http://mirrors.ctan.org/fonts/cm-unicode/fonts/otf/cmunss.otf');\n",
       "    }\n",
       "//    div.cell{\n",
       "//        width: 100%;\n",
       "//    }\n",
       "    // 아래의 div.container는 내가 임의로 추가한 style임\n",
       "//    div.container{\n",
       "//        width: 105%;\n",
       "//    }\n",
       "    ul {\n",
       "        line-height: 100%;\n",
       "        font-size: 100%;\n",
       "    }\n",
       "    li {\n",
       "        margin-bottom: 0.5em;\n",
       "    }\n",
       "    h1 {\n",
       "        font-family: Helvetica, serif, \"malgun gothic\";\n",
       "    }\n",
       "    h4{\n",
       "        margin-top: 12px;\n",
       "//        margin-bottom: 3px;\n",
       "       }\n",
       "    div.text_cell_render{\n",
       "//        font-family: Computer Modern, \"Helvetica Neue\", Arial, Helvetica, Geneva, sans-serif;\n",
       "        font-family: malgun gothic;\n",
       "        line-height: 140%;\n",
       "//        font-size: 100%;\n",
       "//        width: 100%;\n",
       "//        margin-left:auto;\n",
       "//        margin-right:auto;\n",
       "    }\n",
       "    .CodeMirror{\n",
       "            font-family: \"Source Code Pro\", source-code-pro,Consolas, monospace;\n",
       "    }\n",
       "/*    .prompt{\n",
       "        display: None;\n",
       "    }*/\n",
       "    .text_cell_render h5 {\n",
       "        font-family: malgun gothic;\n",
       "        font-weight: 300;\n",
       "        font-size: 16pt;\n",
       "        color: #4057A1;\n",
       "        font-style: italic;\n",
       "        margin-bottom: 0.5em;\n",
       "        margin-top: 0.5em;\n",
       "        display: block;\n",
       "    }\n",
       "    .warning{\n",
       "        color: rgb( 240, 20, 20 )\n",
       "        }\n",
       "</style>\n",
       "<script>\n",
       "    MathJax.Hub.Config({\n",
       "                        TeX: {\n",
       "                           extensions: [\"AMSmath.js\"]\n",
       "                           },\n",
       "                tex2jax: {\n",
       "                    inlineMath: [ ['$','$'], [\"\\\\(\",\"\\\\)\"] ],\n",
       "                    displayMath: [ ['$$','$$'], [\"\\\\[\",\"\\\\]\"] ]\n",
       "                },\n",
       "                displayAlign: 'center', // Change this to 'center' to center equations.\n",
       "//                \"HTML-CSS\": {\n",
       "//                    styles: {'.MathJax_Display': {\"margin\": 4}}\n",
       "//                }\n",
       "        });\n",
       "</script>"
      ],
      "text/plain": [
       "<IPython.core.display.HTML object>"
      ]
     },
     "execution_count": 1,
     "metadata": {},
     "output_type": "execute_result"
    }
   ],
   "source": [
    "from IPython.core.display import HTML\n",
    "styles = open(\"../styles/custom.css\", \"r\").read()\n",
    "HTML( styles )"
   ]
  },
  {
   "cell_type": "code",
   "execution_count": 2,
   "metadata": {
    "collapsed": true
   },
   "outputs": [],
   "source": [
    "import pandas as pd\n",
    "import numpy as np\n",
    "\n",
    "df_train = pd.read_csv( './dataset/train_set.csv' )\n",
    "df_test = pd.read_csv( './dataset/test_set.csv' )\n",
    "df = df_train.append( df_test )"
   ]
  },
  {
   "cell_type": "code",
   "execution_count": 3,
   "metadata": {
    "collapsed": true
   },
   "outputs": [],
   "source": [
    "import datetime\n",
    "\n",
    "def extract_year_month_day_from_quote_date( p_df ) :\n",
    "    p_df[ 'quote_date' ] = pd.to_datetime( p_df[ 'quote_date' ] )    # string을 datetime으로 형변환\n",
    "    p_df[ 'year' ] = p_df[ 'quote_date' ].dt.year    # 연도\n",
    "    p_df[ 'month' ] = p_df[ 'quote_date' ].dt.month    # 월\n",
    "    p_df[ 'day' ] = p_df[ 'quote_date' ].dt.day    # 일\n",
    "\n",
    "    return p_df"
   ]
  },
  {
   "cell_type": "code",
   "execution_count": 4,
   "metadata": {
    "collapsed": true
   },
   "outputs": [],
   "source": [
    "df = extract_year_month_day_from_quote_date( df )"
   ]
  },
  {
   "cell_type": "code",
   "execution_count": 5,
   "metadata": {
    "collapsed": false
   },
   "outputs": [
    {
     "data": {
      "text/html": [
       "<div style=\"max-height:1000px;max-width:1500px;overflow:auto;\">\n",
       "<table border=\"1\" class=\"dataframe\">\n",
       "  <thead>\n",
       "    <tr style=\"text-align: right;\">\n",
       "      <th></th>\n",
       "      <th>annual_usage</th>\n",
       "      <th>bracket_pricing</th>\n",
       "      <th>cost</th>\n",
       "      <th>id</th>\n",
       "      <th>min_order_quantity</th>\n",
       "      <th>quantity</th>\n",
       "      <th>quote_date</th>\n",
       "      <th>supplier</th>\n",
       "      <th>tube_assembly_id</th>\n",
       "      <th>year</th>\n",
       "      <th>month</th>\n",
       "      <th>day</th>\n",
       "    </tr>\n",
       "  </thead>\n",
       "  <tbody>\n",
       "    <tr>\n",
       "      <th>0</th>\n",
       "      <td> 0</td>\n",
       "      <td> Yes</td>\n",
       "      <td> 21.905933</td>\n",
       "      <td>NaN</td>\n",
       "      <td> 0</td>\n",
       "      <td>  1</td>\n",
       "      <td>2013-07-07</td>\n",
       "      <td> S-0066</td>\n",
       "      <td> TA-00002</td>\n",
       "      <td> 2013</td>\n",
       "      <td> 7</td>\n",
       "      <td> 7</td>\n",
       "    </tr>\n",
       "    <tr>\n",
       "      <th>1</th>\n",
       "      <td> 0</td>\n",
       "      <td> Yes</td>\n",
       "      <td> 12.341214</td>\n",
       "      <td>NaN</td>\n",
       "      <td> 0</td>\n",
       "      <td>  2</td>\n",
       "      <td>2013-07-07</td>\n",
       "      <td> S-0066</td>\n",
       "      <td> TA-00002</td>\n",
       "      <td> 2013</td>\n",
       "      <td> 7</td>\n",
       "      <td> 7</td>\n",
       "    </tr>\n",
       "    <tr>\n",
       "      <th>2</th>\n",
       "      <td> 0</td>\n",
       "      <td> Yes</td>\n",
       "      <td>  6.601826</td>\n",
       "      <td>NaN</td>\n",
       "      <td> 0</td>\n",
       "      <td>  5</td>\n",
       "      <td>2013-07-07</td>\n",
       "      <td> S-0066</td>\n",
       "      <td> TA-00002</td>\n",
       "      <td> 2013</td>\n",
       "      <td> 7</td>\n",
       "      <td> 7</td>\n",
       "    </tr>\n",
       "    <tr>\n",
       "      <th>3</th>\n",
       "      <td> 0</td>\n",
       "      <td> Yes</td>\n",
       "      <td>  4.687770</td>\n",
       "      <td>NaN</td>\n",
       "      <td> 0</td>\n",
       "      <td> 10</td>\n",
       "      <td>2013-07-07</td>\n",
       "      <td> S-0066</td>\n",
       "      <td> TA-00002</td>\n",
       "      <td> 2013</td>\n",
       "      <td> 7</td>\n",
       "      <td> 7</td>\n",
       "    </tr>\n",
       "    <tr>\n",
       "      <th>4</th>\n",
       "      <td> 0</td>\n",
       "      <td> Yes</td>\n",
       "      <td>  3.541561</td>\n",
       "      <td>NaN</td>\n",
       "      <td> 0</td>\n",
       "      <td> 25</td>\n",
       "      <td>2013-07-07</td>\n",
       "      <td> S-0066</td>\n",
       "      <td> TA-00002</td>\n",
       "      <td> 2013</td>\n",
       "      <td> 7</td>\n",
       "      <td> 7</td>\n",
       "    </tr>\n",
       "  </tbody>\n",
       "</table>\n",
       "</div>"
      ],
      "text/plain": [
       "   annual_usage bracket_pricing       cost  id  min_order_quantity  quantity  \\\n",
       "0             0             Yes  21.905933 NaN                   0         1   \n",
       "1             0             Yes  12.341214 NaN                   0         2   \n",
       "2             0             Yes   6.601826 NaN                   0         5   \n",
       "3             0             Yes   4.687770 NaN                   0        10   \n",
       "4             0             Yes   3.541561 NaN                   0        25   \n",
       "\n",
       "  quote_date supplier tube_assembly_id  year  month  day  \n",
       "0 2013-07-07   S-0066         TA-00002  2013      7    7  \n",
       "1 2013-07-07   S-0066         TA-00002  2013      7    7  \n",
       "2 2013-07-07   S-0066         TA-00002  2013      7    7  \n",
       "3 2013-07-07   S-0066         TA-00002  2013      7    7  \n",
       "4 2013-07-07   S-0066         TA-00002  2013      7    7  "
      ]
     },
     "execution_count": 5,
     "metadata": {},
     "output_type": "execute_result"
    }
   ],
   "source": [
    "df.head()"
   ]
  },
  {
   "cell_type": "code",
   "execution_count": 6,
   "metadata": {
    "collapsed": true
   },
   "outputs": [],
   "source": [
    "df[ 'sales_result' ] = df[ 'annual_usage' ] * df[ 'quantity' ]"
   ]
  },
  {
   "cell_type": "code",
   "execution_count": 7,
   "metadata": {
    "collapsed": false
   },
   "outputs": [],
   "source": [
    "# sz_total_sum_by_supplier = df.groupby( [ 'supplier' ] )[ 'sales_result' ].sum()\n",
    "# sz_total_sum_by_supplier\n",
    "# sz_total_sum_by_supplier.to_csv( './dataset/01.original.dataset/supplier_total.csv' )"
   ]
  },
  {
   "cell_type": "code",
   "execution_count": 8,
   "metadata": {
    "collapsed": false
   },
   "outputs": [],
   "source": [
    "# sz_annual_sum_by_supplier = df.groupby( [ 'supplier', 'year' ] )[ 'sales_result' ].sum()\n",
    "# sz_annual_sum_by_supplier.fillna( 0, inplace = True )\n",
    "# sz_annual_sum_by_supplier\n",
    "# sz_annual_sum_by_supplier.to_csv( './dataset/01.original.dataset/supplier_annual.csv' )"
   ]
  },
  {
   "cell_type": "code",
   "execution_count": 12,
   "metadata": {
    "collapsed": false
   },
   "outputs": [
    {
     "data": {
      "text/html": [
       "<div style=\"max-height:1000px;max-width:1500px;overflow:auto;\">\n",
       "<table border=\"1\" class=\"dataframe\">\n",
       "  <thead>\n",
       "    <tr style=\"text-align: right;\">\n",
       "      <th></th>\n",
       "      <th>tube_assembly_id</th>\n",
       "      <th>material_id</th>\n",
       "    </tr>\n",
       "  </thead>\n",
       "  <tbody>\n",
       "    <tr>\n",
       "      <th>0</th>\n",
       "      <td> TA-00001</td>\n",
       "      <td> SP-0035</td>\n",
       "    </tr>\n",
       "    <tr>\n",
       "      <th>1</th>\n",
       "      <td> TA-00002</td>\n",
       "      <td> SP-0019</td>\n",
       "    </tr>\n",
       "    <tr>\n",
       "      <th>2</th>\n",
       "      <td> TA-00003</td>\n",
       "      <td> SP-0019</td>\n",
       "    </tr>\n",
       "    <tr>\n",
       "      <th>3</th>\n",
       "      <td> TA-00004</td>\n",
       "      <td> SP-0019</td>\n",
       "    </tr>\n",
       "    <tr>\n",
       "      <th>4</th>\n",
       "      <td> TA-00005</td>\n",
       "      <td> SP-0029</td>\n",
       "    </tr>\n",
       "  </tbody>\n",
       "</table>\n",
       "</div>"
      ],
      "text/plain": [
       "  tube_assembly_id material_id\n",
       "0         TA-00001     SP-0035\n",
       "1         TA-00002     SP-0019\n",
       "2         TA-00003     SP-0019\n",
       "3         TA-00004     SP-0019\n",
       "4         TA-00005     SP-0029"
      ]
     },
     "execution_count": 12,
     "metadata": {},
     "output_type": "execute_result"
    }
   ],
   "source": [
    "df_tube = pd.read_csv( './dataset/02.ml.verified.dataset/tube.material_id.verified.csv' )\n",
    "df_tube.drop( [ 'diameter', 'wall', 'length', 'num_bends', 'bend_radius', 'end_a_1x', 'end_a_2x', 'end_x_1x', 'end_x_2x',\n",
    "                'end_a', 'end_x', 'num_boss', 'num_bracket', 'other', 'bend_num_by_radius' ], axis = 1, inplace = True )\n",
    "df_tube.head()"
   ]
  },
  {
   "cell_type": "code",
   "execution_count": 13,
   "metadata": {
    "collapsed": false
   },
   "outputs": [
    {
     "data": {
      "text/html": [
       "<div style=\"max-height:1000px;max-width:1500px;overflow:auto;\">\n",
       "<table border=\"1\" class=\"dataframe\">\n",
       "  <thead>\n",
       "    <tr style=\"text-align: right;\">\n",
       "      <th></th>\n",
       "      <th>annual_usage</th>\n",
       "      <th>bracket_pricing</th>\n",
       "      <th>cost</th>\n",
       "      <th>id</th>\n",
       "      <th>min_order_quantity</th>\n",
       "      <th>quantity</th>\n",
       "      <th>quote_date</th>\n",
       "      <th>supplier</th>\n",
       "      <th>tube_assembly_id</th>\n",
       "      <th>year</th>\n",
       "      <th>month</th>\n",
       "      <th>day</th>\n",
       "      <th>sales_result</th>\n",
       "      <th>material_id</th>\n",
       "    </tr>\n",
       "  </thead>\n",
       "  <tbody>\n",
       "    <tr>\n",
       "      <th>0</th>\n",
       "      <td> 0</td>\n",
       "      <td> Yes</td>\n",
       "      <td> 21.905933</td>\n",
       "      <td>NaN</td>\n",
       "      <td> 0</td>\n",
       "      <td> 1</td>\n",
       "      <td>2013-07-07</td>\n",
       "      <td> S-0066</td>\n",
       "      <td> TA-00002</td>\n",
       "      <td> 2013</td>\n",
       "      <td> 7</td>\n",
       "      <td> 7</td>\n",
       "      <td> 0</td>\n",
       "      <td> SP-0019</td>\n",
       "    </tr>\n",
       "    <tr>\n",
       "      <th>1</th>\n",
       "      <td> 0</td>\n",
       "      <td> Yes</td>\n",
       "      <td> 12.341214</td>\n",
       "      <td>NaN</td>\n",
       "      <td> 0</td>\n",
       "      <td> 2</td>\n",
       "      <td>2013-07-07</td>\n",
       "      <td> S-0066</td>\n",
       "      <td> TA-00002</td>\n",
       "      <td> 2013</td>\n",
       "      <td> 7</td>\n",
       "      <td> 7</td>\n",
       "      <td> 0</td>\n",
       "      <td> SP-0019</td>\n",
       "    </tr>\n",
       "    <tr>\n",
       "      <th>2</th>\n",
       "      <td> 0</td>\n",
       "      <td> Yes</td>\n",
       "      <td>  6.601826</td>\n",
       "      <td>NaN</td>\n",
       "      <td> 0</td>\n",
       "      <td> 5</td>\n",
       "      <td>2013-07-07</td>\n",
       "      <td> S-0066</td>\n",
       "      <td> TA-00002</td>\n",
       "      <td> 2013</td>\n",
       "      <td> 7</td>\n",
       "      <td> 7</td>\n",
       "      <td> 0</td>\n",
       "      <td> SP-0019</td>\n",
       "    </tr>\n",
       "  </tbody>\n",
       "</table>\n",
       "</div>"
      ],
      "text/plain": [
       "   annual_usage bracket_pricing       cost  id  min_order_quantity  quantity  \\\n",
       "0             0             Yes  21.905933 NaN                   0         1   \n",
       "1             0             Yes  12.341214 NaN                   0         2   \n",
       "2             0             Yes   6.601826 NaN                   0         5   \n",
       "\n",
       "  quote_date supplier tube_assembly_id  year  month  day  sales_result  \\\n",
       "0 2013-07-07   S-0066         TA-00002  2013      7    7             0   \n",
       "1 2013-07-07   S-0066         TA-00002  2013      7    7             0   \n",
       "2 2013-07-07   S-0066         TA-00002  2013      7    7             0   \n",
       "\n",
       "  material_id  \n",
       "0     SP-0019  \n",
       "1     SP-0019  \n",
       "2     SP-0019  "
      ]
     },
     "execution_count": 13,
     "metadata": {},
     "output_type": "execute_result"
    }
   ],
   "source": [
    "df = df.merge( df_tube, how = 'inner', on = 'tube_assembly_id' )\n",
    "df.head( 3 )"
   ]
  },
  {
   "cell_type": "code",
   "execution_count": 19,
   "metadata": {
    "collapsed": false
   },
   "outputs": [
    {
     "data": {
      "text/plain": [
       "material_id\n",
       "SP-0008            31987\n",
       "SP-0019          2420291\n",
       "SP-0028         13028144\n",
       "SP-0029        178572727\n",
       "SP-0030            10786\n",
       "SP-0031             2414\n",
       "SP-0032            37380\n",
       "SP-0033           888138\n",
       "SP-0034             9241\n",
       "SP-0035         43912242\n",
       "SP-0036              539\n",
       "SP-0037          3094049\n",
       "SP-0038           429710\n",
       "SP-0039          3765698\n",
       "SP-0041            79304\n",
       "SP-0044               81\n",
       "SP-0046           123937\n",
       "SP-0048          1838772\n",
       "Name: sales_result, dtype: int64"
      ]
     },
     "execution_count": 19,
     "metadata": {},
     "output_type": "execute_result"
    }
   ],
   "source": [
    "sz_total_sum_by_material = df.groupby( [ 'material_id' ] )[ 'sales_result' ].sum()\n",
    "sz_total_sum_by_material.to_csv( './dataset/01.original.dataset/material_total.csv' )\n",
    "sz_total_sum_by_material"
   ]
  },
  {
   "cell_type": "code",
   "execution_count": 20,
   "metadata": {
    "collapsed": false
   },
   "outputs": [
    {
     "data": {
      "text/plain": [
       "material_id  year\n",
       "SP-0008      2014     31987\n",
       "SP-0019      1987         0\n",
       "             1989         0\n",
       "             1995        15\n",
       "             1996      2926\n",
       "             1997      2433\n",
       "             1999      1510\n",
       "             2000         0\n",
       "             2001       150\n",
       "             2002        25\n",
       "             2003       213\n",
       "             2004       994\n",
       "             2005     70600\n",
       "             2006     66885\n",
       "             2007    124322\n",
       "...\n",
       "SP-0046      1995          0\n",
       "             1997          0\n",
       "             2001        386\n",
       "             2002         69\n",
       "             2007        111\n",
       "             2008        184\n",
       "             2010       1463\n",
       "             2011      27332\n",
       "             2012       6750\n",
       "             2013      86435\n",
       "             2014       1207\n",
       "SP-0048      2011       1200\n",
       "             2012      52796\n",
       "             2013     351506\n",
       "             2014    1433270\n",
       "Name: sales_result, Length: 194, dtype: int64"
      ]
     },
     "execution_count": 20,
     "metadata": {},
     "output_type": "execute_result"
    }
   ],
   "source": [
    "sz_annual_sum_by_material = df.groupby( [ 'material_id', 'year' ] )[ 'sales_result' ].sum()\n",
    "sz_annual_sum_by_material.fillna( 0, inplace = True )\n",
    "sz_annual_sum_by_material.to_csv( './dataset/01.original.dataset/material_annual.csv' )\n",
    "sz_annual_sum_by_material"
   ]
  }
 ],
 "metadata": {
  "kernelspec": {
   "display_name": "Python 3",
   "language": "python",
   "name": "python3"
  },
  "language_info": {
   "codemirror_mode": {
    "name": "ipython",
    "version": 3
   },
   "file_extension": ".py",
   "mimetype": "text/x-python",
   "name": "python",
   "nbconvert_exporter": "python",
   "pygments_lexer": "ipython3",
   "version": "3.4.3"
  }
 },
 "nbformat": 4,
 "nbformat_minor": 0
}
